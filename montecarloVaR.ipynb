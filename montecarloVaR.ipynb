{
  "nbformat": 4,
  "nbformat_minor": 0,
  "metadata": {
    "colab": {
      "name": "montecarlo.ipynb",
      "provenance": [],
      "include_colab_link": true
    },
    "kernelspec": {
      "name": "python3",
      "display_name": "Python 3"
    },
    "language_info": {
      "name": "python"
    }
  },
  "cells": [
    {
      "cell_type": "markdown",
      "metadata": {
        "id": "view-in-github",
        "colab_type": "text"
      },
      "source": [
        "<a href=\"https://colab.research.google.com/github/nkhan054002/QuantProjects/blob/main/montecarloVaR.ipynb\" target=\"_parent\"><img src=\"https://colab.research.google.com/assets/colab-badge.svg\" alt=\"Open In Colab\"/></a>"
      ]
    },
    {
      "cell_type": "code",
      "execution_count": 1,
      "metadata": {
        "id": "vcPu1w9ACkW0"
      },
      "outputs": [],
      "source": [
        "##problem solving for probabilistic interpretations\n",
        "##they can be used to accurately estimate integrals\n",
        "##press b to mkae a note in full screen mode"
      ]
    },
    {
      "cell_type": "markdown",
      "source": [
        "monte carlo simulations - the theory/ introduction\n",
        "\n",
        "simulations evolving randomly\n",
        "\n",
        "\n",
        "basically we keep on increasing our sample space and find a parameter throughwhich we can find out the value that we want to,\n",
        "eventually by the theory of large numbers - we will end up at the true value of the variable that we sorted out to find\n"
      ],
      "metadata": {
        "id": "xLitUiojHXJ3"
      }
    },
    {
      "cell_type": "code",
      "source": [
        ""
      ],
      "metadata": {
        "id": "zE_k9O1ZKdAK"
      },
      "execution_count": 1,
      "outputs": []
    },
    {
      "cell_type": "code",
      "source": [
        "##what does he mean by reference to not change"
      ],
      "metadata": {
        "id": "v93dHxXPJ0tN"
      },
      "execution_count": 2,
      "outputs": []
    },
    {
      "cell_type": "code",
      "source": [
        "##np.random.seed(any number) prevents from np.random operations (that exist below np.random.seed()) to change/randomise multiple times"
      ],
      "metadata": {
        "id": "OIf1nRoMxsqD"
      },
      "execution_count": 3,
      "outputs": []
    },
    {
      "cell_type": "code",
      "source": [
        "##Np.random.normal(loc = mean, scale = sigma, size = (a,b))\n",
        "##np.cumsum - returns the cumulative sum of the previous values of each element of the array"
      ],
      "metadata": {
        "id": "FcH3vyPN16JW"
      },
      "execution_count": 4,
      "outputs": []
    },
    {
      "cell_type": "code",
      "source": [
        "pip install yfinance"
      ],
      "metadata": {
        "colab": {
          "base_uri": "https://localhost:8080/"
        },
        "id": "O9dyRn-n9uFc",
        "outputId": "ab934be7-8e73-414f-e943-caba5311ba09"
      },
      "execution_count": 5,
      "outputs": [
        {
          "output_type": "stream",
          "name": "stdout",
          "text": [
            "Looking in indexes: https://pypi.org/simple, https://us-python.pkg.dev/colab-wheels/public/simple/\n",
            "Collecting yfinance\n",
            "  Downloading yfinance-0.1.72-py2.py3-none-any.whl (27 kB)\n",
            "Requirement already satisfied: multitasking>=0.0.7 in /usr/local/lib/python3.7/dist-packages (from yfinance) (0.0.10)\n",
            "Requirement already satisfied: numpy>=1.15 in /usr/local/lib/python3.7/dist-packages (from yfinance) (1.21.6)\n",
            "Collecting lxml>=4.5.1\n",
            "  Downloading lxml-4.9.1-cp37-cp37m-manylinux_2_17_x86_64.manylinux2014_x86_64.manylinux_2_24_x86_64.whl (6.4 MB)\n",
            "\u001b[K     |████████████████████████████████| 6.4 MB 40.3 MB/s \n",
            "\u001b[?25hRequirement already satisfied: pandas>=0.24.0 in /usr/local/lib/python3.7/dist-packages (from yfinance) (1.3.5)\n",
            "Collecting requests>=2.26\n",
            "  Downloading requests-2.28.1-py3-none-any.whl (62 kB)\n",
            "\u001b[K     |████████████████████████████████| 62 kB 1.3 MB/s \n",
            "\u001b[?25hRequirement already satisfied: python-dateutil>=2.7.3 in /usr/local/lib/python3.7/dist-packages (from pandas>=0.24.0->yfinance) (2.8.2)\n",
            "Requirement already satisfied: pytz>=2017.3 in /usr/local/lib/python3.7/dist-packages (from pandas>=0.24.0->yfinance) (2022.1)\n",
            "Requirement already satisfied: six>=1.5 in /usr/local/lib/python3.7/dist-packages (from python-dateutil>=2.7.3->pandas>=0.24.0->yfinance) (1.15.0)\n",
            "Requirement already satisfied: charset-normalizer<3,>=2 in /usr/local/lib/python3.7/dist-packages (from requests>=2.26->yfinance) (2.0.12)\n",
            "Requirement already satisfied: urllib3<1.27,>=1.21.1 in /usr/local/lib/python3.7/dist-packages (from requests>=2.26->yfinance) (1.24.3)\n",
            "Requirement already satisfied: idna<4,>=2.5 in /usr/local/lib/python3.7/dist-packages (from requests>=2.26->yfinance) (2.10)\n",
            "Requirement already satisfied: certifi>=2017.4.17 in /usr/local/lib/python3.7/dist-packages (from requests>=2.26->yfinance) (2022.6.15)\n",
            "Installing collected packages: requests, lxml, yfinance\n",
            "  Attempting uninstall: requests\n",
            "    Found existing installation: requests 2.23.0\n",
            "    Uninstalling requests-2.23.0:\n",
            "      Successfully uninstalled requests-2.23.0\n",
            "  Attempting uninstall: lxml\n",
            "    Found existing installation: lxml 4.2.6\n",
            "    Uninstalling lxml-4.2.6:\n",
            "      Successfully uninstalled lxml-4.2.6\n",
            "\u001b[31mERROR: pip's dependency resolver does not currently take into account all the packages that are installed. This behaviour is the source of the following dependency conflicts.\n",
            "google-colab 1.0.0 requires requests~=2.23.0, but you have requests 2.28.1 which is incompatible.\n",
            "datascience 0.10.6 requires folium==0.2.1, but you have folium 0.8.3 which is incompatible.\u001b[0m\n",
            "Successfully installed lxml-4.9.1 requests-2.28.1 yfinance-0.1.72\n"
          ]
        }
      ]
    },
    {
      "cell_type": "code",
      "source": [
        "import pandas as pd\n",
        "import numpy as np\n",
        "import yfinance as yf"
      ],
      "metadata": {
        "id": "FXpf1tMK9pF3"
      },
      "execution_count": 9,
      "outputs": []
    },
    {
      "cell_type": "code",
      "source": [
        "df = yf.download(tickers = 'AAPL', start = '2019-09-09', end = '2021-09-09')\n",
        "df = df.loc[:,['Adj Close']]\n",
        "df.rename(columns = {'Adj Close':'price'}, inplace = True)\n",
        "df['simple_return'] = df['price'].pct_change()\n",
        "df['log_return'] = np.log(df['price']/df['price'].shift(1))\n",
        "df.dropna(inplace = True)\n",
        "df"
      ],
      "metadata": {
        "colab": {
          "base_uri": "https://localhost:8080/",
          "height": 472
        },
        "id": "osA3XZZd9seO",
        "outputId": "b9ce721b-a3dd-44af-8592-a2ebbb0cda99"
      },
      "execution_count": 10,
      "outputs": [
        {
          "output_type": "stream",
          "name": "stdout",
          "text": [
            "\r[*********************100%***********************]  1 of 1 completed\n"
          ]
        },
        {
          "output_type": "execute_result",
          "data": {
            "text/plain": [
              "                 price  simple_return  log_return\n",
              "Date                                             \n",
              "2019-09-10   53.076561       0.011813    0.011744\n",
              "2019-09-11   54.764137       0.031795    0.031300\n",
              "2019-09-12   54.641678      -0.002236   -0.002239\n",
              "2019-09-13   53.578682      -0.019454   -0.019646\n",
              "2019-09-16   53.860344       0.005257    0.005243\n",
              "...                ...            ...         ...\n",
              "2021-09-01  151.870819       0.004479    0.004469\n",
              "2021-09-02  153.006042       0.007475    0.007447\n",
              "2021-09-03  153.653336       0.004231    0.004222\n",
              "2021-09-07  156.033325       0.015489    0.015371\n",
              "2021-09-08  154.459930      -0.010084   -0.010135\n",
              "\n",
              "[504 rows x 3 columns]"
            ],
            "text/html": [
              "\n",
              "  <div id=\"df-9f90f27a-66ac-4bf1-831b-360f7b2f4d8f\">\n",
              "    <div class=\"colab-df-container\">\n",
              "      <div>\n",
              "<style scoped>\n",
              "    .dataframe tbody tr th:only-of-type {\n",
              "        vertical-align: middle;\n",
              "    }\n",
              "\n",
              "    .dataframe tbody tr th {\n",
              "        vertical-align: top;\n",
              "    }\n",
              "\n",
              "    .dataframe thead th {\n",
              "        text-align: right;\n",
              "    }\n",
              "</style>\n",
              "<table border=\"1\" class=\"dataframe\">\n",
              "  <thead>\n",
              "    <tr style=\"text-align: right;\">\n",
              "      <th></th>\n",
              "      <th>price</th>\n",
              "      <th>simple_return</th>\n",
              "      <th>log_return</th>\n",
              "    </tr>\n",
              "    <tr>\n",
              "      <th>Date</th>\n",
              "      <th></th>\n",
              "      <th></th>\n",
              "      <th></th>\n",
              "    </tr>\n",
              "  </thead>\n",
              "  <tbody>\n",
              "    <tr>\n",
              "      <th>2019-09-10</th>\n",
              "      <td>53.076561</td>\n",
              "      <td>0.011813</td>\n",
              "      <td>0.011744</td>\n",
              "    </tr>\n",
              "    <tr>\n",
              "      <th>2019-09-11</th>\n",
              "      <td>54.764137</td>\n",
              "      <td>0.031795</td>\n",
              "      <td>0.031300</td>\n",
              "    </tr>\n",
              "    <tr>\n",
              "      <th>2019-09-12</th>\n",
              "      <td>54.641678</td>\n",
              "      <td>-0.002236</td>\n",
              "      <td>-0.002239</td>\n",
              "    </tr>\n",
              "    <tr>\n",
              "      <th>2019-09-13</th>\n",
              "      <td>53.578682</td>\n",
              "      <td>-0.019454</td>\n",
              "      <td>-0.019646</td>\n",
              "    </tr>\n",
              "    <tr>\n",
              "      <th>2019-09-16</th>\n",
              "      <td>53.860344</td>\n",
              "      <td>0.005257</td>\n",
              "      <td>0.005243</td>\n",
              "    </tr>\n",
              "    <tr>\n",
              "      <th>...</th>\n",
              "      <td>...</td>\n",
              "      <td>...</td>\n",
              "      <td>...</td>\n",
              "    </tr>\n",
              "    <tr>\n",
              "      <th>2021-09-01</th>\n",
              "      <td>151.870819</td>\n",
              "      <td>0.004479</td>\n",
              "      <td>0.004469</td>\n",
              "    </tr>\n",
              "    <tr>\n",
              "      <th>2021-09-02</th>\n",
              "      <td>153.006042</td>\n",
              "      <td>0.007475</td>\n",
              "      <td>0.007447</td>\n",
              "    </tr>\n",
              "    <tr>\n",
              "      <th>2021-09-03</th>\n",
              "      <td>153.653336</td>\n",
              "      <td>0.004231</td>\n",
              "      <td>0.004222</td>\n",
              "    </tr>\n",
              "    <tr>\n",
              "      <th>2021-09-07</th>\n",
              "      <td>156.033325</td>\n",
              "      <td>0.015489</td>\n",
              "      <td>0.015371</td>\n",
              "    </tr>\n",
              "    <tr>\n",
              "      <th>2021-09-08</th>\n",
              "      <td>154.459930</td>\n",
              "      <td>-0.010084</td>\n",
              "      <td>-0.010135</td>\n",
              "    </tr>\n",
              "  </tbody>\n",
              "</table>\n",
              "<p>504 rows × 3 columns</p>\n",
              "</div>\n",
              "      <button class=\"colab-df-convert\" onclick=\"convertToInteractive('df-9f90f27a-66ac-4bf1-831b-360f7b2f4d8f')\"\n",
              "              title=\"Convert this dataframe to an interactive table.\"\n",
              "              style=\"display:none;\">\n",
              "        \n",
              "  <svg xmlns=\"http://www.w3.org/2000/svg\" height=\"24px\"viewBox=\"0 0 24 24\"\n",
              "       width=\"24px\">\n",
              "    <path d=\"M0 0h24v24H0V0z\" fill=\"none\"/>\n",
              "    <path d=\"M18.56 5.44l.94 2.06.94-2.06 2.06-.94-2.06-.94-.94-2.06-.94 2.06-2.06.94zm-11 1L8.5 8.5l.94-2.06 2.06-.94-2.06-.94L8.5 2.5l-.94 2.06-2.06.94zm10 10l.94 2.06.94-2.06 2.06-.94-2.06-.94-.94-2.06-.94 2.06-2.06.94z\"/><path d=\"M17.41 7.96l-1.37-1.37c-.4-.4-.92-.59-1.43-.59-.52 0-1.04.2-1.43.59L10.3 9.45l-7.72 7.72c-.78.78-.78 2.05 0 2.83L4 21.41c.39.39.9.59 1.41.59.51 0 1.02-.2 1.41-.59l7.78-7.78 2.81-2.81c.8-.78.8-2.07 0-2.86zM5.41 20L4 18.59l7.72-7.72 1.47 1.35L5.41 20z\"/>\n",
              "  </svg>\n",
              "      </button>\n",
              "      \n",
              "  <style>\n",
              "    .colab-df-container {\n",
              "      display:flex;\n",
              "      flex-wrap:wrap;\n",
              "      gap: 12px;\n",
              "    }\n",
              "\n",
              "    .colab-df-convert {\n",
              "      background-color: #E8F0FE;\n",
              "      border: none;\n",
              "      border-radius: 50%;\n",
              "      cursor: pointer;\n",
              "      display: none;\n",
              "      fill: #1967D2;\n",
              "      height: 32px;\n",
              "      padding: 0 0 0 0;\n",
              "      width: 32px;\n",
              "    }\n",
              "\n",
              "    .colab-df-convert:hover {\n",
              "      background-color: #E2EBFA;\n",
              "      box-shadow: 0px 1px 2px rgba(60, 64, 67, 0.3), 0px 1px 3px 1px rgba(60, 64, 67, 0.15);\n",
              "      fill: #174EA6;\n",
              "    }\n",
              "\n",
              "    [theme=dark] .colab-df-convert {\n",
              "      background-color: #3B4455;\n",
              "      fill: #D2E3FC;\n",
              "    }\n",
              "\n",
              "    [theme=dark] .colab-df-convert:hover {\n",
              "      background-color: #434B5C;\n",
              "      box-shadow: 0px 1px 3px 1px rgba(0, 0, 0, 0.15);\n",
              "      filter: drop-shadow(0px 1px 2px rgba(0, 0, 0, 0.3));\n",
              "      fill: #FFFFFF;\n",
              "    }\n",
              "  </style>\n",
              "\n",
              "      <script>\n",
              "        const buttonEl =\n",
              "          document.querySelector('#df-9f90f27a-66ac-4bf1-831b-360f7b2f4d8f button.colab-df-convert');\n",
              "        buttonEl.style.display =\n",
              "          google.colab.kernel.accessAllowed ? 'block' : 'none';\n",
              "\n",
              "        async function convertToInteractive(key) {\n",
              "          const element = document.querySelector('#df-9f90f27a-66ac-4bf1-831b-360f7b2f4d8f');\n",
              "          const dataTable =\n",
              "            await google.colab.kernel.invokeFunction('convertToInteractive',\n",
              "                                                     [key], {});\n",
              "          if (!dataTable) return;\n",
              "\n",
              "          const docLinkHtml = 'Like what you see? Visit the ' +\n",
              "            '<a target=\"_blank\" href=https://colab.research.google.com/notebooks/data_table.ipynb>data table notebook</a>'\n",
              "            + ' to learn more about interactive tables.';\n",
              "          element.innerHTML = '';\n",
              "          dataTable['output_type'] = 'display_data';\n",
              "          await google.colab.output.renderOutput(dataTable, element);\n",
              "          const docLink = document.createElement('div');\n",
              "          docLink.innerHTML = docLinkHtml;\n",
              "          element.appendChild(docLink);\n",
              "        }\n",
              "      </script>\n",
              "    </div>\n",
              "  </div>\n",
              "  "
            ]
          },
          "metadata": {},
          "execution_count": 10
        }
      ]
    },
    {
      "cell_type": "markdown",
      "source": [
        "##monte carlo basics\n"
      ],
      "metadata": {
        "id": "bzL5kSojRw0R"
      }
    },
    {
      "cell_type": "code",
      "source": [
        "n = int(len(df.index)*0.8)\n",
        "train = df['price'][:n]\n",
        "returns_train = df['simple_return'][:n]\n",
        "returns_test = df['simple_return'][n:]\n",
        "test = df['price'][n:]"
      ],
      "metadata": {
        "id": "FgB19r5x7zcB"
      },
      "execution_count": 13,
      "outputs": []
    },
    {
      "cell_type": "markdown",
      "source": [
        "##Can also do this \n",
        "\n",
        "import datetime\n",
        "df_train = df.loc[index_train]\n",
        "df_test = df.loc[~index_train]\n",
        "\n",
        "\n",
        "use this or jst use 0.8 method"
      ],
      "metadata": {
        "id": "Do2bkwlj5HLy"
      }
    },
    {
      "cell_type": "code",
      "source": [
        "#n = number of simulations\n",
        "n = 100\n",
        "s_0 = train[-1]\n",
        "##this is -1 since we are going to directly get the testing dataset`s simulations\n",
        "s_0\n",
        "T = len(test)\n",
        "N = len(test)\n",
        "N_SIM = n\n",
        "mu = returns_train.mean()\n",
        "sigma = returns_train.std()"
      ],
      "metadata": {
        "id": "nQD6mc_0B4oi"
      },
      "execution_count": 14,
      "outputs": []
    },
    {
      "cell_type": "code",
      "source": [
        "def simulate_gbm(s_0, mu, sigma, n_sims, T, N, \n",
        "                random_seed=42):\n",
        "    '''\n",
        "    Function used for simulating stock returns using Geometric Brownian Motion.\n",
        "    \n",
        "    Parameters\n",
        "    ------------\n",
        "    s_0 : float\n",
        "    Initial stock price\n",
        "    mu : float\n",
        "    Drift coefficient\n",
        "    sigma : float\n",
        "    Diffusion coefficient\n",
        "    n_sims : int\n",
        "    Number of simulations paths\n",
        "    dt : float\n",
        "    Time increment, most commonly a day\n",
        "    T : float\n",
        "    Length of the forecast horizon, same unit as dt\n",
        "    N : int\n",
        "    Number of time increments in the forecast horizon\n",
        "    random_seed : int\n",
        "    Random seed for reproducibility\n",
        "    \n",
        "    Returns\n",
        "    -----------\n",
        "    S_t : np.ndarray\n",
        "    Matrix (size: n_sims x (T+1)) containing the simulation results. \n",
        "    Rows respresent sample paths, while columns point of time.\n",
        "    '''''\n",
        "    np.random.seed(random_seed)\n",
        "    dt = T/N\n",
        "    dW = np.random.normal(scale = np.sqrt(dt), size=(n_sims, N))\n",
        "    W = np.cumsum(dW, axis=1)\n",
        "    \n",
        "    time_step = np.linspace(dt, T, N)\n",
        "    time_steps = np.broadcast_to(time_step, (n_sims, N))\n",
        "    ##broadcasts an array into a diffnt shape \n",
        "    \n",
        "    S_t = s_0 * np.exp((mu - 0.5 * sigma**2) * time_steps \n",
        "                      + sigma * W)\n",
        "    ##basically used the solution of the stochastic differential equation - S0 * exp(((mu - (((sigma)^2)/2)) * t) + Wt*sigma)\n",
        "    S_t = np.insert(S_t, 0, s_0, axis=1)\n",
        "    \n",
        "    return S_t"
      ],
      "metadata": {
        "id": "FbmLWDek_brK"
      },
      "execution_count": 15,
      "outputs": []
    },
    {
      "cell_type": "code",
      "source": [
        "gbm_simulations = simulate_gbm(s_0, mu, sigma, N_SIM, T, N)"
      ],
      "metadata": {
        "id": "LDdRgFYx_jyE"
      },
      "execution_count": 16,
      "outputs": []
    },
    {
      "cell_type": "code",
      "source": [
        "##the above thing bases its whole theory that returns follow a normal distribution\n",
        "##also im taking simple_returns because thats what they have considered"
      ],
      "metadata": {
        "id": "sDX1h0tRDO7N"
      },
      "execution_count": 17,
      "outputs": []
    },
    {
      "cell_type": "code",
      "source": [
        "# prepare objects for plotting \n",
        "last_train_date = train.index[-1].date()\n",
        "first_test_date = test.index[0].date()\n",
        "last_test_date = test.index[-1].date()\n",
        "#plot_title = (f'{RISKY_ASSET} Simulation '\n",
        "#              f'({first_test_date}:{last_test_date})')\n",
        "\n",
        "selected_indices = df['price'][last_train_date:last_test_date].index\n",
        "index = [date.date() for date in selected_indices]\n",
        "\n",
        "gbm_simulations_df = pd.DataFrame(np.transpose(gbm_simulations), \n",
        "                                 index=index)"
      ],
      "metadata": {
        "id": "pHjWADzAKtfE"
      },
      "execution_count": 18,
      "outputs": []
    },
    {
      "cell_type": "code",
      "source": [
        "import matplotlib.pyplot as plt\n",
        "%matplotlib inline"
      ],
      "metadata": {
        "id": "vaEHHZGf9Y_X"
      },
      "execution_count": 19,
      "outputs": []
    },
    {
      "cell_type": "code",
      "source": [
        "\n"
      ],
      "metadata": {
        "id": "gpR9XgBw85OH"
      },
      "execution_count": 19,
      "outputs": []
    },
    {
      "cell_type": "code",
      "source": [
        "# plotting\n",
        "##this is the correct way to plot \n",
        "ax = gbm_simulations_df.plot(alpha=0.2, legend=False)\n",
        "line_1, = ax.plot(index, gbm_simulations_df.mean(axis=1), \n",
        "                 color='red')\n",
        "line_2, = ax.plot(index, df['price'][last_train_date:last_test_date], \n",
        "                 color='blue')\n",
        "ax.set_title('abc', fontsize=16)\n",
        "ax.legend((line_1, line_2), ('mean', 'actual'))\n",
        "\n",
        "plt.tight_layout()\n",
        "plt.show()\n",
        "##there waas a big fall in covid times so yea lol"
      ],
      "metadata": {
        "id": "ift-JeeH836X",
        "colab": {
          "base_uri": "https://localhost:8080/",
          "height": 297
        },
        "outputId": "61a52578-2478-474f-a784-2fd1899f6e6b"
      },
      "execution_count": 20,
      "outputs": [
        {
          "output_type": "display_data",
          "data": {
            "text/plain": [
              "<Figure size 432x288 with 1 Axes>"
            ],
            "image/png": "[encoded data removed]"
          },
          "metadata": {
            "needs_background": "light"
          }
        }
      ]
    },
    {
      "cell_type": "code",
      "source": [
        "def simulate_gbm(s_0, mu, sigma, n_sims, T, N, random_seed=42, antithetic_var=False):\n",
        "    '''\n",
        "    Function used for simulating stock returns using Geometric Brownian Motion.\n",
        "    \n",
        "    Parameters\n",
        "    ------------\n",
        "    s_0 : float\n",
        "    Initial stock price\n",
        "    mu : float\n",
        "    Drift coefficient\n",
        "    sigma : float\n",
        "    Diffusion coefficient\n",
        "    n_sims : int\n",
        "    Number of simulations paths\n",
        "    dt : float\n",
        "    Time increment, most commonly a day\n",
        "    T : float\n",
        "    Length of the forecast horizon, same unit as dt\n",
        "    N : int\n",
        "    Number of time increments in the forecast horizon\n",
        "    random_seed : int\n",
        "    Random seed for reproducibility\n",
        "    antithetic_var : bool\n",
        "    Boolean whether to use antithetic variates approach to reduce variance\n",
        "    \n",
        "    Returns\n",
        "    -----------\n",
        "    S_t : np.ndarray\n",
        "    Matrix (size: n_sims x (T+1)) containing the simulation results. \n",
        "    Rows respresent sample paths, while columns point of time.\n",
        "    '''''\n",
        "    \n",
        "    np.random.seed(random_seed)\n",
        "        \n",
        "    # time increment\n",
        "    dt = T/N\n",
        "        \n",
        "    # Brownian\n",
        "    if antithetic_var:\n",
        "        dW_ant = np.random.normal(scale = np.sqrt(dt), \n",
        "                                     size=(int(n_sims/2), N + 1))\n",
        "        dW = np.concatenate((dW_ant, -dW_ant), axis=0)\n",
        "    else: \n",
        "        dW = np.random.normal(scale = np.sqrt(dt), \n",
        "                                     size=(n_sims, N + 1))\n",
        "                \n",
        "    # simulate the evolution of the process\n",
        "    S_t = s_0 * np.exp(np.cumsum((mu - 0.5 * sigma ** 2) * dt + sigma * dW, \n",
        "                                            axis=1)) \n",
        "    \n",
        "    S_t[:, 0] = s_0\n",
        "                \n",
        "    return S_t\n",
        "##antithetic_var is jst an input to the function call"
      ],
      "metadata": {
        "id": "WmKS9lpoIXWP"
      },
      "execution_count": 21,
      "outputs": []
    },
    {
      "cell_type": "code",
      "source": [
        "##stock price and exercise price"
      ],
      "metadata": {
        "id": "mdSV3u8QK4hL"
      },
      "execution_count": 23,
      "outputs": []
    },
    {
      "cell_type": "code",
      "source": [
        "##so options are contracts for a certain number of shares to buy - in american options - the general is 100\n",
        "##higher the volatility 0 higher the price of the option - for the same target price ig - since it has more. of a chance to hit that mark"
      ],
      "metadata": {
        "id": "9nh5HQNCMUx-"
      },
      "execution_count": 24,
      "outputs": []
    },
    {
      "cell_type": "markdown",
      "source": [
        "# please start from here"
      ],
      "metadata": {
        "id": "FbkKangtSRb0"
      }
    },
    {
      "cell_type": "code",
      "source": [
        "def black_scholes_analytical(S_0, K, T, r, sigma, type='call'):\n",
        "    '''\n",
        "    Function used for calculating the price of European options using the analytical form of the Black-Scholes model.\n",
        "    \n",
        "    Parameters\n",
        "    ------------\n",
        "    s_0 : float\n",
        "    Initial stock price\n",
        "    K : float\n",
        "    Strike price\n",
        "    T : float\n",
        "    Time to maturity in years\n",
        "    r : float\n",
        "    Annualized risk-free rate\n",
        "    sigma : float\n",
        "    Standard deviation of the stock returns\n",
        "    type : str\n",
        "    Type of the option. Allowable: ['call', 'put']\n",
        "    \n",
        "    Returns\n",
        "    -----------\n",
        "    option_premium : float\n",
        "    The premium on the option calculated using the Black-Scholes model\n",
        "    '''''\n",
        "    \n",
        "    d1 = (np.log(S_0 / K) + (r + 0.5 * sigma ** 2) * T) / (sigma * np.sqrt(T))\n",
        "    d2 = (np.log(S_0 / K) + (r - 0.5 * sigma ** 2) * T) / (sigma * np.sqrt(T))\n",
        "    \n",
        "    if type == 'call':\n",
        "        val = (S_0 * norm.cdf(d1, 0, 1) - K * np.exp(-r * T) * norm.cdf(d2, 0, 1))\n",
        "    elif type == 'put':\n",
        "        val = (K * np.exp(-r * T) * norm.cdf(-d2, 0, 1) - S_0 * norm.cdf(-d1, 0, 1))\n",
        "    else:\n",
        "        raise ValueError('Wrong input for type!')\n",
        "                \n",
        "    return val"
      ],
      "metadata": {
        "id": "z1OfcpxtOCqh"
      },
      "execution_count": 25,
      "outputs": []
    },
    {
      "cell_type": "code",
      "source": [
        "S_0 = 100\n",
        "K = 100\n",
        "r = 0.05\n",
        "sigma = 0.50\n",
        "T = 1 # 1 year\n",
        "N = 252 # 252 days in a year\n",
        "dt = T / N # time step\n",
        "N_SIMS = 100000 # number of simulations\n",
        "discount_factor = np.exp(-r * T)"
      ],
      "metadata": {
        "id": "beJ7ySgAODS_"
      },
      "execution_count": 26,
      "outputs": []
    },
    {
      "cell_type": "code",
      "source": [
        "import numpy as np\n",
        "from scipy.stats import norm"
      ],
      "metadata": {
        "id": "Aucf0l2xOGGt"
      },
      "execution_count": 27,
      "outputs": []
    },
    {
      "cell_type": "code",
      "source": [
        "black_scholes_analytical(S_0=S_0, K=K, T=T, r=r, sigma=sigma, type='call')\n",
        "##returns the price ig"
      ],
      "metadata": {
        "colab": {
          "base_uri": "https://localhost:8080/"
        },
        "id": "Db2iZZ07QnT1",
        "outputId": "90c6e3ca-cd51-4997-b88e-73bfce3ead5f"
      },
      "execution_count": 28,
      "outputs": [
        {
          "output_type": "execute_result",
          "data": {
            "text/plain": [
              "21.79260421286685"
            ]
          },
          "metadata": {},
          "execution_count": 28
        }
      ]
    },
    {
      "cell_type": "code",
      "source": [
        "gbm_sims = simulate_gbm(s_0=S_0, mu=r, sigma=sigma, \n",
        "                       n_sims=N_SIMS, T=T, N=N)"
      ],
      "metadata": {
        "id": "Bio0gZGiQrgK"
      },
      "execution_count": 29,
      "outputs": []
    },
    {
      "cell_type": "code",
      "source": [
        "gbm_sims[:,-1]"
      ],
      "metadata": {
        "id": "o3aHy6QwQ8vB",
        "colab": {
          "base_uri": "https://localhost:8080/"
        },
        "outputId": "6bd356dc-c783-421f-df73-cbb22b02f327"
      },
      "execution_count": 30,
      "outputs": [
        {
          "output_type": "execute_result",
          "data": {
            "text/plain": [
              "array([ 96.23868906, 102.28464895,  51.9672302 , ...,  44.38740391,\n",
              "        69.96459059,  80.61057537])"
            ]
          },
          "metadata": {},
          "execution_count": 30
        }
      ]
    },
    {
      "cell_type": "code",
      "source": [
        "K"
      ],
      "metadata": {
        "id": "kfMY8zIsRA1B",
        "colab": {
          "base_uri": "https://localhost:8080/"
        },
        "outputId": "6be7a728-9792-44d6-9545-073c51bf889f"
      },
      "execution_count": 31,
      "outputs": [
        {
          "output_type": "execute_result",
          "data": {
            "text/plain": [
              "100"
            ]
          },
          "metadata": {},
          "execution_count": 31
        }
      ]
    },
    {
      "cell_type": "code",
      "source": [
        ""
      ],
      "metadata": {
        "id": "6WSzC2mVR6DT"
      },
      "execution_count": 31,
      "outputs": []
    },
    {
      "cell_type": "markdown",
      "source": [
        "    s_0 : float\n",
        "    Initial stock price\n",
        "    K : float\n",
        "    Strike price"
      ],
      "metadata": {
        "id": "8yKlKJrhRBme"
      }
    },
    {
      "cell_type": "code",
      "source": [
        "premium = discount_factor * np.mean(np.maximum(0, gbm_sims[:, -1] - K))\n",
        "premium\n",
        "##why are we including a 0"
      ],
      "metadata": {
        "id": "pXICvjuIQve2",
        "colab": {
          "base_uri": "https://localhost:8080/"
        },
        "outputId": "561036f1-391d-4e89-a5c6-29bb1231b67a"
      },
      "execution_count": 32,
      "outputs": [
        {
          "output_type": "execute_result",
          "data": {
            "text/plain": [
              "21.63279839570765"
            ]
          },
          "metadata": {},
          "execution_count": 32
        }
      ]
    },
    {
      "cell_type": "code",
      "source": [
        "##what does this mean\n"
      ],
      "metadata": {
        "id": "5gU0VDaRQzrI"
      },
      "execution_count": 33,
      "outputs": []
    },
    {
      "cell_type": "markdown",
      "source": [
        "##VAR - value at risk"
      ],
      "metadata": {
        "id": "YWVJlXBqSV6q"
      }
    },
    {
      "cell_type": "code",
      "source": [
        "##will do option pricing later on - with sr`s help"
      ],
      "metadata": {
        "id": "0CqsbgkCSYkM"
      },
      "execution_count": 34,
      "outputs": []
    },
    {
      "cell_type": "code",
      "source": [
        "##VAR - basically:\n",
        "##at 5% Var means - we have 95% confidence htat the maximum amt of loss wont exceed x dollars\n",
        "##now the below calculations are done to calc that"
      ],
      "metadata": {
        "id": "pujfE6PFYyit"
      },
      "execution_count": 35,
      "outputs": []
    },
    {
      "cell_type": "code",
      "source": [
        "import numpy as np\n",
        "import pandas as pd\n",
        "import yfinance as yf\n",
        "import seaborn as sns"
      ],
      "metadata": {
        "id": "Sw_Lg9lXSYs7"
      },
      "execution_count": 36,
      "outputs": []
    },
    {
      "cell_type": "code",
      "source": [
        "RISKY_ASSETS = ['GOOG', 'FB']\n",
        "SHARES = [5, 5]\n",
        "##the amt that ur buying in each\n",
        "START_DATE = '2018-01-01'\n",
        "END_DATE = '2018-12-31'\n",
        "T = 1\n",
        "N_SIMS = 10 ** 5"
      ],
      "metadata": {
        "id": "l5-XCPwDSlaB"
      },
      "execution_count": 37,
      "outputs": []
    },
    {
      "cell_type": "code",
      "source": [
        "df = yf.download(RISKY_ASSETS, start=START_DATE, \n",
        "                end=END_DATE, adjusted=True)\n",
        "print(f'Downloaded {df.shape[0]} rows of data.')"
      ],
      "metadata": {
        "colab": {
          "base_uri": "https://localhost:8080/"
        },
        "id": "iKktEnhBSrkd",
        "outputId": "109ebdb1-8ccc-4af9-cb7b-c30ab1143966"
      },
      "execution_count": 38,
      "outputs": [
        {
          "output_type": "stream",
          "name": "stdout",
          "text": [
            "[*********************100%***********************]  2 of 2 completed\n",
            "Downloaded 250 rows of data.\n"
          ]
        }
      ]
    },
    {
      "cell_type": "code",
      "source": [
        "adj_close = df['Adj Close']\n",
        "returns = adj_close.pct_change().dropna()\n",
        "plot_title = f'{\" vs. \".join(RISKY_ASSETS)} returns: {START_DATE} - {END_DATE}'\n",
        "returns.plot(title=plot_title)\n",
        "\n",
        "plt.tight_layout()\n",
        "plt.show()\n",
        "\n",
        "print(f'Correlation between returns: {returns.corr().values[0,1]:.2f}')"
      ],
      "metadata": {
        "colab": {
          "base_uri": "https://localhost:8080/",
          "height": 314
        },
        "id": "S1IlyEH4SuAT",
        "outputId": "70c9e2c7-6e63-407d-859c-5d7c1372ec1c"
      },
      "execution_count": 39,
      "outputs": [
        {
          "output_type": "display_data",
          "data": {
            "text/plain": [
              "<Figure size 432x288 with 1 Axes>"
            ],
            "image/png": "[encoded data removed]"
          },
          "metadata": {
            "needs_background": "light"
          }
        },
        {
          "output_type": "stream",
          "name": "stdout",
          "text": [
            "Correlation between returns: 0.62\n"
          ]
        }
      ]
    },
    {
      "cell_type": "code",
      "source": [
        "cov_mat = returns.cov()\n",
        "cov_mat"
      ],
      "metadata": {
        "colab": {
          "base_uri": "https://localhost:8080/",
          "height": 112
        },
        "id": "fgZ8QmUiSucR",
        "outputId": "4b60a112-e553-4b0b-b8dd-a749d6fdc62a"
      },
      "execution_count": 40,
      "outputs": [
        {
          "output_type": "execute_result",
          "data": {
            "text/plain": [
              "            FB      GOOG\n",
              "FB    0.000575  0.000265\n",
              "GOOG  0.000265  0.000315"
            ],
            "text/html": [
              "\n",
              "  <div id=\"df-35740ba5-9ed1-4295-8a96-da0b190fd0c9\">\n",
              "    <div class=\"colab-df-container\">\n",
              "      <div>\n",
              "<style scoped>\n",
              "    .dataframe tbody tr th:only-of-type {\n",
              "        vertical-align: middle;\n",
              "    }\n",
              "\n",
              "    .dataframe tbody tr th {\n",
              "        vertical-align: top;\n",
              "    }\n",
              "\n",
              "    .dataframe thead th {\n",
              "        text-align: right;\n",
              "    }\n",
              "</style>\n",
              "<table border=\"1\" class=\"dataframe\">\n",
              "  <thead>\n",
              "    <tr style=\"text-align: right;\">\n",
              "      <th></th>\n",
              "      <th>FB</th>\n",
              "      <th>GOOG</th>\n",
              "    </tr>\n",
              "  </thead>\n",
              "  <tbody>\n",
              "    <tr>\n",
              "      <th>FB</th>\n",
              "      <td>0.000575</td>\n",
              "      <td>0.000265</td>\n",
              "    </tr>\n",
              "    <tr>\n",
              "      <th>GOOG</th>\n",
              "      <td>0.000265</td>\n",
              "      <td>0.000315</td>\n",
              "    </tr>\n",
              "  </tbody>\n",
              "</table>\n",
              "</div>\n",
              "      <button class=\"colab-df-convert\" onclick=\"convertToInteractive('df-35740ba5-9ed1-4295-8a96-da0b190fd0c9')\"\n",
              "              title=\"Convert this dataframe to an interactive table.\"\n",
              "              style=\"display:none;\">\n",
              "        \n",
              "  <svg xmlns=\"http://www.w3.org/2000/svg\" height=\"24px\"viewBox=\"0 0 24 24\"\n",
              "       width=\"24px\">\n",
              "    <path d=\"M0 0h24v24H0V0z\" fill=\"none\"/>\n",
              "    <path d=\"M18.56 5.44l.94 2.06.94-2.06 2.06-.94-2.06-.94-.94-2.06-.94 2.06-2.06.94zm-11 1L8.5 8.5l.94-2.06 2.06-.94-2.06-.94L8.5 2.5l-.94 2.06-2.06.94zm10 10l.94 2.06.94-2.06 2.06-.94-2.06-.94-.94-2.06-.94 2.06-2.06.94z\"/><path d=\"M17.41 7.96l-1.37-1.37c-.4-.4-.92-.59-1.43-.59-.52 0-1.04.2-1.43.59L10.3 9.45l-7.72 7.72c-.78.78-.78 2.05 0 2.83L4 21.41c.39.39.9.59 1.41.59.51 0 1.02-.2 1.41-.59l7.78-7.78 2.81-2.81c.8-.78.8-2.07 0-2.86zM5.41 20L4 18.59l7.72-7.72 1.47 1.35L5.41 20z\"/>\n",
              "  </svg>\n",
              "      </button>\n",
              "      \n",
              "  <style>\n",
              "    .colab-df-container {\n",
              "      display:flex;\n",
              "      flex-wrap:wrap;\n",
              "      gap: 12px;\n",
              "    }\n",
              "\n",
              "    .colab-df-convert {\n",
              "      background-color: #E8F0FE;\n",
              "      border: none;\n",
              "      border-radius: 50%;\n",
              "      cursor: pointer;\n",
              "      display: none;\n",
              "      fill: #1967D2;\n",
              "      height: 32px;\n",
              "      padding: 0 0 0 0;\n",
              "      width: 32px;\n",
              "    }\n",
              "\n",
              "    .colab-df-convert:hover {\n",
              "      background-color: #E2EBFA;\n",
              "      box-shadow: 0px 1px 2px rgba(60, 64, 67, 0.3), 0px 1px 3px 1px rgba(60, 64, 67, 0.15);\n",
              "      fill: #174EA6;\n",
              "    }\n",
              "\n",
              "    [theme=dark] .colab-df-convert {\n",
              "      background-color: #3B4455;\n",
              "      fill: #D2E3FC;\n",
              "    }\n",
              "\n",
              "    [theme=dark] .colab-df-convert:hover {\n",
              "      background-color: #434B5C;\n",
              "      box-shadow: 0px 1px 3px 1px rgba(0, 0, 0, 0.15);\n",
              "      filter: drop-shadow(0px 1px 2px rgba(0, 0, 0, 0.3));\n",
              "      fill: #FFFFFF;\n",
              "    }\n",
              "  </style>\n",
              "\n",
              "      <script>\n",
              "        const buttonEl =\n",
              "          document.querySelector('#df-35740ba5-9ed1-4295-8a96-da0b190fd0c9 button.colab-df-convert');\n",
              "        buttonEl.style.display =\n",
              "          google.colab.kernel.accessAllowed ? 'block' : 'none';\n",
              "\n",
              "        async function convertToInteractive(key) {\n",
              "          const element = document.querySelector('#df-35740ba5-9ed1-4295-8a96-da0b190fd0c9');\n",
              "          const dataTable =\n",
              "            await google.colab.kernel.invokeFunction('convertToInteractive',\n",
              "                                                     [key], {});\n",
              "          if (!dataTable) return;\n",
              "\n",
              "          const docLinkHtml = 'Like what you see? Visit the ' +\n",
              "            '<a target=\"_blank\" href=https://colab.research.google.com/notebooks/data_table.ipynb>data table notebook</a>'\n",
              "            + ' to learn more about interactive tables.';\n",
              "          element.innerHTML = '';\n",
              "          dataTable['output_type'] = 'display_data';\n",
              "          await google.colab.output.renderOutput(dataTable, element);\n",
              "          const docLink = document.createElement('div');\n",
              "          docLink.innerHTML = docLinkHtml;\n",
              "          element.appendChild(docLink);\n",
              "        }\n",
              "      </script>\n",
              "    </div>\n",
              "  </div>\n",
              "  "
            ]
          },
          "metadata": {},
          "execution_count": 40
        }
      ]
    },
    {
      "cell_type": "markdown",
      "source": [
        "CHOLESKY DECOMPOSITION \n",
        "\n",
        "is into the product of a lower triangular matrix and its conjugate transpose.\n",
        "\n",
        "Conjugate of a matrix is the matrix obtained from matrix 'P' on replacing its elements with the corresponding conjugate complex numbers.\n",
        "\n",
        "**So basically for matrices with only real entries, it is basically the transpose, nice ...**"
      ],
      "metadata": {
        "id": "LPP4qjCpSxk9"
      }
    },
    {
      "cell_type": "code",
      "source": [
        "chol_mat = np.linalg.cholesky(cov_mat)\n",
        "chol_mat\n",
        "##hence cov_mat = (chol_mat)*((chol_mat).T)"
      ],
      "metadata": {
        "colab": {
          "base_uri": "https://localhost:8080/"
        },
        "id": "ZGkujz4UTVpd",
        "outputId": "a7a9588a-59bb-4404-b22e-ef1f0d37bb00"
      },
      "execution_count": 41,
      "outputs": [
        {
          "output_type": "execute_result",
          "data": {
            "text/plain": [
              "array([[0.02397825, 0.        ],\n",
              "       [0.01105642, 0.01389752]])"
            ]
          },
          "metadata": {},
          "execution_count": 41
        }
      ]
    },
    {
      "cell_type": "code",
      "source": [
        "A = chol_mat\n",
        "A"
      ],
      "metadata": {
        "colab": {
          "base_uri": "https://localhost:8080/"
        },
        "id": "fOiB2d6ST8RA",
        "outputId": "58bb8660-107c-494d-8199-45f0223f8672"
      },
      "execution_count": 42,
      "outputs": [
        {
          "output_type": "execute_result",
          "data": {
            "text/plain": [
              "array([[0.02397825, 0.        ],\n",
              "       [0.01105642, 0.01389752]])"
            ]
          },
          "metadata": {},
          "execution_count": 42
        }
      ]
    },
    {
      "cell_type": "code",
      "source": [
        "A.T"
      ],
      "metadata": {
        "colab": {
          "base_uri": "https://localhost:8080/"
        },
        "id": "PgI9L12zT_4Y",
        "outputId": "2e491965-6713-4c17-c407-c8198aee6a75"
      },
      "execution_count": 43,
      "outputs": [
        {
          "output_type": "execute_result",
          "data": {
            "text/plain": [
              "array([[0.02397825, 0.01105642],\n",
              "       [0.        , 0.01389752]])"
            ]
          },
          "metadata": {},
          "execution_count": 43
        }
      ]
    },
    {
      "cell_type": "code",
      "source": [
        "print(cov_mat)\n",
        "np.dot(A,A.T)"
      ],
      "metadata": {
        "colab": {
          "base_uri": "https://localhost:8080/"
        },
        "id": "dRxz111pUBgj",
        "outputId": "4e6fbf01-704c-49c0-f439-0ed16381c025"
      },
      "execution_count": 44,
      "outputs": [
        {
          "output_type": "stream",
          "name": "stdout",
          "text": [
            "            FB      GOOG\n",
            "FB    0.000575  0.000265\n",
            "GOOG  0.000265  0.000315\n"
          ]
        },
        {
          "output_type": "execute_result",
          "data": {
            "text/plain": [
              "array([[0.00057496, 0.00026511],\n",
              "       [0.00026511, 0.00031539]])"
            ]
          },
          "metadata": {},
          "execution_count": 44
        }
      ]
    },
    {
      "cell_type": "code",
      "source": [
        "rv = np.random.normal(size=(N_SIMS, len(RISKY_ASSETS)))\n",
        "correlated_rv = np.transpose(np.matmul(chol_mat, np.transpose(rv)))\n",
        "##mkaes a normal distribution with std dev = 1\n",
        "##correlated_rv -> comprises of 2 random normal distribution -> which are correlated in the same way as the 2 stocks lol"
      ],
      "metadata": {
        "id": "C4q1hgOnTWWi"
      },
      "execution_count": 45,
      "outputs": []
    },
    {
      "cell_type": "code",
      "source": [
        "(pd.DataFrame(correlated_rv)).cov()\n",
        "#0.000266 and 0.000266 -> ehh close enough..."
      ],
      "metadata": {
        "colab": {
          "base_uri": "https://localhost:8080/",
          "height": 112
        },
        "id": "8v7y2JqmfBPR",
        "outputId": "ea527d8f-b634-425e-ae24-54691754da62"
      },
      "execution_count": 46,
      "outputs": [
        {
          "output_type": "execute_result",
          "data": {
            "text/plain": [
              "          0         1\n",
              "0  0.000573  0.000264\n",
              "1  0.000264  0.000316"
            ],
            "text/html": [
              "\n",
              "  <div id=\"df-80662459-a51d-44ff-8dd0-c80d06ee3a7d\">\n",
              "    <div class=\"colab-df-container\">\n",
              "      <div>\n",
              "<style scoped>\n",
              "    .dataframe tbody tr th:only-of-type {\n",
              "        vertical-align: middle;\n",
              "    }\n",
              "\n",
              "    .dataframe tbody tr th {\n",
              "        vertical-align: top;\n",
              "    }\n",
              "\n",
              "    .dataframe thead th {\n",
              "        text-align: right;\n",
              "    }\n",
              "</style>\n",
              "<table border=\"1\" class=\"dataframe\">\n",
              "  <thead>\n",
              "    <tr style=\"text-align: right;\">\n",
              "      <th></th>\n",
              "      <th>0</th>\n",
              "      <th>1</th>\n",
              "    </tr>\n",
              "  </thead>\n",
              "  <tbody>\n",
              "    <tr>\n",
              "      <th>0</th>\n",
              "      <td>0.000573</td>\n",
              "      <td>0.000264</td>\n",
              "    </tr>\n",
              "    <tr>\n",
              "      <th>1</th>\n",
              "      <td>0.000264</td>\n",
              "      <td>0.000316</td>\n",
              "    </tr>\n",
              "  </tbody>\n",
              "</table>\n",
              "</div>\n",
              "      <button class=\"colab-df-convert\" onclick=\"convertToInteractive('df-80662459-a51d-44ff-8dd0-c80d06ee3a7d')\"\n",
              "              title=\"Convert this dataframe to an interactive table.\"\n",
              "              style=\"display:none;\">\n",
              "        \n",
              "  <svg xmlns=\"http://www.w3.org/2000/svg\" height=\"24px\"viewBox=\"0 0 24 24\"\n",
              "       width=\"24px\">\n",
              "    <path d=\"M0 0h24v24H0V0z\" fill=\"none\"/>\n",
              "    <path d=\"M18.56 5.44l.94 2.06.94-2.06 2.06-.94-2.06-.94-.94-2.06-.94 2.06-2.06.94zm-11 1L8.5 8.5l.94-2.06 2.06-.94-2.06-.94L8.5 2.5l-.94 2.06-2.06.94zm10 10l.94 2.06.94-2.06 2.06-.94-2.06-.94-.94-2.06-.94 2.06-2.06.94z\"/><path d=\"M17.41 7.96l-1.37-1.37c-.4-.4-.92-.59-1.43-.59-.52 0-1.04.2-1.43.59L10.3 9.45l-7.72 7.72c-.78.78-.78 2.05 0 2.83L4 21.41c.39.39.9.59 1.41.59.51 0 1.02-.2 1.41-.59l7.78-7.78 2.81-2.81c.8-.78.8-2.07 0-2.86zM5.41 20L4 18.59l7.72-7.72 1.47 1.35L5.41 20z\"/>\n",
              "  </svg>\n",
              "      </button>\n",
              "      \n",
              "  <style>\n",
              "    .colab-df-container {\n",
              "      display:flex;\n",
              "      flex-wrap:wrap;\n",
              "      gap: 12px;\n",
              "    }\n",
              "\n",
              "    .colab-df-convert {\n",
              "      background-color: #E8F0FE;\n",
              "      border: none;\n",
              "      border-radius: 50%;\n",
              "      cursor: pointer;\n",
              "      display: none;\n",
              "      fill: #1967D2;\n",
              "      height: 32px;\n",
              "      padding: 0 0 0 0;\n",
              "      width: 32px;\n",
              "    }\n",
              "\n",
              "    .colab-df-convert:hover {\n",
              "      background-color: #E2EBFA;\n",
              "      box-shadow: 0px 1px 2px rgba(60, 64, 67, 0.3), 0px 1px 3px 1px rgba(60, 64, 67, 0.15);\n",
              "      fill: #174EA6;\n",
              "    }\n",
              "\n",
              "    [theme=dark] .colab-df-convert {\n",
              "      background-color: #3B4455;\n",
              "      fill: #D2E3FC;\n",
              "    }\n",
              "\n",
              "    [theme=dark] .colab-df-convert:hover {\n",
              "      background-color: #434B5C;\n",
              "      box-shadow: 0px 1px 3px 1px rgba(0, 0, 0, 0.15);\n",
              "      filter: drop-shadow(0px 1px 2px rgba(0, 0, 0, 0.3));\n",
              "      fill: #FFFFFF;\n",
              "    }\n",
              "  </style>\n",
              "\n",
              "      <script>\n",
              "        const buttonEl =\n",
              "          document.querySelector('#df-80662459-a51d-44ff-8dd0-c80d06ee3a7d button.colab-df-convert');\n",
              "        buttonEl.style.display =\n",
              "          google.colab.kernel.accessAllowed ? 'block' : 'none';\n",
              "\n",
              "        async function convertToInteractive(key) {\n",
              "          const element = document.querySelector('#df-80662459-a51d-44ff-8dd0-c80d06ee3a7d');\n",
              "          const dataTable =\n",
              "            await google.colab.kernel.invokeFunction('convertToInteractive',\n",
              "                                                     [key], {});\n",
              "          if (!dataTable) return;\n",
              "\n",
              "          const docLinkHtml = 'Like what you see? Visit the ' +\n",
              "            '<a target=\"_blank\" href=https://colab.research.google.com/notebooks/data_table.ipynb>data table notebook</a>'\n",
              "            + ' to learn more about interactive tables.';\n",
              "          element.innerHTML = '';\n",
              "          dataTable['output_type'] = 'display_data';\n",
              "          await google.colab.output.renderOutput(dataTable, element);\n",
              "          const docLink = document.createElement('div');\n",
              "          docLink.innerHTML = docLinkHtml;\n",
              "          element.appendChild(docLink);\n",
              "        }\n",
              "      </script>\n",
              "    </div>\n",
              "  </div>\n",
              "  "
            ]
          },
          "metadata": {},
          "execution_count": 46
        }
      ]
    },
    {
      "cell_type": "code",
      "source": [
        "print(rv[:,0].shape)\n",
        "#??rv[:,0]\n",
        "rv[:,0].var()\n",
        "##variance is close to 1"
      ],
      "metadata": {
        "colab": {
          "base_uri": "https://localhost:8080/"
        },
        "id": "zeSH2tJcagVx",
        "outputId": "838f7f5b-56c7-411b-aef3-59e88b5b57ea"
      },
      "execution_count": 47,
      "outputs": [
        {
          "output_type": "stream",
          "name": "stdout",
          "text": [
            "(100000,)\n"
          ]
        },
        {
          "output_type": "execute_result",
          "data": {
            "text/plain": [
              "0.9960295240009073"
            ]
          },
          "metadata": {},
          "execution_count": 47
        }
      ]
    },
    {
      "cell_type": "code",
      "source": [
        "print(np.transpose(chol_mat))\n",
        "chol_mat\n",
        "##chol_mat.T == np.transpose(chol_mat)"
      ],
      "metadata": {
        "colab": {
          "base_uri": "https://localhost:8080/"
        },
        "id": "ZlQYCUsbarzs",
        "outputId": "ceecda02-a97f-4a65-f64e-8384202d53ba"
      },
      "execution_count": 48,
      "outputs": [
        {
          "output_type": "stream",
          "name": "stdout",
          "text": [
            "[[0.02397825 0.01105642]\n",
            " [0.         0.01389752]]\n"
          ]
        },
        {
          "output_type": "execute_result",
          "data": {
            "text/plain": [
              "array([[0.02397825, 0.        ],\n",
              "       [0.01105642, 0.01389752]])"
            ]
          },
          "metadata": {},
          "execution_count": 48
        }
      ]
    },
    {
      "cell_type": "code",
      "source": [
        "r = np.mean(returns, axis=0).values\n",
        "sigma = np.std(returns, axis=0).values\n",
        "S_0 = adj_close.values[-1, :]\n",
        "P_0 = np.sum(SHARES * S_0)"
      ],
      "metadata": {
        "id": "eaaZflbJXnOJ"
      },
      "execution_count": 49,
      "outputs": []
    },
    {
      "cell_type": "code",
      "source": [
        "adj_close"
      ],
      "metadata": {
        "colab": {
          "base_uri": "https://localhost:8080/",
          "height": 455
        },
        "id": "iimy265Rig3a",
        "outputId": "9f9670c4-9a97-4cfe-d852-90e22c1bb1e6"
      },
      "execution_count": 50,
      "outputs": [
        {
          "output_type": "execute_result",
          "data": {
            "text/plain": [
              "                    FB         GOOG\n",
              "Date                               \n",
              "2018-01-02  181.419998  1065.000000\n",
              "2018-01-03  184.669998  1082.479980\n",
              "2018-01-04  184.330002  1086.400024\n",
              "2018-01-05  186.850006  1102.229980\n",
              "2018-01-08  188.279999  1106.939941\n",
              "...                ...          ...\n",
              "2018-12-21  124.949997   979.539978\n",
              "2018-12-24  124.059998   976.219971\n",
              "2018-12-26  134.179993  1039.459961\n",
              "2018-12-27  134.520004  1043.880005\n",
              "2018-12-28  133.199997  1037.079956\n",
              "\n",
              "[250 rows x 2 columns]"
            ],
            "text/html": [
              "\n",
              "  <div id=\"df-604c60c6-2a5d-4044-9f75-d6b8a2dda934\">\n",
              "    <div class=\"colab-df-container\">\n",
              "      <div>\n",
              "<style scoped>\n",
              "    .dataframe tbody tr th:only-of-type {\n",
              "        vertical-align: middle;\n",
              "    }\n",
              "\n",
              "    .dataframe tbody tr th {\n",
              "        vertical-align: top;\n",
              "    }\n",
              "\n",
              "    .dataframe thead th {\n",
              "        text-align: right;\n",
              "    }\n",
              "</style>\n",
              "<table border=\"1\" class=\"dataframe\">\n",
              "  <thead>\n",
              "    <tr style=\"text-align: right;\">\n",
              "      <th></th>\n",
              "      <th>FB</th>\n",
              "      <th>GOOG</th>\n",
              "    </tr>\n",
              "    <tr>\n",
              "      <th>Date</th>\n",
              "      <th></th>\n",
              "      <th></th>\n",
              "    </tr>\n",
              "  </thead>\n",
              "  <tbody>\n",
              "    <tr>\n",
              "      <th>2018-01-02</th>\n",
              "      <td>181.419998</td>\n",
              "      <td>1065.000000</td>\n",
              "    </tr>\n",
              "    <tr>\n",
              "      <th>2018-01-03</th>\n",
              "      <td>184.669998</td>\n",
              "      <td>1082.479980</td>\n",
              "    </tr>\n",
              "    <tr>\n",
              "      <th>2018-01-04</th>\n",
              "      <td>184.330002</td>\n",
              "      <td>1086.400024</td>\n",
              "    </tr>\n",
              "    <tr>\n",
              "      <th>2018-01-05</th>\n",
              "      <td>186.850006</td>\n",
              "      <td>1102.229980</td>\n",
              "    </tr>\n",
              "    <tr>\n",
              "      <th>2018-01-08</th>\n",
              "      <td>188.279999</td>\n",
              "      <td>1106.939941</td>\n",
              "    </tr>\n",
              "    <tr>\n",
              "      <th>...</th>\n",
              "      <td>...</td>\n",
              "      <td>...</td>\n",
              "    </tr>\n",
              "    <tr>\n",
              "      <th>2018-12-21</th>\n",
              "      <td>124.949997</td>\n",
              "      <td>979.539978</td>\n",
              "    </tr>\n",
              "    <tr>\n",
              "      <th>2018-12-24</th>\n",
              "      <td>124.059998</td>\n",
              "      <td>976.219971</td>\n",
              "    </tr>\n",
              "    <tr>\n",
              "      <th>2018-12-26</th>\n",
              "      <td>134.179993</td>\n",
              "      <td>1039.459961</td>\n",
              "    </tr>\n",
              "    <tr>\n",
              "      <th>2018-12-27</th>\n",
              "      <td>134.520004</td>\n",
              "      <td>1043.880005</td>\n",
              "    </tr>\n",
              "    <tr>\n",
              "      <th>2018-12-28</th>\n",
              "      <td>133.199997</td>\n",
              "      <td>1037.079956</td>\n",
              "    </tr>\n",
              "  </tbody>\n",
              "</table>\n",
              "<p>250 rows × 2 columns</p>\n",
              "</div>\n",
              "      <button class=\"colab-df-convert\" onclick=\"convertToInteractive('df-604c60c6-2a5d-4044-9f75-d6b8a2dda934')\"\n",
              "              title=\"Convert this dataframe to an interactive table.\"\n",
              "              style=\"display:none;\">\n",
              "        \n",
              "  <svg xmlns=\"http://www.w3.org/2000/svg\" height=\"24px\"viewBox=\"0 0 24 24\"\n",
              "       width=\"24px\">\n",
              "    <path d=\"M0 0h24v24H0V0z\" fill=\"none\"/>\n",
              "    <path d=\"M18.56 5.44l.94 2.06.94-2.06 2.06-.94-2.06-.94-.94-2.06-.94 2.06-2.06.94zm-11 1L8.5 8.5l.94-2.06 2.06-.94-2.06-.94L8.5 2.5l-.94 2.06-2.06.94zm10 10l.94 2.06.94-2.06 2.06-.94-2.06-.94-.94-2.06-.94 2.06-2.06.94z\"/><path d=\"M17.41 7.96l-1.37-1.37c-.4-.4-.92-.59-1.43-.59-.52 0-1.04.2-1.43.59L10.3 9.45l-7.72 7.72c-.78.78-.78 2.05 0 2.83L4 21.41c.39.39.9.59 1.41.59.51 0 1.02-.2 1.41-.59l7.78-7.78 2.81-2.81c.8-.78.8-2.07 0-2.86zM5.41 20L4 18.59l7.72-7.72 1.47 1.35L5.41 20z\"/>\n",
              "  </svg>\n",
              "      </button>\n",
              "      \n",
              "  <style>\n",
              "    .colab-df-container {\n",
              "      display:flex;\n",
              "      flex-wrap:wrap;\n",
              "      gap: 12px;\n",
              "    }\n",
              "\n",
              "    .colab-df-convert {\n",
              "      background-color: #E8F0FE;\n",
              "      border: none;\n",
              "      border-radius: 50%;\n",
              "      cursor: pointer;\n",
              "      display: none;\n",
              "      fill: #1967D2;\n",
              "      height: 32px;\n",
              "      padding: 0 0 0 0;\n",
              "      width: 32px;\n",
              "    }\n",
              "\n",
              "    .colab-df-convert:hover {\n",
              "      background-color: #E2EBFA;\n",
              "      box-shadow: 0px 1px 2px rgba(60, 64, 67, 0.3), 0px 1px 3px 1px rgba(60, 64, 67, 0.15);\n",
              "      fill: #174EA6;\n",
              "    }\n",
              "\n",
              "    [theme=dark] .colab-df-convert {\n",
              "      background-color: #3B4455;\n",
              "      fill: #D2E3FC;\n",
              "    }\n",
              "\n",
              "    [theme=dark] .colab-df-convert:hover {\n",
              "      background-color: #434B5C;\n",
              "      box-shadow: 0px 1px 3px 1px rgba(0, 0, 0, 0.15);\n",
              "      filter: drop-shadow(0px 1px 2px rgba(0, 0, 0, 0.3));\n",
              "      fill: #FFFFFF;\n",
              "    }\n",
              "  </style>\n",
              "\n",
              "      <script>\n",
              "        const buttonEl =\n",
              "          document.querySelector('#df-604c60c6-2a5d-4044-9f75-d6b8a2dda934 button.colab-df-convert');\n",
              "        buttonEl.style.display =\n",
              "          google.colab.kernel.accessAllowed ? 'block' : 'none';\n",
              "\n",
              "        async function convertToInteractive(key) {\n",
              "          const element = document.querySelector('#df-604c60c6-2a5d-4044-9f75-d6b8a2dda934');\n",
              "          const dataTable =\n",
              "            await google.colab.kernel.invokeFunction('convertToInteractive',\n",
              "                                                     [key], {});\n",
              "          if (!dataTable) return;\n",
              "\n",
              "          const docLinkHtml = 'Like what you see? Visit the ' +\n",
              "            '<a target=\"_blank\" href=https://colab.research.google.com/notebooks/data_table.ipynb>data table notebook</a>'\n",
              "            + ' to learn more about interactive tables.';\n",
              "          element.innerHTML = '';\n",
              "          dataTable['output_type'] = 'display_data';\n",
              "          await google.colab.output.renderOutput(dataTable, element);\n",
              "          const docLink = document.createElement('div');\n",
              "          docLink.innerHTML = docLinkHtml;\n",
              "          element.appendChild(docLink);\n",
              "        }\n",
              "      </script>\n",
              "    </div>\n",
              "  </div>\n",
              "  "
            ]
          },
          "metadata": {},
          "execution_count": 50
        }
      ]
    },
    {
      "cell_type": "code",
      "source": [
        "##S_0\n",
        "##the above thing gives us the final prices -> i.e. the initial price in the prediction model\n",
        "##returns\n",
        "##these are the actual returns -> and not the monte carlo sims"
      ],
      "metadata": {
        "id": "E6tvbiSuhnST"
      },
      "execution_count": 51,
      "outputs": []
    },
    {
      "cell_type": "code",
      "source": [
        "S_T = S_0 * np.exp((r - 0.5 * sigma ** 2) * T + \n",
        "                  sigma * np.sqrt(T) * correlated_rv)"
      ],
      "metadata": {
        "id": "56X24aTLXqd-"
      },
      "execution_count": 52,
      "outputs": []
    },
    {
      "cell_type": "code",
      "source": [
        "print(S_T.shape)\n",
        "print(r)\n",
        "#print\n",
        "S_T\n",
        "##lol S_T is jst the price over the next day lol"
      ],
      "metadata": {
        "colab": {
          "base_uri": "https://localhost:8080/"
        },
        "id": "mePd7dOpZ6k0",
        "outputId": "ca59e46a-0cae-4264-951c-e8de507167b6"
      },
      "execution_count": 53,
      "outputs": [
        {
          "output_type": "stream",
          "name": "stdout",
          "text": [
            "(100000, 2)\n",
            "[-9.42928447e-04  5.11110600e-05]\n"
          ]
        },
        {
          "output_type": "execute_result",
          "data": {
            "text/plain": [
              "array([[ 133.07959402, 1037.08733856],\n",
              "       [ 133.11427675, 1037.15434409],\n",
              "       [ 132.93960185, 1036.67417841],\n",
              "       ...,\n",
              "       [ 133.09796184, 1037.09749226],\n",
              "       [ 133.00211075, 1036.97755256],\n",
              "       [ 132.8866424 , 1036.44429199]])"
            ]
          },
          "metadata": {},
          "execution_count": 53
        }
      ]
    },
    {
      "cell_type": "code",
      "source": [
        "P_T = np.sum(SHARES * S_T, axis=1)\n",
        "P_diff = P_T - P_0"
      ],
      "metadata": {
        "id": "O19XozUPXq94"
      },
      "execution_count": 54,
      "outputs": []
    },
    {
      "cell_type": "code",
      "source": [
        "P_diff_sorted = np.sort(P_diff)\n",
        "percentiles = [0.01, 0.1, 1.]"
      ],
      "metadata": {
        "id": "pLXlRZgpXxi2"
      },
      "execution_count": 55,
      "outputs": []
    },
    {
      "cell_type": "code",
      "source": [
        "print(P_diff_sorted.size)\n",
        "P_diff_sorted\n",
        "type(P_diff_sorted)"
      ],
      "metadata": {
        "colab": {
          "base_uri": "https://localhost:8080/"
        },
        "id": "nOoUKe3Tjohr",
        "outputId": "17cd5969-152e-4c50-d38b-48f2f5c1309c"
      },
      "execution_count": 56,
      "outputs": [
        {
          "output_type": "stream",
          "name": "stdout",
          "text": [
            "100000\n"
          ]
        },
        {
          "output_type": "execute_result",
          "data": {
            "text/plain": [
              "numpy.ndarray"
            ]
          },
          "metadata": {},
          "execution_count": 56
        }
      ]
    },
    {
      "cell_type": "code",
      "source": [
        "var = np.percentile(P_diff_sorted, percentiles)\n",
        "##helps match the percentile values"
      ],
      "metadata": {
        "id": "TVz5uKobjao0"
      },
      "execution_count": 57,
      "outputs": []
    },
    {
      "cell_type": "code",
      "source": [
        "var\n",
        "##the price difference that we will face"
      ],
      "metadata": {
        "colab": {
          "base_uri": "https://localhost:8080/"
        },
        "id": "g04a7P_GjeFJ",
        "outputId": "4b3f198f-e7f3-4f76-cf93-8f6346b10604"
      },
      "execution_count": 58,
      "outputs": [
        {
          "output_type": "execute_result",
          "data": {
            "text/plain": [
              "array([-8.30490324, -7.21006531, -5.78646409])"
            ]
          },
          "metadata": {},
          "execution_count": 58
        }
      ]
    },
    {
      "cell_type": "code",
      "source": [
        "for x, y in zip(percentiles, var):\n",
        "    print(f'1-day VaR with {100-x}% confidence: {-y:.2f}$')"
      ],
      "metadata": {
        "colab": {
          "base_uri": "https://localhost:8080/"
        },
        "id": "pfE_pFEEjctm",
        "outputId": "baf7a3cc-631a-4d23-b6da-ed01e82a3178"
      },
      "execution_count": 59,
      "outputs": [
        {
          "output_type": "stream",
          "name": "stdout",
          "text": [
            "1-day VaR with 99.99% confidence: 8.30$\n",
            "1-day VaR with 99.9% confidence: 7.21$\n",
            "1-day VaR with 99.0% confidence: 5.79$\n"
          ]
        }
      ]
    },
    {
      "cell_type": "code",
      "source": [
        "ax = sns.distplot(P_diff, kde=False)\n",
        "ax.set_title('''Distribution of possible 1-day changes in portfolio value \n",
        "                1-day 99% VaR''''', fontsize=16)\n",
        "ax.axvline(var[2], 0, 10000)\n",
        "\n",
        "plt.tight_layout()\n",
        "plt.show()\n",
        "#make bins plot frequency, and judge what region is the lowest 1% at, hecne 99% VaR"
      ],
      "metadata": {
        "colab": {
          "base_uri": "https://localhost:8080/",
          "height": 352
        },
        "id": "JZS0uuL8X2Hz",
        "outputId": "f1b746d1-62fa-47fd-bb06-9d4b802e2521"
      },
      "execution_count": 60,
      "outputs": [
        {
          "output_type": "stream",
          "name": "stderr",
          "text": [
            "/usr/local/lib/python3.7/dist-packages/seaborn/distributions.py:2619: FutureWarning: `distplot` is a deprecated function and will be removed in a future version. Please adapt your code to use either `displot` (a figure-level function with similar flexibility) or `histplot` (an axes-level function for histograms).\n",
            "  warnings.warn(msg, FutureWarning)\n"
          ]
        },
        {
          "output_type": "display_data",
          "data": {
            "text/plain": [
              "<Figure size 432x288 with 1 Axes>"
            ],
            "image/png": "[encoded data removed]"
          },
          "metadata": {
            "needs_background": "light"
          }
        }
      ]
    },
    {
      "cell_type": "code",
      "source": [
        "print(var[2])\n",
        "##this is the amt of loss we will loose with 99% confidence"
      ],
      "metadata": {
        "colab": {
          "base_uri": "https://localhost:8080/"
        },
        "id": "fypCPWVZZiHp",
        "outputId": "60bce154-a99d-4acb-dbad-5bcbf6c4a8c7"
      },
      "execution_count": 61,
      "outputs": [
        {
          "output_type": "stream",
          "name": "stdout",
          "text": [
            "-5.786464094560497\n"
          ]
        }
      ]
    },
    {
      "cell_type": "code",
      "source": [
        ""
      ],
      "metadata": {
        "id": "z87GgltuZj-r"
      },
      "execution_count": 61,
      "outputs": []
    },
    {
      "cell_type": "code",
      "source": [
        ""
      ],
      "metadata": {
        "id": "LZmutoZ2X2mQ"
      },
      "execution_count": 61,
      "outputs": []
    }
  ]
}