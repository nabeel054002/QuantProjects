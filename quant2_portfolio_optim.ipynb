{
  "nbformat": 4,
  "nbformat_minor": 0,
  "metadata": {
    "colab": {
      "name": "quant2_portfolio_optim.ipynb",
      "provenance": [],
      "collapsed_sections": [],
      "authorship_tag": "ABX9TyOCL7GtA6qpmmij69zYymyr",
      "include_colab_link": true
    },
    "kernelspec": {
      "display_name": "Python 3",
      "name": "python3"
    },
    "language_info": {
      "name": "python"
    }
  },
  "cells": [
    {
      "cell_type": "markdown",
      "metadata": {
        "id": "view-in-github",
        "colab_type": "text"
      },
      "source": [
        "<a href=\"https://colab.research.google.com/github/nkhan054002/QuantProjects/blob/main/quant2_portfolio_optim.ipynb\" target=\"_parent\"><img src=\"https://colab.research.google.com/assets/colab-badge.svg\" alt=\"Open In Colab\"/></a>"
      ]
    },
    {
      "cell_type": "code",
      "metadata": {
        "colab": {
          "base_uri": "https://localhost:8080/"
        },
        "id": "yNqdHQyjJy_W",
        "outputId": "18ff43ef-7005-45aa-98ca-0e8ef1aba8aa"
      },
      "source": [
        "!pip install yfinance\n",
        "import yfinance as yf\n",
        "import numpy as np \n",
        "import pandas as pd"
      ],
      "execution_count": null,
      "outputs": [
        {
          "output_type": "stream",
          "name": "stdout",
          "text": [
            "Collecting yfinance\n",
            "  Downloading yfinance-0.1.63.tar.gz (26 kB)\n",
            "Requirement already satisfied: pandas>=0.24 in /usr/local/lib/python3.7/dist-packages (from yfinance) (1.1.5)\n",
            "Requirement already satisfied: numpy>=1.15 in /usr/local/lib/python3.7/dist-packages (from yfinance) (1.19.5)\n",
            "Requirement already satisfied: requests>=2.20 in /usr/local/lib/python3.7/dist-packages (from yfinance) (2.23.0)\n",
            "Requirement already satisfied: multitasking>=0.0.7 in /usr/local/lib/python3.7/dist-packages (from yfinance) (0.0.9)\n",
            "Collecting lxml>=4.5.1\n",
            "  Downloading lxml-4.6.3-cp37-cp37m-manylinux2014_x86_64.whl (6.3 MB)\n",
            "\u001b[K     |████████████████████████████████| 6.3 MB 7.7 MB/s \n",
            "\u001b[?25hRequirement already satisfied: pytz>=2017.2 in /usr/local/lib/python3.7/dist-packages (from pandas>=0.24->yfinance) (2018.9)\n",
            "Requirement already satisfied: python-dateutil>=2.7.3 in /usr/local/lib/python3.7/dist-packages (from pandas>=0.24->yfinance) (2.8.2)\n",
            "Requirement already satisfied: six>=1.5 in /usr/local/lib/python3.7/dist-packages (from python-dateutil>=2.7.3->pandas>=0.24->yfinance) (1.15.0)\n",
            "Requirement already satisfied: idna<3,>=2.5 in /usr/local/lib/python3.7/dist-packages (from requests>=2.20->yfinance) (2.10)\n",
            "Requirement already satisfied: certifi>=2017.4.17 in /usr/local/lib/python3.7/dist-packages (from requests>=2.20->yfinance) (2021.5.30)\n",
            "Requirement already satisfied: urllib3!=1.25.0,!=1.25.1,<1.26,>=1.21.1 in /usr/local/lib/python3.7/dist-packages (from requests>=2.20->yfinance) (1.24.3)\n",
            "Requirement already satisfied: chardet<4,>=3.0.2 in /usr/local/lib/python3.7/dist-packages (from requests>=2.20->yfinance) (3.0.4)\n",
            "Building wheels for collected packages: yfinance\n",
            "  Building wheel for yfinance (setup.py) ... \u001b[?25l\u001b[?25hdone\n",
            "  Created wheel for yfinance: filename=yfinance-0.1.63-py2.py3-none-any.whl size=23918 sha256=9080271bb3c2763b90b96f91112a7d960545ae76788975509e9b40def6e18c05\n",
            "  Stored in directory: /root/.cache/pip/wheels/fe/87/8b/7ec24486e001d3926537f5f7801f57a74d181be25b11157983\n",
            "Successfully built yfinance\n",
            "Installing collected packages: lxml, yfinance\n",
            "  Attempting uninstall: lxml\n",
            "    Found existing installation: lxml 4.2.6\n",
            "    Uninstalling lxml-4.2.6:\n",
            "      Successfully uninstalled lxml-4.2.6\n",
            "Successfully installed lxml-4.6.3 yfinance-0.1.63\n"
          ]
        }
      ]
    },
    {
      "cell_type": "markdown",
      "metadata": {
        "id": "kYk5ErO8J9M-"
      },
      "source": [
        "Contrary to MPT, I will be making a portfolio of growth companies, which will include small cap, high P/E, low or no dividends sort of companies\n",
        "\n",
        "\"Sanjay Basu, demonstrated that low price-to-earnings ratio (P/E) stocks outperformed high P/E stocks. And in the early 1980s, another researcher, Rolf Banz, demonstrated that small-capitalization stocks outperformed large-cap stocks.\"\n",
        "\n",
        "**NOTE : If I can only have 2 - 3 companies, to show great growth, and the other 7 - 8 companies can also not make much progress I can be promised to get a CAGR of 15% or above**\n",
        "\n",
        "I am basing my above assumption from Venture Capital portfolios based especially on the ideation stage, where out of a portfolio of 10 companies even if 1 succeeds to become a successful company and some even fail, result in a loss, the net profit can come out to be about 18 - 20% CAGR\n",
        "\n",
        "Since the companies are publicly listed, this can imply that the companies already are somewhat successful and probably have a scalable business model\n",
        "\n",
        "\n",
        "As is evident from the NIFTY50 chart and the CNXSMALLCAP, the overall small cap and the market as a whole are on a nice, strong uptrend.\n",
        "Hence, I will be choosing a portfolio with 10-15% belonging to stocks that have a negative value of beta"
      ]
    },
    {
      "cell_type": "markdown",
      "metadata": {
        "id": "UCrCD0IdL8KW"
      },
      "source": [
        "I will be using NIFTY SMALL CAP as mybenchmark to calculate beta\n",
        "\n",
        "My portfolio will be a value company based strategy, and i will also be keeping gold companies for a negative beta, hedging...\n",
        "\n",
        "the following were used for screening\n",
        "M.Cap. - 1000Cr - 5000Cr - small cap\n",
        "Close Price - 100-1000 - to avoid penny stocks\n",
        "PE Ratio - high - 45 - 1200 \n",
        "DPS - 0 - 0.5 - low dividends for value companies\n",
        "beta - high - 1 - 4.44\n",
        "1 yr return - 143 - 31600% - a multibagger over the past year or so\n",
        "similarly 6 m return - 71 - 19712\n"
      ]
    },
    {
      "cell_type": "markdown",
      "metadata": {
        "id": "OnkjNBPX7G31"
      },
      "source": [
        "1.ZENTEC\n",
        "2.TEJASNET\n",
        "3.OLECTRA\n",
        "4.HINDOILEXP\n",
        "5.BLS\n"
      ]
    },
    {
      "cell_type": "code",
      "metadata": {
        "colab": {
          "base_uri": "https://localhost:8080/"
        },
        "id": "KZU6r9TOEZ63",
        "outputId": "ddd099ff-7046-4f93-b7d4-7ddbb223aaaa"
      },
      "source": [
        "stocks = ['zentec','tejasnet','olectra','hindoilexp','bls']\n",
        "p1 = yf.download('ZENTEC.NS','2017-06-30','2019-03-31',interval = '5d')['Adj Close']\n",
        "p2 = yf.download('TEJASNET.NS','2017-06-30','2019-03-31',interval = '5d')['Adj Close']\n",
        "p3 = yf.download('OLECTRA.NS','2017-06-30','2019-03-31',interval = '5d')['Adj Close']\n",
        "p4 = yf.download('HINDOILEXP.NS','2017-06-30','2019-03-31',interval = '5d')['Adj Close']\n",
        "p5 = yf.download('BLS.NS','2017-06-30','2019-03-31',interval = '5d')['Adj Close']"
      ],
      "execution_count": null,
      "outputs": [
        {
          "output_type": "stream",
          "name": "stdout",
          "text": [
            "[*********************100%***********************]  1 of 1 completed\n",
            "[*********************100%***********************]  1 of 1 completed\n",
            "[*********************100%***********************]  1 of 1 completed\n",
            "[*********************100%***********************]  1 of 1 completed\n",
            "[*********************100%***********************]  1 of 1 completed\n"
          ]
        }
      ]
    },
    {
      "cell_type": "code",
      "metadata": {
        "id": "bsyxT8nF9egD"
      },
      "source": [
        "r1 = 100*p1.pct_change()\n",
        "r2 = 100*p2.pct_change()\n",
        "r4 = 100*p4.pct_change()\n",
        "r3 = 100*p3.pct_change()\n",
        "r5 = 100*p5.pct_change()"
      ],
      "execution_count": null,
      "outputs": []
    },
    {
      "cell_type": "code",
      "metadata": {
        "colab": {
          "base_uri": "https://localhost:8080/"
        },
        "id": "zND2Rne01nYE",
        "outputId": "371948ab-5c66-4aa2-d4d5-32dc764cbe79"
      },
      "source": [
        "p0 = yf.download('^NSEI','2017-06-30','2019-03-31',interval = '5d')['Adj Close']"
      ],
      "execution_count": null,
      "outputs": [
        {
          "output_type": "stream",
          "name": "stdout",
          "text": [
            "\r[*********************100%***********************]  1 of 1 completed\n"
          ]
        }
      ]
    },
    {
      "cell_type": "code",
      "metadata": {
        "id": "Yfc5D7O2A8gV"
      },
      "source": [
        "def beta (d1,d2):\n",
        "  d12 = pd.merge(d1,d2,right_index = True,left_index = True)\n",
        "  covar = d12.cov()\n",
        "  covr = np.array(covar)\n",
        "  co = covr[0][1] \n",
        "  var_d2 = d2.var()\n",
        "  b = co/var_d2\n",
        "  return b"
      ],
      "execution_count": null,
      "outputs": []
    },
    {
      "cell_type": "code",
      "metadata": {
        "id": "qqHNf3D-AGzn"
      },
      "source": [
        "r0 = 100*p0.pct_change()"
      ],
      "execution_count": null,
      "outputs": []
    },
    {
      "cell_type": "code",
      "metadata": {
        "id": "ZAtujGS8lX2s"
      },
      "source": [
        "b1 = beta(r1,r0)"
      ],
      "execution_count": null,
      "outputs": []
    },
    {
      "cell_type": "code",
      "metadata": {
        "colab": {
          "base_uri": "https://localhost:8080/"
        },
        "id": "a9jxLnOmqjR8",
        "outputId": "77046017-c978-47f1-a423-67ff7add7e5a"
      },
      "source": [
        "b1"
      ],
      "execution_count": null,
      "outputs": [
        {
          "output_type": "execute_result",
          "data": {
            "text/plain": [
              "2.419375776688568"
            ]
          },
          "metadata": {},
          "execution_count": 8
        }
      ]
    },
    {
      "cell_type": "code",
      "metadata": {
        "colab": {
          "base_uri": "https://localhost:8080/"
        },
        "id": "VZm40Pzh1AHq",
        "outputId": "669c897b-bca5-4674-c27d-457209c9bfeb"
      },
      "source": [
        "r1"
      ],
      "execution_count": null,
      "outputs": [
        {
          "output_type": "execute_result",
          "data": {
            "text/plain": [
              "Date\n",
              "2017-06-30          NaN\n",
              "2017-07-05     0.099998\n",
              "2017-07-10    20.179835\n",
              "2017-07-20    -5.735664\n",
              "2017-07-25     4.938272\n",
              "                ...    \n",
              "2019-02-25     5.453211\n",
              "2019-03-07     8.595393\n",
              "2019-03-12    -2.831406\n",
              "2019-03-22    -0.066235\n",
              "2019-03-27    -7.422125\n",
              "Name: Adj Close, Length: 89, dtype: float64"
            ]
          },
          "metadata": {},
          "execution_count": 9
        }
      ]
    },
    {
      "cell_type": "markdown",
      "metadata": {
        "id": "lUZX2blc1AkG"
      },
      "source": [
        ""
      ]
    },
    {
      "cell_type": "code",
      "metadata": {
        "colab": {
          "base_uri": "https://localhost:8080/"
        },
        "id": "LOlfFP3x0jgC",
        "outputId": "7de1e352-49ff-4ade-9d1d-7935497f5f2b"
      },
      "source": [
        "r2"
      ],
      "execution_count": null,
      "outputs": [
        {
          "output_type": "execute_result",
          "data": {
            "text/plain": [
              "Date\n",
              "2017-06-30          NaN\n",
              "2017-07-05    -0.330565\n",
              "2017-07-10    21.824196\n",
              "2017-07-20    -4.505849\n",
              "2017-07-25    -4.290796\n",
              "                ...    \n",
              "2019-02-25     3.913889\n",
              "2019-03-07    13.559317\n",
              "2019-03-12     0.082925\n",
              "2019-03-22    -8.257384\n",
              "2019-03-27     2.408184\n",
              "Name: Adj Close, Length: 87, dtype: float64"
            ]
          },
          "metadata": {},
          "execution_count": 10
        }
      ]
    },
    {
      "cell_type": "code",
      "metadata": {
        "id": "f2Tf4kCx0Fp_"
      },
      "source": [
        "b2 = beta(r2,r0)\n",
        "b3 = beta(r3,r0)\n",
        "b4 = beta(r4,r0)\n",
        "b5 = beta(r5,r0)"
      ],
      "execution_count": null,
      "outputs": []
    },
    {
      "cell_type": "code",
      "metadata": {
        "colab": {
          "base_uri": "https://localhost:8080/"
        },
        "id": "rZV1nrHi0hO7",
        "outputId": "7309e80f-43f4-4c6f-eb5e-5b181d7fa4c0"
      },
      "source": [
        "b2"
      ],
      "execution_count": null,
      "outputs": [
        {
          "output_type": "execute_result",
          "data": {
            "text/plain": [
              "1.0825886476162376"
            ]
          },
          "metadata": {},
          "execution_count": 12
        }
      ]
    },
    {
      "cell_type": "code",
      "metadata": {
        "colab": {
          "base_uri": "https://localhost:8080/"
        },
        "id": "oVNTsf6n1zEq",
        "outputId": "9b3110de-3496-422b-e044-58df32c4053a"
      },
      "source": [
        "print(b3,b4,b5)"
      ],
      "execution_count": null,
      "outputs": [
        {
          "output_type": "stream",
          "name": "stdout",
          "text": [
            "2.136906930819947 1.3544838973961086 1.7534937652731877\n"
          ]
        }
      ]
    },
    {
      "cell_type": "markdown",
      "metadata": {
        "id": "jkKBl1wJ16i8"
      },
      "source": [
        "![div_grph.jpg](data:image/jpeg;base64,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)"
      ]
    },
    {
      "cell_type": "markdown",
      "metadata": {
        "id": "-c2PyJcV2ZYo"
      },
      "source": [
        "notice in the above graph how the volatility decreases as the number of assets increase, as we can see as infinite number of stocks results in a constant risk which can be said to be the minimum market risk, i.e. the systematic risk\n"
      ]
    },
    {
      "cell_type": "markdown",
      "metadata": {
        "id": "3G-CBgazrA51"
      },
      "source": [
        "i will also be adding a negative beta stock for hedging purposes - GOLDBEES"
      ]
    },
    {
      "cell_type": "code",
      "metadata": {
        "id": "uhPTXA1Crdh_",
        "colab": {
          "base_uri": "https://localhost:8080/"
        },
        "outputId": "c9c2d0b9-4ee9-4a3e-f0bb-50bf9040eb1a"
      },
      "source": [
        "p6 = yf.download('GOLDBEES.NS','2017-06-30','2019-03-31',interval = '5d')['Adj Close']\n",
        "r6 = 100*p6.pct_change()\n",
        "b6 = beta(r6,r0)\n",
        "print(p6)\n",
        "b6"
      ],
      "execution_count": null,
      "outputs": [
        {
          "output_type": "stream",
          "name": "stdout",
          "text": [
            "\r[*********************100%***********************]  1 of 1 completed\n",
            "Date\n",
            "2017-06-30    25.768999\n",
            "2017-07-05    25.414499\n",
            "2017-07-10    25.099001\n",
            "2017-07-20    25.472500\n",
            "2017-07-25    25.676500\n",
            "                ...    \n",
            "2019-02-25    29.569000\n",
            "2019-03-07    28.324499\n",
            "2019-03-12    28.358500\n",
            "2019-03-22    28.391001\n",
            "2019-03-27    28.382000\n",
            "Name: Adj Close, Length: 87, dtype: float64\n"
          ]
        },
        {
          "output_type": "execute_result",
          "data": {
            "text/plain": [
              "-0.051156747126724834"
            ]
          },
          "metadata": {},
          "execution_count": 14
        }
      ]
    },
    {
      "cell_type": "code",
      "metadata": {
        "id": "9AtHQel0rh6L",
        "colab": {
          "base_uri": "https://localhost:8080/",
          "height": 445
        },
        "outputId": "1219ec8e-3f9e-494f-e74c-a04c8416e01f"
      },
      "source": [
        "stx = ['ZENTEC', 'TEJASNET', 'OLECTRA', 'HINDOILEXP', 'BLS','GOLDBEES']\n",
        "df = pd.merge(p1,p2,right_index = True, left_index = True)\n",
        "df = pd.merge(df,p3,right_index = True, left_index = True)\n",
        "df = pd.merge(df,p4,right_index = True, left_index = True)\n",
        "df = pd.merge(df,p5,right_index = True, left_index = True)\n",
        "df = pd.merge(df,p6,right_index = True, left_index = True)\n",
        "df\n",
        "df.set_axis(stx,axis = 1)\n",
        "#df.iloc[[1]]"
      ],
      "execution_count": null,
      "outputs": [
        {
          "output_type": "execute_result",
          "data": {
            "text/html": [
              "<div>\n",
              "<style scoped>\n",
              "    .dataframe tbody tr th:only-of-type {\n",
              "        vertical-align: middle;\n",
              "    }\n",
              "\n",
              "    .dataframe tbody tr th {\n",
              "        vertical-align: top;\n",
              "    }\n",
              "\n",
              "    .dataframe thead th {\n",
              "        text-align: right;\n",
              "    }\n",
              "</style>\n",
              "<table border=\"1\" class=\"dataframe\">\n",
              "  <thead>\n",
              "    <tr style=\"text-align: right;\">\n",
              "      <th></th>\n",
              "      <th>ZENTEC</th>\n",
              "      <th>TEJASNET</th>\n",
              "      <th>OLECTRA</th>\n",
              "      <th>HINDOILEXP</th>\n",
              "      <th>BLS</th>\n",
              "      <th>GOLDBEES</th>\n",
              "    </tr>\n",
              "    <tr>\n",
              "      <th>Date</th>\n",
              "      <th></th>\n",
              "      <th></th>\n",
              "      <th></th>\n",
              "      <th></th>\n",
              "      <th></th>\n",
              "      <th></th>\n",
              "    </tr>\n",
              "  </thead>\n",
              "  <tbody>\n",
              "    <tr>\n",
              "      <th>2017-06-30</th>\n",
              "      <td>49.206520</td>\n",
              "      <td>298.126923</td>\n",
              "      <td>57.150002</td>\n",
              "      <td>71.349998</td>\n",
              "      <td>186.117233</td>\n",
              "      <td>25.768999</td>\n",
              "    </tr>\n",
              "    <tr>\n",
              "      <th>2017-07-05</th>\n",
              "      <td>49.255726</td>\n",
              "      <td>297.141418</td>\n",
              "      <td>64.050003</td>\n",
              "      <td>71.599998</td>\n",
              "      <td>206.567047</td>\n",
              "      <td>25.414499</td>\n",
              "    </tr>\n",
              "    <tr>\n",
              "      <th>2017-07-10</th>\n",
              "      <td>59.195450</td>\n",
              "      <td>361.990143</td>\n",
              "      <td>64.150002</td>\n",
              "      <td>72.599998</td>\n",
              "      <td>192.805557</td>\n",
              "      <td>25.099001</td>\n",
              "    </tr>\n",
              "    <tr>\n",
              "      <th>2017-07-20</th>\n",
              "      <td>55.800198</td>\n",
              "      <td>345.679413</td>\n",
              "      <td>72.099998</td>\n",
              "      <td>75.000000</td>\n",
              "      <td>188.859955</td>\n",
              "      <td>25.472500</td>\n",
              "    </tr>\n",
              "    <tr>\n",
              "      <th>2017-07-25</th>\n",
              "      <td>58.555763</td>\n",
              "      <td>330.847015</td>\n",
              "      <td>72.300003</td>\n",
              "      <td>76.849998</td>\n",
              "      <td>187.945709</td>\n",
              "      <td>25.676500</td>\n",
              "    </tr>\n",
              "    <tr>\n",
              "      <th>...</th>\n",
              "      <td>...</td>\n",
              "      <td>...</td>\n",
              "      <td>...</td>\n",
              "      <td>...</td>\n",
              "      <td>...</td>\n",
              "      <td>...</td>\n",
              "    </tr>\n",
              "    <tr>\n",
              "      <th>2019-02-25</th>\n",
              "      <td>70.703461</td>\n",
              "      <td>156.997101</td>\n",
              "      <td>210.649994</td>\n",
              "      <td>119.000000</td>\n",
              "      <td>102.018669</td>\n",
              "      <td>29.569000</td>\n",
              "    </tr>\n",
              "    <tr>\n",
              "      <th>2019-03-07</th>\n",
              "      <td>76.780701</td>\n",
              "      <td>178.284836</td>\n",
              "      <td>247.350006</td>\n",
              "      <td>126.050003</td>\n",
              "      <td>107.914581</td>\n",
              "      <td>28.324499</td>\n",
              "    </tr>\n",
              "    <tr>\n",
              "      <th>2019-03-12</th>\n",
              "      <td>74.606728</td>\n",
              "      <td>178.432678</td>\n",
              "      <td>254.050003</td>\n",
              "      <td>127.099998</td>\n",
              "      <td>118.739868</td>\n",
              "      <td>28.358500</td>\n",
              "    </tr>\n",
              "    <tr>\n",
              "      <th>2019-03-22</th>\n",
              "      <td>74.557312</td>\n",
              "      <td>163.698807</td>\n",
              "      <td>263.500000</td>\n",
              "      <td>127.000000</td>\n",
              "      <td>108.397858</td>\n",
              "      <td>28.391001</td>\n",
              "    </tr>\n",
              "    <tr>\n",
              "      <th>2019-03-27</th>\n",
              "      <td>69.023575</td>\n",
              "      <td>167.640976</td>\n",
              "      <td>252.649994</td>\n",
              "      <td>130.550003</td>\n",
              "      <td>109.219414</td>\n",
              "      <td>28.382000</td>\n",
              "    </tr>\n",
              "  </tbody>\n",
              "</table>\n",
              "<p>87 rows × 6 columns</p>\n",
              "</div>"
            ],
            "text/plain": [
              "               ZENTEC    TEJASNET  ...         BLS   GOLDBEES\n",
              "Date                               ...                       \n",
              "2017-06-30  49.206520  298.126923  ...  186.117233  25.768999\n",
              "2017-07-05  49.255726  297.141418  ...  206.567047  25.414499\n",
              "2017-07-10  59.195450  361.990143  ...  192.805557  25.099001\n",
              "2017-07-20  55.800198  345.679413  ...  188.859955  25.472500\n",
              "2017-07-25  58.555763  330.847015  ...  187.945709  25.676500\n",
              "...               ...         ...  ...         ...        ...\n",
              "2019-02-25  70.703461  156.997101  ...  102.018669  29.569000\n",
              "2019-03-07  76.780701  178.284836  ...  107.914581  28.324499\n",
              "2019-03-12  74.606728  178.432678  ...  118.739868  28.358500\n",
              "2019-03-22  74.557312  163.698807  ...  108.397858  28.391001\n",
              "2019-03-27  69.023575  167.640976  ...  109.219414  28.382000\n",
              "\n",
              "[87 rows x 6 columns]"
            ]
          },
          "metadata": {},
          "execution_count": 15
        }
      ]
    },
    {
      "cell_type": "code",
      "metadata": {
        "colab": {
          "base_uri": "https://localhost:8080/",
          "height": 445
        },
        "id": "J-g7mafDrlzn",
        "outputId": "73bbcaa9-3350-457c-8fa3-110fdccc5abd"
      },
      "source": [
        "df1 = pd.merge(r1,r2,right_index = True, left_index = True)\n",
        "df1 = pd.merge(df1,r3,right_index = True, left_index = True)\n",
        "df1 = pd.merge(df1,r4,right_index = True, left_index = True)\n",
        "df1 = pd.merge(df1,r5,right_index = True, left_index = True)\n",
        "df1 = pd.merge(df1,r6,right_index = True, left_index = True)\n",
        "df1\n",
        "#print(df1)\n",
        "df1 = df1[1:]\n",
        "df1"
      ],
      "execution_count": null,
      "outputs": [
        {
          "output_type": "execute_result",
          "data": {
            "text/html": [
              "<div>\n",
              "<style scoped>\n",
              "    .dataframe tbody tr th:only-of-type {\n",
              "        vertical-align: middle;\n",
              "    }\n",
              "\n",
              "    .dataframe tbody tr th {\n",
              "        vertical-align: top;\n",
              "    }\n",
              "\n",
              "    .dataframe thead th {\n",
              "        text-align: right;\n",
              "    }\n",
              "</style>\n",
              "<table border=\"1\" class=\"dataframe\">\n",
              "  <thead>\n",
              "    <tr style=\"text-align: right;\">\n",
              "      <th></th>\n",
              "      <th>Adj Close_x</th>\n",
              "      <th>Adj Close_y</th>\n",
              "      <th>Adj Close_x</th>\n",
              "      <th>Adj Close_y</th>\n",
              "      <th>Adj Close_x</th>\n",
              "      <th>Adj Close_y</th>\n",
              "    </tr>\n",
              "    <tr>\n",
              "      <th>Date</th>\n",
              "      <th></th>\n",
              "      <th></th>\n",
              "      <th></th>\n",
              "      <th></th>\n",
              "      <th></th>\n",
              "      <th></th>\n",
              "    </tr>\n",
              "  </thead>\n",
              "  <tbody>\n",
              "    <tr>\n",
              "      <th>2017-07-05</th>\n",
              "      <td>0.099998</td>\n",
              "      <td>-0.330565</td>\n",
              "      <td>12.073493</td>\n",
              "      <td>0.350385</td>\n",
              "      <td>10.987598</td>\n",
              "      <td>-1.375683</td>\n",
              "    </tr>\n",
              "    <tr>\n",
              "      <th>2017-07-10</th>\n",
              "      <td>20.179835</td>\n",
              "      <td>21.824196</td>\n",
              "      <td>0.156126</td>\n",
              "      <td>1.396648</td>\n",
              "      <td>-6.661997</td>\n",
              "      <td>-1.241411</td>\n",
              "    </tr>\n",
              "    <tr>\n",
              "      <th>2017-07-20</th>\n",
              "      <td>-5.735664</td>\n",
              "      <td>-4.505849</td>\n",
              "      <td>12.392824</td>\n",
              "      <td>3.305787</td>\n",
              "      <td>-2.046415</td>\n",
              "      <td>1.488103</td>\n",
              "    </tr>\n",
              "    <tr>\n",
              "      <th>2017-07-25</th>\n",
              "      <td>4.938272</td>\n",
              "      <td>-4.290796</td>\n",
              "      <td>0.277399</td>\n",
              "      <td>2.466665</td>\n",
              "      <td>-0.484087</td>\n",
              "      <td>0.800866</td>\n",
              "    </tr>\n",
              "    <tr>\n",
              "      <th>2017-08-04</th>\n",
              "      <td>-5.882355</td>\n",
              "      <td>4.155483</td>\n",
              "      <td>10.096812</td>\n",
              "      <td>-1.951854</td>\n",
              "      <td>-0.896055</td>\n",
              "      <td>0.519927</td>\n",
              "    </tr>\n",
              "    <tr>\n",
              "      <th>...</th>\n",
              "      <td>...</td>\n",
              "      <td>...</td>\n",
              "      <td>...</td>\n",
              "      <td>...</td>\n",
              "      <td>...</td>\n",
              "      <td>...</td>\n",
              "    </tr>\n",
              "    <tr>\n",
              "      <th>2019-02-25</th>\n",
              "      <td>5.453211</td>\n",
              "      <td>3.913889</td>\n",
              "      <td>3.057730</td>\n",
              "      <td>1.319713</td>\n",
              "      <td>11.222336</td>\n",
              "      <td>-1.174778</td>\n",
              "    </tr>\n",
              "    <tr>\n",
              "      <th>2019-03-07</th>\n",
              "      <td>8.595393</td>\n",
              "      <td>13.559317</td>\n",
              "      <td>17.422271</td>\n",
              "      <td>5.924372</td>\n",
              "      <td>5.779248</td>\n",
              "      <td>-4.208803</td>\n",
              "    </tr>\n",
              "    <tr>\n",
              "      <th>2019-03-12</th>\n",
              "      <td>-2.831406</td>\n",
              "      <td>0.082925</td>\n",
              "      <td>2.708711</td>\n",
              "      <td>0.832999</td>\n",
              "      <td>10.031348</td>\n",
              "      <td>0.120039</td>\n",
              "    </tr>\n",
              "    <tr>\n",
              "      <th>2019-03-22</th>\n",
              "      <td>-0.066235</td>\n",
              "      <td>-8.257384</td>\n",
              "      <td>3.719739</td>\n",
              "      <td>-0.078677</td>\n",
              "      <td>-8.709805</td>\n",
              "      <td>0.114608</td>\n",
              "    </tr>\n",
              "    <tr>\n",
              "      <th>2019-03-27</th>\n",
              "      <td>-7.422125</td>\n",
              "      <td>2.408184</td>\n",
              "      <td>-4.117649</td>\n",
              "      <td>2.795278</td>\n",
              "      <td>0.757908</td>\n",
              "      <td>-0.031703</td>\n",
              "    </tr>\n",
              "  </tbody>\n",
              "</table>\n",
              "<p>86 rows × 6 columns</p>\n",
              "</div>"
            ],
            "text/plain": [
              "            Adj Close_x  Adj Close_y  ...  Adj Close_x  Adj Close_y\n",
              "Date                                  ...                          \n",
              "2017-07-05     0.099998    -0.330565  ...    10.987598    -1.375683\n",
              "2017-07-10    20.179835    21.824196  ...    -6.661997    -1.241411\n",
              "2017-07-20    -5.735664    -4.505849  ...    -2.046415     1.488103\n",
              "2017-07-25     4.938272    -4.290796  ...    -0.484087     0.800866\n",
              "2017-08-04    -5.882355     4.155483  ...    -0.896055     0.519927\n",
              "...                 ...          ...  ...          ...          ...\n",
              "2019-02-25     5.453211     3.913889  ...    11.222336    -1.174778\n",
              "2019-03-07     8.595393    13.559317  ...     5.779248    -4.208803\n",
              "2019-03-12    -2.831406     0.082925  ...    10.031348     0.120039\n",
              "2019-03-22    -0.066235    -8.257384  ...    -8.709805     0.114608\n",
              "2019-03-27    -7.422125     2.408184  ...     0.757908    -0.031703\n",
              "\n",
              "[86 rows x 6 columns]"
            ]
          },
          "metadata": {},
          "execution_count": 16
        }
      ]
    },
    {
      "cell_type": "code",
      "metadata": {
        "colab": {
          "base_uri": "https://localhost:8080/"
        },
        "id": "5Rhue2xjLXC9",
        "outputId": "58c95aad-06e4-4794-d6b8-404194e2c1fb"
      },
      "source": [
        "#number of iterations : 1000\n",
        "ni = 1000\n",
        "ns = len(stx)\n",
        "#set wgts\n",
        "wgts = np.zeros((ni,ns))\n",
        "ret = np.zeros(ni)\n",
        "v = np.zeros(ni)\n",
        "s = np.zeros(ni)\n",
        "rm = np.array(df1)\n",
        "print(rm)\n",
        "rm1 = np.log(1+0.01*rm)\n",
        "rm1 = pd.DataFrame(rm1)\n",
        "print(rm1)\n",
        "rm2 = rm1.mean()"
      ],
      "execution_count": null,
      "outputs": [
        {
          "output_type": "stream",
          "name": "stdout",
          "text": [
            "[[ 9.99984960e-02 -3.30565298e-01  1.20734932e+01  3.50385431e-01\n",
            "   1.09875982e+01 -1.37568330e+00]\n",
            " [ 2.01798345e+01  2.18241956e+01  1.56125635e-01  1.39664807e+00\n",
            "  -6.66199670e+00 -1.24141085e+00]\n",
            " [-5.73566421e+00 -4.50584921e+00  1.23928243e+01  3.30578730e+00\n",
            "  -2.04641530e+00  1.48810272e+00]\n",
            " [ 4.93827220e+00 -4.29079572e+00  2.77398865e-01  2.46666463e+00\n",
            "  -4.84086532e-01  8.00865538e-01]\n",
            " [-5.88235524e+00  4.15548286e+00  1.00968121e+01 -1.95185430e+00\n",
            "  -8.96055194e-01  5.19927342e-01]\n",
            " [-4.01785881e+00 -7.03560199e+00  1.68341731e+01 -2.12342204e+00\n",
            "  -4.95996466e+00 -1.49166342e-01]\n",
            " [-7.44185647e+00  1.69206059e-01  2.12365591e+01 -2.77966515e+00\n",
            "  -2.33758277e+00  1.01469187e+00]\n",
            " [ 1.30653629e+00  1.27456700e+00  2.09756043e+01  3.13807545e+00\n",
            "   2.07347553e+01 -9.98769854e-02]\n",
            " [-1.19048123e+00  4.09407681e-01  1.02272821e+01  8.65449870e+00\n",
            "   2.53576853e-01  3.15491760e+00]\n",
            " [ 8.63453231e+00  1.93294622e+00  3.89757156e+01  1.19477270e+01\n",
            "   4.27684650e+00  1.82089500e+00]\n",
            " [-4.62107421e-01  8.44437692e-01 -1.42139255e+01  3.00167278e+00\n",
            "   5.60659811e+00 -8.98742732e-01]\n",
            " [-3.62116583e+00 -1.29277882e+00  6.30404633e+00  9.71399364e-01\n",
            "   1.10809034e+01 -1.15069411e+00]\n",
            " [-4.05797467e+00 -1.05521681e+01 -1.18866485e+01 -3.84821591e+00\n",
            "  -7.71692668e+00 -1.47618330e-01]\n",
            " [-2.21550990e+00 -2.92844457e+00  1.02144192e+01 -2.22342362e-01\n",
            "  -1.71323129e+00 -5.08990369e-01]\n",
            " [ 3.15139082e+01  1.21699582e+00  2.42096743e+01  6.35097153e+00\n",
            "   7.20066834e+00  1.43698148e+00]\n",
            " [ 1.09632454e+00  2.67569946e+00 -1.25516665e+01 -4.24305453e+00\n",
            "   1.10335314e+00 -1.34245430e+00]\n",
            " [ 2.47869456e+00  4.28834889e-01 -3.50746420e+00 -2.02406832e+00\n",
            "  -1.35935443e+00 -1.84185486e-01]\n",
            " [ 2.91005253e+01  2.59320028e+01 -3.09353366e-01  8.82188010e+00\n",
            "  -2.36800510e+00 -1.03561174e+00]\n",
            " [-5.85479952e+00 -4.25143471e+00  4.73234735e+00  1.87275532e+01\n",
            "   4.63220323e+00  4.22382713e-01]\n",
            " [ 2.84825911e+01  1.22854840e+01 -7.80247064e+00  7.00086976e+00\n",
            "  -6.97321427e+00  2.80408915e-01]\n",
            " [-7.55081887e+00 -3.46919419e+00  2.14252363e-01 -1.81744745e+00\n",
            "  -9.59973060e-01 -1.88972701e-02]\n",
            " [ 1.75392600e+01  1.08067775e+00  1.14911808e+01  9.41998903e+00\n",
            "   6.80561663e-01  1.28499773e-01]\n",
            " [-4.72160407e+00 -6.09157222e-01 -1.14093971e+01 -4.66165184e+00\n",
            "  -3.80991786e+00 -2.27980485e+00]\n",
            " [ 1.00981766e+01 -5.87862887e-01  5.11363463e+00  8.16245315e+00\n",
            "   3.00256660e+00 -9.71433127e-01]\n",
            " [ 1.75796193e+01 -1.92500993e+00  5.35392221e+00 -2.69777405e+00\n",
            "   9.05517222e+00  6.10421483e-01]\n",
            " [ 3.86421525e+00 -9.36496386e-01  2.19893584e-01  1.38629160e+00\n",
            "  -8.15142131e-01  1.43829221e+00]\n",
            " [ 6.60640050e+00  9.76430261e+00  6.09458782e-01 -3.95418033e+00\n",
            "   1.41433943e+00  1.03380473e+00]\n",
            " [-4.01175204e+00  3.51581700e+00  1.02738049e+01  1.68141644e+01\n",
            "   2.67624686e+00  6.88452114e-01]\n",
            " [-8.08698929e+00 -2.15409811e+00 -5.27356618e+00 -8.46508949e+00\n",
            "  -8.44347204e+00  1.62859828e+00]\n",
            " [-1.05360385e+01 -1.17880009e+01  3.45627318e+00 -8.70816750e+00\n",
            "  -2.02686501e+01  1.38625884e-01]\n",
            " [-8.96694019e+00  1.18842999e+00 -1.34753377e+01 -6.74024086e+00\n",
            "  -4.55114799e+00  3.52538064e-01]\n",
            " [ 1.13935454e+01 -8.19522566e+00  2.17672818e+00  2.07100328e+00\n",
            "   1.05364574e-01  1.05942765e+00]\n",
            " [-3.99347025e+00  8.38671222e-01 -2.02891206e+00  2.48449732e-01\n",
            "   0.00000000e+00  1.11021611e-01]\n",
            " [ 3.98981029e+00 -1.27290724e+01  2.01916090e+00 -1.43329250e+01\n",
            "  -1.97894743e+01 -2.27247934e-01]\n",
            " [ 8.89795527e+00  1.40203595e+01  5.07438940e-02  0.00000000e+00\n",
            "  -5.77426717e+00 -8.67334296e-01]\n",
            " [-1.25562179e+01  3.35741272e+00 -5.19908715e+00  1.08486021e+01\n",
            "  -1.19777327e+01  5.45907346e-01]\n",
            " [-7.28669148e-01  9.18312416e-01 -1.79239751e+00 -1.30491522e+00\n",
            "  -5.30063185e+00  8.75653714e-01]\n",
            " [ 2.59066998e+00 -3.68055934e+00 -2.47889021e+00  4.36315973e+00\n",
            "   1.72932175e+01 -1.30116980e+00]\n",
            " [ 2.94605998e-01 -3.24309611e+00 -2.01117659e+00  6.03885256e+00\n",
            "  -2.45725555e+00  1.96095873e+00]\n",
            " [ 2.26605282e+00 -7.28652949e-01  6.95553742e+00 -1.99123850e+00\n",
            "  -4.74626426e-01  7.63543993e-01]\n",
            " [ 0.00000000e+00 -1.32119501e+00 -8.58209253e+00  1.01584719e+00\n",
            "   5.68598926e+00 -7.86391413e-02]\n",
            " [-2.46204664e+00 -5.44481207e+00 -7.98833641e+00  6.55671255e+00\n",
            "   8.26100798e+00  7.65504837e-01]\n",
            " [-5.21665217e+00 -1.47891588e+00 -7.12927743e+00  5.85126476e+00\n",
            "   7.11769121e+00 -1.77674335e+00]\n",
            " [-4.66044816e+00 -8.46376194e-01  2.35414321e+00 -4.67189957e+00\n",
            "  -4.10058541e+00 -2.06010743e-01]\n",
            " [-5.12104888e+00  2.22258396e+00  5.56667074e+00 -6.69659361e+00\n",
            "   1.65106167e+01  6.15674632e-01]\n",
            " [-1.67811516e+01 -1.82764582e+00 -1.18092905e+01 -1.38332000e+01\n",
            "  -7.04526780e+00 -1.27240793e+00]\n",
            " [-6.48592043e-01 -5.29604267e-01  2.43465818e+01  3.27128992e+01\n",
            "  -5.38905891e+00  1.17031942e+00]\n",
            " [ 2.11275877e+01  1.56501783e+00 -5.98905515e+00 -5.46984763e+00\n",
            "  -6.45749680e+00 -1.25047341e+00]\n",
            " [-4.89858074e-02 -4.87688285e+00  2.23583087e+00 -4.82195835e+00\n",
            "  -1.82351104e+00 -2.31728676e-01]\n",
            " [-1.34313722e+01 -3.35670687e+00 -4.19411009e-01 -3.11770473e-01\n",
            "   1.28689640e+01 -3.03596258e-01]\n",
            " [ 2.09512314e+00 -1.31329571e+00 -1.11311124e+00  3.01016296e+00\n",
            "   6.17104357e+00 -6.97131153e-02]\n",
            " [-8.43039084e+00 -9.77062094e+00 -1.31122618e+01  4.55407970e+00\n",
            "  -6.64268619e+00 -2.18452592e+00]\n",
            " [ 3.45244706e+00  9.76131117e+00  1.40756235e+01 -2.28674693e+00\n",
            "   1.30449087e+00  4.09125634e-01]\n",
            " [-9.36762130e-01  1.76802887e+00  7.05960220e-01  3.71471008e-01\n",
            "   2.48755827e+00 -5.51377846e-01]\n",
            " [ 4.07801286e+00 -2.76232834e+00  2.18835680e+01  2.03922920e+01\n",
            "   4.76870159e+00 -1.02242661e+00]\n",
            " [-7.43896184e+00  1.73307878e+00  1.29032275e+01 -8.02335585e+00\n",
            "  -6.95011210e+00  4.12059465e-01]\n",
            " [ 1.71778990e+00 -8.78117432e+00  1.58139589e+01 -9.69259457e-01\n",
            "  -3.69069140e+00 -7.56446950e-02]\n",
            " [ 3.07599651e+00  7.72043330e+00 -7.61140112e+00  3.40870959e+00\n",
            "  -1.45986702e+00  1.83005119e+00]\n",
            " [-4.09595895e-01  1.51921648e+00 -6.49968816e+00 -2.41514166e+00\n",
            "   2.19135890e+00 -7.80564193e-02]\n",
            " [-2.05639333e+00  2.65844082e+00  1.36152310e+01 -6.02002606e-01\n",
            "  -9.81320654e+00  2.16312104e+00]\n",
            " [-1.61561502e+01 -1.09929583e+01 -2.08495708e+01 -1.54777972e+01\n",
            "  -8.59925648e+00 -1.58753573e+00]\n",
            " [-3.00861128e+00 -1.52215254e+00  9.15804544e+00  7.04617721e+00\n",
            "   8.04849784e+00  3.57222096e+00]\n",
            " [-1.07090002e+01 -6.10448663e+00 -1.13892649e+01 -1.29788006e+01\n",
            "  -8.29932692e+00 -9.19855313e-01]\n",
            " [-4.21836658e+00  9.39778092e+00 -3.28327669e+00  1.41880394e+01\n",
            "  -2.18840412e+00  2.72389960e+00]\n",
            " [ 2.02072546e+01 -5.90450843e-01  7.55263479e+00 -6.73659517e-01\n",
            "   2.08571131e+00 -1.00556630e+00]\n",
            " [-5.17241991e+00  1.14949253e-01  2.01859549e+01  1.01733695e+00\n",
            "  -5.94356899e-01  3.47454611e-01]\n",
            " [-1.43938030e+00 -3.06214949e-01  2.11726255e+00  1.52928236e+00\n",
            "   1.60686046e+00 -2.11638001e+00]\n",
            " [-5.22675775e+00 -6.33519077e+00 -1.12240864e+01 -1.00293964e+01\n",
            "  -8.64288523e+00 -7.29135363e-01]\n",
            " [-1.86537005e+00 -3.56631273e+00 -3.70536727e+00 -1.38831931e+00\n",
            "  -4.02567657e-01 -9.23575049e-01]\n",
            " [ 3.63637373e+00 -8.37406308e+00  1.51585825e+00 -4.18219714e+00\n",
            "  -3.92078287e+00  1.02209894e+00]\n",
            " [ 2.47208404e+00 -8.67548432e+00 -4.18102049e+00  7.43302189e+00\n",
            "  -1.26216035e-01  1.88545251e+00]\n",
            " [ 2.95720023e+00  7.56921577e+00 -1.72620765e+00 -1.40788412e+00\n",
            "  -1.05306523e+00 -7.96916795e-01]\n",
            " [ 2.07860917e+01 -9.68125708e-01  1.69065673e+01 -3.63117460e+00\n",
            "   6.38569003e-01  8.03318575e-01]\n",
            " [-8.76106064e-01 -1.31140015e+00 -3.08848454e+00  6.35055046e-01\n",
            "   6.76822770e-01  4.72445475e-01]\n",
            " [-4.22979698e+00  6.45083678e+00 -1.78724976e+00  8.41396729e-01\n",
            "  -3.78157526e-01  1.26340019e+00]\n",
            " [ 4.87805350e+00  8.85158444e-01  7.05985119e+00  4.63079109e+00\n",
            "   2.02446041e+00  6.29069426e-01]\n",
            " [ 8.79960759e-01 -2.81215088e+00 -4.68973878e+00  4.38592835e-01\n",
            "  -1.69490939e+00 -4.56226568e-01]\n",
            " [-5.85669920e+00 -2.57638841e+01 -3.02965326e+00 -1.31401317e+01\n",
            "  -1.21951192e+01  2.67995741e+00]\n",
            " [-4.36796715e+00 -9.88462630e+00 -1.07688848e+01 -2.55941774e+00\n",
            "   1.91575733e-01  5.33246559e-01]\n",
            " [-5.46712888e+00 -5.12111206e+00  1.71343275e+00  9.28705597e+00\n",
            "  -7.31359062e+00 -1.28792096e-01]\n",
            " [-6.58874257e-01  1.18162030e+01 -1.95316967e-01  8.15448024e-01\n",
            "  -2.11447660e+00  1.53901233e+00]\n",
            " [ 5.45321099e+00  3.91388881e+00  3.05773003e+00  1.31971315e+00\n",
            "   1.12223361e+01 -1.17477836e+00]\n",
            " [ 8.59539255e+00  1.35593173e+01  1.74222707e+01  5.92437231e+00\n",
            "   5.77924827e+00 -4.20880349e+00]\n",
            " [-2.83140563e+00  8.29248357e-02  2.70871105e+00  8.32999125e-01\n",
            "   1.00313477e+01  1.20038828e-01]\n",
            " [-6.62347619e-02 -8.25738402e+00  3.71973896e+00 -7.86770065e-02\n",
            "  -8.70980460e+00  1.14608393e-01]\n",
            " [-7.42212539e+00  2.40818444e+00 -4.11764938e+00  2.79527799e+00\n",
            "   7.57908052e-01 -3.17029268e-02]]\n",
            "           0         1         2         3         4         5\n",
            "0   0.000999 -0.003311  0.113985  0.003498  0.104248 -0.013852\n",
            "1   0.183819  0.197409  0.001560  0.013870 -0.068943 -0.012492\n",
            "2  -0.059067 -0.046105  0.116830  0.032523 -0.020676  0.014771\n",
            "3   0.048202 -0.043856  0.002770  0.024367 -0.004853  0.007977\n",
            "4  -0.060625  0.040715  0.096190 -0.019712 -0.009001  0.005186\n",
            "..       ...       ...       ...       ...       ...       ...\n",
            "81  0.053097  0.038392  0.030119  0.013111  0.106361 -0.011817\n",
            "82  0.082459  0.127155  0.160606  0.057555  0.056184 -0.042999\n",
            "83 -0.028723  0.000829  0.026727  0.008295  0.095595  0.001200\n",
            "84 -0.000663 -0.086183  0.036522 -0.000787 -0.091127  0.001145\n",
            "85 -0.077120  0.023796 -0.042048  0.027569  0.007551 -0.000317\n",
            "\n",
            "[86 rows x 6 columns]\n"
          ]
        }
      ]
    },
    {
      "cell_type": "code",
      "metadata": {
        "id": "PbZ0wH8WLb7w"
      },
      "source": [
        "sn = 0\n",
        "nm = 0\n",
        "for i in range (1000) :\n",
        "  w = np.random.random(ns)\n",
        "  w = w/np.sum(w)\n",
        "  wgts[i] = w\n",
        "  ret[i] = np.sum(rm2*w)*252\n",
        "  v[i] = np.sqrt(\n",
        "      np.dot(w.T,(np.dot(rm1.cov()*252,w)))\n",
        "  )\n",
        "  s[i] = ret[i]/v[i]\n",
        "  if s[i] > sn:\n",
        "    sn = s[i]\n",
        "    nm = i\n",
        "\n",
        "final = [ret,v,s,wgts]"
      ],
      "execution_count": null,
      "outputs": []
    },
    {
      "cell_type": "markdown",
      "metadata": {
        "id": "gUIUR1TsLyPy"
      },
      "source": [
        "in a video it was said that log returns would be better\n",
        "\n",
        "log_returns = np.log(1+price.pct_change())\n"
      ]
    },
    {
      "cell_type": "code",
      "metadata": {
        "colab": {
          "base_uri": "https://localhost:8080/"
        },
        "id": "leTvreXPL_Ao",
        "outputId": "fcbc7d93-aa17-48cd-9cfa-24b1f49e1926"
      },
      "source": [
        "ret[nm]"
      ],
      "execution_count": null,
      "outputs": [
        {
          "output_type": "execute_result",
          "data": {
            "text/plain": [
              "2.239895962449337"
            ]
          },
          "metadata": {},
          "execution_count": 19
        }
      ]
    },
    {
      "cell_type": "code",
      "metadata": {
        "colab": {
          "base_uri": "https://localhost:8080/"
        },
        "id": "sV0YtYkKMCU-",
        "outputId": "2ca3f7f6-2db2-43f2-97f3-059542835f27"
      },
      "source": [
        "wgts[nm]\n",
        "#np.sum(wgts[i])\n"
      ],
      "execution_count": null,
      "outputs": [
        {
          "output_type": "execute_result",
          "data": {
            "text/plain": [
              "array([0.06731323, 0.03024777, 0.38219034, 0.28149264, 0.00340414,\n",
              "       0.23535188])"
            ]
          },
          "metadata": {},
          "execution_count": 20
        }
      ]
    },
    {
      "cell_type": "code",
      "metadata": {
        "colab": {
          "base_uri": "https://localhost:8080/"
        },
        "id": "EiAtWne9MNkl",
        "outputId": "553d956b-2106-463b-f830-55da3669ab2a"
      },
      "source": [
        "s[nm]"
      ],
      "execution_count": null,
      "outputs": [
        {
          "output_type": "execute_result",
          "data": {
            "text/plain": [
              "2.581393518275823"
            ]
          },
          "metadata": {},
          "execution_count": 21
        }
      ]
    },
    {
      "cell_type": "code",
      "metadata": {
        "colab": {
          "base_uri": "https://localhost:8080/"
        },
        "id": "hYGIGa-wMznC",
        "outputId": "732488fe-309d-4ee9-ad55-540a42f6c8d4"
      },
      "source": [
        "v[nm]"
      ],
      "execution_count": null,
      "outputs": [
        {
          "output_type": "execute_result",
          "data": {
            "text/plain": [
              "0.8677080602361701"
            ]
          },
          "metadata": {},
          "execution_count": 22
        }
      ]
    },
    {
      "cell_type": "code",
      "metadata": {
        "colab": {
          "base_uri": "https://localhost:8080/",
          "height": 445
        },
        "id": "WD8VtpQgNX8l",
        "outputId": "3e7ca008-4ccc-4435-f3a0-ae273704ce80"
      },
      "source": [
        "df"
      ],
      "execution_count": null,
      "outputs": [
        {
          "output_type": "execute_result",
          "data": {
            "text/html": [
              "<div>\n",
              "<style scoped>\n",
              "    .dataframe tbody tr th:only-of-type {\n",
              "        vertical-align: middle;\n",
              "    }\n",
              "\n",
              "    .dataframe tbody tr th {\n",
              "        vertical-align: top;\n",
              "    }\n",
              "\n",
              "    .dataframe thead th {\n",
              "        text-align: right;\n",
              "    }\n",
              "</style>\n",
              "<table border=\"1\" class=\"dataframe\">\n",
              "  <thead>\n",
              "    <tr style=\"text-align: right;\">\n",
              "      <th></th>\n",
              "      <th>Adj Close_x</th>\n",
              "      <th>Adj Close_y</th>\n",
              "      <th>Adj Close_x</th>\n",
              "      <th>Adj Close_y</th>\n",
              "      <th>Adj Close_x</th>\n",
              "      <th>Adj Close_y</th>\n",
              "    </tr>\n",
              "    <tr>\n",
              "      <th>Date</th>\n",
              "      <th></th>\n",
              "      <th></th>\n",
              "      <th></th>\n",
              "      <th></th>\n",
              "      <th></th>\n",
              "      <th></th>\n",
              "    </tr>\n",
              "  </thead>\n",
              "  <tbody>\n",
              "    <tr>\n",
              "      <th>2017-06-30</th>\n",
              "      <td>49.206520</td>\n",
              "      <td>298.126923</td>\n",
              "      <td>57.150002</td>\n",
              "      <td>71.349998</td>\n",
              "      <td>186.117233</td>\n",
              "      <td>25.768999</td>\n",
              "    </tr>\n",
              "    <tr>\n",
              "      <th>2017-07-05</th>\n",
              "      <td>49.255726</td>\n",
              "      <td>297.141418</td>\n",
              "      <td>64.050003</td>\n",
              "      <td>71.599998</td>\n",
              "      <td>206.567047</td>\n",
              "      <td>25.414499</td>\n",
              "    </tr>\n",
              "    <tr>\n",
              "      <th>2017-07-10</th>\n",
              "      <td>59.195450</td>\n",
              "      <td>361.990143</td>\n",
              "      <td>64.150002</td>\n",
              "      <td>72.599998</td>\n",
              "      <td>192.805557</td>\n",
              "      <td>25.099001</td>\n",
              "    </tr>\n",
              "    <tr>\n",
              "      <th>2017-07-20</th>\n",
              "      <td>55.800198</td>\n",
              "      <td>345.679413</td>\n",
              "      <td>72.099998</td>\n",
              "      <td>75.000000</td>\n",
              "      <td>188.859955</td>\n",
              "      <td>25.472500</td>\n",
              "    </tr>\n",
              "    <tr>\n",
              "      <th>2017-07-25</th>\n",
              "      <td>58.555763</td>\n",
              "      <td>330.847015</td>\n",
              "      <td>72.300003</td>\n",
              "      <td>76.849998</td>\n",
              "      <td>187.945709</td>\n",
              "      <td>25.676500</td>\n",
              "    </tr>\n",
              "    <tr>\n",
              "      <th>...</th>\n",
              "      <td>...</td>\n",
              "      <td>...</td>\n",
              "      <td>...</td>\n",
              "      <td>...</td>\n",
              "      <td>...</td>\n",
              "      <td>...</td>\n",
              "    </tr>\n",
              "    <tr>\n",
              "      <th>2019-02-25</th>\n",
              "      <td>70.703461</td>\n",
              "      <td>156.997101</td>\n",
              "      <td>210.649994</td>\n",
              "      <td>119.000000</td>\n",
              "      <td>102.018669</td>\n",
              "      <td>29.569000</td>\n",
              "    </tr>\n",
              "    <tr>\n",
              "      <th>2019-03-07</th>\n",
              "      <td>76.780701</td>\n",
              "      <td>178.284836</td>\n",
              "      <td>247.350006</td>\n",
              "      <td>126.050003</td>\n",
              "      <td>107.914581</td>\n",
              "      <td>28.324499</td>\n",
              "    </tr>\n",
              "    <tr>\n",
              "      <th>2019-03-12</th>\n",
              "      <td>74.606728</td>\n",
              "      <td>178.432678</td>\n",
              "      <td>254.050003</td>\n",
              "      <td>127.099998</td>\n",
              "      <td>118.739868</td>\n",
              "      <td>28.358500</td>\n",
              "    </tr>\n",
              "    <tr>\n",
              "      <th>2019-03-22</th>\n",
              "      <td>74.557312</td>\n",
              "      <td>163.698807</td>\n",
              "      <td>263.500000</td>\n",
              "      <td>127.000000</td>\n",
              "      <td>108.397858</td>\n",
              "      <td>28.391001</td>\n",
              "    </tr>\n",
              "    <tr>\n",
              "      <th>2019-03-27</th>\n",
              "      <td>69.023575</td>\n",
              "      <td>167.640976</td>\n",
              "      <td>252.649994</td>\n",
              "      <td>130.550003</td>\n",
              "      <td>109.219414</td>\n",
              "      <td>28.382000</td>\n",
              "    </tr>\n",
              "  </tbody>\n",
              "</table>\n",
              "<p>87 rows × 6 columns</p>\n",
              "</div>"
            ],
            "text/plain": [
              "            Adj Close_x  Adj Close_y  ...  Adj Close_x  Adj Close_y\n",
              "Date                                  ...                          \n",
              "2017-06-30    49.206520   298.126923  ...   186.117233    25.768999\n",
              "2017-07-05    49.255726   297.141418  ...   206.567047    25.414499\n",
              "2017-07-10    59.195450   361.990143  ...   192.805557    25.099001\n",
              "2017-07-20    55.800198   345.679413  ...   188.859955    25.472500\n",
              "2017-07-25    58.555763   330.847015  ...   187.945709    25.676500\n",
              "...                 ...          ...  ...          ...          ...\n",
              "2019-02-25    70.703461   156.997101  ...   102.018669    29.569000\n",
              "2019-03-07    76.780701   178.284836  ...   107.914581    28.324499\n",
              "2019-03-12    74.606728   178.432678  ...   118.739868    28.358500\n",
              "2019-03-22    74.557312   163.698807  ...   108.397858    28.391001\n",
              "2019-03-27    69.023575   167.640976  ...   109.219414    28.382000\n",
              "\n",
              "[87 rows x 6 columns]"
            ]
          },
          "metadata": {},
          "execution_count": 23
        }
      ]
    },
    {
      "cell_type": "code",
      "metadata": {
        "id": "7Znv3mxUcBzG"
      },
      "source": [
        "np.log(10)\n",
        "#base of np.log is e\n",
        "x = ret[nm]\n",
        "#rtrn = ret[nm]/np.log(10)\n",
        "#retnrn = np.exp(ret[nm])\n",
        "#retnrn-1"
      ],
      "execution_count": null,
      "outputs": []
    },
    {
      "cell_type": "code",
      "metadata": {
        "id": "ZOtboR50d4LE"
      },
      "source": [
        "df = df.set_axis(stx,axis = 1)"
      ],
      "execution_count": null,
      "outputs": []
    },
    {
      "cell_type": "code",
      "metadata": {
        "colab": {
          "base_uri": "https://localhost:8080/",
          "height": 445
        },
        "id": "FsHQvt61eJqs",
        "outputId": "b625a081-b31c-4eb0-f678-8c501adc6242"
      },
      "source": [
        "df"
      ],
      "execution_count": null,
      "outputs": [
        {
          "output_type": "execute_result",
          "data": {
            "text/html": [
              "<div>\n",
              "<style scoped>\n",
              "    .dataframe tbody tr th:only-of-type {\n",
              "        vertical-align: middle;\n",
              "    }\n",
              "\n",
              "    .dataframe tbody tr th {\n",
              "        vertical-align: top;\n",
              "    }\n",
              "\n",
              "    .dataframe thead th {\n",
              "        text-align: right;\n",
              "    }\n",
              "</style>\n",
              "<table border=\"1\" class=\"dataframe\">\n",
              "  <thead>\n",
              "    <tr style=\"text-align: right;\">\n",
              "      <th></th>\n",
              "      <th>ZENTEC</th>\n",
              "      <th>TEJASNET</th>\n",
              "      <th>OLECTRA</th>\n",
              "      <th>HINDOILEXP</th>\n",
              "      <th>BLS</th>\n",
              "      <th>GOLDBEES</th>\n",
              "    </tr>\n",
              "    <tr>\n",
              "      <th>Date</th>\n",
              "      <th></th>\n",
              "      <th></th>\n",
              "      <th></th>\n",
              "      <th></th>\n",
              "      <th></th>\n",
              "      <th></th>\n",
              "    </tr>\n",
              "  </thead>\n",
              "  <tbody>\n",
              "    <tr>\n",
              "      <th>2017-06-30</th>\n",
              "      <td>49.206520</td>\n",
              "      <td>298.126923</td>\n",
              "      <td>57.150002</td>\n",
              "      <td>71.349998</td>\n",
              "      <td>186.117233</td>\n",
              "      <td>25.768999</td>\n",
              "    </tr>\n",
              "    <tr>\n",
              "      <th>2017-07-05</th>\n",
              "      <td>49.255726</td>\n",
              "      <td>297.141418</td>\n",
              "      <td>64.050003</td>\n",
              "      <td>71.599998</td>\n",
              "      <td>206.567047</td>\n",
              "      <td>25.414499</td>\n",
              "    </tr>\n",
              "    <tr>\n",
              "      <th>2017-07-10</th>\n",
              "      <td>59.195450</td>\n",
              "      <td>361.990143</td>\n",
              "      <td>64.150002</td>\n",
              "      <td>72.599998</td>\n",
              "      <td>192.805557</td>\n",
              "      <td>25.099001</td>\n",
              "    </tr>\n",
              "    <tr>\n",
              "      <th>2017-07-20</th>\n",
              "      <td>55.800198</td>\n",
              "      <td>345.679413</td>\n",
              "      <td>72.099998</td>\n",
              "      <td>75.000000</td>\n",
              "      <td>188.859955</td>\n",
              "      <td>25.472500</td>\n",
              "    </tr>\n",
              "    <tr>\n",
              "      <th>2017-07-25</th>\n",
              "      <td>58.555763</td>\n",
              "      <td>330.847015</td>\n",
              "      <td>72.300003</td>\n",
              "      <td>76.849998</td>\n",
              "      <td>187.945709</td>\n",
              "      <td>25.676500</td>\n",
              "    </tr>\n",
              "    <tr>\n",
              "      <th>...</th>\n",
              "      <td>...</td>\n",
              "      <td>...</td>\n",
              "      <td>...</td>\n",
              "      <td>...</td>\n",
              "      <td>...</td>\n",
              "      <td>...</td>\n",
              "    </tr>\n",
              "    <tr>\n",
              "      <th>2019-02-25</th>\n",
              "      <td>70.703461</td>\n",
              "      <td>156.997101</td>\n",
              "      <td>210.649994</td>\n",
              "      <td>119.000000</td>\n",
              "      <td>102.018669</td>\n",
              "      <td>29.569000</td>\n",
              "    </tr>\n",
              "    <tr>\n",
              "      <th>2019-03-07</th>\n",
              "      <td>76.780701</td>\n",
              "      <td>178.284836</td>\n",
              "      <td>247.350006</td>\n",
              "      <td>126.050003</td>\n",
              "      <td>107.914581</td>\n",
              "      <td>28.324499</td>\n",
              "    </tr>\n",
              "    <tr>\n",
              "      <th>2019-03-12</th>\n",
              "      <td>74.606728</td>\n",
              "      <td>178.432678</td>\n",
              "      <td>254.050003</td>\n",
              "      <td>127.099998</td>\n",
              "      <td>118.739868</td>\n",
              "      <td>28.358500</td>\n",
              "    </tr>\n",
              "    <tr>\n",
              "      <th>2019-03-22</th>\n",
              "      <td>74.557312</td>\n",
              "      <td>163.698807</td>\n",
              "      <td>263.500000</td>\n",
              "      <td>127.000000</td>\n",
              "      <td>108.397858</td>\n",
              "      <td>28.391001</td>\n",
              "    </tr>\n",
              "    <tr>\n",
              "      <th>2019-03-27</th>\n",
              "      <td>69.023575</td>\n",
              "      <td>167.640976</td>\n",
              "      <td>252.649994</td>\n",
              "      <td>130.550003</td>\n",
              "      <td>109.219414</td>\n",
              "      <td>28.382000</td>\n",
              "    </tr>\n",
              "  </tbody>\n",
              "</table>\n",
              "<p>87 rows × 6 columns</p>\n",
              "</div>"
            ],
            "text/plain": [
              "               ZENTEC    TEJASNET  ...         BLS   GOLDBEES\n",
              "Date                               ...                       \n",
              "2017-06-30  49.206520  298.126923  ...  186.117233  25.768999\n",
              "2017-07-05  49.255726  297.141418  ...  206.567047  25.414499\n",
              "2017-07-10  59.195450  361.990143  ...  192.805557  25.099001\n",
              "2017-07-20  55.800198  345.679413  ...  188.859955  25.472500\n",
              "2017-07-25  58.555763  330.847015  ...  187.945709  25.676500\n",
              "...               ...         ...  ...         ...        ...\n",
              "2019-02-25  70.703461  156.997101  ...  102.018669  29.569000\n",
              "2019-03-07  76.780701  178.284836  ...  107.914581  28.324499\n",
              "2019-03-12  74.606728  178.432678  ...  118.739868  28.358500\n",
              "2019-03-22  74.557312  163.698807  ...  108.397858  28.391001\n",
              "2019-03-27  69.023575  167.640976  ...  109.219414  28.382000\n",
              "\n",
              "[87 rows x 6 columns]"
            ]
          },
          "metadata": {},
          "execution_count": 26
        }
      ]
    },
    {
      "cell_type": "markdown",
      "metadata": {
        "id": "KSFA9muQeNPJ"
      },
      "source": [
        "df"
      ]
    },
    {
      "cell_type": "code",
      "metadata": {
        "id": "c0emh0oIevpb"
      },
      "source": [
        "rext = df.loc[['2017-06-30']]\n",
        "# = df.loc([['2019-03-27']])"
      ],
      "execution_count": null,
      "outputs": []
    },
    {
      "cell_type": "code",
      "metadata": {
        "colab": {
          "base_uri": "https://localhost:8080/",
          "height": 110
        },
        "id": "veenUCY2fD8g",
        "outputId": "659ae21a-7c09-4ae2-b650-6162bda7f835"
      },
      "source": [
        "rexty = df.loc[['2019-03-27']]\n",
        "rexty"
      ],
      "execution_count": null,
      "outputs": [
        {
          "output_type": "execute_result",
          "data": {
            "text/html": [
              "<div>\n",
              "<style scoped>\n",
              "    .dataframe tbody tr th:only-of-type {\n",
              "        vertical-align: middle;\n",
              "    }\n",
              "\n",
              "    .dataframe tbody tr th {\n",
              "        vertical-align: top;\n",
              "    }\n",
              "\n",
              "    .dataframe thead th {\n",
              "        text-align: right;\n",
              "    }\n",
              "</style>\n",
              "<table border=\"1\" class=\"dataframe\">\n",
              "  <thead>\n",
              "    <tr style=\"text-align: right;\">\n",
              "      <th></th>\n",
              "      <th>ZENTEC</th>\n",
              "      <th>TEJASNET</th>\n",
              "      <th>OLECTRA</th>\n",
              "      <th>HINDOILEXP</th>\n",
              "      <th>BLS</th>\n",
              "      <th>GOLDBEES</th>\n",
              "    </tr>\n",
              "    <tr>\n",
              "      <th>Date</th>\n",
              "      <th></th>\n",
              "      <th></th>\n",
              "      <th></th>\n",
              "      <th></th>\n",
              "      <th></th>\n",
              "      <th></th>\n",
              "    </tr>\n",
              "  </thead>\n",
              "  <tbody>\n",
              "    <tr>\n",
              "      <th>2019-03-27</th>\n",
              "      <td>69.023575</td>\n",
              "      <td>167.640976</td>\n",
              "      <td>252.649994</td>\n",
              "      <td>130.550003</td>\n",
              "      <td>109.219414</td>\n",
              "      <td>28.382</td>\n",
              "    </tr>\n",
              "  </tbody>\n",
              "</table>\n",
              "</div>"
            ],
            "text/plain": [
              "               ZENTEC    TEJASNET     OLECTRA  HINDOILEXP         BLS  GOLDBEES\n",
              "Date                                                                           \n",
              "2019-03-27  69.023575  167.640976  252.649994  130.550003  109.219414    28.382"
            ]
          },
          "metadata": {},
          "execution_count": 28
        }
      ]
    },
    {
      "cell_type": "code",
      "metadata": {
        "colab": {
          "base_uri": "https://localhost:8080/"
        },
        "id": "s5DVldC5e-BD",
        "outputId": "124d9add-5495-40cb-fce2-4199df1e17f1"
      },
      "source": [
        "rext = np.array(rext)\n",
        "rext\n",
        "rext = rext.T\n",
        "rext"
      ],
      "execution_count": null,
      "outputs": [
        {
          "output_type": "execute_result",
          "data": {
            "text/plain": [
              "array([[ 49.20652008],\n",
              "       [298.12692261],\n",
              "       [ 57.15000153],\n",
              "       [ 71.34999847],\n",
              "       [186.11723328],\n",
              "       [ 25.7689991 ]])"
            ]
          },
          "metadata": {},
          "execution_count": 29
        }
      ]
    },
    {
      "cell_type": "code",
      "metadata": {
        "id": "JOoQi7jDi7lT"
      },
      "source": [
        "rext = rext.T\n",
        "rf = np.dot(rext,wgts[nm])"
      ],
      "execution_count": null,
      "outputs": []
    },
    {
      "cell_type": "code",
      "metadata": {
        "colab": {
          "base_uri": "https://localhost:8080/"
        },
        "id": "YLotZPOXiqtu",
        "outputId": "805315d0-de2d-4229-c1fd-88ff633238c9"
      },
      "source": [
        "\n",
        "rf"
      ],
      "execution_count": null,
      "outputs": [
        {
          "output_type": "execute_result",
          "data": {
            "text/plain": [
              "array([60.95495446])"
            ]
          },
          "metadata": {},
          "execution_count": 31
        }
      ]
    },
    {
      "cell_type": "code",
      "metadata": {
        "colab": {
          "base_uri": "https://localhost:8080/"
        },
        "id": "ycdPJeFxjC22",
        "outputId": "cb9c937d-c186-4d22-e762-8a4bfe9d5349"
      },
      "source": [
        "rf2 = np.dot(rexty,wgts[nm])\n",
        "rf2"
      ],
      "execution_count": null,
      "outputs": [
        {
          "output_type": "execute_result",
          "data": {
            "text/plain": [
              "array([150.07777304])"
            ]
          },
          "metadata": {},
          "execution_count": 32
        }
      ]
    },
    {
      "cell_type": "code",
      "metadata": {
        "id": "9w9ZG_kwjaxs"
      },
      "source": [
        "#to test the accurcy of this model from 2019-03-27 till 2020-03-27"
      ],
      "execution_count": null,
      "outputs": []
    },
    {
      "cell_type": "code",
      "metadata": {
        "colab": {
          "base_uri": "https://localhost:8080/"
        },
        "id": "3SmdS2P2jd9z",
        "outputId": "6276bb92-b74d-4be5-ba7b-1ddf559aa37d"
      },
      "source": [
        "dfi = yf.download('^NSEI','2017-06-30','2019-03-27')"
      ],
      "execution_count": null,
      "outputs": [
        {
          "output_type": "stream",
          "name": "stdout",
          "text": [
            "\r[*********************100%***********************]  1 of 1 completed\n"
          ]
        }
      ]
    },
    {
      "cell_type": "code",
      "metadata": {
        "id": "sh-n3-nbkXfN"
      },
      "source": [
        "dfi = dfi['Adj Close']"
      ],
      "execution_count": null,
      "outputs": []
    },
    {
      "cell_type": "code",
      "metadata": {
        "id": "C8ALIuVzkgQm"
      },
      "source": [
        "xyzc = dfi.pct_change().mean()"
      ],
      "execution_count": null,
      "outputs": []
    },
    {
      "cell_type": "code",
      "metadata": {
        "id": "UmTRMdKtkr33"
      },
      "source": [
        "xyzc = 252*xyzc"
      ],
      "execution_count": null,
      "outputs": []
    },
    {
      "cell_type": "code",
      "metadata": {
        "id": "Vpy-HT5hkwbR"
      },
      "source": [
        "#assuming risk free rate to be 0"
      ],
      "execution_count": null,
      "outputs": []
    },
    {
      "cell_type": "code",
      "metadata": {
        "id": "guTWzRkBk4wU"
      },
      "source": [
        "bm = np.zeros(6)\n",
        "bm[0] = b1\n",
        "bm[1] = b2\n",
        "bm[2] = b3\n",
        "bm[3] = b4\n",
        "bm[4] = b5\n",
        "bm[5] = b6"
      ],
      "execution_count": null,
      "outputs": []
    },
    {
      "cell_type": "code",
      "metadata": {
        "colab": {
          "base_uri": "https://localhost:8080/"
        },
        "id": "BqVQM0Anljr-",
        "outputId": "b472d133-25f3-45c5-a786-c6b9e14cdb80"
      },
      "source": [
        "b_net = np.dot(bm,wgts[nm])\n",
        "b_net"
      ],
      "execution_count": null,
      "outputs": [
        {
          "output_type": "execute_result",
          "data": {
            "text/plain": [
              "1.3875136202459835"
            ]
          },
          "metadata": {},
          "execution_count": 40
        }
      ]
    },
    {
      "cell_type": "code",
      "metadata": {
        "colab": {
          "base_uri": "https://localhost:8080/"
        },
        "id": "Z1amBH5Sl2b0",
        "outputId": "b883236a-5209-468b-e8d8-12eb055e2f66"
      },
      "source": [
        "expected_return = b_net*xyzc\n",
        "expected_return*100\n",
        "#if i calculate expected rtur"
      ],
      "execution_count": null,
      "outputs": [
        {
          "output_type": "execute_result",
          "data": {
            "text/plain": [
              "16.29937594821382"
            ]
          },
          "metadata": {},
          "execution_count": 41
        }
      ]
    },
    {
      "cell_type": "code",
      "metadata": {
        "colab": {
          "base_uri": "https://localhost:8080/",
          "height": 552
        },
        "id": "FNsrO9_tolpj",
        "outputId": "512965b7-3836-4273-b1f8-cd5f8804de52"
      },
      "source": [
        "stocks = ['zentec','tejasnet','olectra','hindoilexp','bls','goldbees']\n",
        "p11 = yf.download('ZENTEC.NS','2019-03-31','2021-03-31',interval = '5d')['Adj Close']\n",
        "p21 = yf.download('TEJASNET.NS','2019-03-31','2021-03-31',interval = '5d')['Adj Close']\n",
        "p31 = yf.download('OLECTRA.NS','2019-03-31','2021-03-31',interval = '5d')['Adj Close']\n",
        "p41 = yf.download('HINDOILEXP.NS','2019-03-31','2021-03-31',interval = '5d')['Adj Close']\n",
        "p51 = yf.download('BLS.NS','2019-03-31','2021-03-31',interval = '5d')['Adj Close']\n",
        "p61 = yf.download('GOLDBEES.NS','2019-03-31','2021-03-31',interval = '5d')['Adj Close']\n",
        "r11 = 100*p1.pct_change()\n",
        "r21 = 100*p2.pct_change()\n",
        "r41 = 100*p4.pct_change()\n",
        "r31 = 100*p3.pct_change()\n",
        "r51 = 100*p5.pct_change()\n",
        "r61 = 100*p6.pct_change()\n",
        "\n",
        "stx = ['ZENTEC', 'TEJASNET', 'OLECTRA', 'HINDOILEXP', 'BLS','GOLDBEES']\n",
        "df11 = pd.merge(p11,p21,right_index = True, left_index = True)\n",
        "df11 = pd.merge(df11,p31,right_index = True, left_index = True)\n",
        "df11 = pd.merge(df11,p41,right_index = True, left_index = True)\n",
        "df11 = pd.merge(df11,p51,right_index = True, left_index = True)\n",
        "df11 = pd.merge(df11,p61,right_index = True, left_index = True)\n",
        "df11\n",
        "df11.set_axis(stx,axis = 1)\n"
      ],
      "execution_count": null,
      "outputs": [
        {
          "output_type": "stream",
          "name": "stdout",
          "text": [
            "[*********************100%***********************]  1 of 1 completed\n",
            "[*********************100%***********************]  1 of 1 completed\n",
            "[*********************100%***********************]  1 of 1 completed\n",
            "[*********************100%***********************]  1 of 1 completed\n",
            "[*********************100%***********************]  1 of 1 completed\n",
            "[*********************100%***********************]  1 of 1 completed\n"
          ]
        },
        {
          "output_type": "execute_result",
          "data": {
            "text/html": [
              "<div>\n",
              "<style scoped>\n",
              "    .dataframe tbody tr th:only-of-type {\n",
              "        vertical-align: middle;\n",
              "    }\n",
              "\n",
              "    .dataframe tbody tr th {\n",
              "        vertical-align: top;\n",
              "    }\n",
              "\n",
              "    .dataframe thead th {\n",
              "        text-align: right;\n",
              "    }\n",
              "</style>\n",
              "<table border=\"1\" class=\"dataframe\">\n",
              "  <thead>\n",
              "    <tr style=\"text-align: right;\">\n",
              "      <th></th>\n",
              "      <th>ZENTEC</th>\n",
              "      <th>TEJASNET</th>\n",
              "      <th>OLECTRA</th>\n",
              "      <th>HINDOILEXP</th>\n",
              "      <th>BLS</th>\n",
              "      <th>GOLDBEES</th>\n",
              "    </tr>\n",
              "    <tr>\n",
              "      <th>Date</th>\n",
              "      <th></th>\n",
              "      <th></th>\n",
              "      <th></th>\n",
              "      <th></th>\n",
              "      <th></th>\n",
              "      <th></th>\n",
              "    </tr>\n",
              "  </thead>\n",
              "  <tbody>\n",
              "    <tr>\n",
              "      <th>2019-04-05</th>\n",
              "      <td>74.310272</td>\n",
              "      <td>167.493134</td>\n",
              "      <td>248.000000</td>\n",
              "      <td>126.000000</td>\n",
              "      <td>135.702682</td>\n",
              "      <td>28.035000</td>\n",
              "    </tr>\n",
              "    <tr>\n",
              "      <th>2019-04-10</th>\n",
              "      <td>73.717377</td>\n",
              "      <td>180.748703</td>\n",
              "      <td>235.449997</td>\n",
              "      <td>127.650002</td>\n",
              "      <td>126.665520</td>\n",
              "      <td>28.278999</td>\n",
              "    </tr>\n",
              "    <tr>\n",
              "      <th>2019-04-15</th>\n",
              "      <td>76.681877</td>\n",
              "      <td>180.305191</td>\n",
              "      <td>234.699997</td>\n",
              "      <td>126.400002</td>\n",
              "      <td>122.557709</td>\n",
              "      <td>28.019501</td>\n",
              "    </tr>\n",
              "    <tr>\n",
              "      <th>2019-04-25</th>\n",
              "      <td>75.051399</td>\n",
              "      <td>183.458939</td>\n",
              "      <td>221.600006</td>\n",
              "      <td>128.050003</td>\n",
              "      <td>127.342110</td>\n",
              "      <td>28.194500</td>\n",
              "    </tr>\n",
              "    <tr>\n",
              "      <th>2019-04-30</th>\n",
              "      <td>74.310272</td>\n",
              "      <td>187.253281</td>\n",
              "      <td>209.899994</td>\n",
              "      <td>124.099998</td>\n",
              "      <td>119.561432</td>\n",
              "      <td>28.152500</td>\n",
              "    </tr>\n",
              "    <tr>\n",
              "      <th>...</th>\n",
              "      <td>...</td>\n",
              "      <td>...</td>\n",
              "      <td>...</td>\n",
              "      <td>...</td>\n",
              "      <td>...</td>\n",
              "      <td>...</td>\n",
              "    </tr>\n",
              "    <tr>\n",
              "      <th>2021-03-05</th>\n",
              "      <td>84.548866</td>\n",
              "      <td>191.899994</td>\n",
              "      <td>186.750000</td>\n",
              "      <td>101.550003</td>\n",
              "      <td>100.758759</td>\n",
              "      <td>38.669998</td>\n",
              "    </tr>\n",
              "    <tr>\n",
              "      <th>2021-03-10</th>\n",
              "      <td>88.094620</td>\n",
              "      <td>190.199997</td>\n",
              "      <td>216.100006</td>\n",
              "      <td>107.949997</td>\n",
              "      <td>116.894150</td>\n",
              "      <td>38.950001</td>\n",
              "    </tr>\n",
              "    <tr>\n",
              "      <th>2021-03-15</th>\n",
              "      <td>86.796181</td>\n",
              "      <td>185.800003</td>\n",
              "      <td>215.500000</td>\n",
              "      <td>106.400002</td>\n",
              "      <td>108.601662</td>\n",
              "      <td>39.060001</td>\n",
              "    </tr>\n",
              "    <tr>\n",
              "      <th>2021-03-25</th>\n",
              "      <td>78.006691</td>\n",
              "      <td>160.449997</td>\n",
              "      <td>212.350006</td>\n",
              "      <td>92.349998</td>\n",
              "      <td>95.463562</td>\n",
              "      <td>38.889999</td>\n",
              "    </tr>\n",
              "    <tr>\n",
              "      <th>2021-03-30</th>\n",
              "      <td>78.256393</td>\n",
              "      <td>158.000000</td>\n",
              "      <td>214.050003</td>\n",
              "      <td>99.150002</td>\n",
              "      <td>94.664284</td>\n",
              "      <td>38.380001</td>\n",
              "    </tr>\n",
              "  </tbody>\n",
              "</table>\n",
              "<p>99 rows × 6 columns</p>\n",
              "</div>"
            ],
            "text/plain": [
              "               ZENTEC    TEJASNET  ...         BLS   GOLDBEES\n",
              "Date                               ...                       \n",
              "2019-04-05  74.310272  167.493134  ...  135.702682  28.035000\n",
              "2019-04-10  73.717377  180.748703  ...  126.665520  28.278999\n",
              "2019-04-15  76.681877  180.305191  ...  122.557709  28.019501\n",
              "2019-04-25  75.051399  183.458939  ...  127.342110  28.194500\n",
              "2019-04-30  74.310272  187.253281  ...  119.561432  28.152500\n",
              "...               ...         ...  ...         ...        ...\n",
              "2021-03-05  84.548866  191.899994  ...  100.758759  38.669998\n",
              "2021-03-10  88.094620  190.199997  ...  116.894150  38.950001\n",
              "2021-03-15  86.796181  185.800003  ...  108.601662  39.060001\n",
              "2021-03-25  78.006691  160.449997  ...   95.463562  38.889999\n",
              "2021-03-30  78.256393  158.000000  ...   94.664284  38.380001\n",
              "\n",
              "[99 rows x 6 columns]"
            ]
          },
          "metadata": {},
          "execution_count": 42
        }
      ]
    },
    {
      "cell_type": "code",
      "metadata": {
        "id": "OZcs0l2FqLU2"
      },
      "source": [
        "\n",
        "dfpct = np.log(1+df11.pct_change())"
      ],
      "execution_count": null,
      "outputs": []
    },
    {
      "cell_type": "code",
      "metadata": {
        "colab": {
          "base_uri": "https://localhost:8080/",
          "height": 445
        },
        "id": "K3kZhkxfqRnS",
        "outputId": "865a18b1-f899-4780-8f57-af60191757cb"
      },
      "source": [
        "dfpct"
      ],
      "execution_count": null,
      "outputs": [
        {
          "output_type": "execute_result",
          "data": {
            "text/html": [
              "<div>\n",
              "<style scoped>\n",
              "    .dataframe tbody tr th:only-of-type {\n",
              "        vertical-align: middle;\n",
              "    }\n",
              "\n",
              "    .dataframe tbody tr th {\n",
              "        vertical-align: top;\n",
              "    }\n",
              "\n",
              "    .dataframe thead th {\n",
              "        text-align: right;\n",
              "    }\n",
              "</style>\n",
              "<table border=\"1\" class=\"dataframe\">\n",
              "  <thead>\n",
              "    <tr style=\"text-align: right;\">\n",
              "      <th></th>\n",
              "      <th>Adj Close_x</th>\n",
              "      <th>Adj Close_y</th>\n",
              "      <th>Adj Close_x</th>\n",
              "      <th>Adj Close_y</th>\n",
              "      <th>Adj Close_x</th>\n",
              "      <th>Adj Close_y</th>\n",
              "    </tr>\n",
              "    <tr>\n",
              "      <th>Date</th>\n",
              "      <th></th>\n",
              "      <th></th>\n",
              "      <th></th>\n",
              "      <th></th>\n",
              "      <th></th>\n",
              "      <th></th>\n",
              "    </tr>\n",
              "  </thead>\n",
              "  <tbody>\n",
              "    <tr>\n",
              "      <th>2019-04-05</th>\n",
              "      <td>NaN</td>\n",
              "      <td>NaN</td>\n",
              "      <td>NaN</td>\n",
              "      <td>NaN</td>\n",
              "      <td>NaN</td>\n",
              "      <td>NaN</td>\n",
              "    </tr>\n",
              "    <tr>\n",
              "      <th>2019-04-10</th>\n",
              "      <td>-0.008011</td>\n",
              "      <td>0.076165</td>\n",
              "      <td>-0.051930</td>\n",
              "      <td>0.013010</td>\n",
              "      <td>-0.068916</td>\n",
              "      <td>0.008666</td>\n",
              "    </tr>\n",
              "    <tr>\n",
              "      <th>2019-04-15</th>\n",
              "      <td>0.039427</td>\n",
              "      <td>-0.002457</td>\n",
              "      <td>-0.003190</td>\n",
              "      <td>-0.009841</td>\n",
              "      <td>-0.032968</td>\n",
              "      <td>-0.009219</td>\n",
              "    </tr>\n",
              "    <tr>\n",
              "      <th>2019-04-25</th>\n",
              "      <td>-0.021492</td>\n",
              "      <td>0.017340</td>\n",
              "      <td>-0.057434</td>\n",
              "      <td>0.012969</td>\n",
              "      <td>0.038295</td>\n",
              "      <td>0.006226</td>\n",
              "    </tr>\n",
              "    <tr>\n",
              "      <th>2019-04-30</th>\n",
              "      <td>-0.009924</td>\n",
              "      <td>0.020471</td>\n",
              "      <td>-0.054243</td>\n",
              "      <td>-0.031333</td>\n",
              "      <td>-0.063047</td>\n",
              "      <td>-0.001491</td>\n",
              "    </tr>\n",
              "    <tr>\n",
              "      <th>...</th>\n",
              "      <td>...</td>\n",
              "      <td>...</td>\n",
              "      <td>...</td>\n",
              "      <td>...</td>\n",
              "      <td>...</td>\n",
              "      <td>...</td>\n",
              "    </tr>\n",
              "    <tr>\n",
              "      <th>2021-03-05</th>\n",
              "      <td>0.004737</td>\n",
              "      <td>-0.043341</td>\n",
              "      <td>0.048830</td>\n",
              "      <td>0.066148</td>\n",
              "      <td>-0.000991</td>\n",
              "      <td>-0.050427</td>\n",
              "    </tr>\n",
              "    <tr>\n",
              "      <th>2021-03-10</th>\n",
              "      <td>0.041082</td>\n",
              "      <td>-0.008898</td>\n",
              "      <td>0.145970</td>\n",
              "      <td>0.061117</td>\n",
              "      <td>0.148540</td>\n",
              "      <td>0.007215</td>\n",
              "    </tr>\n",
              "    <tr>\n",
              "      <th>2021-03-15</th>\n",
              "      <td>-0.014849</td>\n",
              "      <td>-0.023405</td>\n",
              "      <td>-0.002780</td>\n",
              "      <td>-0.014463</td>\n",
              "      <td>-0.073582</td>\n",
              "      <td>0.002820</td>\n",
              "    </tr>\n",
              "    <tr>\n",
              "      <th>2021-03-25</th>\n",
              "      <td>-0.106768</td>\n",
              "      <td>-0.146688</td>\n",
              "      <td>-0.014725</td>\n",
              "      <td>-0.141620</td>\n",
              "      <td>-0.128942</td>\n",
              "      <td>-0.004362</td>\n",
              "    </tr>\n",
              "    <tr>\n",
              "      <th>2021-03-30</th>\n",
              "      <td>0.003196</td>\n",
              "      <td>-0.015387</td>\n",
              "      <td>0.007974</td>\n",
              "      <td>0.071048</td>\n",
              "      <td>-0.008408</td>\n",
              "      <td>-0.013201</td>\n",
              "    </tr>\n",
              "  </tbody>\n",
              "</table>\n",
              "<p>99 rows × 6 columns</p>\n",
              "</div>"
            ],
            "text/plain": [
              "            Adj Close_x  Adj Close_y  ...  Adj Close_x  Adj Close_y\n",
              "Date                                  ...                          \n",
              "2019-04-05          NaN          NaN  ...          NaN          NaN\n",
              "2019-04-10    -0.008011     0.076165  ...    -0.068916     0.008666\n",
              "2019-04-15     0.039427    -0.002457  ...    -0.032968    -0.009219\n",
              "2019-04-25    -0.021492     0.017340  ...     0.038295     0.006226\n",
              "2019-04-30    -0.009924     0.020471  ...    -0.063047    -0.001491\n",
              "...                 ...          ...  ...          ...          ...\n",
              "2021-03-05     0.004737    -0.043341  ...    -0.000991    -0.050427\n",
              "2021-03-10     0.041082    -0.008898  ...     0.148540     0.007215\n",
              "2021-03-15    -0.014849    -0.023405  ...    -0.073582     0.002820\n",
              "2021-03-25    -0.106768    -0.146688  ...    -0.128942    -0.004362\n",
              "2021-03-30     0.003196    -0.015387  ...    -0.008408    -0.013201\n",
              "\n",
              "[99 rows x 6 columns]"
            ]
          },
          "metadata": {},
          "execution_count": 44
        }
      ]
    },
    {
      "cell_type": "code",
      "metadata": {
        "colab": {
          "base_uri": "https://localhost:8080/"
        },
        "id": "YmMeYfkCqSdG",
        "outputId": "40670ada-e3e4-4523-ecc2-62af95ab1ddc"
      },
      "source": [
        "dfpct.mean()"
      ],
      "execution_count": null,
      "outputs": [
        {
          "output_type": "execute_result",
          "data": {
            "text/plain": [
              "Adj Close_x    0.000528\n",
              "Adj Close_y   -0.000595\n",
              "Adj Close_x   -0.001502\n",
              "Adj Close_y   -0.002445\n",
              "Adj Close_x   -0.003675\n",
              "Adj Close_y    0.003205\n",
              "dtype: float64"
            ]
          },
          "metadata": {},
          "execution_count": 45
        }
      ]
    },
    {
      "cell_type": "code",
      "metadata": {
        "colab": {
          "base_uri": "https://localhost:8080/"
        },
        "id": "JHgBi8bdqqBU",
        "outputId": "e03758ee-6a49-4e0d-cbac-0cffa484d246"
      },
      "source": [
        "ret_new = dfpct.mean()*252\n",
        "ret_new = np.array(ret_new)\n",
        "ret_new"
      ],
      "execution_count": null,
      "outputs": [
        {
          "output_type": "execute_result",
          "data": {
            "text/plain": [
              "array([ 0.13304915, -0.15003598, -0.3785634 , -0.61623781, -0.92604743,\n",
              "        0.80764147])"
            ]
          },
          "metadata": {},
          "execution_count": 46
        }
      ]
    },
    {
      "cell_type": "code",
      "metadata": {
        "colab": {
          "base_uri": "https://localhost:8080/"
        },
        "id": "5Yg4HEoqqytz",
        "outputId": "39cdef1a-8017-4201-e285-e75a831abc92"
      },
      "source": [
        "ret__net_new = np.dot(wgts[nm],ret_new)\n",
        "ret__net_new\n",
        "#expected return cagr over the next 2 yrs, this is very different from the previous years mainly due to covid"
      ],
      "execution_count": null,
      "outputs": [
        {
          "output_type": "execute_result",
          "data": {
            "text/plain": [
              "-0.12680442345862858"
            ]
          },
          "metadata": {},
          "execution_count": 47
        }
      ]
    },
    {
      "cell_type": "code",
      "metadata": {
        "id": "Dre0LQUFy6ym"
      },
      "source": [
        "#think of more parameters to check accuracy\n"
      ],
      "execution_count": null,
      "outputs": []
    },
    {
      "cell_type": "code",
      "metadata": {
        "colab": {
          "base_uri": "https://localhost:8080/",
          "height": 445
        },
        "id": "sRM7Q8RNzJDQ",
        "outputId": "52a8e77a-a10b-4544-d678-7af59444421d"
      },
      "source": [
        "df1"
      ],
      "execution_count": null,
      "outputs": [
        {
          "output_type": "execute_result",
          "data": {
            "text/html": [
              "<div>\n",
              "<style scoped>\n",
              "    .dataframe tbody tr th:only-of-type {\n",
              "        vertical-align: middle;\n",
              "    }\n",
              "\n",
              "    .dataframe tbody tr th {\n",
              "        vertical-align: top;\n",
              "    }\n",
              "\n",
              "    .dataframe thead th {\n",
              "        text-align: right;\n",
              "    }\n",
              "</style>\n",
              "<table border=\"1\" class=\"dataframe\">\n",
              "  <thead>\n",
              "    <tr style=\"text-align: right;\">\n",
              "      <th></th>\n",
              "      <th>Adj Close_x</th>\n",
              "      <th>Adj Close_y</th>\n",
              "      <th>Adj Close_x</th>\n",
              "      <th>Adj Close_y</th>\n",
              "      <th>Adj Close_x</th>\n",
              "      <th>Adj Close_y</th>\n",
              "    </tr>\n",
              "    <tr>\n",
              "      <th>Date</th>\n",
              "      <th></th>\n",
              "      <th></th>\n",
              "      <th></th>\n",
              "      <th></th>\n",
              "      <th></th>\n",
              "      <th></th>\n",
              "    </tr>\n",
              "  </thead>\n",
              "  <tbody>\n",
              "    <tr>\n",
              "      <th>2017-07-05</th>\n",
              "      <td>0.099998</td>\n",
              "      <td>-0.330565</td>\n",
              "      <td>12.073493</td>\n",
              "      <td>0.350385</td>\n",
              "      <td>10.987598</td>\n",
              "      <td>-1.375683</td>\n",
              "    </tr>\n",
              "    <tr>\n",
              "      <th>2017-07-10</th>\n",
              "      <td>20.179835</td>\n",
              "      <td>21.824196</td>\n",
              "      <td>0.156126</td>\n",
              "      <td>1.396648</td>\n",
              "      <td>-6.661997</td>\n",
              "      <td>-1.241411</td>\n",
              "    </tr>\n",
              "    <tr>\n",
              "      <th>2017-07-20</th>\n",
              "      <td>-5.735664</td>\n",
              "      <td>-4.505849</td>\n",
              "      <td>12.392824</td>\n",
              "      <td>3.305787</td>\n",
              "      <td>-2.046415</td>\n",
              "      <td>1.488103</td>\n",
              "    </tr>\n",
              "    <tr>\n",
              "      <th>2017-07-25</th>\n",
              "      <td>4.938272</td>\n",
              "      <td>-4.290796</td>\n",
              "      <td>0.277399</td>\n",
              "      <td>2.466665</td>\n",
              "      <td>-0.484087</td>\n",
              "      <td>0.800866</td>\n",
              "    </tr>\n",
              "    <tr>\n",
              "      <th>2017-08-04</th>\n",
              "      <td>-5.882355</td>\n",
              "      <td>4.155483</td>\n",
              "      <td>10.096812</td>\n",
              "      <td>-1.951854</td>\n",
              "      <td>-0.896055</td>\n",
              "      <td>0.519927</td>\n",
              "    </tr>\n",
              "    <tr>\n",
              "      <th>...</th>\n",
              "      <td>...</td>\n",
              "      <td>...</td>\n",
              "      <td>...</td>\n",
              "      <td>...</td>\n",
              "      <td>...</td>\n",
              "      <td>...</td>\n",
              "    </tr>\n",
              "    <tr>\n",
              "      <th>2019-02-25</th>\n",
              "      <td>5.453211</td>\n",
              "      <td>3.913889</td>\n",
              "      <td>3.057730</td>\n",
              "      <td>1.319713</td>\n",
              "      <td>11.222336</td>\n",
              "      <td>-1.174778</td>\n",
              "    </tr>\n",
              "    <tr>\n",
              "      <th>2019-03-07</th>\n",
              "      <td>8.595393</td>\n",
              "      <td>13.559317</td>\n",
              "      <td>17.422271</td>\n",
              "      <td>5.924372</td>\n",
              "      <td>5.779248</td>\n",
              "      <td>-4.208803</td>\n",
              "    </tr>\n",
              "    <tr>\n",
              "      <th>2019-03-12</th>\n",
              "      <td>-2.831406</td>\n",
              "      <td>0.082925</td>\n",
              "      <td>2.708711</td>\n",
              "      <td>0.832999</td>\n",
              "      <td>10.031348</td>\n",
              "      <td>0.120039</td>\n",
              "    </tr>\n",
              "    <tr>\n",
              "      <th>2019-03-22</th>\n",
              "      <td>-0.066235</td>\n",
              "      <td>-8.257384</td>\n",
              "      <td>3.719739</td>\n",
              "      <td>-0.078677</td>\n",
              "      <td>-8.709805</td>\n",
              "      <td>0.114608</td>\n",
              "    </tr>\n",
              "    <tr>\n",
              "      <th>2019-03-27</th>\n",
              "      <td>-7.422125</td>\n",
              "      <td>2.408184</td>\n",
              "      <td>-4.117649</td>\n",
              "      <td>2.795278</td>\n",
              "      <td>0.757908</td>\n",
              "      <td>-0.031703</td>\n",
              "    </tr>\n",
              "  </tbody>\n",
              "</table>\n",
              "<p>86 rows × 6 columns</p>\n",
              "</div>"
            ],
            "text/plain": [
              "            Adj Close_x  Adj Close_y  ...  Adj Close_x  Adj Close_y\n",
              "Date                                  ...                          \n",
              "2017-07-05     0.099998    -0.330565  ...    10.987598    -1.375683\n",
              "2017-07-10    20.179835    21.824196  ...    -6.661997    -1.241411\n",
              "2017-07-20    -5.735664    -4.505849  ...    -2.046415     1.488103\n",
              "2017-07-25     4.938272    -4.290796  ...    -0.484087     0.800866\n",
              "2017-08-04    -5.882355     4.155483  ...    -0.896055     0.519927\n",
              "...                 ...          ...  ...          ...          ...\n",
              "2019-02-25     5.453211     3.913889  ...    11.222336    -1.174778\n",
              "2019-03-07     8.595393    13.559317  ...     5.779248    -4.208803\n",
              "2019-03-12    -2.831406     0.082925  ...    10.031348     0.120039\n",
              "2019-03-22    -0.066235    -8.257384  ...    -8.709805     0.114608\n",
              "2019-03-27    -7.422125     2.408184  ...     0.757908    -0.031703\n",
              "\n",
              "[86 rows x 6 columns]"
            ]
          },
          "metadata": {},
          "execution_count": 49
        }
      ]
    },
    {
      "cell_type": "code",
      "metadata": {
        "id": "L0fqY3iRzQva"
      },
      "source": [
        "import matplotlib.pyplot as plt\n",
        "%matplotlib inline"
      ],
      "execution_count": null,
      "outputs": []
    },
    {
      "cell_type": "code",
      "metadata": {
        "id": "L_0XDophzj9X"
      },
      "source": [
        "df1 = df1.set_axis(stx,axis = 1)"
      ],
      "execution_count": null,
      "outputs": []
    },
    {
      "cell_type": "code",
      "metadata": {
        "colab": {
          "base_uri": "https://localhost:8080/",
          "height": 282
        },
        "id": "AQ8rdA02zwwo",
        "outputId": "93b6c718-e5ec-42fb-bd35-14dc7abba65b"
      },
      "source": [
        "df1['ZENTEC'].plot.hist(bins = 300)\n"
      ],
      "execution_count": null,
      "outputs": [
        {
          "output_type": "execute_result",
          "data": {
            "text/plain": [
              "<matplotlib.axes._subplots.AxesSubplot at 0x7f07ea699d10>"
            ]
          },
          "metadata": {},
          "execution_count": 52
        },
        {
          "output_type": "display_data",
          "data": {
            "image/png": "[encoded data removed]",
            "text/plain": [
              "<Figure size 432x288 with 1 Axes>"
            ]
          },
          "metadata": {
            "needs_background": "light"
          }
        }
      ]
    },
    {
      "cell_type": "markdown",
      "source": [
        ""
      ],
      "metadata": {
        "id": "pXmWljwA2N4j"
      }
    },
    {
      "cell_type": "code",
      "metadata": {
        "colab": {
          "base_uri": "https://localhost:8080/",
          "height": 282
        },
        "id": "4t4YB1Iq0IBx",
        "outputId": "508dca23-b3b2-4574-dd7a-f852993d8cb7"
      },
      "source": [
        "df1['TEJASNET'].plot.hist(bins = 300)\n"
      ],
      "execution_count": null,
      "outputs": [
        {
          "output_type": "execute_result",
          "data": {
            "text/plain": [
              "<matplotlib.axes._subplots.AxesSubplot at 0x7f07e9e31e50>"
            ]
          },
          "metadata": {},
          "execution_count": 53
        },
        {
          "output_type": "display_data",
          "data": {
            "image/png": "[encoded data removed]",
            "text/plain": [
              "<Figure size 432x288 with 1 Axes>"
            ]
          },
          "metadata": {
            "needs_background": "light"
          }
        }
      ]
    },
    {
      "cell_type": "code",
      "metadata": {
        "colab": {
          "base_uri": "https://localhost:8080/",
          "height": 282
        },
        "id": "RbQxFBJA0xR0",
        "outputId": "2c7240e7-8b61-4e69-8077-742a8458f61e"
      },
      "source": [
        "df1['GOLDBEES'].plot.hist(bins = 300)\n"
      ],
      "execution_count": null,
      "outputs": [
        {
          "output_type": "execute_result",
          "data": {
            "text/plain": [
              "<matplotlib.axes._subplots.AxesSubplot at 0x7f07e9a67c90>"
            ]
          },
          "metadata": {},
          "execution_count": 54
        },
        {
          "output_type": "display_data",
          "data": {
            "image/png": "[encoded data removed]",
            "text/plain": [
              "<Figure size 432x288 with 1 Axes>"
            ]
          },
          "metadata": {
            "needs_background": "light"
          }
        }
      ]
    },
    {
      "cell_type": "code",
      "metadata": {
        "colab": {
          "base_uri": "https://localhost:8080/",
          "height": 282
        },
        "id": "ObVJ1sln0O64",
        "outputId": "9bd33667-237e-4b11-d31f-7d3fa25a4b0c"
      },
      "source": [
        "df1['OLECTRA'].plot.hist(bins = 300)\n"
      ],
      "execution_count": null,
      "outputs": [
        {
          "output_type": "execute_result",
          "data": {
            "text/plain": [
              "<matplotlib.axes._subplots.AxesSubplot at 0x7f07e9a83e10>"
            ]
          },
          "metadata": {},
          "execution_count": 55
        },
        {
          "output_type": "display_data",
          "data": {
            "image/png": "[encoded data removed]",
            "text/plain": [
              "<Figure size 432x288 with 1 Axes>"
            ]
          },
          "metadata": {
            "needs_background": "light"
          }
        }
      ]
    },
    {
      "cell_type": "code",
      "metadata": {
        "colab": {
          "base_uri": "https://localhost:8080/",
          "height": 282
        },
        "id": "AAcQwXay1CDu",
        "outputId": "2b55c3f5-f9b7-47d8-b736-fc329529236e"
      },
      "source": [
        "df1['BLS'].plot.hist(bins = 300)"
      ],
      "execution_count": null,
      "outputs": [
        {
          "output_type": "execute_result",
          "data": {
            "text/plain": [
              "<matplotlib.axes._subplots.AxesSubplot at 0x7f07e9237250>"
            ]
          },
          "metadata": {},
          "execution_count": 56
        },
        {
          "output_type": "display_data",
          "data": {
            "image/png": "[encoded data removed]",
            "text/plain": [
              "<Figure size 432x288 with 1 Axes>"
            ]
          },
          "metadata": {
            "needs_background": "light"
          }
        }
      ]
    },
    {
      "cell_type": "code",
      "metadata": {
        "id": "KBqTTm501HnP"
      },
      "source": [
        "#TO DISCUSS PORTFOLIO OPTIMIZATION TECCHNIQUES - \n"
      ],
      "execution_count": null,
      "outputs": []
    },
    {
      "cell_type": "markdown",
      "metadata": {
        "id": "jNlcY3k-r836"
      },
      "source": [
        "SORTINO OPTIMIZATION, MAXIMISING TREYNOR RATIO OPTIMISATION, WALK FORWARD OPTIMISATION\n"
      ]
    }
  ]
}
