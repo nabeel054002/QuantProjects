{
  "cells": [
    {
      "cell_type": "markdown",
      "metadata": {
        "id": "view-in-github",
        "colab_type": "text"
      },
      "source": [
        "<a href=\"https://colab.research.google.com/github/nkhan054002/QuantProjects/blob/main/quant2_portfolio_optim.ipynb\" target=\"_parent\"><img src=\"https://colab.research.google.com/assets/colab-badge.svg\" alt=\"Open In Colab\"/></a>"
      ]
    },
    {
      "cell_type": "code",
      "execution_count": 80,
      "metadata": {
        "id": "yNqdHQyjJy_W",
        "colab": {
          "base_uri": "https://localhost:8080/"
        },
        "outputId": "8c416240-bb8b-417d-bb50-7dc645cc126d"
      },
      "outputs": [
        {
          "output_type": "stream",
          "name": "stdout",
          "text": [
            "Looking in indexes: https://pypi.org/simple, https://us-python.pkg.dev/colab-wheels/public/simple/\n",
            "Requirement already satisfied: yfinance in /usr/local/lib/python3.7/dist-packages (0.1.74)\n",
            "Requirement already satisfied: requests>=2.26 in /usr/local/lib/python3.7/dist-packages (from yfinance) (2.28.1)\n",
            "Requirement already satisfied: numpy>=1.15 in /usr/local/lib/python3.7/dist-packages (from yfinance) (1.21.6)\n",
            "Requirement already satisfied: lxml>=4.5.1 in /usr/local/lib/python3.7/dist-packages (from yfinance) (4.9.1)\n",
            "Requirement already satisfied: multitasking>=0.0.7 in /usr/local/lib/python3.7/dist-packages (from yfinance) (0.0.11)\n",
            "Requirement already satisfied: pandas>=0.24.0 in /usr/local/lib/python3.7/dist-packages (from yfinance) (1.3.5)\n",
            "Requirement already satisfied: pytz>=2017.3 in /usr/local/lib/python3.7/dist-packages (from pandas>=0.24.0->yfinance) (2022.1)\n",
            "Requirement already satisfied: python-dateutil>=2.7.3 in /usr/local/lib/python3.7/dist-packages (from pandas>=0.24.0->yfinance) (2.8.2)\n",
            "Requirement already satisfied: six>=1.5 in /usr/local/lib/python3.7/dist-packages (from python-dateutil>=2.7.3->pandas>=0.24.0->yfinance) (1.15.0)\n",
            "Requirement already satisfied: charset-normalizer<3,>=2 in /usr/local/lib/python3.7/dist-packages (from requests>=2.26->yfinance) (2.1.0)\n",
            "Requirement already satisfied: certifi>=2017.4.17 in /usr/local/lib/python3.7/dist-packages (from requests>=2.26->yfinance) (2022.6.15)\n",
            "Requirement already satisfied: idna<4,>=2.5 in /usr/local/lib/python3.7/dist-packages (from requests>=2.26->yfinance) (2.10)\n",
            "Requirement already satisfied: urllib3<1.27,>=1.21.1 in /usr/local/lib/python3.7/dist-packages (from requests>=2.26->yfinance) (1.24.3)\n"
          ]
        }
      ],
      "source": [
        "!pip install yfinance\n",
        "import yfinance as yf\n",
        "import numpy as np \n",
        "import pandas as pd"
      ]
    },
    {
      "cell_type": "markdown",
      "metadata": {
        "id": "kYk5ErO8J9M-"
      },
      "source": [
        "Contrary to MPT, I will be making a portfolio of growth companies, which will include small cap, low P/E, low or no dividends sort of companies\n",
        "\n",
        "\"Sanjay Basu, demonstrated that low price-to-earnings ratio (P/E) stocks outperformed high P/E stocks. And in the early 1980s, another researcher, Rolf Banz, demonstrated that small-capitalization stocks outperformed large-cap stocks.\"\n",
        "\n",
        "**NOTE : If I can only have 2 - 3 companies, to show great growth, and the other 7 - 8 companies can also not make much progress I can be promised to get a CAGR of 15% or above**\n",
        "\n",
        "I am basing my above assumption from Venture Capital portfolios based especially on the ideation stage, where out of a portfolio of 10 companies even if 1 succeeds to become a successful company and some even fail, result in a loss, the net profit can come out to be about 18 - 20% CAGR\n",
        "\n",
        "Since the companies are publicly listed, this can imply that the companies already are somewhat successful and probably have a scalable business model\n",
        "\n",
        "\n",
        "As is evident from the NIFTY50 chart and the CNXSMALLCAP, the overall small cap and the market as a whole are on a nice, strong uptrend.\n",
        "Hence, I will be choosing a portfolio with 10-15% belonging to stocks that have a negative value of beta"
      ]
    },
    {
      "cell_type": "markdown",
      "metadata": {
        "id": "UCrCD0IdL8KW"
      },
      "source": [
        "I will be using NIFTY SMALL CAP as mybenchmark to calculate beta\n",
        "\n",
        "My portfolio will be a growth company based strategy, and i will also be keeping gold companies for a negative beta, hedging...\n",
        "\n",
        "the following were used for screening\n",
        "M.Cap. - 1000Cr - 5000Cr - small cap\n",
        "Close Price - 100-1000 - to avoid penny stocks\n",
        "PE Ratio - low\n",
        "DPS - 0 - 0.5 - low dividends for growth companies\n",
        "beta - high - 1 - 4.44\n",
        "1 yr return - 143 - 31600% - a multibagger over the past year or so\n",
        "similarly 6 m return - 71 - 19712\n"
      ]
    },
    {
      "cell_type": "markdown",
      "metadata": {
        "id": "OnkjNBPX7G31"
      },
      "source": [
        "1.ZENTEC\n",
        "2.TEJASNET\n",
        "3.OLECTRA\n",
        "4.HINDOILEXP\n",
        "5.BLS\n"
      ]
    },
    {
      "cell_type": "code",
      "execution_count": 81,
      "metadata": {
        "id": "KZU6r9TOEZ63",
        "colab": {
          "base_uri": "https://localhost:8080/"
        },
        "outputId": "9781a8e9-45f0-42fe-a192-fc028cd71fe3"
      },
      "outputs": [
        {
          "output_type": "stream",
          "name": "stdout",
          "text": [
            "[*********************100%***********************]  1 of 1 completed\n",
            "[*********************100%***********************]  1 of 1 completed\n",
            "[*********************100%***********************]  1 of 1 completed\n",
            "[*********************100%***********************]  1 of 1 completed\n",
            "[*********************100%***********************]  1 of 1 completed\n"
          ]
        }
      ],
      "source": [
        "stocks = ['zentec','tejasnet','olectra','hindoilexp','bls']\n",
        "p1 = yf.download('ZENTEC.NS','2017-06-30','2018-11-30',interval = '5d')['Adj Close']\n",
        "p2 = yf.download('TEJASNET.NS','2017-06-30','2018-11-30',interval = '5d')['Adj Close']\n",
        "p3 = yf.download('OLECTRA.NS','2017-06-30','2018-11-30',interval = '5d')['Adj Close']\n",
        "p4 = yf.download('HINDOILEXP.NS','2017-06-30','2018-11-30',interval = '5d')['Adj Close']\n",
        "p5 = yf.download('BLS.NS','2017-06-30','2018-11-30',interval = '5d')['Adj Close']"
      ]
    },
    {
      "cell_type": "code",
      "execution_count": 82,
      "metadata": {
        "id": "bsyxT8nF9egD"
      },
      "outputs": [],
      "source": [
        "r1 = 100*p1.pct_change()\n",
        "r2 = 100*p2.pct_change()\n",
        "r4 = 100*p4.pct_change()\n",
        "r3 = 100*p3.pct_change()\n",
        "r5 = 100*p5.pct_change()"
      ]
    },
    {
      "cell_type": "code",
      "execution_count": 83,
      "metadata": {
        "id": "zND2Rne01nYE",
        "colab": {
          "base_uri": "https://localhost:8080/"
        },
        "outputId": "06bc1a49-ae8e-457f-ade4-0328e71bdaad"
      },
      "outputs": [
        {
          "output_type": "stream",
          "name": "stdout",
          "text": [
            "\r[*********************100%***********************]  1 of 1 completed\n"
          ]
        }
      ],
      "source": [
        "p0 = yf.download('^NSEI','2017-06-30','2019-03-31',interval = '5d')['Adj Close']\n",
        "#index used to calculate beta value"
      ]
    },
    {
      "cell_type": "code",
      "execution_count": 84,
      "metadata": {
        "id": "Yfc5D7O2A8gV"
      },
      "outputs": [],
      "source": [
        "def beta (d1,d2):\n",
        "  d12 = pd.merge(d1,d2,right_index = True,left_index = True)\n",
        "  covar = d12.cov()\n",
        "  covr = np.array(covar)\n",
        "  co = covr[0][1] \n",
        "  var_d2 = d2.var()\n",
        "  var_d1 = d1.var()\n",
        "  b = co/(var_d2**(0.5))\n",
        "  b = b/(var_d1**0.5)\n",
        "  return b"
      ]
    },
    {
      "cell_type": "code",
      "execution_count": 85,
      "metadata": {
        "id": "qqHNf3D-AGzn"
      },
      "outputs": [],
      "source": [
        "r0 = 100*p0.pct_change()"
      ]
    },
    {
      "cell_type": "code",
      "execution_count": 86,
      "metadata": {
        "id": "ZAtujGS8lX2s",
        "colab": {
          "base_uri": "https://localhost:8080/"
        },
        "outputId": "00526c8d-7fcf-4bac-9d7d-02e144af0a83"
      },
      "outputs": [
        {
          "output_type": "execute_result",
          "data": {
            "text/plain": [
              "0.48311457290752785"
            ]
          },
          "metadata": {},
          "execution_count": 86
        }
      ],
      "source": [
        "b1 = beta(r1,r0)\n",
        "b1"
      ]
    },
    {
      "cell_type": "code",
      "execution_count": 87,
      "metadata": {
        "id": "f2Tf4kCx0Fp_"
      },
      "outputs": [],
      "source": [
        "b2 = beta(r2,r0)\n",
        "b3 = beta(r3,r0)\n",
        "b4 = beta(r4,r0)\n",
        "b5 = beta(r5,r0)"
      ]
    },
    {
      "cell_type": "code",
      "execution_count": 88,
      "metadata": {
        "id": "oVNTsf6n1zEq",
        "colab": {
          "base_uri": "https://localhost:8080/"
        },
        "outputId": "a9eb0aa5-862a-47c2-ed76-04f8bdef9305"
      },
      "outputs": [
        {
          "output_type": "stream",
          "name": "stdout",
          "text": [
            "0.48311457290752785 0.24443978068177288 0.38244232189535976 0.3223636158006311 0.40287964843005125\n"
          ]
        }
      ],
      "source": [
        "print(b1, b2, b3,b4,b5)"
      ]
    },
    {
      "cell_type": "markdown",
      "metadata": {
        "id": "jkKBl1wJ16i8"
      },
      "source": [
        "![div_grph.jpg](data:image/jpeg;base64,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)"
      ]
    },
    {
      "cell_type": "markdown",
      "metadata": {
        "id": "-c2PyJcV2ZYo"
      },
      "source": [
        "notice in the above graph how the volatility decreases as the number of assets increase, as we can see as infinite number of stocks results in a constant risk which can be said to be the minimum market risk, i.e. the systematic risk\n"
      ]
    },
    {
      "cell_type": "markdown",
      "metadata": {
        "id": "3G-CBgazrA51"
      },
      "source": [
        "i will also be adding a negative beta stock for hedging purposes - GOLDBEES"
      ]
    },
    {
      "cell_type": "code",
      "execution_count": 89,
      "metadata": {
        "id": "uhPTXA1Crdh_",
        "colab": {
          "base_uri": "https://localhost:8080/"
        },
        "outputId": "b280edd0-e25c-4b50-a993-8383a32aac8e"
      },
      "outputs": [
        {
          "output_type": "stream",
          "name": "stdout",
          "text": [
            "\r[*********************100%***********************]  1 of 1 completed\n"
          ]
        },
        {
          "output_type": "execute_result",
          "data": {
            "text/plain": [
              "-0.006177384093725023"
            ]
          },
          "metadata": {},
          "execution_count": 89
        }
      ],
      "source": [
        "p6 = yf.download('GOLDBEES.NS','2017-06-30','2018-03-31',interval = '5d')['Adj Close']\n",
        "r6 = 100*p6.pct_change()\n",
        "b6 = beta(r6,r0)\n",
        "#print(p6)\n",
        "b6"
      ]
    },
    {
      "cell_type": "markdown",
      "source": [
        "##we are dealing with percent changes and not fractional changes in the df"
      ],
      "metadata": {
        "id": "rwAZytu8BHst"
      }
    },
    {
      "cell_type": "code",
      "execution_count": 90,
      "metadata": {
        "id": "9AtHQel0rh6L",
        "colab": {
          "base_uri": "https://localhost:8080/",
          "height": 1000
        },
        "outputId": "435c51ef-1cd8-4215-a8bf-84e108ad8ef6"
      },
      "outputs": [
        {
          "output_type": "stream",
          "name": "stderr",
          "text": [
            "/usr/local/lib/python3.7/dist-packages/ipykernel_launcher.py:4: FutureWarning: Passing 'suffixes' which cause duplicate columns {'Adj Close_x'} in the result is deprecated and will raise a MergeError in a future version.\n",
            "  after removing the cwd from sys.path.\n",
            "/usr/local/lib/python3.7/dist-packages/ipykernel_launcher.py:6: FutureWarning: Passing 'suffixes' which cause duplicate columns {'Adj Close_x'} in the result is deprecated and will raise a MergeError in a future version.\n",
            "  \n"
          ]
        },
        {
          "output_type": "execute_result",
          "data": {
            "text/plain": [
              "                ZENTEC    TEJASNET     OLECTRA  HINDOILEXP         BLS  \\\n",
              "Date                                                                     \n",
              "2017-06-30   49.206520  298.126923   57.150002   71.349998   92.013618   \n",
              "2017-07-05   49.255730  297.141418   64.050003   71.599998  102.123711   \n",
              "2017-07-10   59.195450  361.990143   64.150002   72.599998   95.320221   \n",
              "2017-07-20   55.800198  345.679413   72.099998   75.000000   93.369568   \n",
              "2017-07-25   58.555763  330.847015   72.300003   76.849998   92.917603   \n",
              "2017-08-04   55.111305  344.595306   79.599998   75.349998   92.085007   \n",
              "2017-08-09   52.897011  320.350952   93.000000   73.750000   87.517609   \n",
              "2017-08-14   48.960491  320.893005  112.750000   71.699997   85.471809   \n",
              "2017-08-24   49.600178  324.983002  136.399994   73.949997  103.194183   \n",
              "2017-08-29   49.009689  326.313507  150.350006   80.349998  103.455872   \n",
              "2017-09-08   53.241459  332.620972  208.949997   89.949997  107.880508   \n",
              "2017-09-13   52.995422  335.429749  179.250000   92.650002  113.928932   \n",
              "2017-09-18   51.076370  331.093384  190.550003   93.550003  126.553284   \n",
              "2017-09-28   49.003704  296.155853  167.899994   89.949997  116.787285   \n",
              "2017-10-03   47.918022  287.483093  185.050003   89.750000  114.786423   \n",
              "2017-10-13   63.018864  290.981750  229.850006   95.449997  123.051804   \n",
              "2017-10-18   63.709763  298.767548  201.000000   91.400002  124.409523   \n",
              "2017-10-23   65.288933  300.048767  193.949997   89.550003  122.718353   \n",
              "2017-11-02   84.288353  377.857422  193.350006   97.449997  119.812370   \n",
              "2017-11-07   79.353432  361.793060  202.500000  115.699997  125.362312   \n",
              "2017-11-17  101.955345  406.241089  186.699997  123.800003  116.620537   \n",
              "2017-11-22   94.256882  392.147797  187.100006  121.550003  115.501022   \n",
              "2017-11-27  110.788841  396.385651  208.600006  133.000000  116.287064   \n",
              "2017-12-07  105.557831  393.971039  184.800003  126.800003  111.856628   \n",
              "2017-12-12  116.217247  391.655029  194.250000  137.149994  115.215187   \n",
              "2017-12-22  136.647781  384.115631  204.649994  133.449997  125.648155   \n",
              "2017-12-27  141.928162  380.518402  205.100006  135.300003  124.623924   \n",
              "2018-01-01  151.304504  417.673370  206.350006  129.949997  126.386559   \n",
              "2018-01-11  145.234543  432.358002  227.550003  151.800003  129.768936   \n",
              "2018-01-16  133.489456  423.044586  215.550003  138.949997  118.811935   \n",
              "2018-01-31  119.424942  373.176086  223.000000  126.849998   94.730377   \n",
              "2018-02-05  108.716179  377.611023  192.949997  118.300003   90.419029   \n",
              "2018-02-15  121.102806  346.664948  197.149994  120.750000   90.514313   \n",
              "2018-02-20  116.266609  349.572327  193.149994  121.050003   90.514313   \n",
              "2018-03-07  120.905411  305.075012  197.050003  103.699997   72.601997   \n",
              "2018-03-12  131.663528  347.847626  197.149994  103.699997   68.409760   \n",
              "2018-03-22  115.131569  359.526306  186.899994  114.949997   60.215836   \n",
              "2018-03-27  114.292633  362.827881  183.550003  113.449997   57.024014   \n",
              "\n",
              "             GOLDBEES  \n",
              "Date                   \n",
              "2017-06-30  25.768999  \n",
              "2017-07-05  25.414499  \n",
              "2017-07-10  25.099001  \n",
              "2017-07-20  25.472500  \n",
              "2017-07-25  25.676500  \n",
              "2017-08-04  25.809999  \n",
              "2017-08-09  25.771500  \n",
              "2017-08-14  26.033001  \n",
              "2017-08-24  26.007000  \n",
              "2017-08-29  26.827499  \n",
              "2017-09-08  27.316000  \n",
              "2017-09-13  27.070499  \n",
              "2017-09-18  26.759001  \n",
              "2017-09-28  26.719500  \n",
              "2017-10-03  26.583500  \n",
              "2017-10-13  26.965500  \n",
              "2017-10-18  26.603500  \n",
              "2017-10-23  26.554501  \n",
              "2017-11-02  26.279499  \n",
              "2017-11-07  26.390499  \n",
              "2017-11-17  26.464500  \n",
              "2017-11-22  26.459499  \n",
              "2017-11-27  26.493500  \n",
              "2017-12-07  25.889500  \n",
              "2017-12-12  25.638000  \n",
              "2017-12-22  25.794500  \n",
              "2017-12-27  26.165501  \n",
              "2018-01-01  26.436001  \n",
              "2018-01-11  26.618000  \n",
              "2018-01-16  27.051500  \n",
              "2018-01-31  27.089001  \n",
              "2018-02-05  27.184500  \n",
              "2018-02-15  27.472500  \n",
              "2018-02-20  27.503000  \n",
              "2018-03-07  27.440500  \n",
              "2018-03-12  27.202499  \n",
              "2018-03-22  27.351000  \n",
              "2018-03-27  27.590500  "
            ],
            "text/html": [
              "\n",
              "  <div id=\"df-436ba274-f0bc-4533-a447-367484f2d623\">\n",
              "    <div class=\"colab-df-container\">\n",
              "      <div>\n",
              "<style scoped>\n",
              "    .dataframe tbody tr th:only-of-type {\n",
              "        vertical-align: middle;\n",
              "    }\n",
              "\n",
              "    .dataframe tbody tr th {\n",
              "        vertical-align: top;\n",
              "    }\n",
              "\n",
              "    .dataframe thead th {\n",
              "        text-align: right;\n",
              "    }\n",
              "</style>\n",
              "<table border=\"1\" class=\"dataframe\">\n",
              "  <thead>\n",
              "    <tr style=\"text-align: right;\">\n",
              "      <th></th>\n",
              "      <th>ZENTEC</th>\n",
              "      <th>TEJASNET</th>\n",
              "      <th>OLECTRA</th>\n",
              "      <th>HINDOILEXP</th>\n",
              "      <th>BLS</th>\n",
              "      <th>GOLDBEES</th>\n",
              "    </tr>\n",
              "    <tr>\n",
              "      <th>Date</th>\n",
              "      <th></th>\n",
              "      <th></th>\n",
              "      <th></th>\n",
              "      <th></th>\n",
              "      <th></th>\n",
              "      <th></th>\n",
              "    </tr>\n",
              "  </thead>\n",
              "  <tbody>\n",
              "    <tr>\n",
              "      <th>2017-06-30</th>\n",
              "      <td>49.206520</td>\n",
              "      <td>298.126923</td>\n",
              "      <td>57.150002</td>\n",
              "      <td>71.349998</td>\n",
              "      <td>92.013618</td>\n",
              "      <td>25.768999</td>\n",
              "    </tr>\n",
              "    <tr>\n",
              "      <th>2017-07-05</th>\n",
              "      <td>49.255730</td>\n",
              "      <td>297.141418</td>\n",
              "      <td>64.050003</td>\n",
              "      <td>71.599998</td>\n",
              "      <td>102.123711</td>\n",
              "      <td>25.414499</td>\n",
              "    </tr>\n",
              "    <tr>\n",
              "      <th>2017-07-10</th>\n",
              "      <td>59.195450</td>\n",
              "      <td>361.990143</td>\n",
              "      <td>64.150002</td>\n",
              "      <td>72.599998</td>\n",
              "      <td>95.320221</td>\n",
              "      <td>25.099001</td>\n",
              "    </tr>\n",
              "    <tr>\n",
              "      <th>2017-07-20</th>\n",
              "      <td>55.800198</td>\n",
              "      <td>345.679413</td>\n",
              "      <td>72.099998</td>\n",
              "      <td>75.000000</td>\n",
              "      <td>93.369568</td>\n",
              "      <td>25.472500</td>\n",
              "    </tr>\n",
              "    <tr>\n",
              "      <th>2017-07-25</th>\n",
              "      <td>58.555763</td>\n",
              "      <td>330.847015</td>\n",
              "      <td>72.300003</td>\n",
              "      <td>76.849998</td>\n",
              "      <td>92.917603</td>\n",
              "      <td>25.676500</td>\n",
              "    </tr>\n",
              "    <tr>\n",
              "      <th>2017-08-04</th>\n",
              "      <td>55.111305</td>\n",
              "      <td>344.595306</td>\n",
              "      <td>79.599998</td>\n",
              "      <td>75.349998</td>\n",
              "      <td>92.085007</td>\n",
              "      <td>25.809999</td>\n",
              "    </tr>\n",
              "    <tr>\n",
              "      <th>2017-08-09</th>\n",
              "      <td>52.897011</td>\n",
              "      <td>320.350952</td>\n",
              "      <td>93.000000</td>\n",
              "      <td>73.750000</td>\n",
              "      <td>87.517609</td>\n",
              "      <td>25.771500</td>\n",
              "    </tr>\n",
              "    <tr>\n",
              "      <th>2017-08-14</th>\n",
              "      <td>48.960491</td>\n",
              "      <td>320.893005</td>\n",
              "      <td>112.750000</td>\n",
              "      <td>71.699997</td>\n",
              "      <td>85.471809</td>\n",
              "      <td>26.033001</td>\n",
              "    </tr>\n",
              "    <tr>\n",
              "      <th>2017-08-24</th>\n",
              "      <td>49.600178</td>\n",
              "      <td>324.983002</td>\n",
              "      <td>136.399994</td>\n",
              "      <td>73.949997</td>\n",
              "      <td>103.194183</td>\n",
              "      <td>26.007000</td>\n",
              "    </tr>\n",
              "    <tr>\n",
              "      <th>2017-08-29</th>\n",
              "      <td>49.009689</td>\n",
              "      <td>326.313507</td>\n",
              "      <td>150.350006</td>\n",
              "      <td>80.349998</td>\n",
              "      <td>103.455872</td>\n",
              "      <td>26.827499</td>\n",
              "    </tr>\n",
              "    <tr>\n",
              "      <th>2017-09-08</th>\n",
              "      <td>53.241459</td>\n",
              "      <td>332.620972</td>\n",
              "      <td>208.949997</td>\n",
              "      <td>89.949997</td>\n",
              "      <td>107.880508</td>\n",
              "      <td>27.316000</td>\n",
              "    </tr>\n",
              "    <tr>\n",
              "      <th>2017-09-13</th>\n",
              "      <td>52.995422</td>\n",
              "      <td>335.429749</td>\n",
              "      <td>179.250000</td>\n",
              "      <td>92.650002</td>\n",
              "      <td>113.928932</td>\n",
              "      <td>27.070499</td>\n",
              "    </tr>\n",
              "    <tr>\n",
              "      <th>2017-09-18</th>\n",
              "      <td>51.076370</td>\n",
              "      <td>331.093384</td>\n",
              "      <td>190.550003</td>\n",
              "      <td>93.550003</td>\n",
              "      <td>126.553284</td>\n",
              "      <td>26.759001</td>\n",
              "    </tr>\n",
              "    <tr>\n",
              "      <th>2017-09-28</th>\n",
              "      <td>49.003704</td>\n",
              "      <td>296.155853</td>\n",
              "      <td>167.899994</td>\n",
              "      <td>89.949997</td>\n",
              "      <td>116.787285</td>\n",
              "      <td>26.719500</td>\n",
              "    </tr>\n",
              "    <tr>\n",
              "      <th>2017-10-03</th>\n",
              "      <td>47.918022</td>\n",
              "      <td>287.483093</td>\n",
              "      <td>185.050003</td>\n",
              "      <td>89.750000</td>\n",
              "      <td>114.786423</td>\n",
              "      <td>26.583500</td>\n",
              "    </tr>\n",
              "    <tr>\n",
              "      <th>2017-10-13</th>\n",
              "      <td>63.018864</td>\n",
              "      <td>290.981750</td>\n",
              "      <td>229.850006</td>\n",
              "      <td>95.449997</td>\n",
              "      <td>123.051804</td>\n",
              "      <td>26.965500</td>\n",
              "    </tr>\n",
              "    <tr>\n",
              "      <th>2017-10-18</th>\n",
              "      <td>63.709763</td>\n",
              "      <td>298.767548</td>\n",
              "      <td>201.000000</td>\n",
              "      <td>91.400002</td>\n",
              "      <td>124.409523</td>\n",
              "      <td>26.603500</td>\n",
              "    </tr>\n",
              "    <tr>\n",
              "      <th>2017-10-23</th>\n",
              "      <td>65.288933</td>\n",
              "      <td>300.048767</td>\n",
              "      <td>193.949997</td>\n",
              "      <td>89.550003</td>\n",
              "      <td>122.718353</td>\n",
              "      <td>26.554501</td>\n",
              "    </tr>\n",
              "    <tr>\n",
              "      <th>2017-11-02</th>\n",
              "      <td>84.288353</td>\n",
              "      <td>377.857422</td>\n",
              "      <td>193.350006</td>\n",
              "      <td>97.449997</td>\n",
              "      <td>119.812370</td>\n",
              "      <td>26.279499</td>\n",
              "    </tr>\n",
              "    <tr>\n",
              "      <th>2017-11-07</th>\n",
              "      <td>79.353432</td>\n",
              "      <td>361.793060</td>\n",
              "      <td>202.500000</td>\n",
              "      <td>115.699997</td>\n",
              "      <td>125.362312</td>\n",
              "      <td>26.390499</td>\n",
              "    </tr>\n",
              "    <tr>\n",
              "      <th>2017-11-17</th>\n",
              "      <td>101.955345</td>\n",
              "      <td>406.241089</td>\n",
              "      <td>186.699997</td>\n",
              "      <td>123.800003</td>\n",
              "      <td>116.620537</td>\n",
              "      <td>26.464500</td>\n",
              "    </tr>\n",
              "    <tr>\n",
              "      <th>2017-11-22</th>\n",
              "      <td>94.256882</td>\n",
              "      <td>392.147797</td>\n",
              "      <td>187.100006</td>\n",
              "      <td>121.550003</td>\n",
              "      <td>115.501022</td>\n",
              "      <td>26.459499</td>\n",
              "    </tr>\n",
              "    <tr>\n",
              "      <th>2017-11-27</th>\n",
              "      <td>110.788841</td>\n",
              "      <td>396.385651</td>\n",
              "      <td>208.600006</td>\n",
              "      <td>133.000000</td>\n",
              "      <td>116.287064</td>\n",
              "      <td>26.493500</td>\n",
              "    </tr>\n",
              "    <tr>\n",
              "      <th>2017-12-07</th>\n",
              "      <td>105.557831</td>\n",
              "      <td>393.971039</td>\n",
              "      <td>184.800003</td>\n",
              "      <td>126.800003</td>\n",
              "      <td>111.856628</td>\n",
              "      <td>25.889500</td>\n",
              "    </tr>\n",
              "    <tr>\n",
              "      <th>2017-12-12</th>\n",
              "      <td>116.217247</td>\n",
              "      <td>391.655029</td>\n",
              "      <td>194.250000</td>\n",
              "      <td>137.149994</td>\n",
              "      <td>115.215187</td>\n",
              "      <td>25.638000</td>\n",
              "    </tr>\n",
              "    <tr>\n",
              "      <th>2017-12-22</th>\n",
              "      <td>136.647781</td>\n",
              "      <td>384.115631</td>\n",
              "      <td>204.649994</td>\n",
              "      <td>133.449997</td>\n",
              "      <td>125.648155</td>\n",
              "      <td>25.794500</td>\n",
              "    </tr>\n",
              "    <tr>\n",
              "      <th>2017-12-27</th>\n",
              "      <td>141.928162</td>\n",
              "      <td>380.518402</td>\n",
              "      <td>205.100006</td>\n",
              "      <td>135.300003</td>\n",
              "      <td>124.623924</td>\n",
              "      <td>26.165501</td>\n",
              "    </tr>\n",
              "    <tr>\n",
              "      <th>2018-01-01</th>\n",
              "      <td>151.304504</td>\n",
              "      <td>417.673370</td>\n",
              "      <td>206.350006</td>\n",
              "      <td>129.949997</td>\n",
              "      <td>126.386559</td>\n",
              "      <td>26.436001</td>\n",
              "    </tr>\n",
              "    <tr>\n",
              "      <th>2018-01-11</th>\n",
              "      <td>145.234543</td>\n",
              "      <td>432.358002</td>\n",
              "      <td>227.550003</td>\n",
              "      <td>151.800003</td>\n",
              "      <td>129.768936</td>\n",
              "      <td>26.618000</td>\n",
              "    </tr>\n",
              "    <tr>\n",
              "      <th>2018-01-16</th>\n",
              "      <td>133.489456</td>\n",
              "      <td>423.044586</td>\n",
              "      <td>215.550003</td>\n",
              "      <td>138.949997</td>\n",
              "      <td>118.811935</td>\n",
              "      <td>27.051500</td>\n",
              "    </tr>\n",
              "    <tr>\n",
              "      <th>2018-01-31</th>\n",
              "      <td>119.424942</td>\n",
              "      <td>373.176086</td>\n",
              "      <td>223.000000</td>\n",
              "      <td>126.849998</td>\n",
              "      <td>94.730377</td>\n",
              "      <td>27.089001</td>\n",
              "    </tr>\n",
              "    <tr>\n",
              "      <th>2018-02-05</th>\n",
              "      <td>108.716179</td>\n",
              "      <td>377.611023</td>\n",
              "      <td>192.949997</td>\n",
              "      <td>118.300003</td>\n",
              "      <td>90.419029</td>\n",
              "      <td>27.184500</td>\n",
              "    </tr>\n",
              "    <tr>\n",
              "      <th>2018-02-15</th>\n",
              "      <td>121.102806</td>\n",
              "      <td>346.664948</td>\n",
              "      <td>197.149994</td>\n",
              "      <td>120.750000</td>\n",
              "      <td>90.514313</td>\n",
              "      <td>27.472500</td>\n",
              "    </tr>\n",
              "    <tr>\n",
              "      <th>2018-02-20</th>\n",
              "      <td>116.266609</td>\n",
              "      <td>349.572327</td>\n",
              "      <td>193.149994</td>\n",
              "      <td>121.050003</td>\n",
              "      <td>90.514313</td>\n",
              "      <td>27.503000</td>\n",
              "    </tr>\n",
              "    <tr>\n",
              "      <th>2018-03-07</th>\n",
              "      <td>120.905411</td>\n",
              "      <td>305.075012</td>\n",
              "      <td>197.050003</td>\n",
              "      <td>103.699997</td>\n",
              "      <td>72.601997</td>\n",
              "      <td>27.440500</td>\n",
              "    </tr>\n",
              "    <tr>\n",
              "      <th>2018-03-12</th>\n",
              "      <td>131.663528</td>\n",
              "      <td>347.847626</td>\n",
              "      <td>197.149994</td>\n",
              "      <td>103.699997</td>\n",
              "      <td>68.409760</td>\n",
              "      <td>27.202499</td>\n",
              "    </tr>\n",
              "    <tr>\n",
              "      <th>2018-03-22</th>\n",
              "      <td>115.131569</td>\n",
              "      <td>359.526306</td>\n",
              "      <td>186.899994</td>\n",
              "      <td>114.949997</td>\n",
              "      <td>60.215836</td>\n",
              "      <td>27.351000</td>\n",
              "    </tr>\n",
              "    <tr>\n",
              "      <th>2018-03-27</th>\n",
              "      <td>114.292633</td>\n",
              "      <td>362.827881</td>\n",
              "      <td>183.550003</td>\n",
              "      <td>113.449997</td>\n",
              "      <td>57.024014</td>\n",
              "      <td>27.590500</td>\n",
              "    </tr>\n",
              "  </tbody>\n",
              "</table>\n",
              "</div>\n",
              "      <button class=\"colab-df-convert\" onclick=\"convertToInteractive('df-436ba274-f0bc-4533-a447-367484f2d623')\"\n",
              "              title=\"Convert this dataframe to an interactive table.\"\n",
              "              style=\"display:none;\">\n",
              "        \n",
              "  <svg xmlns=\"http://www.w3.org/2000/svg\" height=\"24px\"viewBox=\"0 0 24 24\"\n",
              "       width=\"24px\">\n",
              "    <path d=\"M0 0h24v24H0V0z\" fill=\"none\"/>\n",
              "    <path d=\"M18.56 5.44l.94 2.06.94-2.06 2.06-.94-2.06-.94-.94-2.06-.94 2.06-2.06.94zm-11 1L8.5 8.5l.94-2.06 2.06-.94-2.06-.94L8.5 2.5l-.94 2.06-2.06.94zm10 10l.94 2.06.94-2.06 2.06-.94-2.06-.94-.94-2.06-.94 2.06-2.06.94z\"/><path d=\"M17.41 7.96l-1.37-1.37c-.4-.4-.92-.59-1.43-.59-.52 0-1.04.2-1.43.59L10.3 9.45l-7.72 7.72c-.78.78-.78 2.05 0 2.83L4 21.41c.39.39.9.59 1.41.59.51 0 1.02-.2 1.41-.59l7.78-7.78 2.81-2.81c.8-.78.8-2.07 0-2.86zM5.41 20L4 18.59l7.72-7.72 1.47 1.35L5.41 20z\"/>\n",
              "  </svg>\n",
              "      </button>\n",
              "      \n",
              "  <style>\n",
              "    .colab-df-container {\n",
              "      display:flex;\n",
              "      flex-wrap:wrap;\n",
              "      gap: 12px;\n",
              "    }\n",
              "\n",
              "    .colab-df-convert {\n",
              "      background-color: #E8F0FE;\n",
              "      border: none;\n",
              "      border-radius: 50%;\n",
              "      cursor: pointer;\n",
              "      display: none;\n",
              "      fill: #1967D2;\n",
              "      height: 32px;\n",
              "      padding: 0 0 0 0;\n",
              "      width: 32px;\n",
              "    }\n",
              "\n",
              "    .colab-df-convert:hover {\n",
              "      background-color: #E2EBFA;\n",
              "      box-shadow: 0px 1px 2px rgba(60, 64, 67, 0.3), 0px 1px 3px 1px rgba(60, 64, 67, 0.15);\n",
              "      fill: #174EA6;\n",
              "    }\n",
              "\n",
              "    [theme=dark] .colab-df-convert {\n",
              "      background-color: #3B4455;\n",
              "      fill: #D2E3FC;\n",
              "    }\n",
              "\n",
              "    [theme=dark] .colab-df-convert:hover {\n",
              "      background-color: #434B5C;\n",
              "      box-shadow: 0px 1px 3px 1px rgba(0, 0, 0, 0.15);\n",
              "      filter: drop-shadow(0px 1px 2px rgba(0, 0, 0, 0.3));\n",
              "      fill: #FFFFFF;\n",
              "    }\n",
              "  </style>\n",
              "\n",
              "      <script>\n",
              "        const buttonEl =\n",
              "          document.querySelector('#df-436ba274-f0bc-4533-a447-367484f2d623 button.colab-df-convert');\n",
              "        buttonEl.style.display =\n",
              "          google.colab.kernel.accessAllowed ? 'block' : 'none';\n",
              "\n",
              "        async function convertToInteractive(key) {\n",
              "          const element = document.querySelector('#df-436ba274-f0bc-4533-a447-367484f2d623');\n",
              "          const dataTable =\n",
              "            await google.colab.kernel.invokeFunction('convertToInteractive',\n",
              "                                                     [key], {});\n",
              "          if (!dataTable) return;\n",
              "\n",
              "          const docLinkHtml = 'Like what you see? Visit the ' +\n",
              "            '<a target=\"_blank\" href=https://colab.research.google.com/notebooks/data_table.ipynb>data table notebook</a>'\n",
              "            + ' to learn more about interactive tables.';\n",
              "          element.innerHTML = '';\n",
              "          dataTable['output_type'] = 'display_data';\n",
              "          await google.colab.output.renderOutput(dataTable, element);\n",
              "          const docLink = document.createElement('div');\n",
              "          docLink.innerHTML = docLinkHtml;\n",
              "          element.appendChild(docLink);\n",
              "        }\n",
              "      </script>\n",
              "    </div>\n",
              "  </div>\n",
              "  "
            ]
          },
          "metadata": {},
          "execution_count": 90
        }
      ],
      "source": [
        "stx = ['ZENTEC', 'TEJASNET', 'OLECTRA', 'HINDOILEXP', 'BLS','GOLDBEES']\n",
        "df = pd.merge(p1,p2,right_index = True, left_index = True)\n",
        "df = pd.merge(df,p3,right_index = True, left_index = True)\n",
        "df = pd.merge(df,p4,right_index = True, left_index = True)\n",
        "df = pd.merge(df,p5,right_index = True, left_index = True)\n",
        "df = pd.merge(df,p6,right_index = True, left_index = True)\n",
        "#df\n",
        "df.set_axis(stx,axis = 1, inplace = True)\n",
        "#df.iloc[[1]]\n",
        "df"
      ]
    },
    {
      "cell_type": "code",
      "execution_count": 91,
      "metadata": {
        "id": "J-g7mafDrlzn",
        "colab": {
          "base_uri": "https://localhost:8080/",
          "height": 55
        },
        "outputId": "8f7459a5-0d57-478b-dc1e-95b7ff05f167"
      },
      "outputs": [
        {
          "output_type": "execute_result",
          "data": {
            "text/plain": [
              "\"\\ndf1.rename(columns = {\\n  'Adj Close_x' : 'ZENTEC'\\n  'Adj Close\\n})\\ndf1 = pd.merge(df1,r3,right_index = True, left_index = True)\\ndf1 = pd.merge(df1,r4,right_index = True, left_index = True)\\ndf1 = pd.merge(df1,r5,right_index = True, left_index = True)\\ndf1 = pd.merge(df1,r6,right_index = True, left_index = True)\\ndf1\\n#print(df1)\\ndf1 = df1[1:]\\n\""
            ],
            "application/vnd.google.colaboratory.intrinsic+json": {
              "type": "string"
            }
          },
          "metadata": {},
          "execution_count": 91
        }
      ],
      "source": [
        "#df1 = pd.merge(r1,r2,right_index = True, left_index = True)\n",
        "\"\"\"\n",
        "df1.rename(columns = {\n",
        "  'Adj Close_x' : 'ZENTEC'\n",
        "  'Adj Close\n",
        "})\n",
        "df1 = pd.merge(df1,r3,right_index = True, left_index = True)\n",
        "df1 = pd.merge(df1,r4,right_index = True, left_index = True)\n",
        "df1 = pd.merge(df1,r5,right_index = True, left_index = True)\n",
        "df1 = pd.merge(df1,r6,right_index = True, left_index = True)\n",
        "df1\n",
        "#print(df1)\n",
        "df1 = df1[1:]\n",
        "\"\"\"\n",
        "#df1"
      ]
    },
    {
      "cell_type": "code",
      "source": [
        "df1 = 100*df.pct_change()\n",
        "df1.dropna(inplace = True)\n",
        "df1"
      ],
      "metadata": {
        "colab": {
          "base_uri": "https://localhost:8080/",
          "height": 1000
        },
        "id": "ZYWV20JmCUKD",
        "outputId": "4362ef77-67e6-40a4-e25c-29de32dc7a45"
      },
      "execution_count": 92,
      "outputs": [
        {
          "output_type": "execute_result",
          "data": {
            "text/plain": [
              "               ZENTEC   TEJASNET    OLECTRA  HINDOILEXP        BLS  GOLDBEES\n",
              "Date                                                                        \n",
              "2017-07-05   0.100006  -0.330565  12.073493    0.350385  10.987604 -1.375683\n",
              "2017-07-10  20.179825  21.824196   0.156126    1.396648  -6.662008 -1.241411\n",
              "2017-07-20  -5.735664  -4.505849  12.392824    3.305787  -2.046421  1.488103\n",
              "2017-07-25   4.938272  -4.290796   0.277399    2.466665  -0.484061  0.800866\n",
              "2017-08-04  -5.882355   4.155483  10.096812   -1.951854  -0.896058  0.519927\n",
              "2017-08-09  -4.017859  -7.035602  16.834173   -2.123422  -4.959980 -0.149166\n",
              "2017-08-14  -7.441856   0.169206  21.236559   -2.779665  -2.337586  1.014692\n",
              "2017-08-24   1.306536   1.274567  20.975604    3.138075  20.734759 -0.099877\n",
              "2017-08-29  -1.190497   0.409408  10.227282    8.654499   0.253588  3.154918\n",
              "2017-09-08   8.634557   1.932946  38.975716   11.947727   4.276835  1.820895\n",
              "2017-09-13  -0.462115   0.844438 -14.213926    3.001673   5.606596 -0.898743\n",
              "2017-09-18  -3.621166  -1.292779   6.304046    0.971399  11.080900 -1.150694\n",
              "2017-09-28  -4.057975 -10.552168 -11.886649   -3.848216  -7.716907 -0.147618\n",
              "2017-10-03  -2.215510  -2.928445  10.214419   -0.222342  -1.713253 -0.508990\n",
              "2017-10-13  31.513908   1.216996  24.209674    6.350972   7.200661  1.436981\n",
              "2017-10-18   1.096337   2.675699 -12.551666   -4.243055   1.103372 -1.342454\n",
              "2017-10-23   2.478694   0.428835  -3.507464   -2.024068  -1.359357 -0.184185\n",
              "2017-11-02  29.100522  25.932003  -0.309353    8.821880  -2.368010 -1.035612\n",
              "2017-11-07  -5.854808  -4.251435   4.732347   18.727553   4.632194  0.422383\n",
              "2017-11-17  28.482591  12.285484  -7.802471    7.000870  -6.973209  0.280409\n",
              "2017-11-22  -7.550819  -3.469194   0.214252   -1.817447  -0.959963 -0.018897\n",
              "2017-11-27  17.539260   1.080678  11.491181    9.419989   0.680549  0.128500\n",
              "2017-12-07  -4.721604  -0.609157 -11.409397   -4.661652  -3.809912 -2.279805\n",
              "2017-12-12  10.098177  -0.587863   5.113635    8.162453   3.002557 -0.971433\n",
              "2017-12-22  17.579606  -1.925010   5.353922   -2.697774   9.055202  0.610421\n",
              "2017-12-27   3.864227  -0.936496   0.219894    1.386292  -0.815158  1.438292\n",
              "2018-01-01   6.606400   9.764303   0.609459   -3.954180   1.414363  1.033805\n",
              "2018-01-11  -4.011752   3.515817  10.273805   16.814164   2.676216  0.688452\n",
              "2018-01-16  -8.086979  -2.154098  -5.273566   -8.465089  -8.443470  1.628598\n",
              "2018-01-31 -10.536049 -11.788001   3.456273   -8.708167 -20.268636  0.138626\n",
              "2018-02-05  -8.966940   1.188430 -13.475338   -6.740241  -4.551178  0.352538\n",
              "2018-02-15  11.393545  -8.195226   2.176728    2.071003   0.105380  1.059428\n",
              "2018-02-20  -3.993464   0.838671  -2.028912    0.248450   0.000000  0.111022\n",
              "2018-03-07   3.989797 -12.729072   2.019161  -14.332925 -19.789484 -0.227248\n",
              "2018-03-12   8.897962  14.020360   0.050744    0.000000  -5.774273 -0.867334\n",
              "2018-03-22 -12.556218   3.357413  -5.199087   10.848602 -11.977712  0.545907\n",
              "2018-03-27  -0.728676   0.918312  -1.792398   -1.304915  -5.300636  0.875654"
            ],
            "text/html": [
              "\n",
              "  <div id=\"df-8a684aaf-325a-4dc4-9b9c-4ac4ba6b82d1\">\n",
              "    <div class=\"colab-df-container\">\n",
              "      <div>\n",
              "<style scoped>\n",
              "    .dataframe tbody tr th:only-of-type {\n",
              "        vertical-align: middle;\n",
              "    }\n",
              "\n",
              "    .dataframe tbody tr th {\n",
              "        vertical-align: top;\n",
              "    }\n",
              "\n",
              "    .dataframe thead th {\n",
              "        text-align: right;\n",
              "    }\n",
              "</style>\n",
              "<table border=\"1\" class=\"dataframe\">\n",
              "  <thead>\n",
              "    <tr style=\"text-align: right;\">\n",
              "      <th></th>\n",
              "      <th>ZENTEC</th>\n",
              "      <th>TEJASNET</th>\n",
              "      <th>OLECTRA</th>\n",
              "      <th>HINDOILEXP</th>\n",
              "      <th>BLS</th>\n",
              "      <th>GOLDBEES</th>\n",
              "    </tr>\n",
              "    <tr>\n",
              "      <th>Date</th>\n",
              "      <th></th>\n",
              "      <th></th>\n",
              "      <th></th>\n",
              "      <th></th>\n",
              "      <th></th>\n",
              "      <th></th>\n",
              "    </tr>\n",
              "  </thead>\n",
              "  <tbody>\n",
              "    <tr>\n",
              "      <th>2017-07-05</th>\n",
              "      <td>0.100006</td>\n",
              "      <td>-0.330565</td>\n",
              "      <td>12.073493</td>\n",
              "      <td>0.350385</td>\n",
              "      <td>10.987604</td>\n",
              "      <td>-1.375683</td>\n",
              "    </tr>\n",
              "    <tr>\n",
              "      <th>2017-07-10</th>\n",
              "      <td>20.179825</td>\n",
              "      <td>21.824196</td>\n",
              "      <td>0.156126</td>\n",
              "      <td>1.396648</td>\n",
              "      <td>-6.662008</td>\n",
              "      <td>-1.241411</td>\n",
              "    </tr>\n",
              "    <tr>\n",
              "      <th>2017-07-20</th>\n",
              "      <td>-5.735664</td>\n",
              "      <td>-4.505849</td>\n",
              "      <td>12.392824</td>\n",
              "      <td>3.305787</td>\n",
              "      <td>-2.046421</td>\n",
              "      <td>1.488103</td>\n",
              "    </tr>\n",
              "    <tr>\n",
              "      <th>2017-07-25</th>\n",
              "      <td>4.938272</td>\n",
              "      <td>-4.290796</td>\n",
              "      <td>0.277399</td>\n",
              "      <td>2.466665</td>\n",
              "      <td>-0.484061</td>\n",
              "      <td>0.800866</td>\n",
              "    </tr>\n",
              "    <tr>\n",
              "      <th>2017-08-04</th>\n",
              "      <td>-5.882355</td>\n",
              "      <td>4.155483</td>\n",
              "      <td>10.096812</td>\n",
              "      <td>-1.951854</td>\n",
              "      <td>-0.896058</td>\n",
              "      <td>0.519927</td>\n",
              "    </tr>\n",
              "    <tr>\n",
              "      <th>2017-08-09</th>\n",
              "      <td>-4.017859</td>\n",
              "      <td>-7.035602</td>\n",
              "      <td>16.834173</td>\n",
              "      <td>-2.123422</td>\n",
              "      <td>-4.959980</td>\n",
              "      <td>-0.149166</td>\n",
              "    </tr>\n",
              "    <tr>\n",
              "      <th>2017-08-14</th>\n",
              "      <td>-7.441856</td>\n",
              "      <td>0.169206</td>\n",
              "      <td>21.236559</td>\n",
              "      <td>-2.779665</td>\n",
              "      <td>-2.337586</td>\n",
              "      <td>1.014692</td>\n",
              "    </tr>\n",
              "    <tr>\n",
              "      <th>2017-08-24</th>\n",
              "      <td>1.306536</td>\n",
              "      <td>1.274567</td>\n",
              "      <td>20.975604</td>\n",
              "      <td>3.138075</td>\n",
              "      <td>20.734759</td>\n",
              "      <td>-0.099877</td>\n",
              "    </tr>\n",
              "    <tr>\n",
              "      <th>2017-08-29</th>\n",
              "      <td>-1.190497</td>\n",
              "      <td>0.409408</td>\n",
              "      <td>10.227282</td>\n",
              "      <td>8.654499</td>\n",
              "      <td>0.253588</td>\n",
              "      <td>3.154918</td>\n",
              "    </tr>\n",
              "    <tr>\n",
              "      <th>2017-09-08</th>\n",
              "      <td>8.634557</td>\n",
              "      <td>1.932946</td>\n",
              "      <td>38.975716</td>\n",
              "      <td>11.947727</td>\n",
              "      <td>4.276835</td>\n",
              "      <td>1.820895</td>\n",
              "    </tr>\n",
              "    <tr>\n",
              "      <th>2017-09-13</th>\n",
              "      <td>-0.462115</td>\n",
              "      <td>0.844438</td>\n",
              "      <td>-14.213926</td>\n",
              "      <td>3.001673</td>\n",
              "      <td>5.606596</td>\n",
              "      <td>-0.898743</td>\n",
              "    </tr>\n",
              "    <tr>\n",
              "      <th>2017-09-18</th>\n",
              "      <td>-3.621166</td>\n",
              "      <td>-1.292779</td>\n",
              "      <td>6.304046</td>\n",
              "      <td>0.971399</td>\n",
              "      <td>11.080900</td>\n",
              "      <td>-1.150694</td>\n",
              "    </tr>\n",
              "    <tr>\n",
              "      <th>2017-09-28</th>\n",
              "      <td>-4.057975</td>\n",
              "      <td>-10.552168</td>\n",
              "      <td>-11.886649</td>\n",
              "      <td>-3.848216</td>\n",
              "      <td>-7.716907</td>\n",
              "      <td>-0.147618</td>\n",
              "    </tr>\n",
              "    <tr>\n",
              "      <th>2017-10-03</th>\n",
              "      <td>-2.215510</td>\n",
              "      <td>-2.928445</td>\n",
              "      <td>10.214419</td>\n",
              "      <td>-0.222342</td>\n",
              "      <td>-1.713253</td>\n",
              "      <td>-0.508990</td>\n",
              "    </tr>\n",
              "    <tr>\n",
              "      <th>2017-10-13</th>\n",
              "      <td>31.513908</td>\n",
              "      <td>1.216996</td>\n",
              "      <td>24.209674</td>\n",
              "      <td>6.350972</td>\n",
              "      <td>7.200661</td>\n",
              "      <td>1.436981</td>\n",
              "    </tr>\n",
              "    <tr>\n",
              "      <th>2017-10-18</th>\n",
              "      <td>1.096337</td>\n",
              "      <td>2.675699</td>\n",
              "      <td>-12.551666</td>\n",
              "      <td>-4.243055</td>\n",
              "      <td>1.103372</td>\n",
              "      <td>-1.342454</td>\n",
              "    </tr>\n",
              "    <tr>\n",
              "      <th>2017-10-23</th>\n",
              "      <td>2.478694</td>\n",
              "      <td>0.428835</td>\n",
              "      <td>-3.507464</td>\n",
              "      <td>-2.024068</td>\n",
              "      <td>-1.359357</td>\n",
              "      <td>-0.184185</td>\n",
              "    </tr>\n",
              "    <tr>\n",
              "      <th>2017-11-02</th>\n",
              "      <td>29.100522</td>\n",
              "      <td>25.932003</td>\n",
              "      <td>-0.309353</td>\n",
              "      <td>8.821880</td>\n",
              "      <td>-2.368010</td>\n",
              "      <td>-1.035612</td>\n",
              "    </tr>\n",
              "    <tr>\n",
              "      <th>2017-11-07</th>\n",
              "      <td>-5.854808</td>\n",
              "      <td>-4.251435</td>\n",
              "      <td>4.732347</td>\n",
              "      <td>18.727553</td>\n",
              "      <td>4.632194</td>\n",
              "      <td>0.422383</td>\n",
              "    </tr>\n",
              "    <tr>\n",
              "      <th>2017-11-17</th>\n",
              "      <td>28.482591</td>\n",
              "      <td>12.285484</td>\n",
              "      <td>-7.802471</td>\n",
              "      <td>7.000870</td>\n",
              "      <td>-6.973209</td>\n",
              "      <td>0.280409</td>\n",
              "    </tr>\n",
              "    <tr>\n",
              "      <th>2017-11-22</th>\n",
              "      <td>-7.550819</td>\n",
              "      <td>-3.469194</td>\n",
              "      <td>0.214252</td>\n",
              "      <td>-1.817447</td>\n",
              "      <td>-0.959963</td>\n",
              "      <td>-0.018897</td>\n",
              "    </tr>\n",
              "    <tr>\n",
              "      <th>2017-11-27</th>\n",
              "      <td>17.539260</td>\n",
              "      <td>1.080678</td>\n",
              "      <td>11.491181</td>\n",
              "      <td>9.419989</td>\n",
              "      <td>0.680549</td>\n",
              "      <td>0.128500</td>\n",
              "    </tr>\n",
              "    <tr>\n",
              "      <th>2017-12-07</th>\n",
              "      <td>-4.721604</td>\n",
              "      <td>-0.609157</td>\n",
              "      <td>-11.409397</td>\n",
              "      <td>-4.661652</td>\n",
              "      <td>-3.809912</td>\n",
              "      <td>-2.279805</td>\n",
              "    </tr>\n",
              "    <tr>\n",
              "      <th>2017-12-12</th>\n",
              "      <td>10.098177</td>\n",
              "      <td>-0.587863</td>\n",
              "      <td>5.113635</td>\n",
              "      <td>8.162453</td>\n",
              "      <td>3.002557</td>\n",
              "      <td>-0.971433</td>\n",
              "    </tr>\n",
              "    <tr>\n",
              "      <th>2017-12-22</th>\n",
              "      <td>17.579606</td>\n",
              "      <td>-1.925010</td>\n",
              "      <td>5.353922</td>\n",
              "      <td>-2.697774</td>\n",
              "      <td>9.055202</td>\n",
              "      <td>0.610421</td>\n",
              "    </tr>\n",
              "    <tr>\n",
              "      <th>2017-12-27</th>\n",
              "      <td>3.864227</td>\n",
              "      <td>-0.936496</td>\n",
              "      <td>0.219894</td>\n",
              "      <td>1.386292</td>\n",
              "      <td>-0.815158</td>\n",
              "      <td>1.438292</td>\n",
              "    </tr>\n",
              "    <tr>\n",
              "      <th>2018-01-01</th>\n",
              "      <td>6.606400</td>\n",
              "      <td>9.764303</td>\n",
              "      <td>0.609459</td>\n",
              "      <td>-3.954180</td>\n",
              "      <td>1.414363</td>\n",
              "      <td>1.033805</td>\n",
              "    </tr>\n",
              "    <tr>\n",
              "      <th>2018-01-11</th>\n",
              "      <td>-4.011752</td>\n",
              "      <td>3.515817</td>\n",
              "      <td>10.273805</td>\n",
              "      <td>16.814164</td>\n",
              "      <td>2.676216</td>\n",
              "      <td>0.688452</td>\n",
              "    </tr>\n",
              "    <tr>\n",
              "      <th>2018-01-16</th>\n",
              "      <td>-8.086979</td>\n",
              "      <td>-2.154098</td>\n",
              "      <td>-5.273566</td>\n",
              "      <td>-8.465089</td>\n",
              "      <td>-8.443470</td>\n",
              "      <td>1.628598</td>\n",
              "    </tr>\n",
              "    <tr>\n",
              "      <th>2018-01-31</th>\n",
              "      <td>-10.536049</td>\n",
              "      <td>-11.788001</td>\n",
              "      <td>3.456273</td>\n",
              "      <td>-8.708167</td>\n",
              "      <td>-20.268636</td>\n",
              "      <td>0.138626</td>\n",
              "    </tr>\n",
              "    <tr>\n",
              "      <th>2018-02-05</th>\n",
              "      <td>-8.966940</td>\n",
              "      <td>1.188430</td>\n",
              "      <td>-13.475338</td>\n",
              "      <td>-6.740241</td>\n",
              "      <td>-4.551178</td>\n",
              "      <td>0.352538</td>\n",
              "    </tr>\n",
              "    <tr>\n",
              "      <th>2018-02-15</th>\n",
              "      <td>11.393545</td>\n",
              "      <td>-8.195226</td>\n",
              "      <td>2.176728</td>\n",
              "      <td>2.071003</td>\n",
              "      <td>0.105380</td>\n",
              "      <td>1.059428</td>\n",
              "    </tr>\n",
              "    <tr>\n",
              "      <th>2018-02-20</th>\n",
              "      <td>-3.993464</td>\n",
              "      <td>0.838671</td>\n",
              "      <td>-2.028912</td>\n",
              "      <td>0.248450</td>\n",
              "      <td>0.000000</td>\n",
              "      <td>0.111022</td>\n",
              "    </tr>\n",
              "    <tr>\n",
              "      <th>2018-03-07</th>\n",
              "      <td>3.989797</td>\n",
              "      <td>-12.729072</td>\n",
              "      <td>2.019161</td>\n",
              "      <td>-14.332925</td>\n",
              "      <td>-19.789484</td>\n",
              "      <td>-0.227248</td>\n",
              "    </tr>\n",
              "    <tr>\n",
              "      <th>2018-03-12</th>\n",
              "      <td>8.897962</td>\n",
              "      <td>14.020360</td>\n",
              "      <td>0.050744</td>\n",
              "      <td>0.000000</td>\n",
              "      <td>-5.774273</td>\n",
              "      <td>-0.867334</td>\n",
              "    </tr>\n",
              "    <tr>\n",
              "      <th>2018-03-22</th>\n",
              "      <td>-12.556218</td>\n",
              "      <td>3.357413</td>\n",
              "      <td>-5.199087</td>\n",
              "      <td>10.848602</td>\n",
              "      <td>-11.977712</td>\n",
              "      <td>0.545907</td>\n",
              "    </tr>\n",
              "    <tr>\n",
              "      <th>2018-03-27</th>\n",
              "      <td>-0.728676</td>\n",
              "      <td>0.918312</td>\n",
              "      <td>-1.792398</td>\n",
              "      <td>-1.304915</td>\n",
              "      <td>-5.300636</td>\n",
              "      <td>0.875654</td>\n",
              "    </tr>\n",
              "  </tbody>\n",
              "</table>\n",
              "</div>\n",
              "      <button class=\"colab-df-convert\" onclick=\"convertToInteractive('df-8a684aaf-325a-4dc4-9b9c-4ac4ba6b82d1')\"\n",
              "              title=\"Convert this dataframe to an interactive table.\"\n",
              "              style=\"display:none;\">\n",
              "        \n",
              "  <svg xmlns=\"http://www.w3.org/2000/svg\" height=\"24px\"viewBox=\"0 0 24 24\"\n",
              "       width=\"24px\">\n",
              "    <path d=\"M0 0h24v24H0V0z\" fill=\"none\"/>\n",
              "    <path d=\"M18.56 5.44l.94 2.06.94-2.06 2.06-.94-2.06-.94-.94-2.06-.94 2.06-2.06.94zm-11 1L8.5 8.5l.94-2.06 2.06-.94-2.06-.94L8.5 2.5l-.94 2.06-2.06.94zm10 10l.94 2.06.94-2.06 2.06-.94-2.06-.94-.94-2.06-.94 2.06-2.06.94z\"/><path d=\"M17.41 7.96l-1.37-1.37c-.4-.4-.92-.59-1.43-.59-.52 0-1.04.2-1.43.59L10.3 9.45l-7.72 7.72c-.78.78-.78 2.05 0 2.83L4 21.41c.39.39.9.59 1.41.59.51 0 1.02-.2 1.41-.59l7.78-7.78 2.81-2.81c.8-.78.8-2.07 0-2.86zM5.41 20L4 18.59l7.72-7.72 1.47 1.35L5.41 20z\"/>\n",
              "  </svg>\n",
              "      </button>\n",
              "      \n",
              "  <style>\n",
              "    .colab-df-container {\n",
              "      display:flex;\n",
              "      flex-wrap:wrap;\n",
              "      gap: 12px;\n",
              "    }\n",
              "\n",
              "    .colab-df-convert {\n",
              "      background-color: #E8F0FE;\n",
              "      border: none;\n",
              "      border-radius: 50%;\n",
              "      cursor: pointer;\n",
              "      display: none;\n",
              "      fill: #1967D2;\n",
              "      height: 32px;\n",
              "      padding: 0 0 0 0;\n",
              "      width: 32px;\n",
              "    }\n",
              "\n",
              "    .colab-df-convert:hover {\n",
              "      background-color: #E2EBFA;\n",
              "      box-shadow: 0px 1px 2px rgba(60, 64, 67, 0.3), 0px 1px 3px 1px rgba(60, 64, 67, 0.15);\n",
              "      fill: #174EA6;\n",
              "    }\n",
              "\n",
              "    [theme=dark] .colab-df-convert {\n",
              "      background-color: #3B4455;\n",
              "      fill: #D2E3FC;\n",
              "    }\n",
              "\n",
              "    [theme=dark] .colab-df-convert:hover {\n",
              "      background-color: #434B5C;\n",
              "      box-shadow: 0px 1px 3px 1px rgba(0, 0, 0, 0.15);\n",
              "      filter: drop-shadow(0px 1px 2px rgba(0, 0, 0, 0.3));\n",
              "      fill: #FFFFFF;\n",
              "    }\n",
              "  </style>\n",
              "\n",
              "      <script>\n",
              "        const buttonEl =\n",
              "          document.querySelector('#df-8a684aaf-325a-4dc4-9b9c-4ac4ba6b82d1 button.colab-df-convert');\n",
              "        buttonEl.style.display =\n",
              "          google.colab.kernel.accessAllowed ? 'block' : 'none';\n",
              "\n",
              "        async function convertToInteractive(key) {\n",
              "          const element = document.querySelector('#df-8a684aaf-325a-4dc4-9b9c-4ac4ba6b82d1');\n",
              "          const dataTable =\n",
              "            await google.colab.kernel.invokeFunction('convertToInteractive',\n",
              "                                                     [key], {});\n",
              "          if (!dataTable) return;\n",
              "\n",
              "          const docLinkHtml = 'Like what you see? Visit the ' +\n",
              "            '<a target=\"_blank\" href=https://colab.research.google.com/notebooks/data_table.ipynb>data table notebook</a>'\n",
              "            + ' to learn more about interactive tables.';\n",
              "          element.innerHTML = '';\n",
              "          dataTable['output_type'] = 'display_data';\n",
              "          await google.colab.output.renderOutput(dataTable, element);\n",
              "          const docLink = document.createElement('div');\n",
              "          docLink.innerHTML = docLinkHtml;\n",
              "          element.appendChild(docLink);\n",
              "        }\n",
              "      </script>\n",
              "    </div>\n",
              "  </div>\n",
              "  "
            ]
          },
          "metadata": {},
          "execution_count": 92
        }
      ]
    },
    {
      "cell_type": "code",
      "execution_count": 93,
      "metadata": {
        "id": "5Rhue2xjLXC9",
        "colab": {
          "base_uri": "https://localhost:8080/"
        },
        "outputId": "b2968374-9107-40df-e45e-b1a664091f4b"
      },
      "outputs": [
        {
          "output_type": "stream",
          "name": "stdout",
          "text": [
            "0    0.022777\n",
            "1    0.005308\n",
            "2    0.031535\n",
            "3    0.012534\n",
            "4   -0.012931\n",
            "5    0.001846\n",
            "dtype: float64\n",
            "          0         1         2         3         4         5\n",
            "0  0.010994  0.004063  0.001717  0.001917  0.001728 -0.000061\n",
            "1  0.004063  0.005690 -0.000577  0.001774  0.001064 -0.000163\n",
            "2  0.001717 -0.000577  0.011473  0.002495  0.003082  0.000450\n",
            "3  0.001917  0.001774  0.002495  0.004661  0.002430  0.000150\n",
            "4  0.001728  0.001064  0.003082  0.002430  0.006328 -0.000019\n",
            "5 -0.000061 -0.000163  0.000450  0.000150 -0.000019  0.000119\n"
          ]
        }
      ],
      "source": [
        "#number of iterations : 1000\n",
        "ni = 1000\n",
        "ns = len(stx)\n",
        "#set wgts\n",
        "wgts = np.zeros((ni,ns))\n",
        "ret = np.zeros(ni)\n",
        "v = np.zeros(ni)\n",
        "s = np.zeros(ni)\n",
        "rm = np.array(df1)\n",
        "#print(rm)\n",
        "#we are initializing the data, and also \n",
        "rm1 = np.log(1+0.01*rm)\n",
        "rm1 = pd.DataFrame(rm1)\n",
        "#print(rm1)\n",
        "rm2 = rm1.mean()\n",
        "print(rm2)\n",
        "print(rm1.cov())"
      ]
    },
    {
      "cell_type": "code",
      "execution_count": 94,
      "metadata": {
        "id": "PbZ0wH8WLb7w",
        "colab": {
          "base_uri": "https://localhost:8080/"
        },
        "outputId": "2dffeac9-dacf-4c52-edb0-e5fc2431e8df"
      },
      "outputs": [
        {
          "output_type": "stream",
          "name": "stdout",
          "text": [
            "1.2061302010785933\n",
            "0.4964987451545161\n",
            "2.4292713986683525\n",
            "[0.30425741 0.09352363 0.48457758 0.04791375 0.01639002 0.05333762]\n"
          ]
        }
      ],
      "source": [
        "sn = 0\n",
        "nm = 0\n",
        "for i in range (ni) :\n",
        "  w = np.random.random(ns)\n",
        "  #print(w)\n",
        "  w = w/np.sum(w)\n",
        "  #print('this')\n",
        "  #print(w)\n",
        "  wgts[i] = w\n",
        "  ret[i] = np.sum(rm2*w)*52\n",
        "  #annualized returns\n",
        "  #so as to annualize the returns, to give a fair description in long run\n",
        "  v[i] = np.sqrt(\n",
        "      np.dot(w.T,(np.dot(rm1.cov()*52,w)))\n",
        "  )\n",
        "  #to get the total standrd dev in each scenario\n",
        "  s[i] = ret[i]/v[i]\n",
        "  #to get the sharpe ratio in each scenario\n",
        "  if s[i] > sn:\n",
        "    sn = s[i]\n",
        "    nm = i\n",
        "    #to find out the case with the highest sharpe ratio\n",
        "\n",
        "final = [ret,v,s,wgts]\n",
        "for i in final:\n",
        "  print(i[nm])"
      ]
    },
    {
      "cell_type": "markdown",
      "source": [
        "#TESTING RESULTS \n",
        "FOR THE PERIOD BWN 2017 - 07 AND 2018-03, A PERIOD OF 6 MONTHS, \n",
        "PRODUCED A RESULT OF \n",
        "###0.9810437425682268 - FRACTIONAL RETURNS ANUALIZED\n",
        "###0.39852195069267454 - VOLATILITY ANNUALIZED, std dev\n",
        "###2.4617056622930455 - sharpe ratio\n",
        "### weights = [0.21088505 0.01244158 0.32875709 0.26597113 0.00271567 0.17922947]\n",
        "###stocks = ZENTEC\tTEJASNET\tOLECTRA\tHINDOILEXP\tBLS\tGOLDBEES"
      ],
      "metadata": {
        "id": "KFUCpqwZJHif"
      }
    },
    {
      "cell_type": "markdown",
      "metadata": {
        "id": "gUIUR1TsLyPy"
      },
      "source": [
        "in a video it was said that log returns would be better\n",
        "\n",
        "log_returns = np.log(1+price.pct_change())\n"
      ]
    },
    {
      "cell_type": "code",
      "execution_count": 95,
      "metadata": {
        "id": "leTvreXPL_Ao",
        "colab": {
          "base_uri": "https://localhost:8080/"
        },
        "outputId": "75bf766f-8f7b-4b9f-d9be-efe8dbaac56b"
      },
      "outputs": [
        {
          "output_type": "execute_result",
          "data": {
            "text/plain": [
              "1.2061302010785933"
            ]
          },
          "metadata": {},
          "execution_count": 95
        }
      ],
      "source": [
        "ret[nm]"
      ]
    },
    {
      "cell_type": "code",
      "execution_count": 98,
      "metadata": {
        "id": "sV0YtYkKMCU-"
      },
      "outputs": [],
      "source": [
        "w = wgts[nm]\n",
        "#np.sum(wgts[i])\n"
      ]
    },
    {
      "cell_type": "code",
      "execution_count": 97,
      "metadata": {
        "id": "EiAtWne9MNkl",
        "colab": {
          "base_uri": "https://localhost:8080/"
        },
        "outputId": "85c55bf8-20e4-4df3-d8fc-3c22df3a03c1"
      },
      "outputs": [
        {
          "output_type": "execute_result",
          "data": {
            "text/plain": [
              "2.4292713986683525"
            ]
          },
          "metadata": {},
          "execution_count": 97
        }
      ],
      "source": [
        "s[nm]\n",
        "#our model produced"
      ]
    },
    {
      "cell_type": "code",
      "execution_count": 70,
      "metadata": {
        "id": "hYGIGa-wMznC",
        "colab": {
          "base_uri": "https://localhost:8080/"
        },
        "outputId": "3f7ec177-2115-42e4-ea07-c9457ab3f037"
      },
      "outputs": [
        {
          "output_type": "execute_result",
          "data": {
            "text/plain": [
              "0.39852195069267454"
            ]
          },
          "metadata": {},
          "execution_count": 70
        }
      ],
      "source": [
        "v[nm]"
      ]
    },
    {
      "cell_type": "code",
      "execution_count": 113,
      "metadata": {
        "colab": {
          "base_uri": "https://localhost:8080/"
        },
        "id": "FNsrO9_tolpj",
        "outputId": "e4827ac0-344b-41ac-f207-8f55626dd870"
      },
      "outputs": [
        {
          "output_type": "stream",
          "name": "stdout",
          "text": [
            "[*********************100%***********************]  1 of 1 completed\n",
            "[*********************100%***********************]  1 of 1 completed\n",
            "[*********************100%***********************]  1 of 1 completed\n",
            "[*********************100%***********************]  1 of 1 completed\n",
            "[*********************100%***********************]  1 of 1 completed\n",
            "[*********************100%***********************]  1 of 1 completed\n"
          ]
        },
        {
          "output_type": "stream",
          "name": "stderr",
          "text": [
            "/usr/local/lib/python3.7/dist-packages/ipykernel_launcher.py:18: FutureWarning: Passing 'suffixes' which cause duplicate columns {'Adj Close_x'} in the result is deprecated and will raise a MergeError in a future version.\n",
            "/usr/local/lib/python3.7/dist-packages/ipykernel_launcher.py:20: FutureWarning: Passing 'suffixes' which cause duplicate columns {'Adj Close_x'} in the result is deprecated and will raise a MergeError in a future version.\n"
          ]
        }
      ],
      "source": [
        "stocks = ['zentec','tejasnet','olectra','hindoilexp','bls','goldbees']\n",
        "p11 = yf.download('ZENTEC.NS','2019-01-01','2019-04-01',interval = '5d')['Adj Close']\n",
        "p21 = yf.download('TEJASNET.NS','2019-01-01','2019-04-01',interval = '5d')['Adj Close']\n",
        "p31 = yf.download('OLECTRA.NS','2019-01-01','2019-04-01',interval = '5d')['Adj Close']\n",
        "p41 = yf.download('HINDOILEXP.NS','2019-01-01','2019-04-01',interval = '5d')['Adj Close']\n",
        "p51 = yf.download('BLS.NS','2019-01-01','2019-04-01',interval = '5d')['Adj Close']\n",
        "p61 = yf.download('GOLDBEES.NS','2019-01-01','2019-04-01',interval = '5d')['Adj Close']\n",
        "r11 = 100*p1.pct_change()\n",
        "r21 = 100*p2.pct_change()\n",
        "r41 = 100*p4.pct_change()\n",
        "r31 = 100*p3.pct_change()\n",
        "r51 = 100*p5.pct_change()\n",
        "r61 = 100*p6.pct_change()\n",
        "\n",
        "stx = ['ZENTEC', 'TEJASNET', 'OLECTRA', 'HINDOILEXP', 'BLS','GOLDBEES']\n",
        "df11 = pd.merge(p11,p21,right_index = True, left_index = True)\n",
        "df11 = pd.merge(df11,p31,right_index = True, left_index = True)\n",
        "df11 = pd.merge(df11,p41,right_index = True, left_index = True)\n",
        "df11 = pd.merge(df11,p51,right_index = True, left_index = True)\n",
        "df11 = pd.merge(df11,p61,right_index = True, left_index = True)\n",
        "df11\n",
        "df11.set_axis(stx,axis = 1, inplace = True)\n"
      ]
    },
    {
      "cell_type": "code",
      "execution_count": 122,
      "metadata": {
        "id": "OZcs0l2FqLU2",
        "colab": {
          "base_uri": "https://localhost:8080/",
          "height": 488
        },
        "outputId": "1af08efd-03f5-4f1d-e3ac-e306be1dc1f6"
      },
      "outputs": [
        {
          "output_type": "execute_result",
          "data": {
            "text/plain": [
              "              ZENTEC  TEJASNET   OLECTRA  HINDOILEXP       BLS  GOLDBEES\n",
              "Date                                                                    \n",
              "2019-01-01       NaN       NaN       NaN         NaN       NaN       NaN\n",
              "2019-01-11 -0.043219  0.062513 -0.018034    0.008379 -0.003789  0.012555\n",
              "2019-01-16  0.047628  0.008813  0.068218    0.045268  0.020042  0.006271\n",
              "2019-01-21  0.008761 -0.028524 -0.048033    0.004376 -0.017094 -0.004573\n",
              "2019-01-31 -0.060352 -0.297919 -0.030765   -0.140874 -0.130053  0.026447\n",
              "2019-02-05 -0.044662 -0.104079 -0.113940   -0.025927  0.001914  0.005318\n",
              "2019-02-15 -0.056222 -0.052569  0.016989    0.088808 -0.075948 -0.001289\n",
              "2019-02-20 -0.006611  0.111686 -0.001955    0.008121 -0.021371  0.015273\n",
              "2019-02-25  0.053097  0.038392  0.030119    0.013111  0.106361 -0.011817\n",
              "2019-03-07  0.082459  0.127155  0.160606    0.057555  0.056184 -0.042999\n",
              "2019-03-12 -0.028723  0.000829  0.026727    0.008295  0.095595  0.001200\n",
              "2019-03-22 -0.000662 -0.086183  0.036522   -0.000787 -0.091127  0.001145\n",
              "2019-03-27 -0.077120  0.023796 -0.042048    0.027569  0.007551 -0.000317"
            ],
            "text/html": [
              "\n",
              "  <div id=\"df-32ae8dc5-8b98-4ad3-8552-cc2199ef6478\">\n",
              "    <div class=\"colab-df-container\">\n",
              "      <div>\n",
              "<style scoped>\n",
              "    .dataframe tbody tr th:only-of-type {\n",
              "        vertical-align: middle;\n",
              "    }\n",
              "\n",
              "    .dataframe tbody tr th {\n",
              "        vertical-align: top;\n",
              "    }\n",
              "\n",
              "    .dataframe thead th {\n",
              "        text-align: right;\n",
              "    }\n",
              "</style>\n",
              "<table border=\"1\" class=\"dataframe\">\n",
              "  <thead>\n",
              "    <tr style=\"text-align: right;\">\n",
              "      <th></th>\n",
              "      <th>ZENTEC</th>\n",
              "      <th>TEJASNET</th>\n",
              "      <th>OLECTRA</th>\n",
              "      <th>HINDOILEXP</th>\n",
              "      <th>BLS</th>\n",
              "      <th>GOLDBEES</th>\n",
              "    </tr>\n",
              "    <tr>\n",
              "      <th>Date</th>\n",
              "      <th></th>\n",
              "      <th></th>\n",
              "      <th></th>\n",
              "      <th></th>\n",
              "      <th></th>\n",
              "      <th></th>\n",
              "    </tr>\n",
              "  </thead>\n",
              "  <tbody>\n",
              "    <tr>\n",
              "      <th>2019-01-01</th>\n",
              "      <td>NaN</td>\n",
              "      <td>NaN</td>\n",
              "      <td>NaN</td>\n",
              "      <td>NaN</td>\n",
              "      <td>NaN</td>\n",
              "      <td>NaN</td>\n",
              "    </tr>\n",
              "    <tr>\n",
              "      <th>2019-01-11</th>\n",
              "      <td>-0.043219</td>\n",
              "      <td>0.062513</td>\n",
              "      <td>-0.018034</td>\n",
              "      <td>0.008379</td>\n",
              "      <td>-0.003789</td>\n",
              "      <td>0.012555</td>\n",
              "    </tr>\n",
              "    <tr>\n",
              "      <th>2019-01-16</th>\n",
              "      <td>0.047628</td>\n",
              "      <td>0.008813</td>\n",
              "      <td>0.068218</td>\n",
              "      <td>0.045268</td>\n",
              "      <td>0.020042</td>\n",
              "      <td>0.006271</td>\n",
              "    </tr>\n",
              "    <tr>\n",
              "      <th>2019-01-21</th>\n",
              "      <td>0.008761</td>\n",
              "      <td>-0.028524</td>\n",
              "      <td>-0.048033</td>\n",
              "      <td>0.004376</td>\n",
              "      <td>-0.017094</td>\n",
              "      <td>-0.004573</td>\n",
              "    </tr>\n",
              "    <tr>\n",
              "      <th>2019-01-31</th>\n",
              "      <td>-0.060352</td>\n",
              "      <td>-0.297919</td>\n",
              "      <td>-0.030765</td>\n",
              "      <td>-0.140874</td>\n",
              "      <td>-0.130053</td>\n",
              "      <td>0.026447</td>\n",
              "    </tr>\n",
              "    <tr>\n",
              "      <th>2019-02-05</th>\n",
              "      <td>-0.044662</td>\n",
              "      <td>-0.104079</td>\n",
              "      <td>-0.113940</td>\n",
              "      <td>-0.025927</td>\n",
              "      <td>0.001914</td>\n",
              "      <td>0.005318</td>\n",
              "    </tr>\n",
              "    <tr>\n",
              "      <th>2019-02-15</th>\n",
              "      <td>-0.056222</td>\n",
              "      <td>-0.052569</td>\n",
              "      <td>0.016989</td>\n",
              "      <td>0.088808</td>\n",
              "      <td>-0.075948</td>\n",
              "      <td>-0.001289</td>\n",
              "    </tr>\n",
              "    <tr>\n",
              "      <th>2019-02-20</th>\n",
              "      <td>-0.006611</td>\n",
              "      <td>0.111686</td>\n",
              "      <td>-0.001955</td>\n",
              "      <td>0.008121</td>\n",
              "      <td>-0.021371</td>\n",
              "      <td>0.015273</td>\n",
              "    </tr>\n",
              "    <tr>\n",
              "      <th>2019-02-25</th>\n",
              "      <td>0.053097</td>\n",
              "      <td>0.038392</td>\n",
              "      <td>0.030119</td>\n",
              "      <td>0.013111</td>\n",
              "      <td>0.106361</td>\n",
              "      <td>-0.011817</td>\n",
              "    </tr>\n",
              "    <tr>\n",
              "      <th>2019-03-07</th>\n",
              "      <td>0.082459</td>\n",
              "      <td>0.127155</td>\n",
              "      <td>0.160606</td>\n",
              "      <td>0.057555</td>\n",
              "      <td>0.056184</td>\n",
              "      <td>-0.042999</td>\n",
              "    </tr>\n",
              "    <tr>\n",
              "      <th>2019-03-12</th>\n",
              "      <td>-0.028723</td>\n",
              "      <td>0.000829</td>\n",
              "      <td>0.026727</td>\n",
              "      <td>0.008295</td>\n",
              "      <td>0.095595</td>\n",
              "      <td>0.001200</td>\n",
              "    </tr>\n",
              "    <tr>\n",
              "      <th>2019-03-22</th>\n",
              "      <td>-0.000662</td>\n",
              "      <td>-0.086183</td>\n",
              "      <td>0.036522</td>\n",
              "      <td>-0.000787</td>\n",
              "      <td>-0.091127</td>\n",
              "      <td>0.001145</td>\n",
              "    </tr>\n",
              "    <tr>\n",
              "      <th>2019-03-27</th>\n",
              "      <td>-0.077120</td>\n",
              "      <td>0.023796</td>\n",
              "      <td>-0.042048</td>\n",
              "      <td>0.027569</td>\n",
              "      <td>0.007551</td>\n",
              "      <td>-0.000317</td>\n",
              "    </tr>\n",
              "  </tbody>\n",
              "</table>\n",
              "</div>\n",
              "      <button class=\"colab-df-convert\" onclick=\"convertToInteractive('df-32ae8dc5-8b98-4ad3-8552-cc2199ef6478')\"\n",
              "              title=\"Convert this dataframe to an interactive table.\"\n",
              "              style=\"display:none;\">\n",
              "        \n",
              "  <svg xmlns=\"http://www.w3.org/2000/svg\" height=\"24px\"viewBox=\"0 0 24 24\"\n",
              "       width=\"24px\">\n",
              "    <path d=\"M0 0h24v24H0V0z\" fill=\"none\"/>\n",
              "    <path d=\"M18.56 5.44l.94 2.06.94-2.06 2.06-.94-2.06-.94-.94-2.06-.94 2.06-2.06.94zm-11 1L8.5 8.5l.94-2.06 2.06-.94-2.06-.94L8.5 2.5l-.94 2.06-2.06.94zm10 10l.94 2.06.94-2.06 2.06-.94-2.06-.94-.94-2.06-.94 2.06-2.06.94z\"/><path d=\"M17.41 7.96l-1.37-1.37c-.4-.4-.92-.59-1.43-.59-.52 0-1.04.2-1.43.59L10.3 9.45l-7.72 7.72c-.78.78-.78 2.05 0 2.83L4 21.41c.39.39.9.59 1.41.59.51 0 1.02-.2 1.41-.59l7.78-7.78 2.81-2.81c.8-.78.8-2.07 0-2.86zM5.41 20L4 18.59l7.72-7.72 1.47 1.35L5.41 20z\"/>\n",
              "  </svg>\n",
              "      </button>\n",
              "      \n",
              "  <style>\n",
              "    .colab-df-container {\n",
              "      display:flex;\n",
              "      flex-wrap:wrap;\n",
              "      gap: 12px;\n",
              "    }\n",
              "\n",
              "    .colab-df-convert {\n",
              "      background-color: #E8F0FE;\n",
              "      border: none;\n",
              "      border-radius: 50%;\n",
              "      cursor: pointer;\n",
              "      display: none;\n",
              "      fill: #1967D2;\n",
              "      height: 32px;\n",
              "      padding: 0 0 0 0;\n",
              "      width: 32px;\n",
              "    }\n",
              "\n",
              "    .colab-df-convert:hover {\n",
              "      background-color: #E2EBFA;\n",
              "      box-shadow: 0px 1px 2px rgba(60, 64, 67, 0.3), 0px 1px 3px 1px rgba(60, 64, 67, 0.15);\n",
              "      fill: #174EA6;\n",
              "    }\n",
              "\n",
              "    [theme=dark] .colab-df-convert {\n",
              "      background-color: #3B4455;\n",
              "      fill: #D2E3FC;\n",
              "    }\n",
              "\n",
              "    [theme=dark] .colab-df-convert:hover {\n",
              "      background-color: #434B5C;\n",
              "      box-shadow: 0px 1px 3px 1px rgba(0, 0, 0, 0.15);\n",
              "      filter: drop-shadow(0px 1px 2px rgba(0, 0, 0, 0.3));\n",
              "      fill: #FFFFFF;\n",
              "    }\n",
              "  </style>\n",
              "\n",
              "      <script>\n",
              "        const buttonEl =\n",
              "          document.querySelector('#df-32ae8dc5-8b98-4ad3-8552-cc2199ef6478 button.colab-df-convert');\n",
              "        buttonEl.style.display =\n",
              "          google.colab.kernel.accessAllowed ? 'block' : 'none';\n",
              "\n",
              "        async function convertToInteractive(key) {\n",
              "          const element = document.querySelector('#df-32ae8dc5-8b98-4ad3-8552-cc2199ef6478');\n",
              "          const dataTable =\n",
              "            await google.colab.kernel.invokeFunction('convertToInteractive',\n",
              "                                                     [key], {});\n",
              "          if (!dataTable) return;\n",
              "\n",
              "          const docLinkHtml = 'Like what you see? Visit the ' +\n",
              "            '<a target=\"_blank\" href=https://colab.research.google.com/notebooks/data_table.ipynb>data table notebook</a>'\n",
              "            + ' to learn more about interactive tables.';\n",
              "          element.innerHTML = '';\n",
              "          dataTable['output_type'] = 'display_data';\n",
              "          await google.colab.output.renderOutput(dataTable, element);\n",
              "          const docLink = document.createElement('div');\n",
              "          docLink.innerHTML = docLinkHtml;\n",
              "          element.appendChild(docLink);\n",
              "        }\n",
              "      </script>\n",
              "    </div>\n",
              "  </div>\n",
              "  "
            ]
          },
          "metadata": {},
          "execution_count": 122
        }
      ],
      "source": [
        "dfpct = np.log(1+df11.pct_change())\n",
        "dfpct"
      ]
    },
    {
      "cell_type": "code",
      "source": [
        "dfpct.dropna(inplace = True)\n",
        "arr_pct = np.array(dfpct)\n",
        "arr_pct"
      ],
      "metadata": {
        "colab": {
          "base_uri": "https://localhost:8080/"
        },
        "id": "M_w4bmV8MGrK",
        "outputId": "1444046d-290c-43db-cdec-2583f122fe01"
      },
      "execution_count": 124,
      "outputs": [
        {
          "output_type": "execute_result",
          "data": {
            "text/plain": [
              "array([[-0.04321858,  0.06251306, -0.01803414,  0.00837877, -0.00378869,\n",
              "         0.01255486],\n",
              "       [ 0.04762809,  0.00881257,  0.06821785,  0.04526769,  0.02004236,\n",
              "         0.00627099],\n",
              "       [ 0.00876102, -0.02852442, -0.04803271,  0.00437634, -0.01709433,\n",
              "        -0.0045727 ],\n",
              "       [-0.06035209, -0.29791949, -0.03076496, -0.14087407, -0.1300531 ,\n",
              "         0.02644676],\n",
              "       [-0.04466225, -0.10407941, -0.11394038, -0.02592741,  0.00191374,\n",
              "         0.0053183 ],\n",
              "       [-0.05622246, -0.05256897,  0.01698919,  0.08880778, -0.07594827,\n",
              "        -0.00128875],\n",
              "       [-0.00661066,  0.11168619, -0.00195508,  0.00812141, -0.02137147,\n",
              "         0.0152729 ],\n",
              "       [ 0.05309717,  0.03839248,  0.03011913,  0.01311081,  0.10636104,\n",
              "        -0.01181733],\n",
              "       [ 0.0824587 ,  0.12715513,  0.1606064 ,  0.05755518,  0.05618418,\n",
              "        -0.0429994 ],\n",
              "       [-0.02872253,  0.00082882,  0.02672675,  0.00829549,  0.09559515,\n",
              "         0.00119967],\n",
              "       [-0.00066246, -0.0861831 ,  0.03652226, -0.00078708, -0.09112694,\n",
              "         0.00114543],\n",
              "       [-0.07712022,  0.02379636, -0.04204826,  0.02756923,  0.00755066,\n",
              "        -0.00031708]])"
            ]
          },
          "metadata": {},
          "execution_count": 124
        }
      ]
    },
    {
      "cell_type": "code",
      "execution_count": 115,
      "metadata": {
        "id": "YmMeYfkCqSdG",
        "colab": {
          "base_uri": "https://localhost:8080/"
        },
        "outputId": "42029dbc-1728-4bcc-fc3f-8f3ab948de4a"
      },
      "outputs": [
        {
          "output_type": "execute_result",
          "data": {
            "text/plain": [
              "ZENTEC       -0.010469\n",
              "TEJASNET     -0.016341\n",
              "OLECTRA       0.007034\n",
              "HINDOILEXP    0.007825\n",
              "BLS          -0.004311\n",
              "GOLDBEES      0.000601\n",
              "dtype: float64"
            ]
          },
          "metadata": {},
          "execution_count": 115
        }
      ],
      "source": [
        "dfpct.mean()"
      ]
    },
    {
      "cell_type": "code",
      "execution_count": 116,
      "metadata": {
        "id": "JHgBi8bdqqBU",
        "colab": {
          "base_uri": "https://localhost:8080/"
        },
        "outputId": "8ec06e1e-85d0-43bc-a3f7-fda502703451"
      },
      "outputs": [
        {
          "output_type": "execute_result",
          "data": {
            "text/plain": [
              "array([-0.54438052, -0.84972668,  0.36575956,  0.4068746 , -0.22418794,\n",
              "        0.03125905])"
            ]
          },
          "metadata": {},
          "execution_count": 116
        }
      ],
      "source": [
        "ret_new = dfpct.mean()*52\n",
        "ret_new = np.array(ret_new)\n",
        "ret_new"
      ]
    },
    {
      "cell_type": "code",
      "execution_count": 126,
      "metadata": {
        "id": "5Yg4HEoqqytz",
        "colab": {
          "base_uri": "https://localhost:8080/"
        },
        "outputId": "2c40c47c-456e-4506-f919-1fe7ac396943"
      },
      "outputs": [
        {
          "output_type": "stream",
          "name": "stdout",
          "text": [
            "-0.05037472434985616\n",
            "-0.1313326983334902\n"
          ]
        }
      ],
      "source": [
        "ret__net_new = np.dot(wgts[nm],ret_new)\n",
        "print(ret__net_new)\n",
        "vol_new = np.sqrt(\n",
        "      np.dot(wgts[nm].T,(np.dot(dfpct.cov()*52,wgts[nm])))\n",
        "  )\n",
        "print(ret__net_new/vol_new)"
      ]
    },
    {
      "cell_type": "code",
      "source": [
        "stx"
      ],
      "metadata": {
        "colab": {
          "base_uri": "https://localhost:8080/"
        },
        "id": "7qMfFlO4LghZ",
        "outputId": "e901884f-848d-4e1f-a9a3-0db5743c0fd4"
      },
      "execution_count": 118,
      "outputs": [
        {
          "output_type": "execute_result",
          "data": {
            "text/plain": [
              "['ZENTEC', 'TEJASNET', 'OLECTRA', 'HINDOILEXP', 'BLS', 'GOLDBEES']"
            ]
          },
          "metadata": {},
          "execution_count": 118
        }
      ]
    },
    {
      "cell_type": "code",
      "execution_count": 128,
      "metadata": {
        "id": "Dre0LQUFy6ym",
        "colab": {
          "base_uri": "https://localhost:8080/"
        },
        "outputId": "4e91e8c0-2be6-40d8-ea7c-adcbaebbd1c3"
      },
      "outputs": [
        {
          "output_type": "stream",
          "name": "stdout",
          "text": [
            "-0.13573365535536466\n",
            "-0.4130053057264066\n"
          ]
        }
      ],
      "source": [
        "#think of more parameters to check accuracy\n",
        "w_bad = np.array([1/(len(stx)) for i in range(len(stx))])\n",
        "w_bad\n",
        "ret_bad = np.dot(w_bad, ret_new)\n",
        "print(ret_bad)\n",
        "vol_new = np.sqrt(\n",
        "      np.dot(w_bad.T,(np.dot(dfpct.cov()*52,w_bad)))\n",
        "  )\n",
        "print(ret_bad/vol_new)"
      ]
    },
    {
      "cell_type": "code",
      "execution_count": 112,
      "metadata": {
        "id": "sRM7Q8RNzJDQ",
        "colab": {
          "base_uri": "https://localhost:8080/",
          "height": 1000
        },
        "outputId": "994254ad-2601-4a0c-931e-4982aefa7822"
      },
      "outputs": [
        {
          "output_type": "execute_result",
          "data": {
            "text/plain": [
              "               ZENTEC   TEJASNET    OLECTRA  HINDOILEXP        BLS  GOLDBEES\n",
              "Date                                                                        \n",
              "2017-07-05   0.100006  -0.330565  12.073493    0.350385  10.987604 -1.375683\n",
              "2017-07-10  20.179825  21.824196   0.156126    1.396648  -6.662008 -1.241411\n",
              "2017-07-20  -5.735664  -4.505849  12.392824    3.305787  -2.046421  1.488103\n",
              "2017-07-25   4.938272  -4.290796   0.277399    2.466665  -0.484061  0.800866\n",
              "2017-08-04  -5.882355   4.155483  10.096812   -1.951854  -0.896058  0.519927\n",
              "2017-08-09  -4.017859  -7.035602  16.834173   -2.123422  -4.959980 -0.149166\n",
              "2017-08-14  -7.441856   0.169206  21.236559   -2.779665  -2.337586  1.014692\n",
              "2017-08-24   1.306536   1.274567  20.975604    3.138075  20.734759 -0.099877\n",
              "2017-08-29  -1.190497   0.409408  10.227282    8.654499   0.253588  3.154918\n",
              "2017-09-08   8.634557   1.932946  38.975716   11.947727   4.276835  1.820895\n",
              "2017-09-13  -0.462115   0.844438 -14.213926    3.001673   5.606596 -0.898743\n",
              "2017-09-18  -3.621166  -1.292779   6.304046    0.971399  11.080900 -1.150694\n",
              "2017-09-28  -4.057975 -10.552168 -11.886649   -3.848216  -7.716907 -0.147618\n",
              "2017-10-03  -2.215510  -2.928445  10.214419   -0.222342  -1.713253 -0.508990\n",
              "2017-10-13  31.513908   1.216996  24.209674    6.350972   7.200661  1.436981\n",
              "2017-10-18   1.096337   2.675699 -12.551666   -4.243055   1.103372 -1.342454\n",
              "2017-10-23   2.478694   0.428835  -3.507464   -2.024068  -1.359357 -0.184185\n",
              "2017-11-02  29.100522  25.932003  -0.309353    8.821880  -2.368010 -1.035612\n",
              "2017-11-07  -5.854808  -4.251435   4.732347   18.727553   4.632194  0.422383\n",
              "2017-11-17  28.482591  12.285484  -7.802471    7.000870  -6.973209  0.280409\n",
              "2017-11-22  -7.550819  -3.469194   0.214252   -1.817447  -0.959963 -0.018897\n",
              "2017-11-27  17.539260   1.080678  11.491181    9.419989   0.680549  0.128500\n",
              "2017-12-07  -4.721604  -0.609157 -11.409397   -4.661652  -3.809912 -2.279805\n",
              "2017-12-12  10.098177  -0.587863   5.113635    8.162453   3.002557 -0.971433\n",
              "2017-12-22  17.579606  -1.925010   5.353922   -2.697774   9.055202  0.610421\n",
              "2017-12-27   3.864227  -0.936496   0.219894    1.386292  -0.815158  1.438292\n",
              "2018-01-01   6.606400   9.764303   0.609459   -3.954180   1.414363  1.033805\n",
              "2018-01-11  -4.011752   3.515817  10.273805   16.814164   2.676216  0.688452\n",
              "2018-01-16  -8.086979  -2.154098  -5.273566   -8.465089  -8.443470  1.628598\n",
              "2018-01-31 -10.536049 -11.788001   3.456273   -8.708167 -20.268636  0.138626\n",
              "2018-02-05  -8.966940   1.188430 -13.475338   -6.740241  -4.551178  0.352538\n",
              "2018-02-15  11.393545  -8.195226   2.176728    2.071003   0.105380  1.059428\n",
              "2018-02-20  -3.993464   0.838671  -2.028912    0.248450   0.000000  0.111022\n",
              "2018-03-07   3.989797 -12.729072   2.019161  -14.332925 -19.789484 -0.227248\n",
              "2018-03-12   8.897962  14.020360   0.050744    0.000000  -5.774273 -0.867334\n",
              "2018-03-22 -12.556218   3.357413  -5.199087   10.848602 -11.977712  0.545907\n",
              "2018-03-27  -0.728676   0.918312  -1.792398   -1.304915  -5.300636  0.875654"
            ],
            "text/html": [
              "\n",
              "  <div id=\"df-349e07d2-c6a2-4905-9290-9d4626bfc262\">\n",
              "    <div class=\"colab-df-container\">\n",
              "      <div>\n",
              "<style scoped>\n",
              "    .dataframe tbody tr th:only-of-type {\n",
              "        vertical-align: middle;\n",
              "    }\n",
              "\n",
              "    .dataframe tbody tr th {\n",
              "        vertical-align: top;\n",
              "    }\n",
              "\n",
              "    .dataframe thead th {\n",
              "        text-align: right;\n",
              "    }\n",
              "</style>\n",
              "<table border=\"1\" class=\"dataframe\">\n",
              "  <thead>\n",
              "    <tr style=\"text-align: right;\">\n",
              "      <th></th>\n",
              "      <th>ZENTEC</th>\n",
              "      <th>TEJASNET</th>\n",
              "      <th>OLECTRA</th>\n",
              "      <th>HINDOILEXP</th>\n",
              "      <th>BLS</th>\n",
              "      <th>GOLDBEES</th>\n",
              "    </tr>\n",
              "    <tr>\n",
              "      <th>Date</th>\n",
              "      <th></th>\n",
              "      <th></th>\n",
              "      <th></th>\n",
              "      <th></th>\n",
              "      <th></th>\n",
              "      <th></th>\n",
              "    </tr>\n",
              "  </thead>\n",
              "  <tbody>\n",
              "    <tr>\n",
              "      <th>2017-07-05</th>\n",
              "      <td>0.100006</td>\n",
              "      <td>-0.330565</td>\n",
              "      <td>12.073493</td>\n",
              "      <td>0.350385</td>\n",
              "      <td>10.987604</td>\n",
              "      <td>-1.375683</td>\n",
              "    </tr>\n",
              "    <tr>\n",
              "      <th>2017-07-10</th>\n",
              "      <td>20.179825</td>\n",
              "      <td>21.824196</td>\n",
              "      <td>0.156126</td>\n",
              "      <td>1.396648</td>\n",
              "      <td>-6.662008</td>\n",
              "      <td>-1.241411</td>\n",
              "    </tr>\n",
              "    <tr>\n",
              "      <th>2017-07-20</th>\n",
              "      <td>-5.735664</td>\n",
              "      <td>-4.505849</td>\n",
              "      <td>12.392824</td>\n",
              "      <td>3.305787</td>\n",
              "      <td>-2.046421</td>\n",
              "      <td>1.488103</td>\n",
              "    </tr>\n",
              "    <tr>\n",
              "      <th>2017-07-25</th>\n",
              "      <td>4.938272</td>\n",
              "      <td>-4.290796</td>\n",
              "      <td>0.277399</td>\n",
              "      <td>2.466665</td>\n",
              "      <td>-0.484061</td>\n",
              "      <td>0.800866</td>\n",
              "    </tr>\n",
              "    <tr>\n",
              "      <th>2017-08-04</th>\n",
              "      <td>-5.882355</td>\n",
              "      <td>4.155483</td>\n",
              "      <td>10.096812</td>\n",
              "      <td>-1.951854</td>\n",
              "      <td>-0.896058</td>\n",
              "      <td>0.519927</td>\n",
              "    </tr>\n",
              "    <tr>\n",
              "      <th>2017-08-09</th>\n",
              "      <td>-4.017859</td>\n",
              "      <td>-7.035602</td>\n",
              "      <td>16.834173</td>\n",
              "      <td>-2.123422</td>\n",
              "      <td>-4.959980</td>\n",
              "      <td>-0.149166</td>\n",
              "    </tr>\n",
              "    <tr>\n",
              "      <th>2017-08-14</th>\n",
              "      <td>-7.441856</td>\n",
              "      <td>0.169206</td>\n",
              "      <td>21.236559</td>\n",
              "      <td>-2.779665</td>\n",
              "      <td>-2.337586</td>\n",
              "      <td>1.014692</td>\n",
              "    </tr>\n",
              "    <tr>\n",
              "      <th>2017-08-24</th>\n",
              "      <td>1.306536</td>\n",
              "      <td>1.274567</td>\n",
              "      <td>20.975604</td>\n",
              "      <td>3.138075</td>\n",
              "      <td>20.734759</td>\n",
              "      <td>-0.099877</td>\n",
              "    </tr>\n",
              "    <tr>\n",
              "      <th>2017-08-29</th>\n",
              "      <td>-1.190497</td>\n",
              "      <td>0.409408</td>\n",
              "      <td>10.227282</td>\n",
              "      <td>8.654499</td>\n",
              "      <td>0.253588</td>\n",
              "      <td>3.154918</td>\n",
              "    </tr>\n",
              "    <tr>\n",
              "      <th>2017-09-08</th>\n",
              "      <td>8.634557</td>\n",
              "      <td>1.932946</td>\n",
              "      <td>38.975716</td>\n",
              "      <td>11.947727</td>\n",
              "      <td>4.276835</td>\n",
              "      <td>1.820895</td>\n",
              "    </tr>\n",
              "    <tr>\n",
              "      <th>2017-09-13</th>\n",
              "      <td>-0.462115</td>\n",
              "      <td>0.844438</td>\n",
              "      <td>-14.213926</td>\n",
              "      <td>3.001673</td>\n",
              "      <td>5.606596</td>\n",
              "      <td>-0.898743</td>\n",
              "    </tr>\n",
              "    <tr>\n",
              "      <th>2017-09-18</th>\n",
              "      <td>-3.621166</td>\n",
              "      <td>-1.292779</td>\n",
              "      <td>6.304046</td>\n",
              "      <td>0.971399</td>\n",
              "      <td>11.080900</td>\n",
              "      <td>-1.150694</td>\n",
              "    </tr>\n",
              "    <tr>\n",
              "      <th>2017-09-28</th>\n",
              "      <td>-4.057975</td>\n",
              "      <td>-10.552168</td>\n",
              "      <td>-11.886649</td>\n",
              "      <td>-3.848216</td>\n",
              "      <td>-7.716907</td>\n",
              "      <td>-0.147618</td>\n",
              "    </tr>\n",
              "    <tr>\n",
              "      <th>2017-10-03</th>\n",
              "      <td>-2.215510</td>\n",
              "      <td>-2.928445</td>\n",
              "      <td>10.214419</td>\n",
              "      <td>-0.222342</td>\n",
              "      <td>-1.713253</td>\n",
              "      <td>-0.508990</td>\n",
              "    </tr>\n",
              "    <tr>\n",
              "      <th>2017-10-13</th>\n",
              "      <td>31.513908</td>\n",
              "      <td>1.216996</td>\n",
              "      <td>24.209674</td>\n",
              "      <td>6.350972</td>\n",
              "      <td>7.200661</td>\n",
              "      <td>1.436981</td>\n",
              "    </tr>\n",
              "    <tr>\n",
              "      <th>2017-10-18</th>\n",
              "      <td>1.096337</td>\n",
              "      <td>2.675699</td>\n",
              "      <td>-12.551666</td>\n",
              "      <td>-4.243055</td>\n",
              "      <td>1.103372</td>\n",
              "      <td>-1.342454</td>\n",
              "    </tr>\n",
              "    <tr>\n",
              "      <th>2017-10-23</th>\n",
              "      <td>2.478694</td>\n",
              "      <td>0.428835</td>\n",
              "      <td>-3.507464</td>\n",
              "      <td>-2.024068</td>\n",
              "      <td>-1.359357</td>\n",
              "      <td>-0.184185</td>\n",
              "    </tr>\n",
              "    <tr>\n",
              "      <th>2017-11-02</th>\n",
              "      <td>29.100522</td>\n",
              "      <td>25.932003</td>\n",
              "      <td>-0.309353</td>\n",
              "      <td>8.821880</td>\n",
              "      <td>-2.368010</td>\n",
              "      <td>-1.035612</td>\n",
              "    </tr>\n",
              "    <tr>\n",
              "      <th>2017-11-07</th>\n",
              "      <td>-5.854808</td>\n",
              "      <td>-4.251435</td>\n",
              "      <td>4.732347</td>\n",
              "      <td>18.727553</td>\n",
              "      <td>4.632194</td>\n",
              "      <td>0.422383</td>\n",
              "    </tr>\n",
              "    <tr>\n",
              "      <th>2017-11-17</th>\n",
              "      <td>28.482591</td>\n",
              "      <td>12.285484</td>\n",
              "      <td>-7.802471</td>\n",
              "      <td>7.000870</td>\n",
              "      <td>-6.973209</td>\n",
              "      <td>0.280409</td>\n",
              "    </tr>\n",
              "    <tr>\n",
              "      <th>2017-11-22</th>\n",
              "      <td>-7.550819</td>\n",
              "      <td>-3.469194</td>\n",
              "      <td>0.214252</td>\n",
              "      <td>-1.817447</td>\n",
              "      <td>-0.959963</td>\n",
              "      <td>-0.018897</td>\n",
              "    </tr>\n",
              "    <tr>\n",
              "      <th>2017-11-27</th>\n",
              "      <td>17.539260</td>\n",
              "      <td>1.080678</td>\n",
              "      <td>11.491181</td>\n",
              "      <td>9.419989</td>\n",
              "      <td>0.680549</td>\n",
              "      <td>0.128500</td>\n",
              "    </tr>\n",
              "    <tr>\n",
              "      <th>2017-12-07</th>\n",
              "      <td>-4.721604</td>\n",
              "      <td>-0.609157</td>\n",
              "      <td>-11.409397</td>\n",
              "      <td>-4.661652</td>\n",
              "      <td>-3.809912</td>\n",
              "      <td>-2.279805</td>\n",
              "    </tr>\n",
              "    <tr>\n",
              "      <th>2017-12-12</th>\n",
              "      <td>10.098177</td>\n",
              "      <td>-0.587863</td>\n",
              "      <td>5.113635</td>\n",
              "      <td>8.162453</td>\n",
              "      <td>3.002557</td>\n",
              "      <td>-0.971433</td>\n",
              "    </tr>\n",
              "    <tr>\n",
              "      <th>2017-12-22</th>\n",
              "      <td>17.579606</td>\n",
              "      <td>-1.925010</td>\n",
              "      <td>5.353922</td>\n",
              "      <td>-2.697774</td>\n",
              "      <td>9.055202</td>\n",
              "      <td>0.610421</td>\n",
              "    </tr>\n",
              "    <tr>\n",
              "      <th>2017-12-27</th>\n",
              "      <td>3.864227</td>\n",
              "      <td>-0.936496</td>\n",
              "      <td>0.219894</td>\n",
              "      <td>1.386292</td>\n",
              "      <td>-0.815158</td>\n",
              "      <td>1.438292</td>\n",
              "    </tr>\n",
              "    <tr>\n",
              "      <th>2018-01-01</th>\n",
              "      <td>6.606400</td>\n",
              "      <td>9.764303</td>\n",
              "      <td>0.609459</td>\n",
              "      <td>-3.954180</td>\n",
              "      <td>1.414363</td>\n",
              "      <td>1.033805</td>\n",
              "    </tr>\n",
              "    <tr>\n",
              "      <th>2018-01-11</th>\n",
              "      <td>-4.011752</td>\n",
              "      <td>3.515817</td>\n",
              "      <td>10.273805</td>\n",
              "      <td>16.814164</td>\n",
              "      <td>2.676216</td>\n",
              "      <td>0.688452</td>\n",
              "    </tr>\n",
              "    <tr>\n",
              "      <th>2018-01-16</th>\n",
              "      <td>-8.086979</td>\n",
              "      <td>-2.154098</td>\n",
              "      <td>-5.273566</td>\n",
              "      <td>-8.465089</td>\n",
              "      <td>-8.443470</td>\n",
              "      <td>1.628598</td>\n",
              "    </tr>\n",
              "    <tr>\n",
              "      <th>2018-01-31</th>\n",
              "      <td>-10.536049</td>\n",
              "      <td>-11.788001</td>\n",
              "      <td>3.456273</td>\n",
              "      <td>-8.708167</td>\n",
              "      <td>-20.268636</td>\n",
              "      <td>0.138626</td>\n",
              "    </tr>\n",
              "    <tr>\n",
              "      <th>2018-02-05</th>\n",
              "      <td>-8.966940</td>\n",
              "      <td>1.188430</td>\n",
              "      <td>-13.475338</td>\n",
              "      <td>-6.740241</td>\n",
              "      <td>-4.551178</td>\n",
              "      <td>0.352538</td>\n",
              "    </tr>\n",
              "    <tr>\n",
              "      <th>2018-02-15</th>\n",
              "      <td>11.393545</td>\n",
              "      <td>-8.195226</td>\n",
              "      <td>2.176728</td>\n",
              "      <td>2.071003</td>\n",
              "      <td>0.105380</td>\n",
              "      <td>1.059428</td>\n",
              "    </tr>\n",
              "    <tr>\n",
              "      <th>2018-02-20</th>\n",
              "      <td>-3.993464</td>\n",
              "      <td>0.838671</td>\n",
              "      <td>-2.028912</td>\n",
              "      <td>0.248450</td>\n",
              "      <td>0.000000</td>\n",
              "      <td>0.111022</td>\n",
              "    </tr>\n",
              "    <tr>\n",
              "      <th>2018-03-07</th>\n",
              "      <td>3.989797</td>\n",
              "      <td>-12.729072</td>\n",
              "      <td>2.019161</td>\n",
              "      <td>-14.332925</td>\n",
              "      <td>-19.789484</td>\n",
              "      <td>-0.227248</td>\n",
              "    </tr>\n",
              "    <tr>\n",
              "      <th>2018-03-12</th>\n",
              "      <td>8.897962</td>\n",
              "      <td>14.020360</td>\n",
              "      <td>0.050744</td>\n",
              "      <td>0.000000</td>\n",
              "      <td>-5.774273</td>\n",
              "      <td>-0.867334</td>\n",
              "    </tr>\n",
              "    <tr>\n",
              "      <th>2018-03-22</th>\n",
              "      <td>-12.556218</td>\n",
              "      <td>3.357413</td>\n",
              "      <td>-5.199087</td>\n",
              "      <td>10.848602</td>\n",
              "      <td>-11.977712</td>\n",
              "      <td>0.545907</td>\n",
              "    </tr>\n",
              "    <tr>\n",
              "      <th>2018-03-27</th>\n",
              "      <td>-0.728676</td>\n",
              "      <td>0.918312</td>\n",
              "      <td>-1.792398</td>\n",
              "      <td>-1.304915</td>\n",
              "      <td>-5.300636</td>\n",
              "      <td>0.875654</td>\n",
              "    </tr>\n",
              "  </tbody>\n",
              "</table>\n",
              "</div>\n",
              "      <button class=\"colab-df-convert\" onclick=\"convertToInteractive('df-349e07d2-c6a2-4905-9290-9d4626bfc262')\"\n",
              "              title=\"Convert this dataframe to an interactive table.\"\n",
              "              style=\"display:none;\">\n",
              "        \n",
              "  <svg xmlns=\"http://www.w3.org/2000/svg\" height=\"24px\"viewBox=\"0 0 24 24\"\n",
              "       width=\"24px\">\n",
              "    <path d=\"M0 0h24v24H0V0z\" fill=\"none\"/>\n",
              "    <path d=\"M18.56 5.44l.94 2.06.94-2.06 2.06-.94-2.06-.94-.94-2.06-.94 2.06-2.06.94zm-11 1L8.5 8.5l.94-2.06 2.06-.94-2.06-.94L8.5 2.5l-.94 2.06-2.06.94zm10 10l.94 2.06.94-2.06 2.06-.94-2.06-.94-.94-2.06-.94 2.06-2.06.94z\"/><path d=\"M17.41 7.96l-1.37-1.37c-.4-.4-.92-.59-1.43-.59-.52 0-1.04.2-1.43.59L10.3 9.45l-7.72 7.72c-.78.78-.78 2.05 0 2.83L4 21.41c.39.39.9.59 1.41.59.51 0 1.02-.2 1.41-.59l7.78-7.78 2.81-2.81c.8-.78.8-2.07 0-2.86zM5.41 20L4 18.59l7.72-7.72 1.47 1.35L5.41 20z\"/>\n",
              "  </svg>\n",
              "      </button>\n",
              "      \n",
              "  <style>\n",
              "    .colab-df-container {\n",
              "      display:flex;\n",
              "      flex-wrap:wrap;\n",
              "      gap: 12px;\n",
              "    }\n",
              "\n",
              "    .colab-df-convert {\n",
              "      background-color: #E8F0FE;\n",
              "      border: none;\n",
              "      border-radius: 50%;\n",
              "      cursor: pointer;\n",
              "      display: none;\n",
              "      fill: #1967D2;\n",
              "      height: 32px;\n",
              "      padding: 0 0 0 0;\n",
              "      width: 32px;\n",
              "    }\n",
              "\n",
              "    .colab-df-convert:hover {\n",
              "      background-color: #E2EBFA;\n",
              "      box-shadow: 0px 1px 2px rgba(60, 64, 67, 0.3), 0px 1px 3px 1px rgba(60, 64, 67, 0.15);\n",
              "      fill: #174EA6;\n",
              "    }\n",
              "\n",
              "    [theme=dark] .colab-df-convert {\n",
              "      background-color: #3B4455;\n",
              "      fill: #D2E3FC;\n",
              "    }\n",
              "\n",
              "    [theme=dark] .colab-df-convert:hover {\n",
              "      background-color: #434B5C;\n",
              "      box-shadow: 0px 1px 3px 1px rgba(0, 0, 0, 0.15);\n",
              "      filter: drop-shadow(0px 1px 2px rgba(0, 0, 0, 0.3));\n",
              "      fill: #FFFFFF;\n",
              "    }\n",
              "  </style>\n",
              "\n",
              "      <script>\n",
              "        const buttonEl =\n",
              "          document.querySelector('#df-349e07d2-c6a2-4905-9290-9d4626bfc262 button.colab-df-convert');\n",
              "        buttonEl.style.display =\n",
              "          google.colab.kernel.accessAllowed ? 'block' : 'none';\n",
              "\n",
              "        async function convertToInteractive(key) {\n",
              "          const element = document.querySelector('#df-349e07d2-c6a2-4905-9290-9d4626bfc262');\n",
              "          const dataTable =\n",
              "            await google.colab.kernel.invokeFunction('convertToInteractive',\n",
              "                                                     [key], {});\n",
              "          if (!dataTable) return;\n",
              "\n",
              "          const docLinkHtml = 'Like what you see? Visit the ' +\n",
              "            '<a target=\"_blank\" href=https://colab.research.google.com/notebooks/data_table.ipynb>data table notebook</a>'\n",
              "            + ' to learn more about interactive tables.';\n",
              "          element.innerHTML = '';\n",
              "          dataTable['output_type'] = 'display_data';\n",
              "          await google.colab.output.renderOutput(dataTable, element);\n",
              "          const docLink = document.createElement('div');\n",
              "          docLink.innerHTML = docLinkHtml;\n",
              "          element.appendChild(docLink);\n",
              "        }\n",
              "      </script>\n",
              "    </div>\n",
              "  </div>\n",
              "  "
            ]
          },
          "metadata": {},
          "execution_count": 112
        }
      ],
      "source": [
        "df1"
      ]
    },
    {
      "cell_type": "code",
      "execution_count": 130,
      "metadata": {
        "id": "L0fqY3iRzQva"
      },
      "outputs": [],
      "source": [
        "import matplotlib.pyplot as plt\n",
        "%matplotlib inline"
      ]
    },
    {
      "cell_type": "code",
      "execution_count": 131,
      "metadata": {
        "id": "L_0XDophzj9X"
      },
      "outputs": [],
      "source": [
        "df1 = df1.set_axis(stx,axis = 1)"
      ]
    },
    {
      "cell_type": "code",
      "execution_count": 132,
      "metadata": {
        "id": "AQ8rdA02zwwo",
        "colab": {
          "base_uri": "https://localhost:8080/",
          "height": 283
        },
        "outputId": "9c50ca20-c974-43b8-ca93-13d6ee4c9c08"
      },
      "outputs": [
        {
          "output_type": "execute_result",
          "data": {
            "text/plain": [
              "<matplotlib.axes._subplots.AxesSubplot at 0x7f30f1f2dbd0>"
            ]
          },
          "metadata": {},
          "execution_count": 132
        },
        {
          "output_type": "display_data",
          "data": {
            "text/plain": [
              "<Figure size 432x288 with 1 Axes>"
            ],
            "image/png": "[encoded data removed]"
          },
          "metadata": {
            "needs_background": "light"
          }
        }
      ],
      "source": [
        "df1['ZENTEC'].plot.hist(bins = 300)\n"
      ]
    },
    {
      "cell_type": "markdown",
      "metadata": {
        "id": "pXmWljwA2N4j"
      },
      "source": [
        ""
      ]
    },
    {
      "cell_type": "code",
      "execution_count": 133,
      "metadata": {
        "id": "4t4YB1Iq0IBx",
        "colab": {
          "base_uri": "https://localhost:8080/",
          "height": 283
        },
        "outputId": "595f8701-120a-4dd9-aa2f-4d2711e2e443"
      },
      "outputs": [
        {
          "output_type": "execute_result",
          "data": {
            "text/plain": [
              "<matplotlib.axes._subplots.AxesSubplot at 0x7f30f165cd90>"
            ]
          },
          "metadata": {},
          "execution_count": 133
        },
        {
          "output_type": "display_data",
          "data": {
            "text/plain": [
              "<Figure size 432x288 with 1 Axes>"
            ],
            "image/png": "[encoded data removed]"
          },
          "metadata": {
            "needs_background": "light"
          }
        }
      ],
      "source": [
        "df1['TEJASNET'].plot.hist(bins = 300)\n"
      ]
    },
    {
      "cell_type": "code",
      "execution_count": 134,
      "metadata": {
        "id": "RbQxFBJA0xR0",
        "colab": {
          "base_uri": "https://localhost:8080/",
          "height": 283
        },
        "outputId": "022f8040-532f-4a91-ee91-745a3c10b3dd"
      },
      "outputs": [
        {
          "output_type": "execute_result",
          "data": {
            "text/plain": [
              "<matplotlib.axes._subplots.AxesSubplot at 0x7f30f13a3a90>"
            ]
          },
          "metadata": {},
          "execution_count": 134
        },
        {
          "output_type": "display_data",
          "data": {
            "text/plain": [
              "<Figure size 432x288 with 1 Axes>"
            ],
            "image/png": "[encoded data removed]"
          },
          "metadata": {
            "needs_background": "light"
          }
        }
      ],
      "source": [
        "df1['GOLDBEES'].plot.hist(bins = 300)\n"
      ]
    },
    {
      "cell_type": "code",
      "execution_count": 135,
      "metadata": {
        "id": "ObVJ1sln0O64",
        "colab": {
          "base_uri": "https://localhost:8080/",
          "height": 283
        },
        "outputId": "5255b8e6-d8d5-437b-c1ff-44d21801dc6f"
      },
      "outputs": [
        {
          "output_type": "execute_result",
          "data": {
            "text/plain": [
              "<matplotlib.axes._subplots.AxesSubplot at 0x7f30f0fe8c10>"
            ]
          },
          "metadata": {},
          "execution_count": 135
        },
        {
          "output_type": "display_data",
          "data": {
            "text/plain": [
              "<Figure size 432x288 with 1 Axes>"
            ],
            "image/png": "[encoded data removed]"
          },
          "metadata": {
            "needs_background": "light"
          }
        }
      ],
      "source": [
        "df1['OLECTRA'].plot.hist(bins = 300)\n"
      ]
    },
    {
      "cell_type": "code",
      "execution_count": 136,
      "metadata": {
        "id": "AAcQwXay1CDu",
        "colab": {
          "base_uri": "https://localhost:8080/",
          "height": 283
        },
        "outputId": "4cf08c3a-4b99-4b87-e9ee-6aa05de67d5e"
      },
      "outputs": [
        {
          "output_type": "execute_result",
          "data": {
            "text/plain": [
              "<matplotlib.axes._subplots.AxesSubplot at 0x7f30f1c77f10>"
            ]
          },
          "metadata": {},
          "execution_count": 136
        },
        {
          "output_type": "display_data",
          "data": {
            "text/plain": [
              "<Figure size 432x288 with 1 Axes>"
            ],
            "image/png": "[encoded data removed]"
          },
          "metadata": {
            "needs_background": "light"
          }
        }
      ],
      "source": [
        "df1['BLS'].plot.hist(bins = 300)"
      ]
    },
    {
      "cell_type": "code",
      "execution_count": 137,
      "metadata": {
        "id": "KBqTTm501HnP"
      },
      "outputs": [],
      "source": [
        "#TO DISCUSS PORTFOLIO OPTIMIZATION TECCHNIQUES - \n"
      ]
    },
    {
      "cell_type": "markdown",
      "metadata": {
        "id": "jNlcY3k-r836"
      },
      "source": [
        "SORTINO OPTIMIZATION, MAXIMISING TREYNOR RATIO OPTIMISATION, WALK FORWARD OPTIMISATION\n"
      ]
    }
  ],
  "metadata": {
    "colab": {
      "collapsed_sections": [],
      "name": "quant2_portfolio_optim.ipynb",
      "provenance": [],
      "authorship_tag": "ABX9TyNra+ZVv01IWNF6I/r0lNAm",
      "include_colab_link": true
    },
    "kernelspec": {
      "display_name": "Python 3",
      "name": "python3"
    },
    "language_info": {
      "name": "python"
    }
  },
  "nbformat": 4,
  "nbformat_minor": 0
}