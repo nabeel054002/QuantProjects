{
  "nbformat": 4,
  "nbformat_minor": 0,
  "metadata": {
    "colab": {
      "name": "ARIMA_model.ipynb",
      "provenance": [],
      "collapsed_sections": [],
      "authorship_tag": "ABX9TyO6bXJ1uKV1tZLMvGP9F7bv",
      "include_colab_link": true
    },
    "kernelspec": {
      "name": "python3",
      "display_name": "Python 3"
    },
    "language_info": {
      "name": "python"
    }
  },
  "cells": [
    {
      "cell_type": "markdown",
      "metadata": {
        "id": "view-in-github",
        "colab_type": "text"
      },
      "source": [
        "<a href=\"https://colab.research.google.com/github/nkhan054002/QuantProjects/blob/main/ARIMA_model.ipynb\" target=\"_parent\"><img src=\"https://colab.research.google.com/assets/colab-badge.svg\" alt=\"Open In Colab\"/></a>"
      ]
    },
    {
      "cell_type": "code",
      "execution_count": null,
      "metadata": {
        "id": "W49kk-B9S1HJ"
      },
      "outputs": [],
      "source": [
        "##needs stationary models"
      ]
    },
    {
      "cell_type": "code",
      "source": [
        "#https://stats.stackexchange.com/questions/129052/acf-and-pacf-formula\n",
        "##for correlation and autocorrelation math/reason behind it\n",
        "#https://youtu.be/Icl9_46_RZY\n",
        "##for diffnt ARIMA models and when to use and what is p,d,q\n",
        "##p is order of AR part and q is order of MA part\n",
        "##instead of doing difference operations successively why not do the d>1 operations on the original dataframe - otherwise we will miss out on more datapointd - or maybe not lol\n",
        "##p comes out from pacf plot\n",
        "##q comes from the acf plot \n",
        "##p and q refer to the index of the last most statistically significant term// other than delay = 0"
      ],
      "metadata": {
        "id": "9bIfnUqJYytL"
      },
      "execution_count": null,
      "outputs": []
    },
    {
      "cell_type": "code",
      "source": [
        "pip install yfinance"
      ],
      "metadata": {
        "colab": {
          "base_uri": "https://localhost:8080/"
        },
        "id": "3URXnU04rsS4",
        "outputId": "3a1e53a4-b560-4ec6-8e42-64ae21a89fa8"
      },
      "execution_count": null,
      "outputs": [
        {
          "output_type": "stream",
          "name": "stdout",
          "text": [
            "Collecting yfinance\n",
            "  Downloading yfinance-0.1.67-py2.py3-none-any.whl (25 kB)\n",
            "Requirement already satisfied: numpy>=1.15 in /usr/local/lib/python3.7/dist-packages (from yfinance) (1.19.5)\n",
            "Requirement already satisfied: requests>=2.20 in /usr/local/lib/python3.7/dist-packages (from yfinance) (2.23.0)\n",
            "Requirement already satisfied: pandas>=0.24 in /usr/local/lib/python3.7/dist-packages (from yfinance) (1.1.5)\n",
            "Requirement already satisfied: multitasking>=0.0.7 in /usr/local/lib/python3.7/dist-packages (from yfinance) (0.0.10)\n",
            "Collecting lxml>=4.5.1\n",
            "  Downloading lxml-4.6.4-cp37-cp37m-manylinux_2_17_x86_64.manylinux2014_x86_64.manylinux_2_24_x86_64.whl (6.3 MB)\n",
            "\u001b[K     |████████████████████████████████| 6.3 MB 7.4 MB/s \n",
            "\u001b[?25hRequirement already satisfied: python-dateutil>=2.7.3 in /usr/local/lib/python3.7/dist-packages (from pandas>=0.24->yfinance) (2.8.2)\n",
            "Requirement already satisfied: pytz>=2017.2 in /usr/local/lib/python3.7/dist-packages (from pandas>=0.24->yfinance) (2018.9)\n",
            "Requirement already satisfied: six>=1.5 in /usr/local/lib/python3.7/dist-packages (from python-dateutil>=2.7.3->pandas>=0.24->yfinance) (1.15.0)\n",
            "Requirement already satisfied: certifi>=2017.4.17 in /usr/local/lib/python3.7/dist-packages (from requests>=2.20->yfinance) (2021.10.8)\n",
            "Requirement already satisfied: urllib3!=1.25.0,!=1.25.1,<1.26,>=1.21.1 in /usr/local/lib/python3.7/dist-packages (from requests>=2.20->yfinance) (1.24.3)\n",
            "Requirement already satisfied: chardet<4,>=3.0.2 in /usr/local/lib/python3.7/dist-packages (from requests>=2.20->yfinance) (3.0.4)\n",
            "Requirement already satisfied: idna<3,>=2.5 in /usr/local/lib/python3.7/dist-packages (from requests>=2.20->yfinance) (2.10)\n",
            "Installing collected packages: lxml, yfinance\n",
            "  Attempting uninstall: lxml\n",
            "    Found existing installation: lxml 4.2.6\n",
            "    Uninstalling lxml-4.2.6:\n",
            "      Successfully uninstalled lxml-4.2.6\n",
            "Successfully installed lxml-4.6.4 yfinance-0.1.67\n"
          ]
        }
      ]
    },
    {
      "cell_type": "code",
      "source": [
        "import yfinance as yf\n",
        "import pandas as pd\n",
        "from datetime import date\n",
        "from statsmodels.graphics.tsaplots import plot_acf, plot_pacf\n",
        "from statsmodels.tsa.stattools import adfuller, kpss"
      ],
      "metadata": {
        "id": "4Y0KWu6brnYk",
        "outputId": "4f2a3f2e-7f3e-4ba8-d3c0-ade8c3142aed",
        "colab": {
          "base_uri": "https://localhost:8080/"
        }
      },
      "execution_count": null,
      "outputs": [
        {
          "output_type": "stream",
          "name": "stderr",
          "text": [
            "/usr/local/lib/python3.7/dist-packages/statsmodels/tools/_testing.py:19: FutureWarning: pandas.util.testing is deprecated. Use the functions in the public API at pandas.testing instead.\n",
            "  import pandas.util.testing as tm\n"
          ]
        }
      ]
    },
    {
      "cell_type": "code",
      "source": [
        "def adf_test(x):\n",
        "    '''\n",
        "    Function for performing the Augmented Dickey-Fuller test for stationarity\n",
        "    \n",
        "    Null Hypothesis: time series is not stationary\n",
        "    Alternate Hypothesis: time series is stationary\n",
        "    \n",
        "    Parameters\n",
        "    ----------\n",
        "    x : pd.Series / np.array\n",
        "    The time series to be checked for stationarity\n",
        "    \n",
        "    Returns\n",
        "    -------\n",
        "    results: pd.DataFrame\n",
        "    A DataFrame with the ADF test's results\n",
        "    '''\n",
        "    \n",
        "    indices = ['Test Statistic', 'p-value',\n",
        "               '# of Lags Used', '# of Observations Used']\n",
        "    \n",
        "    adf_test = adfuller(x, autolag='AIC')\n",
        "    results = pd.Series(adf_test[0:4], index=indices)\n",
        "    \n",
        "    for key, value in adf_test[4].items():\n",
        "        results[f'Critical Value ({key})'] = value\n",
        "    \n",
        "    return results"
      ],
      "metadata": {
        "id": "N2AuotRTixoY"
      },
      "execution_count": null,
      "outputs": []
    },
    {
      "cell_type": "code",
      "source": [
        "df = yf.download(tickers = 'AAPL', start = '2010-09-09', end = '2017-09-09')\n",
        "df = df.loc[:,['Adj Close']]\n",
        "df.rename(columns = {'Adj Close': 'price'}, inplace = True)\n",
        "df"
      ],
      "metadata": {
        "colab": {
          "base_uri": "https://localhost:8080/",
          "height": 467
        },
        "id": "ibeciox_rxjh",
        "outputId": "e8ee4e42-3877-461a-ea84-8c2ae8ef8ec7"
      },
      "execution_count": null,
      "outputs": [
        {
          "output_type": "stream",
          "name": "stdout",
          "text": [
            "\r[*********************100%***********************]  1 of 1 completed\n"
          ]
        },
        {
          "output_type": "execute_result",
          "data": {
            "text/html": [
              "<div>\n",
              "<style scoped>\n",
              "    .dataframe tbody tr th:only-of-type {\n",
              "        vertical-align: middle;\n",
              "    }\n",
              "\n",
              "    .dataframe tbody tr th {\n",
              "        vertical-align: top;\n",
              "    }\n",
              "\n",
              "    .dataframe thead th {\n",
              "        text-align: right;\n",
              "    }\n",
              "</style>\n",
              "<table border=\"1\" class=\"dataframe\">\n",
              "  <thead>\n",
              "    <tr style=\"text-align: right;\">\n",
              "      <th></th>\n",
              "      <th>price</th>\n",
              "    </tr>\n",
              "    <tr>\n",
              "      <th>Date</th>\n",
              "      <th></th>\n",
              "    </tr>\n",
              "  </thead>\n",
              "  <tbody>\n",
              "    <tr>\n",
              "      <th>2010-09-09</th>\n",
              "      <td>35.831242</td>\n",
              "    </tr>\n",
              "    <tr>\n",
              "      <th>2010-09-10</th>\n",
              "      <td>35.877548</td>\n",
              "    </tr>\n",
              "    <tr>\n",
              "      <th>2010-09-13</th>\n",
              "      <td>36.371960</td>\n",
              "    </tr>\n",
              "    <tr>\n",
              "      <th>2010-09-14</th>\n",
              "      <td>36.510902</td>\n",
              "    </tr>\n",
              "    <tr>\n",
              "      <th>2010-09-15</th>\n",
              "      <td>36.805088</td>\n",
              "    </tr>\n",
              "    <tr>\n",
              "      <th>...</th>\n",
              "      <td>...</td>\n",
              "    </tr>\n",
              "    <tr>\n",
              "      <th>2017-09-01</th>\n",
              "      <td>160.591751</td>\n",
              "    </tr>\n",
              "    <tr>\n",
              "      <th>2017-09-05</th>\n",
              "      <td>158.663330</td>\n",
              "    </tr>\n",
              "    <tr>\n",
              "      <th>2017-09-06</th>\n",
              "      <td>158.496887</td>\n",
              "    </tr>\n",
              "    <tr>\n",
              "      <th>2017-09-07</th>\n",
              "      <td>157.860596</td>\n",
              "    </tr>\n",
              "    <tr>\n",
              "      <th>2017-09-08</th>\n",
              "      <td>155.286026</td>\n",
              "    </tr>\n",
              "  </tbody>\n",
              "</table>\n",
              "<p>1763 rows × 1 columns</p>\n",
              "</div>"
            ],
            "text/plain": [
              "                 price\n",
              "Date                  \n",
              "2010-09-09   35.831242\n",
              "2010-09-10   35.877548\n",
              "2010-09-13   36.371960\n",
              "2010-09-14   36.510902\n",
              "2010-09-15   36.805088\n",
              "...                ...\n",
              "2017-09-01  160.591751\n",
              "2017-09-05  158.663330\n",
              "2017-09-06  158.496887\n",
              "2017-09-07  157.860596\n",
              "2017-09-08  155.286026\n",
              "\n",
              "[1763 rows x 1 columns]"
            ]
          },
          "metadata": {},
          "execution_count": 6
        }
      ]
    },
    {
      "cell_type": "code",
      "source": [
        "##try modelling aapl prices like so "
      ],
      "metadata": {
        "id": "uA12Xp1gr-vv"
      },
      "execution_count": null,
      "outputs": []
    },
    {
      "cell_type": "code",
      "source": [
        "adf_test(df['price'])\n",
        "##takes a series\n",
        "##not stationary"
      ],
      "metadata": {
        "colab": {
          "base_uri": "https://localhost:8080/"
        },
        "id": "BUqF6fGTsUaF",
        "outputId": "0b33f8f5-667f-4560-bbe5-c5b67d2d5a14"
      },
      "execution_count": null,
      "outputs": [
        {
          "output_type": "execute_result",
          "data": {
            "text/plain": [
              "Test Statistic              -0.371353\n",
              "p-value                      0.914773\n",
              "# of Lags Used               0.000000\n",
              "# of Observations Used    1762.000000\n",
              "Critical Value (1%)         -3.434067\n",
              "Critical Value (5%)         -2.863182\n",
              "Critical Value (10%)        -2.567644\n",
              "dtype: float64"
            ]
          },
          "metadata": {},
          "execution_count": 8
        }
      ]
    },
    {
      "cell_type": "code",
      "source": [
        "df['diff'] = df.price - df.price.shift(1)\n",
        "df.dropna(inplace = True)\n",
        "df"
      ],
      "metadata": {
        "colab": {
          "base_uri": "https://localhost:8080/",
          "height": 450
        },
        "id": "ST_iRBCNsjIN",
        "outputId": "26037c74-3923-4b20-af79-3d33dfb9bf6d"
      },
      "execution_count": null,
      "outputs": [
        {
          "output_type": "execute_result",
          "data": {
            "text/html": [
              "<div>\n",
              "<style scoped>\n",
              "    .dataframe tbody tr th:only-of-type {\n",
              "        vertical-align: middle;\n",
              "    }\n",
              "\n",
              "    .dataframe tbody tr th {\n",
              "        vertical-align: top;\n",
              "    }\n",
              "\n",
              "    .dataframe thead th {\n",
              "        text-align: right;\n",
              "    }\n",
              "</style>\n",
              "<table border=\"1\" class=\"dataframe\">\n",
              "  <thead>\n",
              "    <tr style=\"text-align: right;\">\n",
              "      <th></th>\n",
              "      <th>price</th>\n",
              "      <th>diff</th>\n",
              "    </tr>\n",
              "    <tr>\n",
              "      <th>Date</th>\n",
              "      <th></th>\n",
              "      <th></th>\n",
              "    </tr>\n",
              "  </thead>\n",
              "  <tbody>\n",
              "    <tr>\n",
              "      <th>2010-09-10</th>\n",
              "      <td>35.877548</td>\n",
              "      <td>0.046307</td>\n",
              "    </tr>\n",
              "    <tr>\n",
              "      <th>2010-09-13</th>\n",
              "      <td>36.371960</td>\n",
              "      <td>0.494411</td>\n",
              "    </tr>\n",
              "    <tr>\n",
              "      <th>2010-09-14</th>\n",
              "      <td>36.510902</td>\n",
              "      <td>0.138943</td>\n",
              "    </tr>\n",
              "    <tr>\n",
              "      <th>2010-09-15</th>\n",
              "      <td>36.805088</td>\n",
              "      <td>0.294186</td>\n",
              "    </tr>\n",
              "    <tr>\n",
              "      <th>2010-09-16</th>\n",
              "      <td>37.669987</td>\n",
              "      <td>0.864899</td>\n",
              "    </tr>\n",
              "    <tr>\n",
              "      <th>...</th>\n",
              "      <td>...</td>\n",
              "      <td>...</td>\n",
              "    </tr>\n",
              "    <tr>\n",
              "      <th>2017-09-01</th>\n",
              "      <td>160.591751</td>\n",
              "      <td>0.048904</td>\n",
              "    </tr>\n",
              "    <tr>\n",
              "      <th>2017-09-05</th>\n",
              "      <td>158.663330</td>\n",
              "      <td>-1.928421</td>\n",
              "    </tr>\n",
              "    <tr>\n",
              "      <th>2017-09-06</th>\n",
              "      <td>158.496887</td>\n",
              "      <td>-0.166443</td>\n",
              "    </tr>\n",
              "    <tr>\n",
              "      <th>2017-09-07</th>\n",
              "      <td>157.860596</td>\n",
              "      <td>-0.636292</td>\n",
              "    </tr>\n",
              "    <tr>\n",
              "      <th>2017-09-08</th>\n",
              "      <td>155.286026</td>\n",
              "      <td>-2.574570</td>\n",
              "    </tr>\n",
              "  </tbody>\n",
              "</table>\n",
              "<p>1762 rows × 2 columns</p>\n",
              "</div>"
            ],
            "text/plain": [
              "                 price      diff\n",
              "Date                            \n",
              "2010-09-10   35.877548  0.046307\n",
              "2010-09-13   36.371960  0.494411\n",
              "2010-09-14   36.510902  0.138943\n",
              "2010-09-15   36.805088  0.294186\n",
              "2010-09-16   37.669987  0.864899\n",
              "...                ...       ...\n",
              "2017-09-01  160.591751  0.048904\n",
              "2017-09-05  158.663330 -1.928421\n",
              "2017-09-06  158.496887 -0.166443\n",
              "2017-09-07  157.860596 -0.636292\n",
              "2017-09-08  155.286026 -2.574570\n",
              "\n",
              "[1762 rows x 2 columns]"
            ]
          },
          "metadata": {},
          "execution_count": 9
        }
      ]
    },
    {
      "cell_type": "code",
      "source": [
        "adf_test(df['diff'])\n",
        "##defo stationary"
      ],
      "metadata": {
        "colab": {
          "base_uri": "https://localhost:8080/"
        },
        "id": "jVTK2O7ls0Yw",
        "outputId": "590c1588-4c20-45f1-fe34-8725ba5941bd"
      },
      "execution_count": null,
      "outputs": [
        {
          "output_type": "execute_result",
          "data": {
            "text/plain": [
              "Test Statistic             -41.306911\n",
              "p-value                      0.000000\n",
              "# of Lags Used               0.000000\n",
              "# of Observations Used    1761.000000\n",
              "Critical Value (1%)         -3.434069\n",
              "Critical Value (5%)         -2.863183\n",
              "Critical Value (10%)        -2.567645\n",
              "dtype: float64"
            ]
          },
          "metadata": {},
          "execution_count": 10
        }
      ]
    },
    {
      "cell_type": "code",
      "source": [
        "import statsmodels.tsa.api as smt\n",
        "acf = smt.graphics.plot_acf(df['diff'])\n",
        "##no "
      ],
      "metadata": {
        "colab": {
          "base_uri": "https://localhost:8080/",
          "height": 281
        },
        "id": "k1PQl9Uzs5GP",
        "outputId": "a38ca31f-4fe1-4cd5-b76b-8b5af2f21b56"
      },
      "execution_count": null,
      "outputs": [
        {
          "output_type": "display_data",
          "data": {
            "image/png": "[encoded data removed]",
            "text/plain": [
              "<Figure size 432x288 with 1 Axes>"
            ]
          },
          "metadata": {
            "needs_background": "light"
          }
        }
      ]
    },
    {
      "cell_type": "code",
      "source": [
        "n = int(0.8*len(df))\n",
        "df_train = df[:n]\n",
        "df_test = df[n:]"
      ],
      "metadata": {
        "id": "7D-vwXoXv97m"
      },
      "execution_count": null,
      "outputs": []
    },
    {
      "cell_type": "code",
      "source": [
        "df_train"
      ],
      "metadata": {
        "colab": {
          "base_uri": "https://localhost:8080/",
          "height": 450
        },
        "id": "9Knz14UTwNVK",
        "outputId": "c321599b-ef6f-440f-a919-338ad7b1b479"
      },
      "execution_count": null,
      "outputs": [
        {
          "output_type": "execute_result",
          "data": {
            "text/html": [
              "<div>\n",
              "<style scoped>\n",
              "    .dataframe tbody tr th:only-of-type {\n",
              "        vertical-align: middle;\n",
              "    }\n",
              "\n",
              "    .dataframe tbody tr th {\n",
              "        vertical-align: top;\n",
              "    }\n",
              "\n",
              "    .dataframe thead th {\n",
              "        text-align: right;\n",
              "    }\n",
              "</style>\n",
              "<table border=\"1\" class=\"dataframe\">\n",
              "  <thead>\n",
              "    <tr style=\"text-align: right;\">\n",
              "      <th></th>\n",
              "      <th>price</th>\n",
              "      <th>diff</th>\n",
              "    </tr>\n",
              "    <tr>\n",
              "      <th>Date</th>\n",
              "      <th></th>\n",
              "      <th></th>\n",
              "    </tr>\n",
              "  </thead>\n",
              "  <tbody>\n",
              "    <tr>\n",
              "      <th>2010-09-10</th>\n",
              "      <td>35.877548</td>\n",
              "      <td>0.046307</td>\n",
              "    </tr>\n",
              "    <tr>\n",
              "      <th>2010-09-13</th>\n",
              "      <td>36.371960</td>\n",
              "      <td>0.494411</td>\n",
              "    </tr>\n",
              "    <tr>\n",
              "      <th>2010-09-14</th>\n",
              "      <td>36.510902</td>\n",
              "      <td>0.138943</td>\n",
              "    </tr>\n",
              "    <tr>\n",
              "      <th>2010-09-15</th>\n",
              "      <td>36.805088</td>\n",
              "      <td>0.294186</td>\n",
              "    </tr>\n",
              "    <tr>\n",
              "      <th>2010-09-16</th>\n",
              "      <td>37.669987</td>\n",
              "      <td>0.864899</td>\n",
              "    </tr>\n",
              "    <tr>\n",
              "      <th>...</th>\n",
              "      <td>...</td>\n",
              "      <td>...</td>\n",
              "    </tr>\n",
              "    <tr>\n",
              "      <th>2016-04-11</th>\n",
              "      <td>105.953430</td>\n",
              "      <td>0.349846</td>\n",
              "    </tr>\n",
              "    <tr>\n",
              "      <th>2016-04-12</th>\n",
              "      <td>107.333488</td>\n",
              "      <td>1.380058</td>\n",
              "    </tr>\n",
              "    <tr>\n",
              "      <th>2016-04-13</th>\n",
              "      <td>108.888489</td>\n",
              "      <td>1.555000</td>\n",
              "    </tr>\n",
              "    <tr>\n",
              "      <th>2016-04-14</th>\n",
              "      <td>108.946800</td>\n",
              "      <td>0.058311</td>\n",
              "    </tr>\n",
              "    <tr>\n",
              "      <th>2016-04-15</th>\n",
              "      <td>106.760086</td>\n",
              "      <td>-2.186714</td>\n",
              "    </tr>\n",
              "  </tbody>\n",
              "</table>\n",
              "<p>1409 rows × 2 columns</p>\n",
              "</div>"
            ],
            "text/plain": [
              "                 price      diff\n",
              "Date                            \n",
              "2010-09-10   35.877548  0.046307\n",
              "2010-09-13   36.371960  0.494411\n",
              "2010-09-14   36.510902  0.138943\n",
              "2010-09-15   36.805088  0.294186\n",
              "2010-09-16   37.669987  0.864899\n",
              "...                ...       ...\n",
              "2016-04-11  105.953430  0.349846\n",
              "2016-04-12  107.333488  1.380058\n",
              "2016-04-13  108.888489  1.555000\n",
              "2016-04-14  108.946800  0.058311\n",
              "2016-04-15  106.760086 -2.186714\n",
              "\n",
              "[1409 rows x 2 columns]"
            ]
          },
          "metadata": {},
          "execution_count": 13
        }
      ]
    },
    {
      "cell_type": "code",
      "source": [
        "df_test"
      ],
      "metadata": {
        "colab": {
          "base_uri": "https://localhost:8080/",
          "height": 450
        },
        "id": "srGvZbeiwOdc",
        "outputId": "6e66d746-1db1-477a-eb67-8f6a8302e328"
      },
      "execution_count": null,
      "outputs": [
        {
          "output_type": "execute_result",
          "data": {
            "text/html": [
              "<div>\n",
              "<style scoped>\n",
              "    .dataframe tbody tr th:only-of-type {\n",
              "        vertical-align: middle;\n",
              "    }\n",
              "\n",
              "    .dataframe tbody tr th {\n",
              "        vertical-align: top;\n",
              "    }\n",
              "\n",
              "    .dataframe thead th {\n",
              "        text-align: right;\n",
              "    }\n",
              "</style>\n",
              "<table border=\"1\" class=\"dataframe\">\n",
              "  <thead>\n",
              "    <tr style=\"text-align: right;\">\n",
              "      <th></th>\n",
              "      <th>price</th>\n",
              "      <th>diff</th>\n",
              "    </tr>\n",
              "    <tr>\n",
              "      <th>Date</th>\n",
              "      <th></th>\n",
              "      <th></th>\n",
              "    </tr>\n",
              "  </thead>\n",
              "  <tbody>\n",
              "    <tr>\n",
              "      <th>2016-04-18</th>\n",
              "      <td>104.456757</td>\n",
              "      <td>-2.303329</td>\n",
              "    </tr>\n",
              "    <tr>\n",
              "      <th>2016-04-19</th>\n",
              "      <td>103.902794</td>\n",
              "      <td>-0.553963</td>\n",
              "    </tr>\n",
              "    <tr>\n",
              "      <th>2016-04-20</th>\n",
              "      <td>104.116592</td>\n",
              "      <td>0.213799</td>\n",
              "    </tr>\n",
              "    <tr>\n",
              "      <th>2016-04-21</th>\n",
              "      <td>102.989235</td>\n",
              "      <td>-1.127357</td>\n",
              "    </tr>\n",
              "    <tr>\n",
              "      <th>2016-04-22</th>\n",
              "      <td>102.707397</td>\n",
              "      <td>-0.281837</td>\n",
              "    </tr>\n",
              "    <tr>\n",
              "      <th>...</th>\n",
              "      <td>...</td>\n",
              "      <td>...</td>\n",
              "    </tr>\n",
              "    <tr>\n",
              "      <th>2017-09-01</th>\n",
              "      <td>160.591751</td>\n",
              "      <td>0.048904</td>\n",
              "    </tr>\n",
              "    <tr>\n",
              "      <th>2017-09-05</th>\n",
              "      <td>158.663330</td>\n",
              "      <td>-1.928421</td>\n",
              "    </tr>\n",
              "    <tr>\n",
              "      <th>2017-09-06</th>\n",
              "      <td>158.496887</td>\n",
              "      <td>-0.166443</td>\n",
              "    </tr>\n",
              "    <tr>\n",
              "      <th>2017-09-07</th>\n",
              "      <td>157.860596</td>\n",
              "      <td>-0.636292</td>\n",
              "    </tr>\n",
              "    <tr>\n",
              "      <th>2017-09-08</th>\n",
              "      <td>155.286026</td>\n",
              "      <td>-2.574570</td>\n",
              "    </tr>\n",
              "  </tbody>\n",
              "</table>\n",
              "<p>353 rows × 2 columns</p>\n",
              "</div>"
            ],
            "text/plain": [
              "                 price      diff\n",
              "Date                            \n",
              "2016-04-18  104.456757 -2.303329\n",
              "2016-04-19  103.902794 -0.553963\n",
              "2016-04-20  104.116592  0.213799\n",
              "2016-04-21  102.989235 -1.127357\n",
              "2016-04-22  102.707397 -0.281837\n",
              "...                ...       ...\n",
              "2017-09-01  160.591751  0.048904\n",
              "2017-09-05  158.663330 -1.928421\n",
              "2017-09-06  158.496887 -0.166443\n",
              "2017-09-07  157.860596 -0.636292\n",
              "2017-09-08  155.286026 -2.574570\n",
              "\n",
              "[353 rows x 2 columns]"
            ]
          },
          "metadata": {},
          "execution_count": 14
        }
      ]
    },
    {
      "cell_type": "code",
      "source": [
        "pacf = smt.graphics.plot_pacf(df['diff'])"
      ],
      "metadata": {
        "colab": {
          "base_uri": "https://localhost:8080/",
          "height": 281
        },
        "id": "21vVWb0dvB9V",
        "outputId": "7db98b2c-bb2d-49f9-fcfd-fd82d1c65e27"
      },
      "execution_count": null,
      "outputs": [
        {
          "output_type": "display_data",
          "data": {
            "image/png": "[encoded data removed]",
            "text/plain": [
              "<Figure size 432x288 with 1 Axes>"
            ]
          },
          "metadata": {
            "needs_background": "light"
          }
        }
      ]
    },
    {
      "cell_type": "code",
      "source": [
        "##p,q,d  = 0,0,1\n"
      ],
      "metadata": {
        "id": "8JgIJAjLvLgo"
      },
      "execution_count": null,
      "outputs": []
    },
    {
      "cell_type": "code",
      "source": [
        "from statsmodels.tsa.arima_model import ARIMA"
      ],
      "metadata": {
        "id": "GR5u_2N6vbx3"
      },
      "execution_count": null,
      "outputs": []
    },
    {
      "cell_type": "code",
      "source": [
        "model = ARIMA(df_train['diff'],order = (0,1,0))\n",
        "result = model.fit()"
      ],
      "metadata": {
        "colab": {
          "base_uri": "https://localhost:8080/"
        },
        "id": "GnRu12FmvnPB",
        "outputId": "49bacb5b-d9a6-4e71-8553-7b9191fc43af"
      },
      "execution_count": null,
      "outputs": [
        {
          "output_type": "stream",
          "name": "stderr",
          "text": [
            "/usr/local/lib/python3.7/dist-packages/statsmodels/tsa/base/tsa_model.py:219: ValueWarning: A date index has been provided, but it has no associated frequency information and so will be ignored when e.g. forecasting.\n",
            "  ' ignored when e.g. forecasting.', ValueWarning)\n",
            "/usr/local/lib/python3.7/dist-packages/statsmodels/tsa/base/tsa_model.py:219: ValueWarning: A date index has been provided, but it has no associated frequency information and so will be ignored when e.g. forecasting.\n",
            "  ' ignored when e.g. forecasting.', ValueWarning)\n"
          ]
        }
      ]
    },
    {
      "cell_type": "code",
      "source": [
        "m2 = ARIMA(df_train['diff'], order = (0,1,0)).fit()\n",
        "m2.summary()"
      ],
      "metadata": {
        "colab": {
          "base_uri": "https://localhost:8080/",
          "height": 298
        },
        "id": "f8tlNMR0woup",
        "outputId": "ff86fa23-3b48-4618-9564-a89bb2757948"
      },
      "execution_count": null,
      "outputs": [
        {
          "output_type": "stream",
          "name": "stderr",
          "text": [
            "/usr/local/lib/python3.7/dist-packages/statsmodels/tsa/base/tsa_model.py:219: ValueWarning: A date index has been provided, but it has no associated frequency information and so will be ignored when e.g. forecasting.\n",
            "  ' ignored when e.g. forecasting.', ValueWarning)\n",
            "/usr/local/lib/python3.7/dist-packages/statsmodels/tsa/base/tsa_model.py:219: ValueWarning: A date index has been provided, but it has no associated frequency information and so will be ignored when e.g. forecasting.\n",
            "  ' ignored when e.g. forecasting.', ValueWarning)\n"
          ]
        },
        {
          "output_type": "execute_result",
          "data": {
            "text/html": [
              "<table class=\"simpletable\">\n",
              "<caption>ARIMA Model Results</caption>\n",
              "<tr>\n",
              "  <th>Dep. Variable:</th>      <td>D.diff</td>      <th>  No. Observations:  </th>   <td>1408</td>   \n",
              "</tr>\n",
              "<tr>\n",
              "  <th>Model:</th>          <td>ARIMA(0, 1, 0)</td>  <th>  Log Likelihood     </th> <td>-2907.297</td>\n",
              "</tr>\n",
              "<tr>\n",
              "  <th>Method:</th>               <td>css</td>       <th>  S.D. of innovations</th>   <td>1.908</td>  \n",
              "</tr>\n",
              "<tr>\n",
              "  <th>Date:</th>          <td>Sun, 12 Dec 2021</td> <th>  AIC                </th> <td>5818.595</td> \n",
              "</tr>\n",
              "<tr>\n",
              "  <th>Time:</th>              <td>12:54:35</td>     <th>  BIC                </th> <td>5829.095</td> \n",
              "</tr>\n",
              "<tr>\n",
              "  <th>Sample:</th>                <td>1</td>        <th>  HQIC               </th> <td>5822.519</td> \n",
              "</tr>\n",
              "<tr>\n",
              "  <th></th>                       <td> </td>        <th>                     </th>     <td> </td>    \n",
              "</tr>\n",
              "</table>\n",
              "<table class=\"simpletable\">\n",
              "<tr>\n",
              "    <td></td>       <th>coef</th>     <th>std err</th>      <th>z</th>      <th>P>|z|</th>  <th>[0.025</th>    <th>0.975]</th>  \n",
              "</tr>\n",
              "<tr>\n",
              "  <th>const</th> <td>   -0.0016</td> <td>    0.051</td> <td>   -0.031</td> <td> 0.975</td> <td>   -0.101</td> <td>    0.098</td>\n",
              "</tr>\n",
              "</table>"
            ],
            "text/plain": [
              "<class 'statsmodels.iolib.summary.Summary'>\n",
              "\"\"\"\n",
              "                             ARIMA Model Results                              \n",
              "==============================================================================\n",
              "Dep. Variable:                 D.diff   No. Observations:                 1408\n",
              "Model:                 ARIMA(0, 1, 0)   Log Likelihood               -2907.297\n",
              "Method:                           css   S.D. of innovations              1.908\n",
              "Date:                Sun, 12 Dec 2021   AIC                           5818.595\n",
              "Time:                        12:54:35   BIC                           5829.095\n",
              "Sample:                             1   HQIC                          5822.519\n",
              "                                                                              \n",
              "==============================================================================\n",
              "                 coef    std err          z      P>|z|      [0.025      0.975]\n",
              "------------------------------------------------------------------------------\n",
              "const         -0.0016      0.051     -0.031      0.975      -0.101       0.098\n",
              "==============================================================================\n",
              "\"\"\""
            ]
          },
          "metadata": {},
          "execution_count": 19
        }
      ]
    },
    {
      "cell_type": "code",
      "source": [
        "result.summary()"
      ],
      "metadata": {
        "colab": {
          "base_uri": "https://localhost:8080/",
          "height": 210
        },
        "id": "NXGDWd25wl7k",
        "outputId": "27f93614-1e64-496b-9b24-8050f2ce4d2e"
      },
      "execution_count": null,
      "outputs": [
        {
          "output_type": "execute_result",
          "data": {
            "text/html": [
              "<table class=\"simpletable\">\n",
              "<caption>ARIMA Model Results</caption>\n",
              "<tr>\n",
              "  <th>Dep. Variable:</th>      <td>D.diff</td>      <th>  No. Observations:  </th>   <td>1408</td>   \n",
              "</tr>\n",
              "<tr>\n",
              "  <th>Model:</th>          <td>ARIMA(0, 1, 0)</td>  <th>  Log Likelihood     </th> <td>-2907.297</td>\n",
              "</tr>\n",
              "<tr>\n",
              "  <th>Method:</th>               <td>css</td>       <th>  S.D. of innovations</th>   <td>1.908</td>  \n",
              "</tr>\n",
              "<tr>\n",
              "  <th>Date:</th>          <td>Sun, 12 Dec 2021</td> <th>  AIC                </th> <td>5818.595</td> \n",
              "</tr>\n",
              "<tr>\n",
              "  <th>Time:</th>              <td>12:54:35</td>     <th>  BIC                </th> <td>5829.095</td> \n",
              "</tr>\n",
              "<tr>\n",
              "  <th>Sample:</th>                <td>1</td>        <th>  HQIC               </th> <td>5822.519</td> \n",
              "</tr>\n",
              "<tr>\n",
              "  <th></th>                       <td> </td>        <th>                     </th>     <td> </td>    \n",
              "</tr>\n",
              "</table>\n",
              "<table class=\"simpletable\">\n",
              "<tr>\n",
              "    <td></td>       <th>coef</th>     <th>std err</th>      <th>z</th>      <th>P>|z|</th>  <th>[0.025</th>    <th>0.975]</th>  \n",
              "</tr>\n",
              "<tr>\n",
              "  <th>const</th> <td>   -0.0016</td> <td>    0.051</td> <td>   -0.031</td> <td> 0.975</td> <td>   -0.101</td> <td>    0.098</td>\n",
              "</tr>\n",
              "</table>"
            ],
            "text/plain": [
              "<class 'statsmodels.iolib.summary.Summary'>\n",
              "\"\"\"\n",
              "                             ARIMA Model Results                              \n",
              "==============================================================================\n",
              "Dep. Variable:                 D.diff   No. Observations:                 1408\n",
              "Model:                 ARIMA(0, 1, 0)   Log Likelihood               -2907.297\n",
              "Method:                           css   S.D. of innovations              1.908\n",
              "Date:                Sun, 12 Dec 2021   AIC                           5818.595\n",
              "Time:                        12:54:35   BIC                           5829.095\n",
              "Sample:                             1   HQIC                          5822.519\n",
              "                                                                              \n",
              "==============================================================================\n",
              "                 coef    std err          z      P>|z|      [0.025      0.975]\n",
              "------------------------------------------------------------------------------\n",
              "const         -0.0016      0.051     -0.031      0.975      -0.101       0.098\n",
              "==============================================================================\n",
              "\"\"\""
            ]
          },
          "metadata": {},
          "execution_count": 20
        }
      ]
    },
    {
      "cell_type": "code",
      "source": [
        "##p comes out from pacf plot\n",
        "##q comes from the acf plot \n",
        "##p and q refer to the index of the last most statistically significant term// other than delay = 0"
      ],
      "metadata": {
        "id": "wWz9Q2kwtfPO"
      },
      "execution_count": null,
      "outputs": []
    },
    {
      "cell_type": "code",
      "source": [
        "a,b,c = result.forecast(len(df_test))"
      ],
      "metadata": {
        "id": "dUY2yG1Hw7aJ"
      },
      "execution_count": null,
      "outputs": []
    },
    {
      "cell_type": "code",
      "source": [
        "print(a)\n"
      ],
      "metadata": {
        "colab": {
          "base_uri": "https://localhost:8080/"
        },
        "id": "E6IL2aFXxB1V",
        "outputId": "270c7c42-07c4-4fd8-a3a1-1a52d501bb12"
      },
      "execution_count": null,
      "outputs": [
        {
          "output_type": "stream",
          "name": "stdout",
          "text": [
            "[-2.18830012 -2.18988608 -2.19147203 -2.19305798 -2.19464393 -2.19622989\n",
            " -2.19781584 -2.19940179 -2.20098774 -2.20257369 -2.20415965 -2.2057456\n",
            " -2.20733155 -2.2089175  -2.21050346 -2.21208941 -2.21367536 -2.21526131\n",
            " -2.21684727 -2.21843322 -2.22001917 -2.22160512 -2.22319107 -2.22477703\n",
            " -2.22636298 -2.22794893 -2.22953488 -2.23112084 -2.23270679 -2.23429274\n",
            " -2.23587869 -2.23746464 -2.2390506  -2.24063655 -2.2422225  -2.24380845\n",
            " -2.24539441 -2.24698036 -2.24856631 -2.25015226 -2.25173822 -2.25332417\n",
            " -2.25491012 -2.25649607 -2.25808202 -2.25966798 -2.26125393 -2.26283988\n",
            " -2.26442583 -2.26601179 -2.26759774 -2.26918369 -2.27076964 -2.27235559\n",
            " -2.27394155 -2.2755275  -2.27711345 -2.2786994  -2.28028536 -2.28187131\n",
            " -2.28345726 -2.28504321 -2.28662916 -2.28821512 -2.28980107 -2.29138702\n",
            " -2.29297297 -2.29455893 -2.29614488 -2.29773083 -2.29931678 -2.30090274\n",
            " -2.30248869 -2.30407464 -2.30566059 -2.30724654 -2.3088325  -2.31041845\n",
            " -2.3120044  -2.31359035 -2.31517631 -2.31676226 -2.31834821 -2.31993416\n",
            " -2.32152011 -2.32310607 -2.32469202 -2.32627797 -2.32786392 -2.32944988\n",
            " -2.33103583 -2.33262178 -2.33420773 -2.33579368 -2.33737964 -2.33896559\n",
            " -2.34055154 -2.34213749 -2.34372345 -2.3453094  -2.34689535 -2.3484813\n",
            " -2.35006726 -2.35165321 -2.35323916 -2.35482511 -2.35641106 -2.35799702\n",
            " -2.35958297 -2.36116892 -2.36275487 -2.36434083 -2.36592678 -2.36751273\n",
            " -2.36909868 -2.37068463 -2.37227059 -2.37385654 -2.37544249 -2.37702844\n",
            " -2.3786144  -2.38020035 -2.3817863  -2.38337225 -2.3849582  -2.38654416\n",
            " -2.38813011 -2.38971606 -2.39130201 -2.39288797 -2.39447392 -2.39605987\n",
            " -2.39764582 -2.39923178 -2.40081773 -2.40240368 -2.40398963 -2.40557558\n",
            " -2.40716154 -2.40874749 -2.41033344 -2.41191939 -2.41350535 -2.4150913\n",
            " -2.41667725 -2.4182632  -2.41984915 -2.42143511 -2.42302106 -2.42460701\n",
            " -2.42619296 -2.42777892 -2.42936487 -2.43095082 -2.43253677 -2.43412272\n",
            " -2.43570868 -2.43729463 -2.43888058 -2.44046653 -2.44205249 -2.44363844\n",
            " -2.44522439 -2.44681034 -2.4483963  -2.44998225 -2.4515682  -2.45315415\n",
            " -2.4547401  -2.45632606 -2.45791201 -2.45949796 -2.46108391 -2.46266987\n",
            " -2.46425582 -2.46584177 -2.46742772 -2.46901367 -2.47059963 -2.47218558\n",
            " -2.47377153 -2.47535748 -2.47694344 -2.47852939 -2.48011534 -2.48170129\n",
            " -2.48328725 -2.4848732  -2.48645915 -2.4880451  -2.48963105 -2.49121701\n",
            " -2.49280296 -2.49438891 -2.49597486 -2.49756082 -2.49914677 -2.50073272\n",
            " -2.50231867 -2.50390462 -2.50549058 -2.50707653 -2.50866248 -2.51024843\n",
            " -2.51183439 -2.51342034 -2.51500629 -2.51659224 -2.51817819 -2.51976415\n",
            " -2.5213501  -2.52293605 -2.524522   -2.52610796 -2.52769391 -2.52927986\n",
            " -2.53086581 -2.53245177 -2.53403772 -2.53562367 -2.53720962 -2.53879557\n",
            " -2.54038153 -2.54196748 -2.54355343 -2.54513938 -2.54672534 -2.54831129\n",
            " -2.54989724 -2.55148319 -2.55306914 -2.5546551  -2.55624105 -2.557827\n",
            " -2.55941295 -2.56099891 -2.56258486 -2.56417081 -2.56575676 -2.56734271\n",
            " -2.56892867 -2.57051462 -2.57210057 -2.57368652 -2.57527248 -2.57685843\n",
            " -2.57844438 -2.58003033 -2.58161629 -2.58320224 -2.58478819 -2.58637414\n",
            " -2.58796009 -2.58954605 -2.591132   -2.59271795 -2.5943039  -2.59588986\n",
            " -2.59747581 -2.59906176 -2.60064771 -2.60223366 -2.60381962 -2.60540557\n",
            " -2.60699152 -2.60857747 -2.61016343 -2.61174938 -2.61333533 -2.61492128\n",
            " -2.61650723 -2.61809319 -2.61967914 -2.62126509 -2.62285104 -2.624437\n",
            " -2.62602295 -2.6276089  -2.62919485 -2.63078081 -2.63236676 -2.63395271\n",
            " -2.63553866 -2.63712461 -2.63871057 -2.64029652 -2.64188247 -2.64346842\n",
            " -2.64505438 -2.64664033 -2.64822628 -2.64981223 -2.65139818 -2.65298414\n",
            " -2.65457009 -2.65615604 -2.65774199 -2.65932795 -2.6609139  -2.66249985\n",
            " -2.6640858  -2.66567175 -2.66725771 -2.66884366 -2.67042961 -2.67201556\n",
            " -2.67360152 -2.67518747 -2.67677342 -2.67835937 -2.67994533 -2.68153128\n",
            " -2.68311723 -2.68470318 -2.68628913 -2.68787509 -2.68946104 -2.69104699\n",
            " -2.69263294 -2.6942189  -2.69580485 -2.6973908  -2.69897675 -2.7005627\n",
            " -2.70214866 -2.70373461 -2.70532056 -2.70690651 -2.70849247 -2.71007842\n",
            " -2.71166437 -2.71325032 -2.71483628 -2.71642223 -2.71800818 -2.71959413\n",
            " -2.72118008 -2.72276604 -2.72435199 -2.72593794 -2.72752389 -2.72910985\n",
            " -2.7306958  -2.73228175 -2.7338677  -2.73545365 -2.73703961 -2.73862556\n",
            " -2.74021151 -2.74179746 -2.74338342 -2.74496937 -2.74655532]\n"
          ]
        }
      ]
    },
    {
      "cell_type": "code",
      "source": [
        "print(b)"
      ],
      "metadata": {
        "colab": {
          "base_uri": "https://localhost:8080/"
        },
        "id": "G7mNh21uxDSM",
        "outputId": "179a80d1-742a-4edf-ee8c-bf97fea86a7e"
      },
      "execution_count": null,
      "outputs": [
        {
          "output_type": "stream",
          "name": "stdout",
          "text": [
            "[ 1.90770961  2.69790881  3.30424998  3.81541923  4.26576838  4.67291513\n",
            "  5.04732521  5.39581762  5.72312884  6.03270749  6.327157    6.60849995\n",
            "  6.87834483  7.13799577  7.38852756  7.63083845  7.86568824  8.09372642\n",
            "  8.31551342  8.53153675  8.74222371  8.94795123  9.1490539   9.34583026\n",
            "  9.53854807  9.72744854  9.91274993 10.09465042 10.27333067 10.44895588\n",
            " 10.6216776  10.79163523 10.95895738 11.12376298 11.28616227 11.44625768\n",
            " 11.60414455 11.75991185 11.91364271 12.06541498 12.21530166 12.36337133\n",
            " 12.50968851 12.65431399 12.79730513 12.93871611 13.07859818 13.2169999\n",
            " 13.35396729 13.48954404 13.62377166 13.75668966 13.88833562 14.01874539\n",
            " 14.14795315 14.27599153 14.40289173 14.52868356 14.65339558 14.77705512\n",
            " 14.89968839 15.02132051 15.14197563 15.2616769  15.38044661 15.49830616\n",
            " 15.61527617 15.73137647 15.8466262  15.96104375 16.07464692 16.18745285\n",
            " 16.29947808 16.41073861 16.52124988 16.63102683 16.74008392 16.8484351\n",
            " 16.95609393 17.0630735  17.16938652 17.27504528 17.38006172 17.48444741\n",
            " 17.58821359 17.69137115 17.79393068 17.89590247 17.99729649 18.09812247\n",
            " 18.19838985 18.2981078  18.39728526 18.49593093 18.59405327 18.69166052\n",
            " 18.78876071 18.88536165 18.98147099 19.07709613 19.17224433 19.26692266\n",
            " 19.361138   19.45489709 19.54820648 19.64107259 19.73350168 19.82549986\n",
            " 19.91707309 20.00822722 20.09896794 20.18930084 20.27923135 20.36876482\n",
            " 20.45790645 20.54666134 20.63503449 20.72303077 20.81065497 20.89791176\n",
            " 20.98480574 21.07134139 21.15752311 21.2433552  21.32884188 21.4139873\n",
            " 21.4987955  21.58327046 21.66741609 21.75123619 21.83473452 21.91791477\n",
            " 22.00078052 22.08333534 22.16558268 22.24752597 22.32916854 22.41051368\n",
            " 22.49156463 22.57232455 22.65279655 22.73298369 22.81288897 22.89251536\n",
            " 22.97186573 23.05094296 23.12974983 23.20828911 23.28656349 23.36457565\n",
            " 23.44232819 23.5198237  23.59706471 23.67405371 23.75079314 23.82728543\n",
            " 23.90353294 23.979538   24.05530293 24.13082997 24.20612135 24.28117927\n",
            " 24.35600589 24.43060332 24.50497367 24.579119   24.65304133 24.72674266\n",
            " 24.80022497 24.8734902  24.94654025 25.01937702 25.09200236 25.1644181\n",
            " 25.23662605 25.30862798 25.38042565 25.45202079 25.5234151  25.59461026\n",
            " 25.66560792 25.73640974 25.8070173  25.87743222 25.94765604 26.01769033\n",
            " 26.0875366  26.15719637 26.22667112 26.29596231 26.3650714  26.43399981\n",
            " 26.50274895 26.57132021 26.63971497 26.70793458 26.77598039 26.8438537\n",
            " 26.91155584 26.97908808 27.0464517  27.11364796 27.18067809 27.24754333\n",
            " 27.31424488 27.38078394 27.4471617  27.51337931 27.57943794 27.64533872\n",
            " 27.71108279 27.77667124 27.84210518 27.90738571 27.97251388 28.03749078\n",
            " 28.10231743 28.16699489 28.23152417 28.29590629 28.36014226 28.42423306\n",
            " 28.48817967 28.55198306 28.6156442  28.67916402 28.74254346 28.80578346\n",
            " 28.86888492 28.93184876 28.99467587 29.05736713 29.11992343 29.18234563\n",
            " 29.24463459 29.30679116 29.36881619 29.4307105  29.49247491 29.55411024\n",
            " 29.6156173  29.67699689 29.73824978 29.79937677 29.86037863 29.92125612\n",
            " 29.98201001 30.04264103 30.10314993 30.16353746 30.22380432 30.28395126\n",
            " 30.34397897 30.40388817 30.46367955 30.52335381 30.58291163 30.64235369\n",
            " 30.70168066 30.76089322 30.81999201 30.8789777  30.93785092 30.99661232\n",
            " 31.05526254 31.1138022  31.17223193 31.23055234 31.28876404 31.34686765\n",
            " 31.40486375 31.46275295 31.52053583 31.57821298 31.63578498 31.69325239\n",
            " 31.75061579 31.80787574 31.86503279 31.92208751 31.97904043 32.0358921\n",
            " 32.09264306 32.14929385 32.20584498 32.26229698 32.31865038 32.37490569\n",
            " 32.43106342 32.48712407 32.54308815 32.59895616 32.65472858 32.71040591\n",
            " 32.76598862 32.82147721 32.87687215 32.93217391 32.98738296 33.04249976\n",
            " 33.09752478 33.15245846 33.20730128 33.26205367 33.31671608 33.37128895\n",
            " 33.42577272 33.48016783 33.53447471 33.58869378 33.64282547 33.69687021\n",
            " 33.7508284  33.80470047 33.85848682 33.91218786 33.96580401 34.01933564\n",
            " 34.07278318 34.12614701 34.17942752 34.2326251  34.28574015 34.33877303\n",
            " 34.39172414 34.44459385 34.49738253 34.55009056 34.60271829 34.65526611\n",
            " 34.70773437 34.76012344 34.81243366 34.8646654  34.916819   34.96889482\n",
            " 35.02089321 35.0728145  35.12465904 35.17642718 35.22811924 35.27973556\n",
            " 35.33127647 35.3827423  35.43413339 35.48545004 35.5366926  35.58786137\n",
            " 35.63895667 35.68997883 35.74092814 35.79180494 35.84260951]\n"
          ]
        }
      ]
    },
    {
      "cell_type": "code",
      "source": [
        "print(c)"
      ],
      "metadata": {
        "colab": {
          "base_uri": "https://localhost:8080/"
        },
        "id": "qnxRdzBJxExr",
        "outputId": "1bf7e6fc-d32e-472b-d8de-3acf22d370e2"
      },
      "execution_count": null,
      "outputs": [
        {
          "output_type": "stream",
          "name": "stdout",
          "text": [
            "[[ -5.92734226   1.55074201]\n",
            " [ -7.47769017   3.09791802]\n",
            " [ -8.66768298   4.28473892]\n",
            " [ -9.67114225   5.28502629]\n",
            " [-10.55539632   6.16610845]\n",
            " [-11.35497524   6.96251547]\n",
            " [-12.09039147   7.69475979]\n",
            " [-12.77500998   8.3762064 ]\n",
            " [-13.41811415   9.01613866]\n",
            " [-14.02646311   9.62131572]\n",
            " [-14.60515948  10.19684019]\n",
            " [-15.1581675   10.7466763 ]\n",
            " [-15.68863969  11.27397659]\n",
            " [-16.19913213  11.78129712]\n",
            " [-16.69175137  12.27074446]\n",
            " [-17.16825795  12.74407913]\n",
            " [-17.63014102  13.2027903 ]\n",
            " [-18.0786736   13.64815098]\n",
            " [-18.51495408  14.08125954]\n",
            " [-18.93993798  14.50307155]\n",
            " [-19.35446278  14.91442444]\n",
            " [-19.75926728  15.31605703]\n",
            " [-20.15500721  15.70862506]\n",
            " [-20.54226774  16.09271369]\n",
            " [-20.92157365  16.46884769]\n",
            " [-21.29339774  16.83749987]\n",
            " [-21.65816773  17.19909796]\n",
            " [-22.01627209  17.55403042]\n",
            " [-22.3680649   17.90265133]\n",
            " [-22.71386995  18.24528447]\n",
            " [-23.05398424  18.58222686]\n",
            " [-23.38868103  18.91375174]\n",
            " [-23.71821238  19.24011118]\n",
            " [-24.04281137  19.56153827]\n",
            " [-24.36269408  19.87824908]\n",
            " [-24.67806126  20.19044435]\n",
            " [-24.9890998   20.49831099]\n",
            " [-25.29598405  20.80202333]\n",
            " [-25.59887696  21.10174434]\n",
            " [-25.89793109  21.39762656]\n",
            " [-26.19328953  21.6898131 ]\n",
            " [-26.4850867   21.97843837]\n",
            " [-26.77344906  22.26362882]\n",
            " [-27.05849574  22.5455036 ]\n",
            " [-27.34033917  22.82417513]\n",
            " [-27.61908555  23.0997496 ]\n",
            " [-27.89483534  23.37232748]\n",
            " [-28.16768368  23.64200391]\n",
            " [-28.43772077  23.90886911]\n",
            " [-28.70503227  24.1730087 ]\n",
            " [-28.96969953  24.43450406]\n",
            " [-29.23179996  24.69343258]\n",
            " [-29.49140726  24.94986798]\n",
            " [-29.74859166  25.20388047]\n",
            " [-30.00342017  25.45553707]\n",
            " [-30.25595674  25.70490174]\n",
            " [-30.50626251  25.95203561]\n",
            " [-30.75439593  26.19699713]\n",
            " [-31.00041295  26.43984224]\n",
            " [-31.24436714  26.68062453]\n",
            " [-31.48630988  26.91939536]\n",
            " [-31.72629042  27.156204  ]\n",
            " [-31.96435605  27.39109772]\n",
            " [-32.20055219  27.62412196]\n",
            " [-32.43492249  27.85532035]\n",
            " [-32.66750892  28.08473488]\n",
            " [-32.89835187  28.31240593]\n",
            " [-33.12749024  28.53837239]\n",
            " [-33.3549615   28.76267174]\n",
            " [-33.58080175  28.98534008]\n",
            " [-33.80504582  29.20641225]\n",
            " [-34.02772732  29.42592185]\n",
            " [-34.24887869  29.64390131]\n",
            " [-34.46853127  29.86038199]\n",
            " [-34.68671533  30.07539415]\n",
            " [-34.90346016  30.28896708]\n",
            " [-35.11879407  30.50112908]\n",
            " [-35.33274445  30.71190755]\n",
            " [-35.54533783  30.92132902]\n",
            " [-35.75659989  31.12941918]\n",
            " [-35.96655552  31.3362029 ]\n",
            " [-36.17522883  31.54170432]\n",
            " [-36.38264323  31.74594681]\n",
            " [-36.58882138  31.94895305]\n",
            " [-36.7937853   32.15074507]\n",
            " [-36.99755636  32.35134423]\n",
            " [-37.2001553   32.55077126]\n",
            " [-37.40160228  32.74904634]\n",
            " [-37.60191687  32.94618903]\n",
            " [-37.80111811  33.14221836]\n",
            " [-37.99922451  33.33715285]\n",
            " [-38.19625405  33.53101049]\n",
            " [-38.39222426  33.72380879]\n",
            " [-38.58715217  33.9155648 ]\n",
            " [-38.78105437  34.10629509]\n",
            " [-38.97394701  34.29601584]\n",
            " [-39.16584584  34.48474276]\n",
            " [-39.35676617  34.67249118]\n",
            " [-39.54672295  34.85927606]\n",
            " [-39.73573074  35.04511195]\n",
            " [-39.92380374  35.23001304]\n",
            " [-40.1109558   35.4139932 ]\n",
            " [-40.29720044  35.59706593]\n",
            " [-40.48255082  35.7792444 ]\n",
            " [-40.66701982  35.9605415 ]\n",
            " [-40.85062001  36.14096979]\n",
            " [-41.03336364  36.32054152]\n",
            " [-41.21526271  36.49926867]\n",
            " [-41.3963289   36.67716297]\n",
            " [-41.57657366  36.85423582]\n",
            " [-41.75600817  37.03049842]\n",
            " [-41.93464334  37.20596169]\n",
            " [-42.11248987  37.38063631]\n",
            " [-42.28955819  37.55453273]\n",
            " [-42.46585852  37.72766116]\n",
            " [-42.64140086  37.9000316 ]\n",
            " [-42.816195    38.07165382]\n",
            " [-42.99025049  38.24253742]\n",
            " [-43.16357672  38.41269174]\n",
            " [-43.33618285  38.58212597]\n",
            " [-43.50807788  38.75084908]\n",
            " [-43.67927058  38.91886989]\n",
            " [-43.84976959  39.08619699]\n",
            " [-44.01958335  39.25283884]\n",
            " [-44.18872012  39.41880371]\n",
            " [-44.35718802  39.58409971]\n",
            " [-44.524995    39.74873478]\n",
            " [-44.69214884  39.91271671]\n",
            " [-44.85865718  40.07605315]\n",
            " [-45.02452752  40.23875159]\n",
            " [-45.1897672   40.40081936]\n",
            " [-45.35438343  40.56226369]\n",
            " [-45.51838328  40.72309164]\n",
            " [-45.6817737   40.88331015]\n",
            " [-45.84456148  41.04292603]\n",
            " [-46.00675332  41.20194596]\n",
            " [-46.16835577  41.36037651]\n",
            " [-46.32937528  41.51822411]\n",
            " [-46.48981817  41.67549509]\n",
            " [-46.64969065  41.83219567]\n",
            " [-46.80899882  41.98833194]\n",
            " [-46.96774868  42.1439099 ]\n",
            " [-47.12594612  42.29893543]\n",
            " [-47.28359691  42.45341432]\n",
            " [-47.44070675  42.60735225]\n",
            " [-47.59728121  42.76075481]\n",
            " [-47.75332579  42.91362749]\n",
            " [-47.9088459   43.06597568]\n",
            " [-48.06384682  43.21780471]\n",
            " [-48.21833379  43.36911977]\n",
            " [-48.37231194  43.51992601]\n",
            " [-48.5257863   43.67022847]\n",
            " [-48.67876185  43.82003211]\n",
            " [-48.83124346  43.96934182]\n",
            " [-48.98323594  44.11816239]\n",
            " [-49.13474402  44.26649857]\n",
            " [-49.28577234  44.41435498]\n",
            " [-49.43632548  44.56173622]\n",
            " [-49.58640795  44.70864679]\n",
            " [-49.73602418  44.85509112]\n",
            " [-49.88517854  45.00107356]\n",
            " [-50.03387531  45.14659843]\n",
            " [-50.18211873  45.29166995]\n",
            " [-50.32991298  45.43629229]\n",
            " [-50.47726213  45.58046954]\n",
            " [-50.62417025  45.72420576]\n",
            " [-50.77064131  45.86750491]\n",
            " [-50.91667922  46.01037092]\n",
            " [-51.06228785  46.15280764]\n",
            " [-51.20747101  46.2948189 ]\n",
            " [-51.35223244  46.43640842]\n",
            " [-51.49657583  46.57757991]\n",
            " [-51.64050484  46.71833701]\n",
            " [-51.78402304  46.8586833 ]\n",
            " [-51.92713397  46.99862233]\n",
            " [-52.06984111  47.13815757]\n",
            " [-52.21214791  47.27729247]\n",
            " [-52.35405775  47.41603041]\n",
            " [-52.49557398  47.55437473]\n",
            " [-52.63669988  47.69232872]\n",
            " [-52.77743871  47.82989564]\n",
            " [-52.91779366  47.96707869]\n",
            " [-53.0577679   48.10388103]\n",
            " [-53.19736454  48.24030577]\n",
            " [-53.33658666  48.37635598]\n",
            " [-53.4754373   48.51203471]\n",
            " [-53.61391943  48.64734494]\n",
            " [-53.75203602  48.78228962]\n",
            " [-53.88978997  48.91687167]\n",
            " [-54.02718417  49.05109397]\n",
            " [-54.16422144  49.18495934]\n",
            " [-54.30090459  49.31847058]\n",
            " [-54.43723639  49.45163047]\n",
            " [-54.57321954  49.58444172]\n",
            " [-54.70885676  49.71690704]\n",
            " [-54.8441507   49.84902907]\n",
            " [-54.97910397  49.98081044]\n",
            " [-55.11371918  50.11225374]\n",
            " [-55.24799888  50.24336154]\n",
            " [-55.38194559  50.37413634]\n",
            " [-55.51556182  50.50458066]\n",
            " [-55.64885001  50.63469695]\n",
            " [-55.78181261  50.76448765]\n",
            " [-55.91445202  50.89395516]\n",
            " [-56.04677062  51.02310184]\n",
            " [-56.17877073  51.15193006]\n",
            " [-56.3104547   51.28044212]\n",
            " [-56.44182479  51.40864031]\n",
            " [-56.57288328  51.53652689]\n",
            " [-56.70363239  51.66410409]\n",
            " [-56.83407433  51.79137413]\n",
            " [-56.96421129  51.91833919]\n",
            " [-57.09404542  52.04500141]\n",
            " [-57.22357885  52.17136293]\n",
            " [-57.35281368  52.29742586]\n",
            " [-57.481752    52.42319228]\n",
            " [-57.61039586  52.54866423]\n",
            " [-57.7387473   52.67384377]\n",
            " [-57.86680832  52.79873288]\n",
            " [-57.99458091  52.92333357]\n",
            " [-58.12206704  53.0476478 ]\n",
            " [-58.24926865  53.1716775 ]\n",
            " [-58.37618766  53.29542461]\n",
            " [-58.50282597  53.41889101]\n",
            " [-58.62918545  53.54207859]\n",
            " [-58.75526796  53.6649892 ]\n",
            " [-58.88107534  53.78762467]\n",
            " [-59.00660941  53.90998684]\n",
            " [-59.13187196  54.03207748]\n",
            " [-59.25686476  54.15389838]\n",
            " [-59.38158958  54.27545129]\n",
            " [-59.50604816  54.39673796]\n",
            " [-59.6302422   54.5177601 ]\n",
            " [-59.75417342  54.63851942]\n",
            " [-59.87784349  54.75901759]\n",
            " [-60.00125409  54.87925628]\n",
            " [-60.12440686  54.99923714]\n",
            " [-60.24730342  55.1189618 ]\n",
            " [-60.3699454   55.23843187]\n",
            " [-60.49233439  55.35764896]\n",
            " [-60.61447196  55.47661463]\n",
            " [-60.73635968  55.59533045]\n",
            " [-60.85799911  55.71379797]\n",
            " [-60.97939176  55.83201871]\n",
            " [-61.10053916  55.94999421]\n",
            " [-61.2214428   56.06772595]\n",
            " [-61.34210418  56.18521542]\n",
            " [-61.46252475  56.30246408]\n",
            " [-61.58270598  56.41947341]\n",
            " [-61.7026493   56.53624482]\n",
            " [-61.82235614  56.65277976]\n",
            " [-61.94182792  56.76907963]\n",
            " [-62.06106603  56.88514584]\n",
            " [-62.18007185  57.00097975]\n",
            " [-62.29884675  57.11658276]\n",
            " [-62.4173921   57.2319562 ]\n",
            " [-62.53570924  57.34710143]\n",
            " [-62.65379949  57.46201978]\n",
            " [-62.77166417  57.57671256]\n",
            " [-62.8893046   57.69118108]\n",
            " [-63.00672206  57.80542663]\n",
            " [-63.12391783  57.9194505 ]\n",
            " [-63.24089318  58.03325394]\n",
            " [-63.35764936  58.14683823]\n",
            " [-63.47418763  58.26020459]\n",
            " [-63.59050921  58.37335426]\n",
            " [-63.70661532  58.48628847]\n",
            " [-63.82250718  58.59900842]\n",
            " [-63.93818597  58.71151531]\n",
            " [-64.0536529   58.82381033]\n",
            " [-64.16890913  58.93589466]\n",
            " [-64.28395582  59.04776945]\n",
            " [-64.39879414  59.15943587]\n",
            " [-64.51342523  59.27089505]\n",
            " [-64.62785022  59.38214813]\n",
            " [-64.74207023  59.49319624]\n",
            " [-64.85608638  59.60404049]\n",
            " [-64.96989977  59.71468197]\n",
            " [-65.0835115   59.82512179]\n",
            " [-65.19692263  59.93536102]\n",
            " [-65.31013426  60.04540075]\n",
            " [-65.42314745  60.15524203]\n",
            " [-65.53596324  60.26488591]\n",
            " [-65.64858268  60.37433345]\n",
            " [-65.76100682  60.48358568]\n",
            " [-65.87323667  60.59264363]\n",
            " [-65.98527325  60.70150831]\n",
            " [-66.09711759  60.81018074]\n",
            " [-66.20877066  60.91866191]\n",
            " [-66.32023347  61.02695282]\n",
            " [-66.43150701  61.13505445]\n",
            " [-66.54259223  61.24296777]\n",
            " [-66.65349012  61.35069375]\n",
            " [-66.76420163  61.45823336]\n",
            " [-66.87472771  61.56558753]\n",
            " [-66.9850693   61.67275721]\n",
            " [-67.09522733  61.77974335]\n",
            " [-67.20520274  61.88654685]\n",
            " [-67.31499644  61.99316864]\n",
            " [-67.42460934  62.09960964]\n",
            " [-67.53404234  62.20587073]\n",
            " [-67.64329634  62.31195283]\n",
            " [-67.75237224  62.41785682]\n",
            " [-67.8612709   62.52358358]\n",
            " [-67.9699932   62.62913398]\n",
            " [-68.07854002  62.73450889]\n",
            " [-68.18691221  62.83970917]\n",
            " [-68.29511061  62.94473568]\n",
            " [-68.40313609  63.04958925]\n",
            " [-68.51098947  63.15427073]\n",
            " [-68.61867159  63.25878094]\n",
            " [-68.72618328  63.36312072]\n",
            " [-68.83352535  63.46729089]\n",
            " [-68.94069861  63.57129225]\n",
            " [-69.04770387  63.67512561]\n",
            " [-69.15454194  63.77879177]\n",
            " [-69.2612136   63.88229152]\n",
            " [-69.36771963  63.98562565]\n",
            " [-69.47406083  64.08879494]\n",
            " [-69.58023796  64.19180017]\n",
            " [-69.6862518   64.2946421 ]\n",
            " [-69.7921031   64.3973215 ]\n",
            " [-69.89779263  64.49983912]\n",
            " [-70.00332113  64.60219572]\n",
            " [-70.10868934  64.70439203]\n",
            " [-70.21389802  64.8064288 ]\n",
            " [-70.31894788  64.90830676]\n",
            " [-70.42383966  65.01002664]\n",
            " [-70.52857409  65.11158916]\n",
            " [-70.63315187  65.21299504]\n",
            " [-70.73757373  65.31424498]\n",
            " [-70.84184035  65.41533971]\n",
            " [-70.94595246  65.51627991]\n",
            " [-71.04991074  65.61706628]\n",
            " [-71.15371588  65.71769952]\n",
            " [-71.25736856  65.8181803 ]\n",
            " [-71.36086948  65.91850931]\n",
            " [-71.4642193   66.01868722]\n",
            " [-71.56741869  66.11871471]\n",
            " [-71.67046831  66.21859243]\n",
            " [-71.77336884  66.31832105]\n",
            " [-71.87612092  66.41790123]\n",
            " [-71.9787252   66.51733361]\n",
            " [-72.08118234  66.61661884]\n",
            " [-72.18349296  66.71575756]\n",
            " [-72.28565772  66.81475041]\n",
            " [-72.38767723  66.91359801]\n",
            " [-72.48955213  67.01230101]\n",
            " [-72.59128304  67.11086001]\n",
            " [-72.69287057  67.20927565]\n",
            " [-72.79431535  67.30754852]\n",
            " [-72.89561798  67.40567925]\n",
            " [-72.99677907  67.50366843]]\n"
          ]
        }
      ]
    },
    {
      "cell_type": "code",
      "source": [
        "a = pd.DataFrame(a)\n",
        "a.rename(columns = {0:'a_col'},inplace= True)\n",
        "a"
      ],
      "metadata": {
        "colab": {
          "base_uri": "https://localhost:8080/",
          "height": 419
        },
        "id": "4F8HTXTjxq5N",
        "outputId": "d832d90c-dafc-4f75-e609-ba35f5ff034a"
      },
      "execution_count": null,
      "outputs": [
        {
          "output_type": "execute_result",
          "data": {
            "text/html": [
              "<div>\n",
              "<style scoped>\n",
              "    .dataframe tbody tr th:only-of-type {\n",
              "        vertical-align: middle;\n",
              "    }\n",
              "\n",
              "    .dataframe tbody tr th {\n",
              "        vertical-align: top;\n",
              "    }\n",
              "\n",
              "    .dataframe thead th {\n",
              "        text-align: right;\n",
              "    }\n",
              "</style>\n",
              "<table border=\"1\" class=\"dataframe\">\n",
              "  <thead>\n",
              "    <tr style=\"text-align: right;\">\n",
              "      <th></th>\n",
              "      <th>a_col</th>\n",
              "    </tr>\n",
              "  </thead>\n",
              "  <tbody>\n",
              "    <tr>\n",
              "      <th>0</th>\n",
              "      <td>-2.188300</td>\n",
              "    </tr>\n",
              "    <tr>\n",
              "      <th>1</th>\n",
              "      <td>-2.189886</td>\n",
              "    </tr>\n",
              "    <tr>\n",
              "      <th>2</th>\n",
              "      <td>-2.191472</td>\n",
              "    </tr>\n",
              "    <tr>\n",
              "      <th>3</th>\n",
              "      <td>-2.193058</td>\n",
              "    </tr>\n",
              "    <tr>\n",
              "      <th>4</th>\n",
              "      <td>-2.194644</td>\n",
              "    </tr>\n",
              "    <tr>\n",
              "      <th>...</th>\n",
              "      <td>...</td>\n",
              "    </tr>\n",
              "    <tr>\n",
              "      <th>348</th>\n",
              "      <td>-2.740212</td>\n",
              "    </tr>\n",
              "    <tr>\n",
              "      <th>349</th>\n",
              "      <td>-2.741797</td>\n",
              "    </tr>\n",
              "    <tr>\n",
              "      <th>350</th>\n",
              "      <td>-2.743383</td>\n",
              "    </tr>\n",
              "    <tr>\n",
              "      <th>351</th>\n",
              "      <td>-2.744969</td>\n",
              "    </tr>\n",
              "    <tr>\n",
              "      <th>352</th>\n",
              "      <td>-2.746555</td>\n",
              "    </tr>\n",
              "  </tbody>\n",
              "</table>\n",
              "<p>353 rows × 1 columns</p>\n",
              "</div>"
            ],
            "text/plain": [
              "        a_col\n",
              "0   -2.188300\n",
              "1   -2.189886\n",
              "2   -2.191472\n",
              "3   -2.193058\n",
              "4   -2.194644\n",
              "..        ...\n",
              "348 -2.740212\n",
              "349 -2.741797\n",
              "350 -2.743383\n",
              "351 -2.744969\n",
              "352 -2.746555\n",
              "\n",
              "[353 rows x 1 columns]"
            ]
          },
          "metadata": {},
          "execution_count": 26
        }
      ]
    },
    {
      "cell_type": "code",
      "source": [
        "b.shape\n",
        "a['b_col'] = b\n",
        "a"
      ],
      "metadata": {
        "colab": {
          "base_uri": "https://localhost:8080/",
          "height": 419
        },
        "id": "C57bFkW-x7Id",
        "outputId": "a7f8b7ca-f803-45b3-e44a-29d416584e6f"
      },
      "execution_count": null,
      "outputs": [
        {
          "output_type": "execute_result",
          "data": {
            "text/html": [
              "<div>\n",
              "<style scoped>\n",
              "    .dataframe tbody tr th:only-of-type {\n",
              "        vertical-align: middle;\n",
              "    }\n",
              "\n",
              "    .dataframe tbody tr th {\n",
              "        vertical-align: top;\n",
              "    }\n",
              "\n",
              "    .dataframe thead th {\n",
              "        text-align: right;\n",
              "    }\n",
              "</style>\n",
              "<table border=\"1\" class=\"dataframe\">\n",
              "  <thead>\n",
              "    <tr style=\"text-align: right;\">\n",
              "      <th></th>\n",
              "      <th>a_col</th>\n",
              "      <th>b_col</th>\n",
              "    </tr>\n",
              "  </thead>\n",
              "  <tbody>\n",
              "    <tr>\n",
              "      <th>0</th>\n",
              "      <td>-2.188300</td>\n",
              "      <td>1.907710</td>\n",
              "    </tr>\n",
              "    <tr>\n",
              "      <th>1</th>\n",
              "      <td>-2.189886</td>\n",
              "      <td>2.697909</td>\n",
              "    </tr>\n",
              "    <tr>\n",
              "      <th>2</th>\n",
              "      <td>-2.191472</td>\n",
              "      <td>3.304250</td>\n",
              "    </tr>\n",
              "    <tr>\n",
              "      <th>3</th>\n",
              "      <td>-2.193058</td>\n",
              "      <td>3.815419</td>\n",
              "    </tr>\n",
              "    <tr>\n",
              "      <th>4</th>\n",
              "      <td>-2.194644</td>\n",
              "      <td>4.265768</td>\n",
              "    </tr>\n",
              "    <tr>\n",
              "      <th>...</th>\n",
              "      <td>...</td>\n",
              "      <td>...</td>\n",
              "    </tr>\n",
              "    <tr>\n",
              "      <th>348</th>\n",
              "      <td>-2.740212</td>\n",
              "      <td>35.638957</td>\n",
              "    </tr>\n",
              "    <tr>\n",
              "      <th>349</th>\n",
              "      <td>-2.741797</td>\n",
              "      <td>35.689979</td>\n",
              "    </tr>\n",
              "    <tr>\n",
              "      <th>350</th>\n",
              "      <td>-2.743383</td>\n",
              "      <td>35.740928</td>\n",
              "    </tr>\n",
              "    <tr>\n",
              "      <th>351</th>\n",
              "      <td>-2.744969</td>\n",
              "      <td>35.791805</td>\n",
              "    </tr>\n",
              "    <tr>\n",
              "      <th>352</th>\n",
              "      <td>-2.746555</td>\n",
              "      <td>35.842610</td>\n",
              "    </tr>\n",
              "  </tbody>\n",
              "</table>\n",
              "<p>353 rows × 2 columns</p>\n",
              "</div>"
            ],
            "text/plain": [
              "        a_col      b_col\n",
              "0   -2.188300   1.907710\n",
              "1   -2.189886   2.697909\n",
              "2   -2.191472   3.304250\n",
              "3   -2.193058   3.815419\n",
              "4   -2.194644   4.265768\n",
              "..        ...        ...\n",
              "348 -2.740212  35.638957\n",
              "349 -2.741797  35.689979\n",
              "350 -2.743383  35.740928\n",
              "351 -2.744969  35.791805\n",
              "352 -2.746555  35.842610\n",
              "\n",
              "[353 rows x 2 columns]"
            ]
          },
          "metadata": {},
          "execution_count": 27
        }
      ]
    },
    {
      "cell_type": "code",
      "source": [
        "c.shape\n",
        "c\n",
        "a['lower_c'] = c[:,0]\n",
        "a['upper_c'] = c[:,1]\n",
        "a['index'] = df_test.index\n",
        "a.set_index(a['index'], inplace = True)\n",
        "a"
      ],
      "metadata": {
        "colab": {
          "base_uri": "https://localhost:8080/",
          "height": 450
        },
        "id": "CsN2BPNuyD2x",
        "outputId": "4849d5e6-2031-4c71-a885-51535aea24c6"
      },
      "execution_count": null,
      "outputs": [
        {
          "output_type": "execute_result",
          "data": {
            "text/html": [
              "<div>\n",
              "<style scoped>\n",
              "    .dataframe tbody tr th:only-of-type {\n",
              "        vertical-align: middle;\n",
              "    }\n",
              "\n",
              "    .dataframe tbody tr th {\n",
              "        vertical-align: top;\n",
              "    }\n",
              "\n",
              "    .dataframe thead th {\n",
              "        text-align: right;\n",
              "    }\n",
              "</style>\n",
              "<table border=\"1\" class=\"dataframe\">\n",
              "  <thead>\n",
              "    <tr style=\"text-align: right;\">\n",
              "      <th></th>\n",
              "      <th>a_col</th>\n",
              "      <th>b_col</th>\n",
              "      <th>lower_c</th>\n",
              "      <th>upper_c</th>\n",
              "      <th>index</th>\n",
              "    </tr>\n",
              "    <tr>\n",
              "      <th>index</th>\n",
              "      <th></th>\n",
              "      <th></th>\n",
              "      <th></th>\n",
              "      <th></th>\n",
              "      <th></th>\n",
              "    </tr>\n",
              "  </thead>\n",
              "  <tbody>\n",
              "    <tr>\n",
              "      <th>2016-04-18</th>\n",
              "      <td>-2.188300</td>\n",
              "      <td>1.907710</td>\n",
              "      <td>-5.927342</td>\n",
              "      <td>1.550742</td>\n",
              "      <td>2016-04-18</td>\n",
              "    </tr>\n",
              "    <tr>\n",
              "      <th>2016-04-19</th>\n",
              "      <td>-2.189886</td>\n",
              "      <td>2.697909</td>\n",
              "      <td>-7.477690</td>\n",
              "      <td>3.097918</td>\n",
              "      <td>2016-04-19</td>\n",
              "    </tr>\n",
              "    <tr>\n",
              "      <th>2016-04-20</th>\n",
              "      <td>-2.191472</td>\n",
              "      <td>3.304250</td>\n",
              "      <td>-8.667683</td>\n",
              "      <td>4.284739</td>\n",
              "      <td>2016-04-20</td>\n",
              "    </tr>\n",
              "    <tr>\n",
              "      <th>2016-04-21</th>\n",
              "      <td>-2.193058</td>\n",
              "      <td>3.815419</td>\n",
              "      <td>-9.671142</td>\n",
              "      <td>5.285026</td>\n",
              "      <td>2016-04-21</td>\n",
              "    </tr>\n",
              "    <tr>\n",
              "      <th>2016-04-22</th>\n",
              "      <td>-2.194644</td>\n",
              "      <td>4.265768</td>\n",
              "      <td>-10.555396</td>\n",
              "      <td>6.166108</td>\n",
              "      <td>2016-04-22</td>\n",
              "    </tr>\n",
              "    <tr>\n",
              "      <th>...</th>\n",
              "      <td>...</td>\n",
              "      <td>...</td>\n",
              "      <td>...</td>\n",
              "      <td>...</td>\n",
              "      <td>...</td>\n",
              "    </tr>\n",
              "    <tr>\n",
              "      <th>2017-09-01</th>\n",
              "      <td>-2.740212</td>\n",
              "      <td>35.638957</td>\n",
              "      <td>-72.591283</td>\n",
              "      <td>67.110860</td>\n",
              "      <td>2017-09-01</td>\n",
              "    </tr>\n",
              "    <tr>\n",
              "      <th>2017-09-05</th>\n",
              "      <td>-2.741797</td>\n",
              "      <td>35.689979</td>\n",
              "      <td>-72.692871</td>\n",
              "      <td>67.209276</td>\n",
              "      <td>2017-09-05</td>\n",
              "    </tr>\n",
              "    <tr>\n",
              "      <th>2017-09-06</th>\n",
              "      <td>-2.743383</td>\n",
              "      <td>35.740928</td>\n",
              "      <td>-72.794315</td>\n",
              "      <td>67.307549</td>\n",
              "      <td>2017-09-06</td>\n",
              "    </tr>\n",
              "    <tr>\n",
              "      <th>2017-09-07</th>\n",
              "      <td>-2.744969</td>\n",
              "      <td>35.791805</td>\n",
              "      <td>-72.895618</td>\n",
              "      <td>67.405679</td>\n",
              "      <td>2017-09-07</td>\n",
              "    </tr>\n",
              "    <tr>\n",
              "      <th>2017-09-08</th>\n",
              "      <td>-2.746555</td>\n",
              "      <td>35.842610</td>\n",
              "      <td>-72.996779</td>\n",
              "      <td>67.503668</td>\n",
              "      <td>2017-09-08</td>\n",
              "    </tr>\n",
              "  </tbody>\n",
              "</table>\n",
              "<p>353 rows × 5 columns</p>\n",
              "</div>"
            ],
            "text/plain": [
              "               a_col      b_col    lower_c    upper_c      index\n",
              "index                                                           \n",
              "2016-04-18 -2.188300   1.907710  -5.927342   1.550742 2016-04-18\n",
              "2016-04-19 -2.189886   2.697909  -7.477690   3.097918 2016-04-19\n",
              "2016-04-20 -2.191472   3.304250  -8.667683   4.284739 2016-04-20\n",
              "2016-04-21 -2.193058   3.815419  -9.671142   5.285026 2016-04-21\n",
              "2016-04-22 -2.194644   4.265768 -10.555396   6.166108 2016-04-22\n",
              "...              ...        ...        ...        ...        ...\n",
              "2017-09-01 -2.740212  35.638957 -72.591283  67.110860 2017-09-01\n",
              "2017-09-05 -2.741797  35.689979 -72.692871  67.209276 2017-09-05\n",
              "2017-09-06 -2.743383  35.740928 -72.794315  67.307549 2017-09-06\n",
              "2017-09-07 -2.744969  35.791805 -72.895618  67.405679 2017-09-07\n",
              "2017-09-08 -2.746555  35.842610 -72.996779  67.503668 2017-09-08\n",
              "\n",
              "[353 rows x 5 columns]"
            ]
          },
          "metadata": {},
          "execution_count": 28
        }
      ]
    },
    {
      "cell_type": "code",
      "source": [
        "a.drop(['index'],axis = 1, inplace = True)\n",
        "a"
      ],
      "metadata": {
        "colab": {
          "base_uri": "https://localhost:8080/",
          "height": 450
        },
        "id": "22aM8bjxy0dU",
        "outputId": "f09dc156-e257-4be4-d579-39a730e02422"
      },
      "execution_count": null,
      "outputs": [
        {
          "output_type": "execute_result",
          "data": {
            "text/html": [
              "<div>\n",
              "<style scoped>\n",
              "    .dataframe tbody tr th:only-of-type {\n",
              "        vertical-align: middle;\n",
              "    }\n",
              "\n",
              "    .dataframe tbody tr th {\n",
              "        vertical-align: top;\n",
              "    }\n",
              "\n",
              "    .dataframe thead th {\n",
              "        text-align: right;\n",
              "    }\n",
              "</style>\n",
              "<table border=\"1\" class=\"dataframe\">\n",
              "  <thead>\n",
              "    <tr style=\"text-align: right;\">\n",
              "      <th></th>\n",
              "      <th>a_col</th>\n",
              "      <th>b_col</th>\n",
              "      <th>lower_c</th>\n",
              "      <th>upper_c</th>\n",
              "    </tr>\n",
              "    <tr>\n",
              "      <th>index</th>\n",
              "      <th></th>\n",
              "      <th></th>\n",
              "      <th></th>\n",
              "      <th></th>\n",
              "    </tr>\n",
              "  </thead>\n",
              "  <tbody>\n",
              "    <tr>\n",
              "      <th>2016-04-18</th>\n",
              "      <td>-2.188300</td>\n",
              "      <td>1.907710</td>\n",
              "      <td>-5.927342</td>\n",
              "      <td>1.550742</td>\n",
              "    </tr>\n",
              "    <tr>\n",
              "      <th>2016-04-19</th>\n",
              "      <td>-2.189886</td>\n",
              "      <td>2.697909</td>\n",
              "      <td>-7.477690</td>\n",
              "      <td>3.097918</td>\n",
              "    </tr>\n",
              "    <tr>\n",
              "      <th>2016-04-20</th>\n",
              "      <td>-2.191472</td>\n",
              "      <td>3.304250</td>\n",
              "      <td>-8.667683</td>\n",
              "      <td>4.284739</td>\n",
              "    </tr>\n",
              "    <tr>\n",
              "      <th>2016-04-21</th>\n",
              "      <td>-2.193058</td>\n",
              "      <td>3.815419</td>\n",
              "      <td>-9.671142</td>\n",
              "      <td>5.285026</td>\n",
              "    </tr>\n",
              "    <tr>\n",
              "      <th>2016-04-22</th>\n",
              "      <td>-2.194644</td>\n",
              "      <td>4.265768</td>\n",
              "      <td>-10.555396</td>\n",
              "      <td>6.166108</td>\n",
              "    </tr>\n",
              "    <tr>\n",
              "      <th>...</th>\n",
              "      <td>...</td>\n",
              "      <td>...</td>\n",
              "      <td>...</td>\n",
              "      <td>...</td>\n",
              "    </tr>\n",
              "    <tr>\n",
              "      <th>2017-09-01</th>\n",
              "      <td>-2.740212</td>\n",
              "      <td>35.638957</td>\n",
              "      <td>-72.591283</td>\n",
              "      <td>67.110860</td>\n",
              "    </tr>\n",
              "    <tr>\n",
              "      <th>2017-09-05</th>\n",
              "      <td>-2.741797</td>\n",
              "      <td>35.689979</td>\n",
              "      <td>-72.692871</td>\n",
              "      <td>67.209276</td>\n",
              "    </tr>\n",
              "    <tr>\n",
              "      <th>2017-09-06</th>\n",
              "      <td>-2.743383</td>\n",
              "      <td>35.740928</td>\n",
              "      <td>-72.794315</td>\n",
              "      <td>67.307549</td>\n",
              "    </tr>\n",
              "    <tr>\n",
              "      <th>2017-09-07</th>\n",
              "      <td>-2.744969</td>\n",
              "      <td>35.791805</td>\n",
              "      <td>-72.895618</td>\n",
              "      <td>67.405679</td>\n",
              "    </tr>\n",
              "    <tr>\n",
              "      <th>2017-09-08</th>\n",
              "      <td>-2.746555</td>\n",
              "      <td>35.842610</td>\n",
              "      <td>-72.996779</td>\n",
              "      <td>67.503668</td>\n",
              "    </tr>\n",
              "  </tbody>\n",
              "</table>\n",
              "<p>353 rows × 4 columns</p>\n",
              "</div>"
            ],
            "text/plain": [
              "               a_col      b_col    lower_c    upper_c\n",
              "index                                                \n",
              "2016-04-18 -2.188300   1.907710  -5.927342   1.550742\n",
              "2016-04-19 -2.189886   2.697909  -7.477690   3.097918\n",
              "2016-04-20 -2.191472   3.304250  -8.667683   4.284739\n",
              "2016-04-21 -2.193058   3.815419  -9.671142   5.285026\n",
              "2016-04-22 -2.194644   4.265768 -10.555396   6.166108\n",
              "...              ...        ...        ...        ...\n",
              "2017-09-01 -2.740212  35.638957 -72.591283  67.110860\n",
              "2017-09-05 -2.741797  35.689979 -72.692871  67.209276\n",
              "2017-09-06 -2.743383  35.740928 -72.794315  67.307549\n",
              "2017-09-07 -2.744969  35.791805 -72.895618  67.405679\n",
              "2017-09-08 -2.746555  35.842610 -72.996779  67.503668\n",
              "\n",
              "[353 rows x 4 columns]"
            ]
          },
          "metadata": {},
          "execution_count": 29
        }
      ]
    },
    {
      "cell_type": "code",
      "source": [
        "type(a.index[0])"
      ],
      "metadata": {
        "colab": {
          "base_uri": "https://localhost:8080/"
        },
        "id": "APHqJMupzEQW",
        "outputId": "a428377b-63a7-4ffe-c91c-186be5ac0aef"
      },
      "execution_count": null,
      "outputs": [
        {
          "output_type": "execute_result",
          "data": {
            "text/plain": [
              "pandas._libs.tslibs.timestamps.Timestamp"
            ]
          },
          "metadata": {},
          "execution_count": 30
        }
      ]
    },
    {
      "cell_type": "code",
      "source": [
        "import matplotlib.pyplot as plt\n",
        "%matplotlib inline"
      ],
      "metadata": {
        "id": "eo7cNPilxGzE"
      },
      "execution_count": null,
      "outputs": []
    },
    {
      "cell_type": "code",
      "source": [
        "plt.plot(df_test['diff'], color = 'k')\n",
        "plt.plot(a['a_col'],color = 'r')\n",
        "plt.plot(a['lower_c'], color = 'b')\n",
        "plt.plot(a['upper_c'], color = 'b')\n",
        "##what is this lolthis is pretty bad\n",
        "##not recommended because this is pretty bad tbh"
      ],
      "metadata": {
        "colab": {
          "base_uri": "https://localhost:8080/",
          "height": 282
        },
        "id": "j_PYH5HLxSoU",
        "outputId": "9cb5388c-772c-45e4-9a17-c4d4b9d67eb9"
      },
      "execution_count": null,
      "outputs": [
        {
          "output_type": "execute_result",
          "data": {
            "text/plain": [
              "[<matplotlib.lines.Line2D at 0x7f741e480dd0>]"
            ]
          },
          "metadata": {},
          "execution_count": 32
        },
        {
          "output_type": "display_data",
          "data": {
            "image/png": "[encoded data removed]",
            "text/plain": [
              "<Figure size 432x288 with 1 Axes>"
            ]
          },
          "metadata": {
            "needs_background": "light"
          }
        }
      ]
    },
    {
      "cell_type": "code",
      "source": [
        "##a = forecast\n",
        "##b = standard error\n",
        "##c = confidenceintervals"
      ],
      "metadata": {
        "id": "ZsepdyY_xgmK"
      },
      "execution_count": null,
      "outputs": []
    },
    {
      "cell_type": "code",
      "source": [
        "##do check out the code for arima models given in udemy guy`s file"
      ],
      "metadata": {
        "id": "GN56retV3_tc"
      },
      "execution_count": null,
      "outputs": []
    }
  ]
}