{
  "cells": [
    {
      "cell_type": "markdown",
      "metadata": {
        "id": "view-in-github",
        "colab_type": "text"
      },
      "source": [
        "<a href=\"https://colab.research.google.com/github/nkhan054002/QuantProjects/blob/main/rough_seasonal_investing.ipynb\" target=\"_parent\"><img src=\"https://colab.research.google.com/assets/colab-badge.svg\" alt=\"Open In Colab\"/></a>"
      ]
    },
    {
      "cell_type": "code",
      "execution_count": null,
      "metadata": {
        "id": "1MmXhEXuBmTp"
      },
      "outputs": [],
      "source": [
        "pip install yfinance"
      ]
    },
    {
      "cell_type": "code",
      "execution_count": null,
      "metadata": {
        "id": "pTIU4eNupwnU"
      },
      "outputs": [],
      "source": [
        "import pandas as pd\n",
        "from matplotlib import pyplot as plt\n",
        "from statsmodels.tsa.seasonal import seasonal_decompose \n",
        "from statsmodels.tsa.holtwinters import SimpleExpSmoothing   \n",
        "from statsmodels.tsa.holtwinters import ExponentialSmoothing\n",
        "from statsmodels.tsa.holtwinters import Holt\n",
        "import yfinance as yf"
      ]
    },
    {
      "cell_type": "code",
      "execution_count": null,
      "metadata": {
        "id": "GGPGOJ2yIn_p"
      },
      "outputs": [],
      "source": [
        "df = yf.download(tickers= 'AAPL', start = '2013-09-09', end = '2021-09-09')\n",
        "df = df.loc[:,['Adj Close']]\n",
        "df.rename(columns = {'Adj Close':'price'}, inplace = True)\n",
        "df = df.resample('M').last()\n",
        "abc = seasonal_decompose(df['price'], model = 'Multiplicative')\n",
        "abc.plot()\n",
        "#do note additive and multiplicative give the same decomposition"
      ]
    },
    {
      "cell_type": "code",
      "execution_count": null,
      "metadata": {
        "id": "Fqm4p400WAPJ"
      },
      "outputs": [],
      "source": [
        "df = yf.download(tickers= 'AAPL', start = '2013-09-09', end = '2019-09-09')\n",
        "df = df.loc[:,['Adj Close']]\n",
        "df.rename(columns = {'Adj Close':'price'}, inplace = True)\n",
        "df = df.resample('M').last()\n",
        "abc = seasonal_decompose(df['price'], model = 'Multiplicative')\n",
        "abc.plot()\n",
        "#do note additive and multiplicative give the same decomposition"
      ]
    },
    {
      "cell_type": "code",
      "execution_count": null,
      "metadata": {
        "id": "VVI1-Xv9Kwgo"
      },
      "outputs": [],
      "source": [
        "index_train = df.index.year < 2017\n",
        "index_test = ~index_train\n",
        "df_test = df.loc[index_test]\n",
        "df_train = df.loc[index_train]\n",
        "fitted_model = ExponentialSmoothing(df_train['price'],trend=\"mul\",seasonal=\"mul\").fit()\n",
        "test_predictions = fitted_model.forecast(len(df_test))\n",
        "plt.figure(figsize = (8,8))\n",
        "plt.plot(df, color = 'r')\n",
        "fitted_model.fittedvalues.plot(color = 'g')\n",
        "test_predictions.plot(color = 'b')"
      ]
    },
    {
      "cell_type": "code",
      "execution_count": null,
      "metadata": {
        "id": "-xLmN1MXQcSv"
      },
      "outputs": [],
      "source": [
        "df = yf.download(tickers = 'AAPL', start = '1990-01-01', end = '2021-01-01')\n",
        "df = df.loc[:,['Adj Close']]\n",
        "df.rename(columns = {'Adj Close':'price'}, inplace = True)\n",
        "df = df.resample('M').last()\n",
        "index_train = df.index.year < 2018\n",
        "df_train = df.loc[index_train]\n",
        "df_test = df.loc[~index_train]\n",
        "df_train.dropna(inplace = True)\n",
        "df_test.dropna(inplace = True)\n",
        "fitted_model = ExponentialSmoothing(df_train,trend=\"mul\",seasonal=\"mul\").fit()\n",
        "test_predictions = fitted_model.forecast(len(df_test))\n",
        "##why is it only taking month as its frequency\n",
        "plt.figure(figsize = (8,8))\n",
        "plt.plot(df, color = 'r')\n",
        "fitted_model.fittedvalues.plot(color = 'g')\n",
        "test_predictions.plot(color = 'b')\n",
        "##basically can be used to forecast peaks and troughs statistically and objectively as well\n",
        "##need to see how efficient this thing actually is\n",
        "##need to also check out the seasonality - and which industries rise and fall\n",
        "##also if the seasonality is out of phase can i say that they are negatively correlated"
      ]
    },
    {
      "cell_type": "code",
      "execution_count": null,
      "metadata": {
        "id": "DBRgtaiLIMHA"
      },
      "outputs": [],
      "source": [
        "def seasonal_investing_f1(STOCK_NAME, start_train, end_train, start_test, end_test):\n",
        "  df0_train = yf.download(tickers = STOCK_NAME, start = start_train, end = end_train)\n",
        "  df0_train = df0_train.loc[:,['Adj Close']]\n",
        "  df0_train = df0_train.rename(columns = {'Adj Close':'prices'})\n",
        "  df0_train.resample('M').last()\n",
        "  df0_train.dropna(inplace = True)\n",
        "  df0_test = yf.download(tickers = STOCK_NAME, start = start_test, end = end_test)\n",
        "  df0_test = df0_test.loc[:,['Adj Close']]\n",
        "  df0_test = df0_test.rename(columns = {'Adj Close':'prices'})\n",
        "  df0_test.resample('M').last()\n",
        "  df0_test.dropna(inplace = True)\n",
        "  fitted_model = ExponentialSmoothing(df0_train,trend=\"mul\",seasonal=\"mul\").fit()\n",
        "  #test_predictions1 = fitted_model.forecast(len(df0_test))\n",
        "  return fitted_model"
      ]
    },
    {
      "cell_type": "code",
      "execution_count": null,
      "metadata": {
        "id": "yadBBQSRRXie"
      },
      "outputs": [],
      "source": [
        ""
      ]
    },
    {
      "cell_type": "code",
      "execution_count": null,
      "metadata": {
        "id": "tBXCD4dKIRHY"
      },
      "outputs": [],
      "source": [
        "df_1 = seasonal_investing_f1('AAPL', df_train.index[0], df_train.index[-1], df_test.index[0], df_test.index[-1])\n",
        "df_1"
      ]
    },
    {
      "cell_type": "code",
      "execution_count": null,
      "metadata": {
        "id": "7AvBAnAfLQxl"
      },
      "outputs": [],
      "source": [
        "stock = 'AAPL'\n",
        "start_date = '2015-09-09'\n",
        "end_date = '2019-09-09'\n",
        "df1 = yf.download(tickers = stock, start = start_date, end = end_date)\n",
        "df1 = df1.loc[:,['Adj Close']]\n",
        "df1 = df1.rename(columns = {'Adj Close': 'prices'})\n",
        "df1.rename(columns = {'Adj Close':'prices'}, inplace = True)\n",
        "df1.resample('M').last()\n",
        "df1.dropna(inplace = True)\n",
        "df1"
      ]
    },
    {
      "cell_type": "code",
      "execution_count": null,
      "metadata": {
        "id": "eAWryBVRQmxR"
      },
      "outputs": [],
      "source": [
        "def seasonal_investing_f1(STOCK_NAME, start_train, end_train, start_test, end_test):\n",
        "  df0_train = yf.download(tickers = STOCK_NAME, start = start_train, end = end_train)\n",
        "  df0_train = df0_train.loc[:,['Adj Close']]\n",
        "  df0_train = df0_train.rename(columns = {'Adj Close':'prices'})\n",
        "  df0_train.resample('M').last()\n",
        "  df0_train.dropna(inplace = True)\n",
        "  df0_test = yf.download(tickers = STOCK_NAME, start = start_test, end = end_test)\n",
        "  df0_test = df0_test.loc[:,['Adj Close']]\n",
        "  df0_test = df0_test.rename(columns = {'Adj Close':'prices'})\n",
        "  df0_test.resample('M').last()\n",
        "  df0_test.dropna(inplace = True)\n",
        "  #fitted_model = ExponentialSmoothing(df0_train,trend=\"mul\",seasonal=\"mul\").fit()\n",
        "  #test_predictions = fitted_model.forecast(len(df0_test))\n",
        "  return df0_train"
      ]
    },
    {
      "cell_type": "code",
      "execution_count": null,
      "metadata": {
        "colab": {
          "base_uri": "https://localhost:8080/",
          "height": 35
        },
        "id": "RIVQLXY5ZsZH",
        "outputId": "d4f30bc0-49fa-46e3-927f-55a4977af694"
      },
      "outputs": [
        {
          "data": {
            "application/vnd.google.colaboratory.intrinsic+json": {
              "type": "string"
            },
            "text/plain": [
              "'2017-12-31 00:00:00'"
            ]
          },
          "execution_count": 57,
          "metadata": {},
          "output_type": "execute_result"
        }
      ],
      "source": [
        "type(df_train.index[-1])\n",
        "type(str(df_train.index[-1]))\n",
        "str(df_train.index[-1])"
      ]
    },
    {
      "cell_type": "markdown",
      "metadata": {
        "id": "R07gAyo_Z1Uy"
      },
      "source": [
        "a = str(df_train.index[0])\n",
        "b = str(df_train.index[-1])\n",
        "c = str(df_test.index[0])\n",
        "d = str(df_test.index[-1])\n",
        "df_1 = seasonal_investing_f1('AAPL', a,b,c,d)\n",
        "df_1\n",
        "#this stuff is jst executing and executing"
      ]
    },
    {
      "cell_type": "code",
      "execution_count": null,
      "metadata": {
        "id": "3ZT-RzEDbSP1"
      },
      "outputs": [],
      "source": [
        "a = str(df_train.index[0])\n",
        "b = str(df_train.index[-1])\n",
        "c = str(df_test.index[0])\n",
        "d = str(df_test.index[-1])\n",
        "df_1 = seasonal_investing_f1('AAPL', a,b,c,d)\n",
        "df_1\n",
        "##ill give it 15 minutes"
      ]
    },
    {
      "cell_type": "code",
      "execution_count": null,
      "metadata": {
        "id": "5sWZaF0jQlhB"
      },
      "outputs": [],
      "source": [
        "def seasonal_investing_f1(STOCK_NAME, start_train, end_train, start_test, end_test):\n",
        "  df0_train = yf.download(tickers = STOCK_NAME, start = start_train, end = end_train)\n",
        "  df0_train = df0_train.loc[:,['Adj Close']]\n",
        "  df0_train = df0_train.rename(columns = {'Adj Close':'prices'})\n",
        "  df0_train.resample('M').last()\n",
        "  df0_train.dropna(inplace = True)\n",
        "  df0_test = yf.download(tickers = STOCK_NAME, start = start_test, end = end_test)\n",
        "  df0_test = df0_test.loc[:,['Adj Close']]\n",
        "  df0_test = df0_test.rename(columns = {'Adj Close':'prices'})\n",
        "  df0_test.resample('M').last()\n",
        "  df0_test.dropna(inplace = True)\n",
        "  fitted_model = ExponentialSmoothing(df0_train,trend=\"mul\",seasonal=\"mul\").fit()\n",
        "  test_predictions = fitted_model.forecast(len(df0_test))\n",
        "  df_predict = pd.DataFrame(test_predictions)\n",
        "  df_predict.rename(columns = {0:'predicted_prices'}, inplace = True)\n",
        "  df_predict['actual'] = df0_test['prices']\n",
        "  df_predict['difference'] = df_predict['predicted_prices'] - df_predict['actual']\n",
        "  df_predict['fractional difference'] = df_predict['difference']/df_predict['actual']\n",
        "  df_predict['fractional difference'] *= 100\n",
        "  return df_predict"
      ]
    },
    {
      "cell_type": "code",
      "source": [
        "##none_type has no attribute as rule_code, since the dataframe that i was dealing with had no frequency set on it\n"
      ],
      "metadata": {
        "id": "l0WBNEzSP2Gv"
      },
      "execution_count": null,
      "outputs": []
    }
  ],
  "metadata": {
    "colab": {
      "collapsed_sections": [],
      "name": "rough_seasonal_investing.ipynb",
      "provenance": [],
      "authorship_tag": "ABX9TyOFQpIBWgpuZEy62HyZJ5DR",
      "include_colab_link": true
    },
    "kernelspec": {
      "display_name": "Python 3",
      "name": "python3"
    },
    "language_info": {
      "name": "python"
    }
  },
  "nbformat": 4,
  "nbformat_minor": 0
}