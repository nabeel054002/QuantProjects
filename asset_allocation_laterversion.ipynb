{
  "nbformat": 4,
  "nbformat_minor": 0,
  "metadata": {
    "colab": {
      "name": "asset_allocation_laterversion.ipynb",
      "provenance": [],
      "authorship_tag": "ABX9TyNTPiQEQJFvd5cx8oZBu5/8",
      "include_colab_link": true
    },
    "kernelspec": {
      "name": "python3",
      "display_name": "Python 3"
    },
    "language_info": {
      "name": "python"
    }
  },
  "cells": [
    {
      "cell_type": "markdown",
      "metadata": {
        "id": "view-in-github",
        "colab_type": "text"
      },
      "source": [
        "<a href=\"https://colab.research.google.com/github/nkhan054002/QuantProjects/blob/main/asset_allocation_laterversion.ipynb\" target=\"_parent\"><img src=\"https://colab.research.google.com/assets/colab-badge.svg\" alt=\"Open In Colab\"/></a>"
      ]
    },
    {
      "cell_type": "code",
      "execution_count": null,
      "metadata": {
        "id": "RaG49nkXs0ss"
      },
      "outputs": [],
      "source": [
        "##asset allocation"
      ]
    },
    {
      "cell_type": "markdown",
      "source": [
        "no one size fits all, key framework - is MPT - modern portfolio theory - markovitz\n",
        "we need to analyze the risk and benefit of a particular stock as a whole on the portfolio itself\n",
        "\n",
        "lower the correlation - better it is for diversification\n",
        "\n",
        "stuff alrdy covered in the last assignment - just revise"
      ],
      "metadata": {
        "id": "HEsDlr5Ys3EK"
      }
    },
    {
      "cell_type": "code",
      "source": [
        "##basic 1/n portfolio"
      ],
      "metadata": {
        "id": "gjnObnW8t2XI"
      },
      "execution_count": null,
      "outputs": []
    },
    {
      "cell_type": "code",
      "source": [
        "pip install yfinance"
      ],
      "metadata": {
        "colab": {
          "base_uri": "https://localhost:8080/"
        },
        "id": "tEPTSKSMxema",
        "outputId": "6797f198-5260-44b4-a9cb-ea3d576ec943"
      },
      "execution_count": null,
      "outputs": [
        {
          "output_type": "stream",
          "name": "stdout",
          "text": [
            "Requirement already satisfied: yfinance in /usr/local/lib/python3.7/dist-packages (0.1.68)\n",
            "Requirement already satisfied: requests>=2.26 in /usr/local/lib/python3.7/dist-packages (from yfinance) (2.27.1)\n",
            "Requirement already satisfied: lxml>=4.5.1 in /usr/local/lib/python3.7/dist-packages (from yfinance) (4.7.1)\n",
            "Requirement already satisfied: numpy>=1.15 in /usr/local/lib/python3.7/dist-packages (from yfinance) (1.19.5)\n",
            "Requirement already satisfied: multitasking>=0.0.7 in /usr/local/lib/python3.7/dist-packages (from yfinance) (0.0.10)\n",
            "Requirement already satisfied: pandas>=0.24 in /usr/local/lib/python3.7/dist-packages (from yfinance) (1.1.5)\n",
            "Requirement already satisfied: python-dateutil>=2.7.3 in /usr/local/lib/python3.7/dist-packages (from pandas>=0.24->yfinance) (2.8.2)\n",
            "Requirement already satisfied: pytz>=2017.2 in /usr/local/lib/python3.7/dist-packages (from pandas>=0.24->yfinance) (2018.9)\n",
            "Requirement already satisfied: six>=1.5 in /usr/local/lib/python3.7/dist-packages (from python-dateutil>=2.7.3->pandas>=0.24->yfinance) (1.15.0)\n",
            "Requirement already satisfied: certifi>=2017.4.17 in /usr/local/lib/python3.7/dist-packages (from requests>=2.26->yfinance) (2021.10.8)\n",
            "Requirement already satisfied: charset-normalizer~=2.0.0 in /usr/local/lib/python3.7/dist-packages (from requests>=2.26->yfinance) (2.0.9)\n",
            "Requirement already satisfied: urllib3<1.27,>=1.21.1 in /usr/local/lib/python3.7/dist-packages (from requests>=2.26->yfinance) (1.24.3)\n",
            "Requirement already satisfied: idna<4,>=2.5 in /usr/local/lib/python3.7/dist-packages (from requests>=2.26->yfinance) (2.10)\n"
          ]
        }
      ]
    },
    {
      "cell_type": "code",
      "source": [
        "pip install pyfolio"
      ],
      "metadata": {
        "colab": {
          "base_uri": "https://localhost:8080/"
        },
        "id": "g3w1-zb9xAXf",
        "outputId": "e9cb2abc-9397-4bd0-9e76-989e658d536d"
      },
      "execution_count": null,
      "outputs": [
        {
          "output_type": "stream",
          "name": "stdout",
          "text": [
            "Requirement already satisfied: pyfolio in /usr/local/lib/python3.7/dist-packages (0.9.2)\n",
            "Requirement already satisfied: matplotlib>=1.4.0 in /usr/local/lib/python3.7/dist-packages (from pyfolio) (3.2.2)\n",
            "Requirement already satisfied: pytz>=2014.10 in /usr/local/lib/python3.7/dist-packages (from pyfolio) (2018.9)\n",
            "Requirement already satisfied: pandas>=0.18.1 in /usr/local/lib/python3.7/dist-packages (from pyfolio) (1.1.5)\n",
            "Requirement already satisfied: numpy>=1.11.1 in /usr/local/lib/python3.7/dist-packages (from pyfolio) (1.19.5)\n",
            "Requirement already satisfied: scipy>=0.14.0 in /usr/local/lib/python3.7/dist-packages (from pyfolio) (1.4.1)\n",
            "Requirement already satisfied: seaborn>=0.7.1 in /usr/local/lib/python3.7/dist-packages (from pyfolio) (0.11.2)\n",
            "Requirement already satisfied: scikit-learn>=0.16.1 in /usr/local/lib/python3.7/dist-packages (from pyfolio) (1.0.1)\n",
            "Requirement already satisfied: ipython>=3.2.3 in /usr/local/lib/python3.7/dist-packages (from pyfolio) (5.5.0)\n",
            "Requirement already satisfied: empyrical>=0.5.0 in /usr/local/lib/python3.7/dist-packages (from pyfolio) (0.5.5)\n",
            "Requirement already satisfied: pandas-datareader>=0.2 in /usr/local/lib/python3.7/dist-packages (from empyrical>=0.5.0->pyfolio) (0.9.0)\n",
            "Requirement already satisfied: setuptools>=18.5 in /usr/local/lib/python3.7/dist-packages (from ipython>=3.2.3->pyfolio) (57.4.0)\n",
            "Requirement already satisfied: simplegeneric>0.8 in /usr/local/lib/python3.7/dist-packages (from ipython>=3.2.3->pyfolio) (0.8.1)\n",
            "Requirement already satisfied: prompt-toolkit<2.0.0,>=1.0.4 in /usr/local/lib/python3.7/dist-packages (from ipython>=3.2.3->pyfolio) (1.0.18)\n",
            "Requirement already satisfied: decorator in /usr/local/lib/python3.7/dist-packages (from ipython>=3.2.3->pyfolio) (4.4.2)\n",
            "Requirement already satisfied: traitlets>=4.2 in /usr/local/lib/python3.7/dist-packages (from ipython>=3.2.3->pyfolio) (5.1.1)\n",
            "Requirement already satisfied: pygments in /usr/local/lib/python3.7/dist-packages (from ipython>=3.2.3->pyfolio) (2.6.1)\n",
            "Requirement already satisfied: pexpect in /usr/local/lib/python3.7/dist-packages (from ipython>=3.2.3->pyfolio) (4.8.0)\n",
            "Requirement already satisfied: pickleshare in /usr/local/lib/python3.7/dist-packages (from ipython>=3.2.3->pyfolio) (0.7.5)\n",
            "Requirement already satisfied: pyparsing!=2.0.4,!=2.1.2,!=2.1.6,>=2.0.1 in /usr/local/lib/python3.7/dist-packages (from matplotlib>=1.4.0->pyfolio) (3.0.6)\n",
            "Requirement already satisfied: python-dateutil>=2.1 in /usr/local/lib/python3.7/dist-packages (from matplotlib>=1.4.0->pyfolio) (2.8.2)\n",
            "Requirement already satisfied: kiwisolver>=1.0.1 in /usr/local/lib/python3.7/dist-packages (from matplotlib>=1.4.0->pyfolio) (1.3.2)\n",
            "Requirement already satisfied: cycler>=0.10 in /usr/local/lib/python3.7/dist-packages (from matplotlib>=1.4.0->pyfolio) (0.11.0)\n",
            "Requirement already satisfied: requests>=2.19.0 in /usr/local/lib/python3.7/dist-packages (from pandas-datareader>=0.2->empyrical>=0.5.0->pyfolio) (2.27.1)\n",
            "Requirement already satisfied: lxml in /usr/local/lib/python3.7/dist-packages (from pandas-datareader>=0.2->empyrical>=0.5.0->pyfolio) (4.7.1)\n",
            "Requirement already satisfied: wcwidth in /usr/local/lib/python3.7/dist-packages (from prompt-toolkit<2.0.0,>=1.0.4->ipython>=3.2.3->pyfolio) (0.2.5)\n",
            "Requirement already satisfied: six>=1.9.0 in /usr/local/lib/python3.7/dist-packages (from prompt-toolkit<2.0.0,>=1.0.4->ipython>=3.2.3->pyfolio) (1.15.0)\n",
            "Requirement already satisfied: idna<4,>=2.5 in /usr/local/lib/python3.7/dist-packages (from requests>=2.19.0->pandas-datareader>=0.2->empyrical>=0.5.0->pyfolio) (2.10)\n",
            "Requirement already satisfied: urllib3<1.27,>=1.21.1 in /usr/local/lib/python3.7/dist-packages (from requests>=2.19.0->pandas-datareader>=0.2->empyrical>=0.5.0->pyfolio) (1.24.3)\n",
            "Requirement already satisfied: charset-normalizer~=2.0.0 in /usr/local/lib/python3.7/dist-packages (from requests>=2.19.0->pandas-datareader>=0.2->empyrical>=0.5.0->pyfolio) (2.0.9)\n",
            "Requirement already satisfied: certifi>=2017.4.17 in /usr/local/lib/python3.7/dist-packages (from requests>=2.19.0->pandas-datareader>=0.2->empyrical>=0.5.0->pyfolio) (2021.10.8)\n",
            "Requirement already satisfied: joblib>=0.11 in /usr/local/lib/python3.7/dist-packages (from scikit-learn>=0.16.1->pyfolio) (1.1.0)\n",
            "Requirement already satisfied: threadpoolctl>=2.0.0 in /usr/local/lib/python3.7/dist-packages (from scikit-learn>=0.16.1->pyfolio) (3.0.0)\n",
            "Requirement already satisfied: ptyprocess>=0.5 in /usr/local/lib/python3.7/dist-packages (from pexpect->ipython>=3.2.3->pyfolio) (0.7.0)\n"
          ]
        }
      ]
    },
    {
      "cell_type": "code",
      "source": [
        "import yfinance as yf\n",
        "import numpy as np\n",
        "import pandas as pd\n",
        "import pyfolio as pf"
      ],
      "metadata": {
        "id": "MvzvccXlxCAw"
      },
      "execution_count": null,
      "outputs": []
    },
    {
      "cell_type": "code",
      "source": [
        "RISKY_ASSETS = ['AAPL', 'IBM', 'MSFT', 'TWTR']\n",
        "START_DATE = '2017-01-01'\n",
        "END_DATE = '2018-12-31'\n",
        "\n",
        "n_assets = len(RISKY_ASSETS)"
      ],
      "metadata": {
        "id": "mKRprq7Uxan7"
      },
      "execution_count": null,
      "outputs": []
    },
    {
      "cell_type": "code",
      "source": [
        "prices_df = yf.download(RISKY_ASSETS, start=START_DATE, \n",
        "                       end=END_DATE, adjusted=True)\n",
        "print(f'Downloaded {prices_df.shape[0]} rows of data.')\n",
        "prices_df['Adj Close'].plot(title='Stock prices of the considered assets')"
      ],
      "metadata": {
        "colab": {
          "base_uri": "https://localhost:8080/",
          "height": 345
        },
        "id": "4Vol5Jzdxn56",
        "outputId": "09557996-6595-4209-c580-390e742033e7"
      },
      "execution_count": null,
      "outputs": [
        {
          "output_type": "stream",
          "name": "stdout",
          "text": [
            "[*********************100%***********************]  4 of 4 completed\n",
            "Downloaded 501 rows of data.\n"
          ]
        },
        {
          "output_type": "execute_result",
          "data": {
            "text/plain": [
              "<matplotlib.axes._subplots.AxesSubplot at 0x7efc343d6710>"
            ]
          },
          "metadata": {},
          "execution_count": 65
        },
        {
          "output_type": "display_data",
          "data": {
            "image/png": "[encoded data removed]",
            "text/plain": [
              "<Figure size 432x288 with 1 Axes>"
            ]
          },
          "metadata": {
            "needs_background": "light"
          }
        }
      ]
    },
    {
      "cell_type": "code",
      "source": [
        "returns = prices_df['Adj Close'].pct_change().dropna()\n",
        "returns"
      ],
      "metadata": {
        "colab": {
          "base_uri": "https://localhost:8080/",
          "height": 455
        },
        "id": "wBK9g0Pcxs4C",
        "outputId": "4cb0f9ab-975b-47b9-d9df-a9a4287b6ab1"
      },
      "execution_count": null,
      "outputs": [
        {
          "output_type": "execute_result",
          "data": {
            "text/html": [
              "\n",
              "  <div id=\"df-942f7e7d-1e9b-4957-96a7-1fd4f90f40f9\">\n",
              "    <div class=\"colab-df-container\">\n",
              "      <div>\n",
              "<style scoped>\n",
              "    .dataframe tbody tr th:only-of-type {\n",
              "        vertical-align: middle;\n",
              "    }\n",
              "\n",
              "    .dataframe tbody tr th {\n",
              "        vertical-align: top;\n",
              "    }\n",
              "\n",
              "    .dataframe thead th {\n",
              "        text-align: right;\n",
              "    }\n",
              "</style>\n",
              "<table border=\"1\" class=\"dataframe\">\n",
              "  <thead>\n",
              "    <tr style=\"text-align: right;\">\n",
              "      <th></th>\n",
              "      <th>AAPL</th>\n",
              "      <th>IBM</th>\n",
              "      <th>MSFT</th>\n",
              "      <th>TWTR</th>\n",
              "    </tr>\n",
              "    <tr>\n",
              "      <th>Date</th>\n",
              "      <th></th>\n",
              "      <th></th>\n",
              "      <th></th>\n",
              "      <th></th>\n",
              "    </tr>\n",
              "  </thead>\n",
              "  <tbody>\n",
              "    <tr>\n",
              "      <th>2017-01-04</th>\n",
              "      <td>-0.001119</td>\n",
              "      <td>0.012381</td>\n",
              "      <td>-0.004474</td>\n",
              "      <td>0.025547</td>\n",
              "    </tr>\n",
              "    <tr>\n",
              "      <th>2017-01-05</th>\n",
              "      <td>0.005085</td>\n",
              "      <td>-0.003308</td>\n",
              "      <td>0.000000</td>\n",
              "      <td>0.013642</td>\n",
              "    </tr>\n",
              "    <tr>\n",
              "      <th>2017-01-06</th>\n",
              "      <td>0.011148</td>\n",
              "      <td>0.004920</td>\n",
              "      <td>0.008668</td>\n",
              "      <td>0.004681</td>\n",
              "    </tr>\n",
              "    <tr>\n",
              "      <th>2017-01-09</th>\n",
              "      <td>0.009160</td>\n",
              "      <td>-0.011089</td>\n",
              "      <td>-0.003183</td>\n",
              "      <td>0.019220</td>\n",
              "    </tr>\n",
              "    <tr>\n",
              "      <th>2017-01-10</th>\n",
              "      <td>0.001008</td>\n",
              "      <td>-0.012705</td>\n",
              "      <td>-0.000319</td>\n",
              "      <td>-0.007429</td>\n",
              "    </tr>\n",
              "    <tr>\n",
              "      <th>...</th>\n",
              "      <td>...</td>\n",
              "      <td>...</td>\n",
              "      <td>...</td>\n",
              "      <td>...</td>\n",
              "    </tr>\n",
              "    <tr>\n",
              "      <th>2018-12-21</th>\n",
              "      <td>-0.038896</td>\n",
              "      <td>-0.018404</td>\n",
              "      <td>-0.032312</td>\n",
              "      <td>-0.067600</td>\n",
              "    </tr>\n",
              "    <tr>\n",
              "      <th>2018-12-24</th>\n",
              "      <td>-0.025874</td>\n",
              "      <td>-0.030377</td>\n",
              "      <td>-0.041739</td>\n",
              "      <td>-0.031490</td>\n",
              "    </tr>\n",
              "    <tr>\n",
              "      <th>2018-12-26</th>\n",
              "      <td>0.070421</td>\n",
              "      <td>0.035512</td>\n",
              "      <td>0.068310</td>\n",
              "      <td>0.083554</td>\n",
              "    </tr>\n",
              "    <tr>\n",
              "      <th>2018-12-27</th>\n",
              "      <td>-0.006490</td>\n",
              "      <td>0.021456</td>\n",
              "      <td>0.006166</td>\n",
              "      <td>0.000698</td>\n",
              "    </tr>\n",
              "    <tr>\n",
              "      <th>2018-12-28</th>\n",
              "      <td>0.000512</td>\n",
              "      <td>-0.006592</td>\n",
              "      <td>-0.007808</td>\n",
              "      <td>-0.008717</td>\n",
              "    </tr>\n",
              "  </tbody>\n",
              "</table>\n",
              "<p>500 rows × 4 columns</p>\n",
              "</div>\n",
              "      <button class=\"colab-df-convert\" onclick=\"convertToInteractive('df-942f7e7d-1e9b-4957-96a7-1fd4f90f40f9')\"\n",
              "              title=\"Convert this dataframe to an interactive table.\"\n",
              "              style=\"display:none;\">\n",
              "        \n",
              "  <svg xmlns=\"http://www.w3.org/2000/svg\" height=\"24px\"viewBox=\"0 0 24 24\"\n",
              "       width=\"24px\">\n",
              "    <path d=\"M0 0h24v24H0V0z\" fill=\"none\"/>\n",
              "    <path d=\"M18.56 5.44l.94 2.06.94-2.06 2.06-.94-2.06-.94-.94-2.06-.94 2.06-2.06.94zm-11 1L8.5 8.5l.94-2.06 2.06-.94-2.06-.94L8.5 2.5l-.94 2.06-2.06.94zm10 10l.94 2.06.94-2.06 2.06-.94-2.06-.94-.94-2.06-.94 2.06-2.06.94z\"/><path d=\"M17.41 7.96l-1.37-1.37c-.4-.4-.92-.59-1.43-.59-.52 0-1.04.2-1.43.59L10.3 9.45l-7.72 7.72c-.78.78-.78 2.05 0 2.83L4 21.41c.39.39.9.59 1.41.59.51 0 1.02-.2 1.41-.59l7.78-7.78 2.81-2.81c.8-.78.8-2.07 0-2.86zM5.41 20L4 18.59l7.72-7.72 1.47 1.35L5.41 20z\"/>\n",
              "  </svg>\n",
              "      </button>\n",
              "      \n",
              "  <style>\n",
              "    .colab-df-container {\n",
              "      display:flex;\n",
              "      flex-wrap:wrap;\n",
              "      gap: 12px;\n",
              "    }\n",
              "\n",
              "    .colab-df-convert {\n",
              "      background-color: #E8F0FE;\n",
              "      border: none;\n",
              "      border-radius: 50%;\n",
              "      cursor: pointer;\n",
              "      display: none;\n",
              "      fill: #1967D2;\n",
              "      height: 32px;\n",
              "      padding: 0 0 0 0;\n",
              "      width: 32px;\n",
              "    }\n",
              "\n",
              "    .colab-df-convert:hover {\n",
              "      background-color: #E2EBFA;\n",
              "      box-shadow: 0px 1px 2px rgba(60, 64, 67, 0.3), 0px 1px 3px 1px rgba(60, 64, 67, 0.15);\n",
              "      fill: #174EA6;\n",
              "    }\n",
              "\n",
              "    [theme=dark] .colab-df-convert {\n",
              "      background-color: #3B4455;\n",
              "      fill: #D2E3FC;\n",
              "    }\n",
              "\n",
              "    [theme=dark] .colab-df-convert:hover {\n",
              "      background-color: #434B5C;\n",
              "      box-shadow: 0px 1px 3px 1px rgba(0, 0, 0, 0.15);\n",
              "      filter: drop-shadow(0px 1px 2px rgba(0, 0, 0, 0.3));\n",
              "      fill: #FFFFFF;\n",
              "    }\n",
              "  </style>\n",
              "\n",
              "      <script>\n",
              "        const buttonEl =\n",
              "          document.querySelector('#df-942f7e7d-1e9b-4957-96a7-1fd4f90f40f9 button.colab-df-convert');\n",
              "        buttonEl.style.display =\n",
              "          google.colab.kernel.accessAllowed ? 'block' : 'none';\n",
              "\n",
              "        async function convertToInteractive(key) {\n",
              "          const element = document.querySelector('#df-942f7e7d-1e9b-4957-96a7-1fd4f90f40f9');\n",
              "          const dataTable =\n",
              "            await google.colab.kernel.invokeFunction('convertToInteractive',\n",
              "                                                     [key], {});\n",
              "          if (!dataTable) return;\n",
              "\n",
              "          const docLinkHtml = 'Like what you see? Visit the ' +\n",
              "            '<a target=\"_blank\" href=https://colab.research.google.com/notebooks/data_table.ipynb>data table notebook</a>'\n",
              "            + ' to learn more about interactive tables.';\n",
              "          element.innerHTML = '';\n",
              "          dataTable['output_type'] = 'display_data';\n",
              "          await google.colab.output.renderOutput(dataTable, element);\n",
              "          const docLink = document.createElement('div');\n",
              "          docLink.innerHTML = docLinkHtml;\n",
              "          element.appendChild(docLink);\n",
              "        }\n",
              "      </script>\n",
              "    </div>\n",
              "  </div>\n",
              "  "
            ],
            "text/plain": [
              "                AAPL       IBM      MSFT      TWTR\n",
              "Date                                              \n",
              "2017-01-04 -0.001119  0.012381 -0.004474  0.025547\n",
              "2017-01-05  0.005085 -0.003308  0.000000  0.013642\n",
              "2017-01-06  0.011148  0.004920  0.008668  0.004681\n",
              "2017-01-09  0.009160 -0.011089 -0.003183  0.019220\n",
              "2017-01-10  0.001008 -0.012705 -0.000319 -0.007429\n",
              "...              ...       ...       ...       ...\n",
              "2018-12-21 -0.038896 -0.018404 -0.032312 -0.067600\n",
              "2018-12-24 -0.025874 -0.030377 -0.041739 -0.031490\n",
              "2018-12-26  0.070421  0.035512  0.068310  0.083554\n",
              "2018-12-27 -0.006490  0.021456  0.006166  0.000698\n",
              "2018-12-28  0.000512 -0.006592 -0.007808 -0.008717\n",
              "\n",
              "[500 rows x 4 columns]"
            ]
          },
          "metadata": {},
          "execution_count": 66
        }
      ]
    },
    {
      "cell_type": "code",
      "source": [
        "#portfolio_weights = n_assets * [1 / n_assets]\n",
        "#the above thing is terrible and very confusing to write"
      ],
      "metadata": {
        "id": "gPszTfT4xtWs"
      },
      "execution_count": null,
      "outputs": []
    },
    {
      "cell_type": "code",
      "source": [
        "[1/n_assets]"
      ],
      "metadata": {
        "colab": {
          "base_uri": "https://localhost:8080/"
        },
        "id": "YudpE--Tx6PC",
        "outputId": "b5138b1f-aa3b-4d83-eb16-e33e1b5df270"
      },
      "execution_count": null,
      "outputs": [
        {
          "output_type": "execute_result",
          "data": {
            "text/plain": [
              "[0.25]"
            ]
          },
          "metadata": {},
          "execution_count": 68
        }
      ]
    },
    {
      "cell_type": "code",
      "source": [
        "n_assets"
      ],
      "metadata": {
        "colab": {
          "base_uri": "https://localhost:8080/"
        },
        "id": "DlFImqQzx8Ln",
        "outputId": "af1f7f45-9139-4a23-d9d0-3b685c9d1429"
      },
      "execution_count": null,
      "outputs": [
        {
          "output_type": "execute_result",
          "data": {
            "text/plain": [
              "4"
            ]
          },
          "metadata": {},
          "execution_count": 69
        }
      ]
    },
    {
      "cell_type": "code",
      "source": [
        "4*[1/4]"
      ],
      "metadata": {
        "colab": {
          "base_uri": "https://localhost:8080/"
        },
        "id": "ooiECedLyAOT",
        "outputId": "ec44ba54-a9a3-4e09-a1df-c96d5f6ba693"
      },
      "execution_count": null,
      "outputs": [
        {
          "output_type": "execute_result",
          "data": {
            "text/plain": [
              "[0.25, 0.25, 0.25, 0.25]"
            ]
          },
          "metadata": {},
          "execution_count": 70
        }
      ]
    },
    {
      "cell_type": "code",
      "source": [
        "portfolio_weights = n_assets * [1 / n_assets]\n",
        "#basically makes [0.25] into 4 entries"
      ],
      "metadata": {
        "id": "v56H5NXZyMxf"
      },
      "execution_count": null,
      "outputs": []
    },
    {
      "cell_type": "code",
      "source": [
        "portfolio_returns = pd.Series(np.dot(portfolio_weights, returns.T), \n",
        "                             index=returns.index)\n",
        "portfolio_returns"
      ],
      "metadata": {
        "colab": {
          "base_uri": "https://localhost:8080/"
        },
        "id": "pSr_rvKvyVMd",
        "outputId": "d3c8c325-04f9-4095-a510-1464c716d0e5"
      },
      "execution_count": null,
      "outputs": [
        {
          "output_type": "execute_result",
          "data": {
            "text/plain": [
              "Date\n",
              "2017-01-04    0.008084\n",
              "2017-01-05    0.003855\n",
              "2017-01-06    0.007354\n",
              "2017-01-09    0.003527\n",
              "2017-01-10   -0.004861\n",
              "                ...   \n",
              "2018-12-21   -0.039303\n",
              "2018-12-24   -0.032370\n",
              "2018-12-26    0.064449\n",
              "2018-12-27    0.005457\n",
              "2018-12-28   -0.005651\n",
              "Length: 500, dtype: float64"
            ]
          },
          "metadata": {},
          "execution_count": 72
        }
      ]
    },
    {
      "cell_type": "code",
      "source": [
        "pf.create_simple_tear_sheet(portfolio_returns)\n",
        "## The name comes from an old practice where stockbrokers at the S&P would tear a sheet out of their \n",
        "##summary books to give to investors as a stock recommendation.\n",
        "\n",
        "##try to get the thing into a data frame so as to use other ratios "
      ],
      "metadata": {
        "colab": {
          "base_uri": "https://localhost:8080/",
          "height": 1000
        },
        "id": "kGDjEZuFys4d",
        "outputId": "3ef82b1d-87fb-4a45-8077-6aa10f625c40"
      },
      "execution_count": null,
      "outputs": [
        {
          "output_type": "display_data",
          "data": {
            "text/html": [
              "<table border=\"1\" class=\"dataframe\">\n",
              "  <thead>\n",
              "    <tr style=\"text-align: right;\"><th>Start date</th><td colspan=2>2017-01-04</td></tr>\n",
              "    <tr style=\"text-align: right;\"><th>End date</th><td colspan=2>2018-12-28</td></tr>\n",
              "    <tr style=\"text-align: right;\"><th>Total months</th><td colspan=2>23</td></tr>\n",
              "    <tr style=\"text-align: right;\">\n",
              "      <th></th>\n",
              "      <th>Backtest</th>\n",
              "    </tr>\n",
              "  </thead>\n",
              "  <tbody>\n",
              "    <tr>\n",
              "      <th>Annual return</th>\n",
              "      <td>17.7%</td>\n",
              "    </tr>\n",
              "    <tr>\n",
              "      <th>Cumulative returns</th>\n",
              "      <td>38.1%</td>\n",
              "    </tr>\n",
              "    <tr>\n",
              "      <th>Annual volatility</th>\n",
              "      <td>21.8%</td>\n",
              "    </tr>\n",
              "    <tr>\n",
              "      <th>Sharpe ratio</th>\n",
              "      <td>0.86</td>\n",
              "    </tr>\n",
              "    <tr>\n",
              "      <th>Calmar ratio</th>\n",
              "      <td>0.70</td>\n",
              "    </tr>\n",
              "    <tr>\n",
              "      <th>Stability</th>\n",
              "      <td>0.87</td>\n",
              "    </tr>\n",
              "    <tr>\n",
              "      <th>Max drawdown</th>\n",
              "      <td>-25.3%</td>\n",
              "    </tr>\n",
              "    <tr>\n",
              "      <th>Omega ratio</th>\n",
              "      <td>1.17</td>\n",
              "    </tr>\n",
              "    <tr>\n",
              "      <th>Sortino ratio</th>\n",
              "      <td>1.21</td>\n",
              "    </tr>\n",
              "    <tr>\n",
              "      <th>Skew</th>\n",
              "      <td>-0.29</td>\n",
              "    </tr>\n",
              "    <tr>\n",
              "      <th>Kurtosis</th>\n",
              "      <td>3.93</td>\n",
              "    </tr>\n",
              "    <tr>\n",
              "      <th>Tail ratio</th>\n",
              "      <td>0.88</td>\n",
              "    </tr>\n",
              "    <tr>\n",
              "      <th>Daily value at risk</th>\n",
              "      <td>-2.7%</td>\n",
              "    </tr>\n",
              "  </tbody>\n",
              "</table>"
            ],
            "text/plain": [
              "<IPython.core.display.HTML object>"
            ]
          },
          "metadata": {}
        },
        {
          "output_type": "display_data",
          "data": {
            "image/png": "[encoded data removed]",
            "text/plain": [
              "<Figure size 1008x1728 with 3 Axes>"
            ]
          },
          "metadata": {}
        }
      ]
    },
    {
      "cell_type": "code",
      "source": [
        "#print(a)"
      ],
      "metadata": {
        "id": "IQCJoF8D0M9Q"
      },
      "execution_count": null,
      "outputs": []
    },
    {
      "cell_type": "markdown",
      "source": [
        "#@efficient frontier using monte carlo and also plotting it\n"
      ],
      "metadata": {
        "id": "AqRibBmiPnxg"
      }
    },
    {
      "cell_type": "code",
      "source": [
        "##efficient frontier using monte carlo simulations"
      ],
      "metadata": {
        "id": "dWlxKoRcy0Q_"
      },
      "execution_count": null,
      "outputs": []
    },
    {
      "cell_type": "code",
      "source": [
        "import yfinance as yf\n",
        "import numpy as np\n",
        "import pandas as pd"
      ],
      "metadata": {
        "id": "yXD5vypM2oat"
      },
      "execution_count": null,
      "outputs": []
    },
    {
      "cell_type": "code",
      "source": [
        "N_PORTFOLIOS = 10 ** 3\n",
        "##actually took it as 10**5(i am taking it as 10**3 for speed purposes) - in the udemy course\n",
        "N_DAYS = 252\n",
        "RISKY_ASSETS = ['FB', 'TSLA', 'TWTR', 'MSFT']\n",
        "RISKY_ASSETS.sort()\n",
        "##this needs to be done - since yf.download always does the arrangement of the dataframe alphabetically\n",
        "RISKY_ASSETS\n",
        "# BASICALLY ALPHABAETICAL ORDER ME KAR DIYA LOL"
      ],
      "metadata": {
        "colab": {
          "base_uri": "https://localhost:8080/"
        },
        "id": "qrFJvap02oxH",
        "outputId": "a5a18b55-27e6-4baf-8272-f308fbd599d0"
      },
      "execution_count": null,
      "outputs": [
        {
          "output_type": "execute_result",
          "data": {
            "text/plain": [
              "['FB', 'MSFT', 'TSLA', 'TWTR']"
            ]
          },
          "metadata": {},
          "execution_count": 77
        }
      ]
    },
    {
      "cell_type": "code",
      "source": [
        "START_DATE = '2010-01-01'\n",
        "END_DATE = '2018-12-31'\n",
        "\n",
        "n_assets = len(RISKY_ASSETS)"
      ],
      "metadata": {
        "id": "IsiP8UX04fK3"
      },
      "execution_count": null,
      "outputs": []
    },
    {
      "cell_type": "code",
      "source": [
        "prices_df = yf.download(RISKY_ASSETS, start=START_DATE, \n",
        "                       end=END_DATE, adjusted=True)\n",
        "print(f'Downloaded {prices_df.shape[0]} rows of data.')\n",
        "#prices_df"
      ],
      "metadata": {
        "colab": {
          "base_uri": "https://localhost:8080/"
        },
        "id": "oNH7jPFK2o3o",
        "outputId": "977eed61-b4af-4c8b-943f-d02cc501da92"
      },
      "execution_count": null,
      "outputs": [
        {
          "output_type": "stream",
          "name": "stdout",
          "text": [
            "[*********************100%***********************]  4 of 4 completed\n",
            "Downloaded 2263 rows of data.\n"
          ]
        }
      ]
    },
    {
      "cell_type": "code",
      "source": [
        "prices_df['Adj Close'].plot(title='Stock prices of the considered assets');\n"
      ],
      "metadata": {
        "colab": {
          "base_uri": "https://localhost:8080/",
          "height": 285
        },
        "id": "V5XlNA7v2o9j",
        "outputId": "b03a947a-e66b-468e-d645-5e34e7e68052"
      },
      "execution_count": null,
      "outputs": [
        {
          "output_type": "display_data",
          "data": {
            "image/png": "[encoded data removed]",
            "text/plain": [
              "<Figure size 432x288 with 1 Axes>"
            ]
          },
          "metadata": {
            "needs_background": "light"
          }
        }
      ]
    },
    {
      "cell_type": "code",
      "source": [
        "returns_df = prices_df['Adj Close'].pct_change(axis = 0).dropna()\n",
        "returns_df\n",
        "# axis = 0 for differencing along a particular column"
      ],
      "metadata": {
        "colab": {
          "base_uri": "https://localhost:8080/",
          "height": 455
        },
        "id": "TBJvX3L52pDd",
        "outputId": "e56336b2-f7fa-42ff-f456-af2295f153d8"
      },
      "execution_count": null,
      "outputs": [
        {
          "output_type": "execute_result",
          "data": {
            "text/html": [
              "\n",
              "  <div id=\"df-c1a9146b-08ad-4103-a53b-ecc9c1803d35\">\n",
              "    <div class=\"colab-df-container\">\n",
              "      <div>\n",
              "<style scoped>\n",
              "    .dataframe tbody tr th:only-of-type {\n",
              "        vertical-align: middle;\n",
              "    }\n",
              "\n",
              "    .dataframe tbody tr th {\n",
              "        vertical-align: top;\n",
              "    }\n",
              "\n",
              "    .dataframe thead th {\n",
              "        text-align: right;\n",
              "    }\n",
              "</style>\n",
              "<table border=\"1\" class=\"dataframe\">\n",
              "  <thead>\n",
              "    <tr style=\"text-align: right;\">\n",
              "      <th></th>\n",
              "      <th>FB</th>\n",
              "      <th>MSFT</th>\n",
              "      <th>TSLA</th>\n",
              "      <th>TWTR</th>\n",
              "    </tr>\n",
              "    <tr>\n",
              "      <th>Date</th>\n",
              "      <th></th>\n",
              "      <th></th>\n",
              "      <th></th>\n",
              "      <th></th>\n",
              "    </tr>\n",
              "  </thead>\n",
              "  <tbody>\n",
              "    <tr>\n",
              "      <th>2013-11-08</th>\n",
              "      <td>-0.000631</td>\n",
              "      <td>0.007466</td>\n",
              "      <td>-0.013021</td>\n",
              "      <td>-0.072383</td>\n",
              "    </tr>\n",
              "    <tr>\n",
              "      <th>2013-11-11</th>\n",
              "      <td>-0.027982</td>\n",
              "      <td>-0.005028</td>\n",
              "      <td>0.048931</td>\n",
              "      <td>0.030012</td>\n",
              "    </tr>\n",
              "    <tr>\n",
              "      <th>2013-11-12</th>\n",
              "      <td>0.008874</td>\n",
              "      <td>-0.006119</td>\n",
              "      <td>-0.047685</td>\n",
              "      <td>-0.023310</td>\n",
              "    </tr>\n",
              "    <tr>\n",
              "      <th>2013-11-13</th>\n",
              "      <td>0.045055</td>\n",
              "      <td>0.021413</td>\n",
              "      <td>0.006531</td>\n",
              "      <td>0.016706</td>\n",
              "    </tr>\n",
              "    <tr>\n",
              "      <th>2013-11-14</th>\n",
              "      <td>0.005748</td>\n",
              "      <td>-0.003669</td>\n",
              "      <td>-0.007931</td>\n",
              "      <td>0.049061</td>\n",
              "    </tr>\n",
              "    <tr>\n",
              "      <th>...</th>\n",
              "      <td>...</td>\n",
              "      <td>...</td>\n",
              "      <td>...</td>\n",
              "      <td>...</td>\n",
              "    </tr>\n",
              "    <tr>\n",
              "      <th>2018-12-21</th>\n",
              "      <td>-0.063343</td>\n",
              "      <td>-0.032312</td>\n",
              "      <td>0.013920</td>\n",
              "      <td>-0.067600</td>\n",
              "    </tr>\n",
              "    <tr>\n",
              "      <th>2018-12-24</th>\n",
              "      <td>-0.007123</td>\n",
              "      <td>-0.041739</td>\n",
              "      <td>-0.076242</td>\n",
              "      <td>-0.031490</td>\n",
              "    </tr>\n",
              "    <tr>\n",
              "      <th>2018-12-26</th>\n",
              "      <td>0.081573</td>\n",
              "      <td>0.068310</td>\n",
              "      <td>0.103930</td>\n",
              "      <td>0.083554</td>\n",
              "    </tr>\n",
              "    <tr>\n",
              "      <th>2018-12-27</th>\n",
              "      <td>0.002534</td>\n",
              "      <td>0.006166</td>\n",
              "      <td>-0.030544</td>\n",
              "      <td>0.000698</td>\n",
              "    </tr>\n",
              "    <tr>\n",
              "      <th>2018-12-28</th>\n",
              "      <td>-0.009813</td>\n",
              "      <td>-0.007808</td>\n",
              "      <td>0.056116</td>\n",
              "      <td>-0.008717</td>\n",
              "    </tr>\n",
              "  </tbody>\n",
              "</table>\n",
              "<p>1293 rows × 4 columns</p>\n",
              "</div>\n",
              "      <button class=\"colab-df-convert\" onclick=\"convertToInteractive('df-c1a9146b-08ad-4103-a53b-ecc9c1803d35')\"\n",
              "              title=\"Convert this dataframe to an interactive table.\"\n",
              "              style=\"display:none;\">\n",
              "        \n",
              "  <svg xmlns=\"http://www.w3.org/2000/svg\" height=\"24px\"viewBox=\"0 0 24 24\"\n",
              "       width=\"24px\">\n",
              "    <path d=\"M0 0h24v24H0V0z\" fill=\"none\"/>\n",
              "    <path d=\"M18.56 5.44l.94 2.06.94-2.06 2.06-.94-2.06-.94-.94-2.06-.94 2.06-2.06.94zm-11 1L8.5 8.5l.94-2.06 2.06-.94-2.06-.94L8.5 2.5l-.94 2.06-2.06.94zm10 10l.94 2.06.94-2.06 2.06-.94-2.06-.94-.94-2.06-.94 2.06-2.06.94z\"/><path d=\"M17.41 7.96l-1.37-1.37c-.4-.4-.92-.59-1.43-.59-.52 0-1.04.2-1.43.59L10.3 9.45l-7.72 7.72c-.78.78-.78 2.05 0 2.83L4 21.41c.39.39.9.59 1.41.59.51 0 1.02-.2 1.41-.59l7.78-7.78 2.81-2.81c.8-.78.8-2.07 0-2.86zM5.41 20L4 18.59l7.72-7.72 1.47 1.35L5.41 20z\"/>\n",
              "  </svg>\n",
              "      </button>\n",
              "      \n",
              "  <style>\n",
              "    .colab-df-container {\n",
              "      display:flex;\n",
              "      flex-wrap:wrap;\n",
              "      gap: 12px;\n",
              "    }\n",
              "\n",
              "    .colab-df-convert {\n",
              "      background-color: #E8F0FE;\n",
              "      border: none;\n",
              "      border-radius: 50%;\n",
              "      cursor: pointer;\n",
              "      display: none;\n",
              "      fill: #1967D2;\n",
              "      height: 32px;\n",
              "      padding: 0 0 0 0;\n",
              "      width: 32px;\n",
              "    }\n",
              "\n",
              "    .colab-df-convert:hover {\n",
              "      background-color: #E2EBFA;\n",
              "      box-shadow: 0px 1px 2px rgba(60, 64, 67, 0.3), 0px 1px 3px 1px rgba(60, 64, 67, 0.15);\n",
              "      fill: #174EA6;\n",
              "    }\n",
              "\n",
              "    [theme=dark] .colab-df-convert {\n",
              "      background-color: #3B4455;\n",
              "      fill: #D2E3FC;\n",
              "    }\n",
              "\n",
              "    [theme=dark] .colab-df-convert:hover {\n",
              "      background-color: #434B5C;\n",
              "      box-shadow: 0px 1px 3px 1px rgba(0, 0, 0, 0.15);\n",
              "      filter: drop-shadow(0px 1px 2px rgba(0, 0, 0, 0.3));\n",
              "      fill: #FFFFFF;\n",
              "    }\n",
              "  </style>\n",
              "\n",
              "      <script>\n",
              "        const buttonEl =\n",
              "          document.querySelector('#df-c1a9146b-08ad-4103-a53b-ecc9c1803d35 button.colab-df-convert');\n",
              "        buttonEl.style.display =\n",
              "          google.colab.kernel.accessAllowed ? 'block' : 'none';\n",
              "\n",
              "        async function convertToInteractive(key) {\n",
              "          const element = document.querySelector('#df-c1a9146b-08ad-4103-a53b-ecc9c1803d35');\n",
              "          const dataTable =\n",
              "            await google.colab.kernel.invokeFunction('convertToInteractive',\n",
              "                                                     [key], {});\n",
              "          if (!dataTable) return;\n",
              "\n",
              "          const docLinkHtml = 'Like what you see? Visit the ' +\n",
              "            '<a target=\"_blank\" href=https://colab.research.google.com/notebooks/data_table.ipynb>data table notebook</a>'\n",
              "            + ' to learn more about interactive tables.';\n",
              "          element.innerHTML = '';\n",
              "          dataTable['output_type'] = 'display_data';\n",
              "          await google.colab.output.renderOutput(dataTable, element);\n",
              "          const docLink = document.createElement('div');\n",
              "          docLink.innerHTML = docLinkHtml;\n",
              "          element.appendChild(docLink);\n",
              "        }\n",
              "      </script>\n",
              "    </div>\n",
              "  </div>\n",
              "  "
            ],
            "text/plain": [
              "                  FB      MSFT      TSLA      TWTR\n",
              "Date                                              \n",
              "2013-11-08 -0.000631  0.007466 -0.013021 -0.072383\n",
              "2013-11-11 -0.027982 -0.005028  0.048931  0.030012\n",
              "2013-11-12  0.008874 -0.006119 -0.047685 -0.023310\n",
              "2013-11-13  0.045055  0.021413  0.006531  0.016706\n",
              "2013-11-14  0.005748 -0.003669 -0.007931  0.049061\n",
              "...              ...       ...       ...       ...\n",
              "2018-12-21 -0.063343 -0.032312  0.013920 -0.067600\n",
              "2018-12-24 -0.007123 -0.041739 -0.076242 -0.031490\n",
              "2018-12-26  0.081573  0.068310  0.103930  0.083554\n",
              "2018-12-27  0.002534  0.006166 -0.030544  0.000698\n",
              "2018-12-28 -0.009813 -0.007808  0.056116 -0.008717\n",
              "\n",
              "[1293 rows x 4 columns]"
            ]
          },
          "metadata": {},
          "execution_count": 81
        }
      ]
    },
    {
      "cell_type": "code",
      "source": [
        "avg_returns = returns_df.mean() * N_DAYS\n",
        "avg_returns\n",
        "##lol FB is going on a loss - beware\n",
        "##lol the all in logic neednt mean jackshit in stocks - since its based on expectations"
      ],
      "metadata": {
        "colab": {
          "base_uri": "https://localhost:8080/"
        },
        "id": "jDtnDx6S5vJC",
        "outputId": "5b0cefad-918d-41ba-9226-5b21ca43486a"
      },
      "execution_count": null,
      "outputs": [
        {
          "output_type": "execute_result",
          "data": {
            "text/plain": [
              "FB      0.246548\n",
              "MSFT    0.243281\n",
              "TSLA    0.272377\n",
              "TWTR    0.064729\n",
              "dtype: float64"
            ]
          },
          "metadata": {},
          "execution_count": 82
        }
      ]
    },
    {
      "cell_type": "code",
      "source": [
        "cov_mat = returns_df.cov() * N_DAYS\n",
        "cov_mat"
      ],
      "metadata": {
        "id": "yjdrgg456I1l",
        "colab": {
          "base_uri": "https://localhost:8080/",
          "height": 175
        },
        "outputId": "70ee658a-ea57-421f-c792-e93c714bb3aa"
      },
      "execution_count": null,
      "outputs": [
        {
          "output_type": "execute_result",
          "data": {
            "text/html": [
              "\n",
              "  <div id=\"df-eabc9c51-b2a2-405c-95ed-b3b28296e4bc\">\n",
              "    <div class=\"colab-df-container\">\n",
              "      <div>\n",
              "<style scoped>\n",
              "    .dataframe tbody tr th:only-of-type {\n",
              "        vertical-align: middle;\n",
              "    }\n",
              "\n",
              "    .dataframe tbody tr th {\n",
              "        vertical-align: top;\n",
              "    }\n",
              "\n",
              "    .dataframe thead th {\n",
              "        text-align: right;\n",
              "    }\n",
              "</style>\n",
              "<table border=\"1\" class=\"dataframe\">\n",
              "  <thead>\n",
              "    <tr style=\"text-align: right;\">\n",
              "      <th></th>\n",
              "      <th>FB</th>\n",
              "      <th>MSFT</th>\n",
              "      <th>TSLA</th>\n",
              "      <th>TWTR</th>\n",
              "    </tr>\n",
              "  </thead>\n",
              "  <tbody>\n",
              "    <tr>\n",
              "      <th>FB</th>\n",
              "      <td>0.091166</td>\n",
              "      <td>0.031494</td>\n",
              "      <td>0.047104</td>\n",
              "      <td>0.050647</td>\n",
              "    </tr>\n",
              "    <tr>\n",
              "      <th>MSFT</th>\n",
              "      <td>0.031494</td>\n",
              "      <td>0.052957</td>\n",
              "      <td>0.031919</td>\n",
              "      <td>0.032064</td>\n",
              "    </tr>\n",
              "    <tr>\n",
              "      <th>TSLA</th>\n",
              "      <td>0.047104</td>\n",
              "      <td>0.031919</td>\n",
              "      <td>0.207283</td>\n",
              "      <td>0.061352</td>\n",
              "    </tr>\n",
              "    <tr>\n",
              "      <th>TWTR</th>\n",
              "      <td>0.050647</td>\n",
              "      <td>0.032064</td>\n",
              "      <td>0.061352</td>\n",
              "      <td>0.302745</td>\n",
              "    </tr>\n",
              "  </tbody>\n",
              "</table>\n",
              "</div>\n",
              "      <button class=\"colab-df-convert\" onclick=\"convertToInteractive('df-eabc9c51-b2a2-405c-95ed-b3b28296e4bc')\"\n",
              "              title=\"Convert this dataframe to an interactive table.\"\n",
              "              style=\"display:none;\">\n",
              "        \n",
              "  <svg xmlns=\"http://www.w3.org/2000/svg\" height=\"24px\"viewBox=\"0 0 24 24\"\n",
              "       width=\"24px\">\n",
              "    <path d=\"M0 0h24v24H0V0z\" fill=\"none\"/>\n",
              "    <path d=\"M18.56 5.44l.94 2.06.94-2.06 2.06-.94-2.06-.94-.94-2.06-.94 2.06-2.06.94zm-11 1L8.5 8.5l.94-2.06 2.06-.94-2.06-.94L8.5 2.5l-.94 2.06-2.06.94zm10 10l.94 2.06.94-2.06 2.06-.94-2.06-.94-.94-2.06-.94 2.06-2.06.94z\"/><path d=\"M17.41 7.96l-1.37-1.37c-.4-.4-.92-.59-1.43-.59-.52 0-1.04.2-1.43.59L10.3 9.45l-7.72 7.72c-.78.78-.78 2.05 0 2.83L4 21.41c.39.39.9.59 1.41.59.51 0 1.02-.2 1.41-.59l7.78-7.78 2.81-2.81c.8-.78.8-2.07 0-2.86zM5.41 20L4 18.59l7.72-7.72 1.47 1.35L5.41 20z\"/>\n",
              "  </svg>\n",
              "      </button>\n",
              "      \n",
              "  <style>\n",
              "    .colab-df-container {\n",
              "      display:flex;\n",
              "      flex-wrap:wrap;\n",
              "      gap: 12px;\n",
              "    }\n",
              "\n",
              "    .colab-df-convert {\n",
              "      background-color: #E8F0FE;\n",
              "      border: none;\n",
              "      border-radius: 50%;\n",
              "      cursor: pointer;\n",
              "      display: none;\n",
              "      fill: #1967D2;\n",
              "      height: 32px;\n",
              "      padding: 0 0 0 0;\n",
              "      width: 32px;\n",
              "    }\n",
              "\n",
              "    .colab-df-convert:hover {\n",
              "      background-color: #E2EBFA;\n",
              "      box-shadow: 0px 1px 2px rgba(60, 64, 67, 0.3), 0px 1px 3px 1px rgba(60, 64, 67, 0.15);\n",
              "      fill: #174EA6;\n",
              "    }\n",
              "\n",
              "    [theme=dark] .colab-df-convert {\n",
              "      background-color: #3B4455;\n",
              "      fill: #D2E3FC;\n",
              "    }\n",
              "\n",
              "    [theme=dark] .colab-df-convert:hover {\n",
              "      background-color: #434B5C;\n",
              "      box-shadow: 0px 1px 3px 1px rgba(0, 0, 0, 0.15);\n",
              "      filter: drop-shadow(0px 1px 2px rgba(0, 0, 0, 0.3));\n",
              "      fill: #FFFFFF;\n",
              "    }\n",
              "  </style>\n",
              "\n",
              "      <script>\n",
              "        const buttonEl =\n",
              "          document.querySelector('#df-eabc9c51-b2a2-405c-95ed-b3b28296e4bc button.colab-df-convert');\n",
              "        buttonEl.style.display =\n",
              "          google.colab.kernel.accessAllowed ? 'block' : 'none';\n",
              "\n",
              "        async function convertToInteractive(key) {\n",
              "          const element = document.querySelector('#df-eabc9c51-b2a2-405c-95ed-b3b28296e4bc');\n",
              "          const dataTable =\n",
              "            await google.colab.kernel.invokeFunction('convertToInteractive',\n",
              "                                                     [key], {});\n",
              "          if (!dataTable) return;\n",
              "\n",
              "          const docLinkHtml = 'Like what you see? Visit the ' +\n",
              "            '<a target=\"_blank\" href=https://colab.research.google.com/notebooks/data_table.ipynb>data table notebook</a>'\n",
              "            + ' to learn more about interactive tables.';\n",
              "          element.innerHTML = '';\n",
              "          dataTable['output_type'] = 'display_data';\n",
              "          await google.colab.output.renderOutput(dataTable, element);\n",
              "          const docLink = document.createElement('div');\n",
              "          docLink.innerHTML = docLinkHtml;\n",
              "          element.appendChild(docLink);\n",
              "        }\n",
              "      </script>\n",
              "    </div>\n",
              "  </div>\n",
              "  "
            ],
            "text/plain": [
              "            FB      MSFT      TSLA      TWTR\n",
              "FB    0.091166  0.031494  0.047104  0.050647\n",
              "MSFT  0.031494  0.052957  0.031919  0.032064\n",
              "TSLA  0.047104  0.031919  0.207283  0.061352\n",
              "TWTR  0.050647  0.032064  0.061352  0.302745"
            ]
          },
          "metadata": {},
          "execution_count": 111
        }
      ]
    },
    {
      "cell_type": "code",
      "source": [
        "returns_df.plot(title='Daily returns of the considered assets', alpha = 0.5);"
      ],
      "metadata": {
        "colab": {
          "base_uri": "https://localhost:8080/",
          "height": 285
        },
        "id": "8uM7j7Hk3YRo",
        "outputId": "3c9e0947-1c78-4e91-9155-09310d9d724d"
      },
      "execution_count": null,
      "outputs": [
        {
          "output_type": "display_data",
          "data": {
            "image/png": "[encoded data removed]",
            "text/plain": [
              "<Figure size 432x288 with 1 Axes>"
            ]
          },
          "metadata": {
            "needs_background": "light"
          }
        }
      ]
    },
    {
      "cell_type": "code",
      "source": [
        "# cmd + ? for commenting "
      ],
      "metadata": {
        "id": "_JmTmllQ3ge2"
      },
      "execution_count": null,
      "outputs": []
    },
    {
      "cell_type": "code",
      "source": [
        "np.random.seed(42)\n",
        "weights = np.random.random(size=(N_PORTFOLIOS, n_assets))\n",
        "weights /=  np.sum(weights, axis=1)[:, np.newaxis]\n",
        "weights"
      ],
      "metadata": {
        "colab": {
          "base_uri": "https://localhost:8080/"
        },
        "id": "n3Q-g69D31KD",
        "outputId": "ebee4b34-47af-4a79-dc58-3613153464e9"
      },
      "execution_count": null,
      "outputs": [
        {
          "output_type": "execute_result",
          "data": {
            "text/plain": [
              "array([[0.14102156, 0.35796222, 0.27560979, 0.22540643],\n",
              "       [0.12620081, 0.1261813 , 0.04698284, 0.70063506],\n",
              "       [0.2613905 , 0.30790022, 0.00895102, 0.42175826],\n",
              "       ...,\n",
              "       [0.22455132, 0.57937994, 0.05557977, 0.14048898],\n",
              "       [0.43284995, 0.02950628, 0.28332609, 0.25431769],\n",
              "       [0.23544712, 0.27781277, 0.37312364, 0.11361647]])"
            ]
          },
          "metadata": {},
          "execution_count": 86
        }
      ]
    },
    {
      "cell_type": "markdown",
      "source": [
        "tbh ig i neednt do this again"
      ],
      "metadata": {
        "id": "CNHcjLjEsR8z"
      }
    },
    {
      "cell_type": "markdown",
      "source": [
        "#@ efficient frontier using scipy"
      ],
      "metadata": {
        "id": "sC_GzHkKP83P"
      }
    },
    {
      "cell_type": "code",
      "source": [
        "import yfinance as yf\n",
        "import numpy as np\n",
        "import pandas as pd\n",
        "N_PORTFOLIOS = 10 ** 3\n",
        "N_DAYS = 252\n",
        "RISKY_ASSETS = ['FB', 'TSLA', 'TWTR', 'MSFT']\n",
        "RISKY_ASSETS.sort()\n",
        "START_DATE = '2010-01-01'\n",
        "END_DATE = '2018-12-31'\n",
        "n_assets = len(RISKY_ASSETS)\n",
        "prices_df = yf.download(RISKY_ASSETS, start=START_DATE, \n",
        "                       end=END_DATE, adjusted=True)\n",
        "returns_df = prices_df['Adj Close'].pct_change(axis = 0).dropna()\n",
        "avg_returns = returns_df.mean() * N_DAYS\n",
        "cov_mat = returns_df.cov() * N_DAYS"
      ],
      "metadata": {
        "colab": {
          "base_uri": "https://localhost:8080/"
        },
        "id": "mDKgyXl2Wqny",
        "outputId": "8fc8d833-8906-418b-ed42-4f2c21b29d3b"
      },
      "execution_count": null,
      "outputs": [
        {
          "output_type": "stream",
          "name": "stdout",
          "text": [
            "[*********************100%***********************]  4 of 4 completed\n"
          ]
        }
      ]
    },
    {
      "cell_type": "code",
      "source": [
        ""
      ],
      "metadata": {
        "id": "wasr8JxZWqvi"
      },
      "execution_count": null,
      "outputs": []
    },
    {
      "cell_type": "code",
      "source": [
        "import numpy as np\n",
        "import scipy.optimize as sco"
      ],
      "metadata": {
        "id": "sfyXfSs1QEo_"
      },
      "execution_count": null,
      "outputs": []
    },
    {
      "cell_type": "code",
      "source": [
        "def get_portf_rtn(w, avg_rtns):\n",
        "    return np.sum(avg_rtns * w)"
      ],
      "metadata": {
        "id": "_gk8_cKERM0L"
      },
      "execution_count": null,
      "outputs": []
    },
    {
      "cell_type": "code",
      "source": [
        "def get_portf_vol(w, avg_rtns, cov_mat):\n",
        "    return np.sqrt(np.dot(w.T, np.dot(cov_mat, w)))"
      ],
      "metadata": {
        "id": "XLzx2G4xRN9U"
      },
      "execution_count": null,
      "outputs": []
    },
    {
      "cell_type": "code",
      "source": [
        "def get_efficient_frontier(avg_rtns, cov_matrix, returns_range):\n",
        "    \n",
        "    efficient_portfolios = []\n",
        "    \n",
        "    n_assets = len(avg_returns)\n",
        "    args = (avg_retns, cov_matrix)\n",
        "    bounds = tuple((0,1) for asset in range(n_assets))\n",
        "    #a tuplet of (0,1) - size = n_assets\n",
        "    initial_guess = n_assets * [1. / n_assets, ]\n",
        "    \n",
        "    for ret in returns_range:\n",
        "      ##basically for every return value in the input - we will be adding a point to the output array which exists on the max sharpe ratio portfolio\n",
        "        constraints = ({'type': 'eq', \n",
        "                       'fun': lambda x: get_portf_rtn(x, avg_rtns) - ret},\n",
        "                      {'type': 'eq', \n",
        "                      'fun': lambda x: np.sum(x) - 1})\n",
        "        efficient_portfolio = sco.minimize(get_portf_vol, initial_guess, \n",
        "                                          args=args, method='SLSQP', \n",
        "                                          constraints=constraints,\n",
        "                                          bounds=bounds)\n",
        "        efficient_portfolios.append(efficient_portfolio)\n",
        "        \n",
        "    return efficient_portfolios"
      ],
      "metadata": {
        "id": "dsIdppk-ROEV"
      },
      "execution_count": null,
      "outputs": []
    },
    {
      "cell_type": "code",
      "source": [
        "rtns_range = np.linspace(-0.22, 0.32, 200)\n",
        "##whats the point of this"
      ],
      "metadata": {
        "id": "twqpl8V1RjCR"
      },
      "execution_count": null,
      "outputs": []
    },
    {
      "cell_type": "code",
      "source": [
        "n_assets_trial = 5\n",
        "abc = n_assets_trial*[1. /n_assets_trial]\n",
        "print(abc) \n",
        "abcd = n_assets_trial*[1 /n_assets_trial]\n",
        "abcd\n",
        "##the default weights"
      ],
      "metadata": {
        "colab": {
          "base_uri": "https://localhost:8080/"
        },
        "id": "ntkWbhsBZ1Cg",
        "outputId": "78e39fdd-dc9d-4b19-a71d-e574d0cb7b82"
      },
      "execution_count": null,
      "outputs": [
        {
          "output_type": "stream",
          "name": "stdout",
          "text": [
            "[0.2, 0.2, 0.2, 0.2, 0.2]\n"
          ]
        },
        {
          "output_type": "execute_result",
          "data": {
            "text/plain": [
              "[0.2, 0.2, 0.2, 0.2, 0.2]"
            ]
          },
          "metadata": {},
          "execution_count": 118
        }
      ]
    },
    {
      "cell_type": "code",
      "source": [
        "# https://www.youtube.com/watch?v=cXHvC_FGx24 - for to get the scipy.optimize a explaination\n",
        "#or jst simply refer to the scipy_optimize wala ipynb file"
      ],
      "metadata": {
        "id": "-YlzpiEzqo-z"
      },
      "execution_count": null,
      "outputs": []
    },
    {
      "cell_type": "code",
      "source": [
        "bnds = tuple((0,1) for i in range(n_assets_trial))\n",
        "bnds"
      ],
      "metadata": {
        "colab": {
          "base_uri": "https://localhost:8080/"
        },
        "id": "pDaI_mHlcbcp",
        "outputId": "9dd480c9-c6f5-4469-ba75-7897180a4fbd"
      },
      "execution_count": null,
      "outputs": [
        {
          "output_type": "execute_result",
          "data": {
            "text/plain": [
              "((0, 1), (0, 1), (0, 1), (0, 1), (0, 1))"
            ]
          },
          "metadata": {},
          "execution_count": 121
        }
      ]
    },
    {
      "cell_type": "code",
      "source": [
        "anb = (n_assets_trial,returns_df)\n",
        "print(type(anb))\n",
        "anb"
      ],
      "metadata": {
        "colab": {
          "base_uri": "https://localhost:8080/"
        },
        "id": "nhB002V_dCbZ",
        "outputId": "77f746bb-3422-45bf-8eae-fba45f7f2f15"
      },
      "execution_count": null,
      "outputs": [
        {
          "output_type": "stream",
          "name": "stdout",
          "text": [
            "<class 'tuple'>\n"
          ]
        },
        {
          "output_type": "execute_result",
          "data": {
            "text/plain": [
              "(5,                   FB      MSFT      TSLA      TWTR\n",
              " Date                                              \n",
              " 2013-11-08 -0.000631  0.007466 -0.013021 -0.072383\n",
              " 2013-11-11 -0.027982 -0.005029  0.048931  0.030012\n",
              " 2013-11-12  0.008874 -0.006118 -0.047685 -0.023310\n",
              " 2013-11-13  0.045055  0.021413  0.006531  0.016706\n",
              " 2013-11-14  0.005748 -0.003669 -0.007931  0.049061\n",
              " ...              ...       ...       ...       ...\n",
              " 2018-12-21 -0.063343 -0.032312  0.013920 -0.067600\n",
              " 2018-12-24 -0.007123 -0.041739 -0.076242 -0.031490\n",
              " 2018-12-26  0.081573  0.068310  0.103930  0.083554\n",
              " 2018-12-27  0.002534  0.006165 -0.030544  0.000698\n",
              " 2018-12-28 -0.009813 -0.007808  0.056116 -0.008717\n",
              " \n",
              " [1293 rows x 4 columns])"
            ]
          },
          "metadata": {},
          "execution_count": 125
        }
      ]
    },
    {
      "cell_type": "code",
      "source": [
        "anb[0]"
      ],
      "metadata": {
        "colab": {
          "base_uri": "https://localhost:8080/"
        },
        "id": "ByA7Lsc_Z5_L",
        "outputId": "898f7df8-6d02-4299-868c-ea674212ccf9"
      },
      "execution_count": null,
      "outputs": [
        {
          "output_type": "execute_result",
          "data": {
            "text/plain": [
              "5"
            ]
          },
          "metadata": {},
          "execution_count": 123
        }
      ]
    },
    {
      "cell_type": "code",
      "source": [
        "anb[1]"
      ],
      "metadata": {
        "colab": {
          "base_uri": "https://localhost:8080/",
          "height": 455
        },
        "id": "GWKOkfPRdK2m",
        "outputId": "449c44bd-3184-49e7-c54b-a343d6715d4b"
      },
      "execution_count": null,
      "outputs": [
        {
          "output_type": "execute_result",
          "data": {
            "text/html": [
              "\n",
              "  <div id=\"df-32b5f623-8531-487a-bfdb-2a723a2e48c3\">\n",
              "    <div class=\"colab-df-container\">\n",
              "      <div>\n",
              "<style scoped>\n",
              "    .dataframe tbody tr th:only-of-type {\n",
              "        vertical-align: middle;\n",
              "    }\n",
              "\n",
              "    .dataframe tbody tr th {\n",
              "        vertical-align: top;\n",
              "    }\n",
              "\n",
              "    .dataframe thead th {\n",
              "        text-align: right;\n",
              "    }\n",
              "</style>\n",
              "<table border=\"1\" class=\"dataframe\">\n",
              "  <thead>\n",
              "    <tr style=\"text-align: right;\">\n",
              "      <th></th>\n",
              "      <th>FB</th>\n",
              "      <th>MSFT</th>\n",
              "      <th>TSLA</th>\n",
              "      <th>TWTR</th>\n",
              "    </tr>\n",
              "    <tr>\n",
              "      <th>Date</th>\n",
              "      <th></th>\n",
              "      <th></th>\n",
              "      <th></th>\n",
              "      <th></th>\n",
              "    </tr>\n",
              "  </thead>\n",
              "  <tbody>\n",
              "    <tr>\n",
              "      <th>2013-11-08</th>\n",
              "      <td>-0.000631</td>\n",
              "      <td>0.007466</td>\n",
              "      <td>-0.013021</td>\n",
              "      <td>-0.072383</td>\n",
              "    </tr>\n",
              "    <tr>\n",
              "      <th>2013-11-11</th>\n",
              "      <td>-0.027982</td>\n",
              "      <td>-0.005029</td>\n",
              "      <td>0.048931</td>\n",
              "      <td>0.030012</td>\n",
              "    </tr>\n",
              "    <tr>\n",
              "      <th>2013-11-12</th>\n",
              "      <td>0.008874</td>\n",
              "      <td>-0.006118</td>\n",
              "      <td>-0.047685</td>\n",
              "      <td>-0.023310</td>\n",
              "    </tr>\n",
              "    <tr>\n",
              "      <th>2013-11-13</th>\n",
              "      <td>0.045055</td>\n",
              "      <td>0.021413</td>\n",
              "      <td>0.006531</td>\n",
              "      <td>0.016706</td>\n",
              "    </tr>\n",
              "    <tr>\n",
              "      <th>2013-11-14</th>\n",
              "      <td>0.005748</td>\n",
              "      <td>-0.003669</td>\n",
              "      <td>-0.007931</td>\n",
              "      <td>0.049061</td>\n",
              "    </tr>\n",
              "    <tr>\n",
              "      <th>...</th>\n",
              "      <td>...</td>\n",
              "      <td>...</td>\n",
              "      <td>...</td>\n",
              "      <td>...</td>\n",
              "    </tr>\n",
              "    <tr>\n",
              "      <th>2018-12-21</th>\n",
              "      <td>-0.063343</td>\n",
              "      <td>-0.032312</td>\n",
              "      <td>0.013920</td>\n",
              "      <td>-0.067600</td>\n",
              "    </tr>\n",
              "    <tr>\n",
              "      <th>2018-12-24</th>\n",
              "      <td>-0.007123</td>\n",
              "      <td>-0.041739</td>\n",
              "      <td>-0.076242</td>\n",
              "      <td>-0.031490</td>\n",
              "    </tr>\n",
              "    <tr>\n",
              "      <th>2018-12-26</th>\n",
              "      <td>0.081573</td>\n",
              "      <td>0.068310</td>\n",
              "      <td>0.103930</td>\n",
              "      <td>0.083554</td>\n",
              "    </tr>\n",
              "    <tr>\n",
              "      <th>2018-12-27</th>\n",
              "      <td>0.002534</td>\n",
              "      <td>0.006165</td>\n",
              "      <td>-0.030544</td>\n",
              "      <td>0.000698</td>\n",
              "    </tr>\n",
              "    <tr>\n",
              "      <th>2018-12-28</th>\n",
              "      <td>-0.009813</td>\n",
              "      <td>-0.007808</td>\n",
              "      <td>0.056116</td>\n",
              "      <td>-0.008717</td>\n",
              "    </tr>\n",
              "  </tbody>\n",
              "</table>\n",
              "<p>1293 rows × 4 columns</p>\n",
              "</div>\n",
              "      <button class=\"colab-df-convert\" onclick=\"convertToInteractive('df-32b5f623-8531-487a-bfdb-2a723a2e48c3')\"\n",
              "              title=\"Convert this dataframe to an interactive table.\"\n",
              "              style=\"display:none;\">\n",
              "        \n",
              "  <svg xmlns=\"http://www.w3.org/2000/svg\" height=\"24px\"viewBox=\"0 0 24 24\"\n",
              "       width=\"24px\">\n",
              "    <path d=\"M0 0h24v24H0V0z\" fill=\"none\"/>\n",
              "    <path d=\"M18.56 5.44l.94 2.06.94-2.06 2.06-.94-2.06-.94-.94-2.06-.94 2.06-2.06.94zm-11 1L8.5 8.5l.94-2.06 2.06-.94-2.06-.94L8.5 2.5l-.94 2.06-2.06.94zm10 10l.94 2.06.94-2.06 2.06-.94-2.06-.94-.94-2.06-.94 2.06-2.06.94z\"/><path d=\"M17.41 7.96l-1.37-1.37c-.4-.4-.92-.59-1.43-.59-.52 0-1.04.2-1.43.59L10.3 9.45l-7.72 7.72c-.78.78-.78 2.05 0 2.83L4 21.41c.39.39.9.59 1.41.59.51 0 1.02-.2 1.41-.59l7.78-7.78 2.81-2.81c.8-.78.8-2.07 0-2.86zM5.41 20L4 18.59l7.72-7.72 1.47 1.35L5.41 20z\"/>\n",
              "  </svg>\n",
              "      </button>\n",
              "      \n",
              "  <style>\n",
              "    .colab-df-container {\n",
              "      display:flex;\n",
              "      flex-wrap:wrap;\n",
              "      gap: 12px;\n",
              "    }\n",
              "\n",
              "    .colab-df-convert {\n",
              "      background-color: #E8F0FE;\n",
              "      border: none;\n",
              "      border-radius: 50%;\n",
              "      cursor: pointer;\n",
              "      display: none;\n",
              "      fill: #1967D2;\n",
              "      height: 32px;\n",
              "      padding: 0 0 0 0;\n",
              "      width: 32px;\n",
              "    }\n",
              "\n",
              "    .colab-df-convert:hover {\n",
              "      background-color: #E2EBFA;\n",
              "      box-shadow: 0px 1px 2px rgba(60, 64, 67, 0.3), 0px 1px 3px 1px rgba(60, 64, 67, 0.15);\n",
              "      fill: #174EA6;\n",
              "    }\n",
              "\n",
              "    [theme=dark] .colab-df-convert {\n",
              "      background-color: #3B4455;\n",
              "      fill: #D2E3FC;\n",
              "    }\n",
              "\n",
              "    [theme=dark] .colab-df-convert:hover {\n",
              "      background-color: #434B5C;\n",
              "      box-shadow: 0px 1px 3px 1px rgba(0, 0, 0, 0.15);\n",
              "      filter: drop-shadow(0px 1px 2px rgba(0, 0, 0, 0.3));\n",
              "      fill: #FFFFFF;\n",
              "    }\n",
              "  </style>\n",
              "\n",
              "      <script>\n",
              "        const buttonEl =\n",
              "          document.querySelector('#df-32b5f623-8531-487a-bfdb-2a723a2e48c3 button.colab-df-convert');\n",
              "        buttonEl.style.display =\n",
              "          google.colab.kernel.accessAllowed ? 'block' : 'none';\n",
              "\n",
              "        async function convertToInteractive(key) {\n",
              "          const element = document.querySelector('#df-32b5f623-8531-487a-bfdb-2a723a2e48c3');\n",
              "          const dataTable =\n",
              "            await google.colab.kernel.invokeFunction('convertToInteractive',\n",
              "                                                     [key], {});\n",
              "          if (!dataTable) return;\n",
              "\n",
              "          const docLinkHtml = 'Like what you see? Visit the ' +\n",
              "            '<a target=\"_blank\" href=https://colab.research.google.com/notebooks/data_table.ipynb>data table notebook</a>'\n",
              "            + ' to learn more about interactive tables.';\n",
              "          element.innerHTML = '';\n",
              "          dataTable['output_type'] = 'display_data';\n",
              "          await google.colab.output.renderOutput(dataTable, element);\n",
              "          const docLink = document.createElement('div');\n",
              "          docLink.innerHTML = docLinkHtml;\n",
              "          element.appendChild(docLink);\n",
              "        }\n",
              "      </script>\n",
              "    </div>\n",
              "  </div>\n",
              "  "
            ],
            "text/plain": [
              "                  FB      MSFT      TSLA      TWTR\n",
              "Date                                              \n",
              "2013-11-08 -0.000631  0.007466 -0.013021 -0.072383\n",
              "2013-11-11 -0.027982 -0.005029  0.048931  0.030012\n",
              "2013-11-12  0.008874 -0.006118 -0.047685 -0.023310\n",
              "2013-11-13  0.045055  0.021413  0.006531  0.016706\n",
              "2013-11-14  0.005748 -0.003669 -0.007931  0.049061\n",
              "...              ...       ...       ...       ...\n",
              "2018-12-21 -0.063343 -0.032312  0.013920 -0.067600\n",
              "2018-12-24 -0.007123 -0.041739 -0.076242 -0.031490\n",
              "2018-12-26  0.081573  0.068310  0.103930  0.083554\n",
              "2018-12-27  0.002534  0.006165 -0.030544  0.000698\n",
              "2018-12-28 -0.009813 -0.007808  0.056116 -0.008717\n",
              "\n",
              "[1293 rows x 4 columns]"
            ]
          },
          "metadata": {},
          "execution_count": 124
        }
      ]
    },
    {
      "cell_type": "code",
      "source": [
        ""
      ],
      "metadata": {
        "id": "EHJucdYMdMkt"
      },
      "execution_count": null,
      "outputs": []
    },
    {
      "cell_type": "code",
      "source": [
        "efficient_portfolios = get_efficient_frontier(avg_returns, \n",
        "                                             cov_mat, \n",
        "                                             rtns_range)"
      ],
      "metadata": {
        "id": "b-xXfXMSROL4"
      },
      "execution_count": null,
      "outputs": []
    },
    {
      "cell_type": "code",
      "source": [
        "vols_range = [x['fun'] for x in efficient_portfolios]"
      ],
      "metadata": {
        "id": "kB8ZsKcnRORv"
      },
      "execution_count": null,
      "outputs": []
    },
    {
      "cell_type": "code",
      "source": [
        "fig, ax = plt.subplots()\n",
        "portf_results_df.plot(kind='scatter', x='volatility', \n",
        "                     y='returns', c='sharpe_ratio',\n",
        "                     cmap='RdYlGn', edgecolors='black', \n",
        "                     ax=ax)\n",
        "ax.plot(vols_range, rtns_range, 'b--', linewidth=3)\n",
        "ax.set(xlabel='Volatility', \n",
        "      ylabel='Expected Returns', \n",
        "      title='Efficient Frontier')\n",
        "\n",
        "plt.tight_layout()\n",
        "plt.show()"
      ],
      "metadata": {
        "colab": {
          "base_uri": "https://localhost:8080/",
          "height": 297
        },
        "id": "jYKTn1f7ROYM",
        "outputId": "419df91b-b7fa-4326-b79a-9b8ccd840cab"
      },
      "execution_count": null,
      "outputs": [
        {
          "output_type": "display_data",
          "data": {
            "image/png": "[encoded data removed]",
            "text/plain": [
              "<Figure size 432x288 with 2 Axes>"
            ]
          },
          "metadata": {
            "needs_background": "light"
          }
        }
      ]
    },
    {
      "cell_type": "markdown",
      "source": [
        "#the minimum variance/volatility portfolio"
      ],
      "metadata": {
        "id": "PI9CL03bR2zT"
      }
    },
    {
      "cell_type": "code",
      "source": [
        "min_vol_ind = np.argmin(vols_range)\n",
        "min_vol_portf_rtn = rtns_range[min_vol_ind]\n",
        "min_vol_portf_vol = efficient_portfolios[min_vol_ind]['fun']\n",
        "\n",
        "min_vol_portf = {'Return': min_vol_portf_rtn,\n",
        "                'Volatility': min_vol_portf_vol,\n",
        "                'Sharpe Ratio': (min_vol_portf_rtn / \n",
        "                                min_vol_portf_vol)}\n",
        "\n",
        "min_vol_portf"
      ],
      "metadata": {
        "colab": {
          "base_uri": "https://localhost:8080/"
        },
        "id": "UzEBi9hGRM5j",
        "outputId": "be41f373-865a-4928-9749-7d9544a256ca"
      },
      "execution_count": null,
      "outputs": [
        {
          "output_type": "execute_result",
          "data": {
            "text/plain": [
              "{'Return': 0.24130653266331661,\n",
              " 'Sharpe Ratio': 1.1212393448627236,\n",
              " 'Volatility': 0.21521411442519478}"
            ]
          },
          "metadata": {},
          "execution_count": 107
        }
      ]
    },
    {
      "cell_type": "code",
      "source": [
        "print('Minimum Volatility portfolio ----')\n",
        "print('Performance')\n",
        "\n",
        "for index, value in min_vol_portf.items():\n",
        "    print(f'{index}: {100 * value:.2f}% ', end=\"\", flush=True)\n",
        "    \n",
        "print('\\nWeights')\n",
        "for x, y in zip(RISKY_ASSETS, efficient_portfolios[min_vol_ind]['x']):\n",
        "    print(f'{x}: {100*y:.2f}% ', end=\"\", flush=True)"
      ],
      "metadata": {
        "colab": {
          "base_uri": "https://localhost:8080/"
        },
        "id": "fJyqlDOmSE7C",
        "outputId": "31b00598-f3fa-437c-a82b-bce5bff3303b"
      },
      "execution_count": null,
      "outputs": [
        {
          "output_type": "stream",
          "name": "stdout",
          "text": [
            "Minimum Volatility portfolio ----\n",
            "Performance\n",
            "Return: 24.13% Volatility: 21.52% Sharpe Ratio: 112.12% \n",
            "Weights\n",
            "FB: 22.54% MSFT: 69.00% TSLA: 5.96% TWTR: 2.49% "
          ]
        }
      ]
    }
  ]
}