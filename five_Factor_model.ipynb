{
  "nbformat": 4,
  "nbformat_minor": 0,
  "metadata": {
    "colab": {
      "name": "five_Factor_model.ipynb",
      "provenance": [],
      "authorship_tag": "ABX9TyNg8DZ5X/haPNk7QaliJOlf",
      "include_colab_link": true
    },
    "kernelspec": {
      "name": "python3",
      "display_name": "Python 3"
    },
    "language_info": {
      "name": "python"
    }
  },
  "cells": [
    {
      "cell_type": "markdown",
      "metadata": {
        "id": "view-in-github",
        "colab_type": "text"
      },
      "source": [
        "<a href=\"https://colab.research.google.com/github/nkhan054002/QuantProjects/blob/main/five_Factor_model.ipynb\" target=\"_parent\"><img src=\"https://colab.research.google.com/assets/colab-badge.svg\" alt=\"Open In Colab\"/></a>"
      ]
    },
    {
      "cell_type": "code",
      "source": [
        "pip install yfinance"
      ],
      "metadata": {
        "colab": {
          "base_uri": "https://localhost:8080/"
        },
        "id": "PEmNG9Hxm4DV",
        "outputId": "ebac404e-2014-42a0-ec50-6b4ceddd6365"
      },
      "execution_count": null,
      "outputs": [
        {
          "output_type": "stream",
          "name": "stdout",
          "text": [
            "Collecting yfinance\n",
            "  Downloading yfinance-0.1.69-py2.py3-none-any.whl (26 kB)\n",
            "Requirement already satisfied: multitasking>=0.0.7 in /usr/local/lib/python3.7/dist-packages (from yfinance) (0.0.10)\n",
            "Requirement already satisfied: numpy>=1.15 in /usr/local/lib/python3.7/dist-packages (from yfinance) (1.19.5)\n",
            "Requirement already satisfied: pandas>=0.24 in /usr/local/lib/python3.7/dist-packages (from yfinance) (1.1.5)\n",
            "Collecting lxml>=4.5.1\n",
            "  Downloading lxml-4.7.1-cp37-cp37m-manylinux_2_17_x86_64.manylinux2014_x86_64.manylinux_2_24_x86_64.whl (6.4 MB)\n",
            "\u001b[K     |████████████████████████████████| 6.4 MB 7.3 MB/s \n",
            "\u001b[?25hCollecting requests>=2.26\n",
            "  Downloading requests-2.27.1-py2.py3-none-any.whl (63 kB)\n",
            "\u001b[K     |████████████████████████████████| 63 kB 1.9 MB/s \n",
            "\u001b[?25hRequirement already satisfied: python-dateutil>=2.7.3 in /usr/local/lib/python3.7/dist-packages (from pandas>=0.24->yfinance) (2.8.2)\n",
            "Requirement already satisfied: pytz>=2017.2 in /usr/local/lib/python3.7/dist-packages (from pandas>=0.24->yfinance) (2018.9)\n",
            "Requirement already satisfied: six>=1.5 in /usr/local/lib/python3.7/dist-packages (from python-dateutil>=2.7.3->pandas>=0.24->yfinance) (1.15.0)\n",
            "Requirement already satisfied: urllib3<1.27,>=1.21.1 in /usr/local/lib/python3.7/dist-packages (from requests>=2.26->yfinance) (1.24.3)\n",
            "Requirement already satisfied: idna<4,>=2.5 in /usr/local/lib/python3.7/dist-packages (from requests>=2.26->yfinance) (2.10)\n",
            "Requirement already satisfied: certifi>=2017.4.17 in /usr/local/lib/python3.7/dist-packages (from requests>=2.26->yfinance) (2021.10.8)\n",
            "Requirement already satisfied: charset-normalizer~=2.0.0 in /usr/local/lib/python3.7/dist-packages (from requests>=2.26->yfinance) (2.0.10)\n",
            "Installing collected packages: requests, lxml, yfinance\n",
            "  Attempting uninstall: requests\n",
            "    Found existing installation: requests 2.23.0\n",
            "    Uninstalling requests-2.23.0:\n",
            "      Successfully uninstalled requests-2.23.0\n",
            "  Attempting uninstall: lxml\n",
            "    Found existing installation: lxml 4.2.6\n",
            "    Uninstalling lxml-4.2.6:\n",
            "      Successfully uninstalled lxml-4.2.6\n",
            "\u001b[31mERROR: pip's dependency resolver does not currently take into account all the packages that are installed. This behaviour is the source of the following dependency conflicts.\n",
            "google-colab 1.0.0 requires requests~=2.23.0, but you have requests 2.27.1 which is incompatible.\n",
            "datascience 0.10.6 requires folium==0.2.1, but you have folium 0.8.3 which is incompatible.\u001b[0m\n",
            "Successfully installed lxml-4.7.1 requests-2.27.1 yfinance-0.1.69\n"
          ]
        }
      ]
    },
    {
      "cell_type": "code",
      "source": [
        "import pandas as pd\n",
        "import numpy as np\n",
        "import yfinance as yf\n",
        "import statsmodels.formula.api as smf\n",
        "import pandas_datareader.data as web\n",
        "##ur basically using pandas_datareader package lol\n",
        "import matplotlib.pyplot as plt\n",
        "%matplotlib inline"
      ],
      "metadata": {
        "id": "wazG_pHWnB6I",
        "colab": {
          "base_uri": "https://localhost:8080/"
        },
        "outputId": "62c4f35e-e5dc-4c28-a613-93a57913f1f2"
      },
      "execution_count": null,
      "outputs": [
        {
          "output_type": "stream",
          "name": "stderr",
          "text": [
            "/usr/local/lib/python3.7/dist-packages/statsmodels/tools/_testing.py:19: FutureWarning: pandas.util.testing is deprecated. Use the functions in the public API at pandas.testing instead.\n",
            "  import pandas.util.testing as tm\n"
          ]
        }
      ]
    },
    {
      "cell_type": "code",
      "source": [
        "# funnily enough the following function gives the same R squared value for all tickers"
      ],
      "metadata": {
        "id": "LMUAem8YFvAX"
      },
      "execution_count": null,
      "outputs": []
    },
    {
      "cell_type": "code",
      "source": [
        "def abc(TICKER, start_date, end_date):\n",
        "  df_five_f = web.DataReader('F-F_Research_Data_5_Factors_2x3','famafrench',start=start_date, end = end_date)\n",
        "  df_five_f = df_five_f[0]\n",
        "  df_five_f.index = df_five_f.index.format()\n",
        "  #the above line is unnecessary\n",
        "\n",
        "  asset = yf.download(TICKER,start=start_date,end=end_date,adjusted=True,progress=False)\n",
        "\n",
        "  y = asset['Adj Close'].resample('M').last()\n",
        "  y = y.pct_change().dropna()\n",
        "\n",
        "  y = pd.DataFrame(y)\n",
        "\n",
        "  y.index = y.index.strftime('%Y-%m')\n",
        "\n",
        "  ffd = df_five_f.join(y)\n",
        "  ##ffd stands for five_factor_data\n",
        "\n",
        "  ffd.dropna(inplace = True)\n",
        "\n",
        "  ffd.columns = ['mkt', 'smb', 'hml', 'rmw', 'cma', 'rf', 'rtn']\n",
        "\n",
        "  ffd.loc[:, ffd.columns != 'rtn'] /= 100\n",
        "\n",
        "  ##mayabe there is an issue with setting the start and end data in the yf.download - due to the Nan values in the first and last rows\n",
        "  ##ehh lets see it\n",
        "  ffd['excess_rtn'] = ffd.rtn - ffd.rf\n",
        "\n",
        "  ffm = smf.ols(formula='excess_rtn ~ mkt + smb + hml + rmw + cma',data=ffd).fit()\n",
        "\n",
        "  return ffm.summary()"
      ],
      "metadata": {
        "id": "FLTK1EOLni1X"
      },
      "execution_count": null,
      "outputs": []
    },
    {
      "cell_type": "code",
      "source": [
        "ax = abc('AAPL', '2019-09-09', '2021-01-01')\n",
        "print(ax)\n",
        "##printing it is much better"
      ],
      "metadata": {
        "colab": {
          "base_uri": "https://localhost:8080/"
        },
        "id": "JPxHygr5myvy",
        "outputId": "2ebad9b2-44de-4158-f53a-bdde5fc79322"
      },
      "execution_count": null,
      "outputs": [
        {
          "output_type": "stream",
          "name": "stdout",
          "text": [
            "                            OLS Regression Results                            \n",
            "==============================================================================\n",
            "Dep. Variable:             excess_rtn   R-squared:                       0.834\n",
            "Model:                            OLS   Adj. R-squared:                  0.742\n",
            "Method:                 Least Squares   F-statistic:                     9.053\n",
            "Date:                Fri, 14 Jan 2022   Prob (F-statistic):            0.00256\n",
            "Time:                        12:11:01   Log-Likelihood:                 26.735\n",
            "No. Observations:                  15   AIC:                            -41.47\n",
            "Df Residuals:                       9   BIC:                            -37.22\n",
            "Df Model:                           5                                         \n",
            "Covariance Type:            nonrobust                                         \n",
            "==============================================================================\n",
            "                 coef    std err          t      P>|t|      [0.025      0.975]\n",
            "------------------------------------------------------------------------------\n",
            "Intercept      0.0483      0.024      2.028      0.073      -0.006       0.102\n",
            "mkt            1.2357      0.323      3.829      0.004       0.506       1.966\n",
            "smb           -0.6041      0.749     -0.806      0.441      -2.299       1.091\n",
            "hml           -0.2200      0.614     -0.358      0.728      -1.609       1.169\n",
            "rmw            1.4913      1.041      1.432      0.186      -0.864       3.847\n",
            "cma            1.5816      1.024      1.545      0.157      -0.734       3.897\n",
            "==============================================================================\n",
            "Omnibus:                        0.249   Durbin-Watson:                   1.627\n",
            "Prob(Omnibus):                  0.883   Jarque-Bera (JB):                0.426\n",
            "Skew:                          -0.135   Prob(JB):                        0.808\n",
            "Kurtosis:                       2.220   Cond. No.                         95.2\n",
            "==============================================================================\n",
            "\n",
            "Warnings:\n",
            "[1] Standard Errors assume that the covariance matrix of the errors is correctly specified.\n"
          ]
        },
        {
          "output_type": "stream",
          "name": "stderr",
          "text": [
            "/usr/local/lib/python3.7/dist-packages/scipy/stats/stats.py:1535: UserWarning: kurtosistest only valid for n>=20 ... continuing anyway, n=15\n",
            "  \"anyway, n=%i\" % int(n))\n"
          ]
        }
      ]
    },
    {
      "cell_type": "code",
      "source": [
        "def abcdef(TICKER, start_date, end_date):\n",
        "  df_five_f = web.DataReader('F-F_Research_Data_5_Factors_2x3','famafrench',start=start_date, end = end_date)\n",
        "  df_five_f = df_five_f[0]\n",
        "  df_five_f.index = df_five_f.index.format()\n",
        "  #the above line is unnecessary\n",
        "\n",
        "  asset = yf.download(TICKER,start=start_date,end=end_date,adjusted=True,progress=False)\n",
        "\n",
        "  y = asset['Adj Close'].resample('M').last()\n",
        "  y = y.pct_change().dropna()\n",
        "\n",
        "  y = pd.DataFrame(y)\n",
        "\n",
        "  y.index = y.index.strftime('%Y-%m')\n",
        "\n",
        "  ffd = df_five_f.join(y)\n",
        "  ##ffd stands for five_factor_data\n",
        "\n",
        "  ffd.dropna(inplace = True)\n",
        "\n",
        "  ffd.columns = ['mkt', 'smb', 'hml', 'rmw', 'cma', 'rf', 'rtn']\n",
        "\n",
        "  ffd.loc[:, ffd.columns != 'rtn'] /= 100\n",
        "\n",
        "  ##mayabe there is an issue with setting the start and end data in the yf.download - due to the Nan values in the first and last rows\n",
        "  ##ehh lets see it\n",
        "  ffd['excess_rtn'] = ffd.rtn - ffd.rf\n",
        "\n",
        "  ffd['expected_excess_rtn'] = ffd['mkt'] + ffd['smb'] + ffd['hml'] + ffd['rmw'] + ffd['cma']\n",
        "\n",
        "  #excess_rtn ~ mkt + smb + hml + rmw + cma\n",
        "\n",
        "  return ffd"
      ],
      "metadata": {
        "id": "8-m-vVOPGcbn"
      },
      "execution_count": null,
      "outputs": []
    },
    {
      "cell_type": "code",
      "source": [
        "av = abcdef('AAPL','1990-09-09','2021-01-01')\n",
        "av\n",
        "##what is the purpose of this or capm"
      ],
      "metadata": {
        "colab": {
          "base_uri": "https://localhost:8080/",
          "height": 424
        },
        "id": "JLBxLf04GiOw",
        "outputId": "30eb2d9a-db33-4ec6-fb43-d361869efe55"
      },
      "execution_count": null,
      "outputs": [
        {
          "output_type": "execute_result",
          "data": {
            "text/html": [
              "\n",
              "  <div id=\"df-ad2b4541-8f82-4f2c-b62b-7353fd69a06f\">\n",
              "    <div class=\"colab-df-container\">\n",
              "      <div>\n",
              "<style scoped>\n",
              "    .dataframe tbody tr th:only-of-type {\n",
              "        vertical-align: middle;\n",
              "    }\n",
              "\n",
              "    .dataframe tbody tr th {\n",
              "        vertical-align: top;\n",
              "    }\n",
              "\n",
              "    .dataframe thead th {\n",
              "        text-align: right;\n",
              "    }\n",
              "</style>\n",
              "<table border=\"1\" class=\"dataframe\">\n",
              "  <thead>\n",
              "    <tr style=\"text-align: right;\">\n",
              "      <th></th>\n",
              "      <th>mkt</th>\n",
              "      <th>smb</th>\n",
              "      <th>hml</th>\n",
              "      <th>rmw</th>\n",
              "      <th>cma</th>\n",
              "      <th>rf</th>\n",
              "      <th>rtn</th>\n",
              "      <th>excess_rtn</th>\n",
              "      <th>expected_excess_rtn</th>\n",
              "    </tr>\n",
              "  </thead>\n",
              "  <tbody>\n",
              "    <tr>\n",
              "      <th>1990-10</th>\n",
              "      <td>-0.0192</td>\n",
              "      <td>-0.0507</td>\n",
              "      <td>0.0000</td>\n",
              "      <td>0.0313</td>\n",
              "      <td>-0.0032</td>\n",
              "      <td>0.0068</td>\n",
              "      <td>0.060344</td>\n",
              "      <td>0.053544</td>\n",
              "      <td>-0.0418</td>\n",
              "    </tr>\n",
              "    <tr>\n",
              "      <th>1990-11</th>\n",
              "      <td>0.0635</td>\n",
              "      <td>0.0004</td>\n",
              "      <td>-0.0297</td>\n",
              "      <td>0.0050</td>\n",
              "      <td>-0.0469</td>\n",
              "      <td>0.0057</td>\n",
              "      <td>0.199116</td>\n",
              "      <td>0.193416</td>\n",
              "      <td>-0.0077</td>\n",
              "    </tr>\n",
              "    <tr>\n",
              "      <th>1990-12</th>\n",
              "      <td>0.0246</td>\n",
              "      <td>0.0064</td>\n",
              "      <td>-0.0163</td>\n",
              "      <td>0.0264</td>\n",
              "      <td>-0.0181</td>\n",
              "      <td>0.0060</td>\n",
              "      <td>0.170069</td>\n",
              "      <td>0.164069</td>\n",
              "      <td>0.0230</td>\n",
              "    </tr>\n",
              "    <tr>\n",
              "      <th>1991-01</th>\n",
              "      <td>0.0469</td>\n",
              "      <td>0.0389</td>\n",
              "      <td>-0.0157</td>\n",
              "      <td>0.0126</td>\n",
              "      <td>-0.0385</td>\n",
              "      <td>0.0052</td>\n",
              "      <td>0.290697</td>\n",
              "      <td>0.285497</td>\n",
              "      <td>0.0442</td>\n",
              "    </tr>\n",
              "    <tr>\n",
              "      <th>1991-02</th>\n",
              "      <td>0.0719</td>\n",
              "      <td>0.0401</td>\n",
              "      <td>-0.0063</td>\n",
              "      <td>-0.0004</td>\n",
              "      <td>-0.0043</td>\n",
              "      <td>0.0048</td>\n",
              "      <td>0.033702</td>\n",
              "      <td>0.028902</td>\n",
              "      <td>0.1010</td>\n",
              "    </tr>\n",
              "    <tr>\n",
              "      <th>...</th>\n",
              "      <td>...</td>\n",
              "      <td>...</td>\n",
              "      <td>...</td>\n",
              "      <td>...</td>\n",
              "      <td>...</td>\n",
              "      <td>...</td>\n",
              "      <td>...</td>\n",
              "      <td>...</td>\n",
              "      <td>...</td>\n",
              "    </tr>\n",
              "    <tr>\n",
              "      <th>2020-08</th>\n",
              "      <td>0.0763</td>\n",
              "      <td>-0.0091</td>\n",
              "      <td>-0.0292</td>\n",
              "      <td>0.0436</td>\n",
              "      <td>-0.0132</td>\n",
              "      <td>0.0001</td>\n",
              "      <td>0.216569</td>\n",
              "      <td>0.216469</td>\n",
              "      <td>0.0684</td>\n",
              "    </tr>\n",
              "    <tr>\n",
              "      <th>2020-09</th>\n",
              "      <td>-0.0363</td>\n",
              "      <td>-0.0001</td>\n",
              "      <td>-0.0261</td>\n",
              "      <td>-0.0138</td>\n",
              "      <td>-0.0183</td>\n",
              "      <td>0.0001</td>\n",
              "      <td>-0.102526</td>\n",
              "      <td>-0.102626</td>\n",
              "      <td>-0.0946</td>\n",
              "    </tr>\n",
              "    <tr>\n",
              "      <th>2020-10</th>\n",
              "      <td>-0.0210</td>\n",
              "      <td>0.0467</td>\n",
              "      <td>0.0416</td>\n",
              "      <td>-0.0093</td>\n",
              "      <td>-0.0075</td>\n",
              "      <td>0.0001</td>\n",
              "      <td>-0.060012</td>\n",
              "      <td>-0.060112</td>\n",
              "      <td>0.0505</td>\n",
              "    </tr>\n",
              "    <tr>\n",
              "      <th>2020-11</th>\n",
              "      <td>0.1247</td>\n",
              "      <td>0.0701</td>\n",
              "      <td>0.0213</td>\n",
              "      <td>-0.0211</td>\n",
              "      <td>0.0138</td>\n",
              "      <td>0.0001</td>\n",
              "      <td>0.095493</td>\n",
              "      <td>0.095393</td>\n",
              "      <td>0.2088</td>\n",
              "    </tr>\n",
              "    <tr>\n",
              "      <th>2020-12</th>\n",
              "      <td>0.0463</td>\n",
              "      <td>0.0472</td>\n",
              "      <td>-0.0143</td>\n",
              "      <td>-0.0197</td>\n",
              "      <td>-0.0008</td>\n",
              "      <td>0.0001</td>\n",
              "      <td>0.114574</td>\n",
              "      <td>0.114474</td>\n",
              "      <td>0.0587</td>\n",
              "    </tr>\n",
              "  </tbody>\n",
              "</table>\n",
              "<p>363 rows × 9 columns</p>\n",
              "</div>\n",
              "      <button class=\"colab-df-convert\" onclick=\"convertToInteractive('df-ad2b4541-8f82-4f2c-b62b-7353fd69a06f')\"\n",
              "              title=\"Convert this dataframe to an interactive table.\"\n",
              "              style=\"display:none;\">\n",
              "        \n",
              "  <svg xmlns=\"http://www.w3.org/2000/svg\" height=\"24px\"viewBox=\"0 0 24 24\"\n",
              "       width=\"24px\">\n",
              "    <path d=\"M0 0h24v24H0V0z\" fill=\"none\"/>\n",
              "    <path d=\"M18.56 5.44l.94 2.06.94-2.06 2.06-.94-2.06-.94-.94-2.06-.94 2.06-2.06.94zm-11 1L8.5 8.5l.94-2.06 2.06-.94-2.06-.94L8.5 2.5l-.94 2.06-2.06.94zm10 10l.94 2.06.94-2.06 2.06-.94-2.06-.94-.94-2.06-.94 2.06-2.06.94z\"/><path d=\"M17.41 7.96l-1.37-1.37c-.4-.4-.92-.59-1.43-.59-.52 0-1.04.2-1.43.59L10.3 9.45l-7.72 7.72c-.78.78-.78 2.05 0 2.83L4 21.41c.39.39.9.59 1.41.59.51 0 1.02-.2 1.41-.59l7.78-7.78 2.81-2.81c.8-.78.8-2.07 0-2.86zM5.41 20L4 18.59l7.72-7.72 1.47 1.35L5.41 20z\"/>\n",
              "  </svg>\n",
              "      </button>\n",
              "      \n",
              "  <style>\n",
              "    .colab-df-container {\n",
              "      display:flex;\n",
              "      flex-wrap:wrap;\n",
              "      gap: 12px;\n",
              "    }\n",
              "\n",
              "    .colab-df-convert {\n",
              "      background-color: #E8F0FE;\n",
              "      border: none;\n",
              "      border-radius: 50%;\n",
              "      cursor: pointer;\n",
              "      display: none;\n",
              "      fill: #1967D2;\n",
              "      height: 32px;\n",
              "      padding: 0 0 0 0;\n",
              "      width: 32px;\n",
              "    }\n",
              "\n",
              "    .colab-df-convert:hover {\n",
              "      background-color: #E2EBFA;\n",
              "      box-shadow: 0px 1px 2px rgba(60, 64, 67, 0.3), 0px 1px 3px 1px rgba(60, 64, 67, 0.15);\n",
              "      fill: #174EA6;\n",
              "    }\n",
              "\n",
              "    [theme=dark] .colab-df-convert {\n",
              "      background-color: #3B4455;\n",
              "      fill: #D2E3FC;\n",
              "    }\n",
              "\n",
              "    [theme=dark] .colab-df-convert:hover {\n",
              "      background-color: #434B5C;\n",
              "      box-shadow: 0px 1px 3px 1px rgba(0, 0, 0, 0.15);\n",
              "      filter: drop-shadow(0px 1px 2px rgba(0, 0, 0, 0.3));\n",
              "      fill: #FFFFFF;\n",
              "    }\n",
              "  </style>\n",
              "\n",
              "      <script>\n",
              "        const buttonEl =\n",
              "          document.querySelector('#df-ad2b4541-8f82-4f2c-b62b-7353fd69a06f button.colab-df-convert');\n",
              "        buttonEl.style.display =\n",
              "          google.colab.kernel.accessAllowed ? 'block' : 'none';\n",
              "\n",
              "        async function convertToInteractive(key) {\n",
              "          const element = document.querySelector('#df-ad2b4541-8f82-4f2c-b62b-7353fd69a06f');\n",
              "          const dataTable =\n",
              "            await google.colab.kernel.invokeFunction('convertToInteractive',\n",
              "                                                     [key], {});\n",
              "          if (!dataTable) return;\n",
              "\n",
              "          const docLinkHtml = 'Like what you see? Visit the ' +\n",
              "            '<a target=\"_blank\" href=https://colab.research.google.com/notebooks/data_table.ipynb>data table notebook</a>'\n",
              "            + ' to learn more about interactive tables.';\n",
              "          element.innerHTML = '';\n",
              "          dataTable['output_type'] = 'display_data';\n",
              "          await google.colab.output.renderOutput(dataTable, element);\n",
              "          const docLink = document.createElement('div');\n",
              "          docLink.innerHTML = docLinkHtml;\n",
              "          element.appendChild(docLink);\n",
              "        }\n",
              "      </script>\n",
              "    </div>\n",
              "  </div>\n",
              "  "
            ],
            "text/plain": [
              "            mkt     smb     hml  ...       rtn  excess_rtn  expected_excess_rtn\n",
              "1990-10 -0.0192 -0.0507  0.0000  ...  0.060344    0.053544              -0.0418\n",
              "1990-11  0.0635  0.0004 -0.0297  ...  0.199116    0.193416              -0.0077\n",
              "1990-12  0.0246  0.0064 -0.0163  ...  0.170069    0.164069               0.0230\n",
              "1991-01  0.0469  0.0389 -0.0157  ...  0.290697    0.285497               0.0442\n",
              "1991-02  0.0719  0.0401 -0.0063  ...  0.033702    0.028902               0.1010\n",
              "...         ...     ...     ...  ...       ...         ...                  ...\n",
              "2020-08  0.0763 -0.0091 -0.0292  ...  0.216569    0.216469               0.0684\n",
              "2020-09 -0.0363 -0.0001 -0.0261  ... -0.102526   -0.102626              -0.0946\n",
              "2020-10 -0.0210  0.0467  0.0416  ... -0.060012   -0.060112               0.0505\n",
              "2020-11  0.1247  0.0701  0.0213  ...  0.095493    0.095393               0.2088\n",
              "2020-12  0.0463  0.0472 -0.0143  ...  0.114574    0.114474               0.0587\n",
              "\n",
              "[363 rows x 9 columns]"
            ]
          },
          "metadata": {},
          "execution_count": 7
        }
      ]
    },
    {
      "cell_type": "code",
      "source": [
        "plt.scatter(av['expected_excess_rtn'], av['excess_rtn'], alpha = 0.5)\n",
        "##x,y format for the 'bove one\n",
        "x = av['expected_excess_rtn']\n",
        "y = av['excess_rtn']\n",
        "m, b = np.polyfit(av['expected_excess_rtn'], av['excess_rtn'], 1)\n",
        "#plt.plot(x, m*x + b)\n",
        "##to try a delayed version of the actual excess returns"
      ],
      "metadata": {
        "colab": {
          "base_uri": "https://localhost:8080/",
          "height": 265
        },
        "id": "h3SqudbSHi4-",
        "outputId": "5f08fb7c-b468-4d0c-d3c2-11fd531338e7"
      },
      "execution_count": null,
      "outputs": [
        {
          "output_type": "display_data",
          "data": {
            "image/png": "[encoded data removed]",
            "text/plain": [
              "<Figure size 432x288 with 1 Axes>"
            ]
          },
          "metadata": {
            "needs_background": "light"
          }
        }
      ]
    },
    {
      "cell_type": "code",
      "source": [
        ""
      ],
      "metadata": {
        "id": "RJPEDQZ_H2BX"
      },
      "execution_count": null,
      "outputs": []
    }
  ]
}